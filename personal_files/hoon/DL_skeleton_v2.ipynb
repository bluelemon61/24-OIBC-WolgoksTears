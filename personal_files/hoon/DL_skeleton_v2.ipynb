{
 "cells": [
  {
   "cell_type": "markdown",
   "metadata": {},
   "source": [
    "# 2024 OIBC Challenge\n",
    "## (Deep Learning version skeleton 02)"
   ]
  },
  {
   "cell_type": "markdown",
   "metadata": {},
   "source": [
    "### 데이터 전처리"
   ]
  },
  {
   "cell_type": "code",
   "execution_count": 51,
   "metadata": {},
   "outputs": [
    {
     "name": "stdout",
     "output_type": "stream",
     "text": [
      "c:\\Users\\user\\Desktop\\24-OIBC-WolgoksTears\\personal_files\\hoon\n"
     ]
    }
   ],
   "source": [
    "import pandas as pd\n",
    "from functools import reduce\n",
    "import os\n",
    "from datetime import datetime, timedelta\n",
    "from tqdm import tqdm\n",
    "print(os.getcwd())  # 현재 작업 경로 출력"
   ]
  },
  {
   "cell_type": "markdown",
   "metadata": {},
   "source": [
    "actual_weather_1"
   ]
  },
  {
   "cell_type": "code",
   "execution_count": 52,
   "metadata": {},
   "outputs": [
    {
     "data": {
      "text/html": [
       "<div>\n",
       "<style scoped>\n",
       "    .dataframe tbody tr th:only-of-type {\n",
       "        vertical-align: middle;\n",
       "    }\n",
       "\n",
       "    .dataframe tbody tr th {\n",
       "        vertical-align: top;\n",
       "    }\n",
       "\n",
       "    .dataframe thead th {\n",
       "        text-align: right;\n",
       "    }\n",
       "</style>\n",
       "<table border=\"1\" class=\"dataframe\">\n",
       "  <thead>\n",
       "    <tr style=\"text-align: right;\">\n",
       "      <th></th>\n",
       "      <th>datetime</th>\n",
       "      <th>temp</th>\n",
       "      <th>real_feel_temp</th>\n",
       "      <th>rel_hum</th>\n",
       "      <th>dew_point</th>\n",
       "      <th>wind_dir</th>\n",
       "      <th>wind_spd</th>\n",
       "      <th>wind_gust_spd</th>\n",
       "      <th>uv_idx</th>\n",
       "      <th>vis</th>\n",
       "      <th>cld_cvr</th>\n",
       "      <th>ceiling</th>\n",
       "      <th>wet_bulb_temp</th>\n",
       "      <th>precip_1h</th>\n",
       "    </tr>\n",
       "  </thead>\n",
       "  <tbody>\n",
       "    <tr>\n",
       "      <th>0</th>\n",
       "      <td>2024-03-01 00:00:00</td>\n",
       "      <td>8.500000</td>\n",
       "      <td>8.000000</td>\n",
       "      <td>81.000000</td>\n",
       "      <td>5.500000</td>\n",
       "      <td>270.000000</td>\n",
       "      <td>6.100000</td>\n",
       "      <td>17.600000</td>\n",
       "      <td>0.0</td>\n",
       "      <td>20.900000</td>\n",
       "      <td>91.000000</td>\n",
       "      <td>579.000000</td>\n",
       "      <td>7.100000</td>\n",
       "      <td>0.100000</td>\n",
       "    </tr>\n",
       "    <tr>\n",
       "      <th>1</th>\n",
       "      <td>2024-03-01 01:00:00</td>\n",
       "      <td>7.158333</td>\n",
       "      <td>3.041667</td>\n",
       "      <td>72.666667</td>\n",
       "      <td>2.508333</td>\n",
       "      <td>234.666667</td>\n",
       "      <td>20.483333</td>\n",
       "      <td>26.366667</td>\n",
       "      <td>0.0</td>\n",
       "      <td>20.783333</td>\n",
       "      <td>97.750000</td>\n",
       "      <td>693.416667</td>\n",
       "      <td>5.091667</td>\n",
       "      <td>0.008333</td>\n",
       "    </tr>\n",
       "    <tr>\n",
       "      <th>2</th>\n",
       "      <td>2024-03-01 02:00:00</td>\n",
       "      <td>6.477778</td>\n",
       "      <td>2.111111</td>\n",
       "      <td>75.666667</td>\n",
       "      <td>2.433333</td>\n",
       "      <td>262.888889</td>\n",
       "      <td>21.944444</td>\n",
       "      <td>27.433333</td>\n",
       "      <td>0.0</td>\n",
       "      <td>20.033333</td>\n",
       "      <td>86.333333</td>\n",
       "      <td>616.222222</td>\n",
       "      <td>4.733333</td>\n",
       "      <td>0.011111</td>\n",
       "    </tr>\n",
       "    <tr>\n",
       "      <th>3</th>\n",
       "      <td>2024-03-01 03:00:00</td>\n",
       "      <td>6.045455</td>\n",
       "      <td>0.900000</td>\n",
       "      <td>74.545455</td>\n",
       "      <td>1.663636</td>\n",
       "      <td>213.000000</td>\n",
       "      <td>22.490909</td>\n",
       "      <td>27.645455</td>\n",
       "      <td>0.0</td>\n",
       "      <td>19.900000</td>\n",
       "      <td>62.818182</td>\n",
       "      <td>8692.363636</td>\n",
       "      <td>4.209091</td>\n",
       "      <td>0.136364</td>\n",
       "    </tr>\n",
       "    <tr>\n",
       "      <th>4</th>\n",
       "      <td>2024-03-01 04:00:00</td>\n",
       "      <td>5.430000</td>\n",
       "      <td>-0.090000</td>\n",
       "      <td>68.100000</td>\n",
       "      <td>-0.030000</td>\n",
       "      <td>256.800000</td>\n",
       "      <td>26.140000</td>\n",
       "      <td>42.440000</td>\n",
       "      <td>0.0</td>\n",
       "      <td>23.800000</td>\n",
       "      <td>38.100000</td>\n",
       "      <td>10911.800000</td>\n",
       "      <td>3.180000</td>\n",
       "      <td>0.410000</td>\n",
       "    </tr>\n",
       "  </tbody>\n",
       "</table>\n",
       "</div>"
      ],
      "text/plain": [
       "             datetime      temp  real_feel_temp    rel_hum  dew_point  \\\n",
       "0 2024-03-01 00:00:00  8.500000        8.000000  81.000000   5.500000   \n",
       "1 2024-03-01 01:00:00  7.158333        3.041667  72.666667   2.508333   \n",
       "2 2024-03-01 02:00:00  6.477778        2.111111  75.666667   2.433333   \n",
       "3 2024-03-01 03:00:00  6.045455        0.900000  74.545455   1.663636   \n",
       "4 2024-03-01 04:00:00  5.430000       -0.090000  68.100000  -0.030000   \n",
       "\n",
       "     wind_dir   wind_spd  wind_gust_spd  uv_idx        vis    cld_cvr  \\\n",
       "0  270.000000   6.100000      17.600000     0.0  20.900000  91.000000   \n",
       "1  234.666667  20.483333      26.366667     0.0  20.783333  97.750000   \n",
       "2  262.888889  21.944444      27.433333     0.0  20.033333  86.333333   \n",
       "3  213.000000  22.490909      27.645455     0.0  19.900000  62.818182   \n",
       "4  256.800000  26.140000      42.440000     0.0  23.800000  38.100000   \n",
       "\n",
       "        ceiling  wet_bulb_temp  precip_1h  \n",
       "0    579.000000       7.100000   0.100000  \n",
       "1    693.416667       5.091667   0.008333  \n",
       "2    616.222222       4.733333   0.011111  \n",
       "3   8692.363636       4.209091   0.136364  \n",
       "4  10911.800000       3.180000   0.410000  "
      ]
     },
     "execution_count": 52,
     "metadata": {},
     "output_type": "execute_result"
    }
   ],
   "source": [
    "# 데이터 불러오기\n",
    "actual_weather_1 = pd.read_csv(\"../../data_files/actual_weather_1.csv\")\n",
    "\n",
    "# 'ts'를 datetime 형식으로 변환 후 1시간 단위로 맞추기\n",
    "actual_weather_1['datetime'] = pd.to_datetime(actual_weather_1['ts'], unit='s')\n",
    "actual_weather_1['datetime'] = actual_weather_1['datetime'].dt.round('h') + timedelta(hours=9)\n",
    "\n",
    "# 원래 'ts' 열과 'location' 제거\n",
    "actual_weather_1.drop(columns=['ts'], inplace=True)\n",
    "actual_weather_1.drop(columns=['location'], inplace=True)\n",
    "\n",
    "# 1시간 단위로 그룹화하여 평균을 계산 (location을 제외한 모든 열)\n",
    "actual_weather_1 = actual_weather_1.groupby(['datetime'], as_index=False).mean()\n",
    "\n",
    "\n",
    "# weather_forecast에 없는 columns 제거\n",
    "actual_weather_1.drop(columns=['real_feel_temp_shade'], inplace=True)\n",
    "actual_weather_1.drop(columns=['pressure'], inplace=True)\n",
    "actual_weather_1.drop(columns=['appr_temp'], inplace=True)\n",
    "actual_weather_1.drop(columns=['wind_chill_temp'], inplace=True)\n",
    " \n",
    "# 결과 확인\n",
    "actual_weather_1.head()"
   ]
  },
  {
   "cell_type": "markdown",
   "metadata": {},
   "source": [
    "weather_forecast"
   ]
  },
  {
   "cell_type": "code",
   "execution_count": 53,
   "metadata": {},
   "outputs": [
    {
     "data": {
      "text/html": [
       "<div>\n",
       "<style scoped>\n",
       "    .dataframe tbody tr th:only-of-type {\n",
       "        vertical-align: middle;\n",
       "    }\n",
       "\n",
       "    .dataframe tbody tr th {\n",
       "        vertical-align: top;\n",
       "    }\n",
       "\n",
       "    .dataframe thead th {\n",
       "        text-align: right;\n",
       "    }\n",
       "</style>\n",
       "<table border=\"1\" class=\"dataframe\">\n",
       "  <thead>\n",
       "    <tr style=\"text-align: right;\">\n",
       "      <th></th>\n",
       "      <th>datetime</th>\n",
       "      <th>temp</th>\n",
       "      <th>real_feel_temp</th>\n",
       "      <th>rel_hum</th>\n",
       "      <th>dew_point</th>\n",
       "      <th>wind_dir</th>\n",
       "      <th>wind_spd</th>\n",
       "      <th>wind_gust_spd</th>\n",
       "      <th>uv_idx</th>\n",
       "      <th>vis</th>\n",
       "      <th>cld_cvr</th>\n",
       "      <th>ceiling</th>\n",
       "      <th>wet_bulb_temp</th>\n",
       "      <th>precip_1h</th>\n",
       "    </tr>\n",
       "  </thead>\n",
       "  <tbody>\n",
       "    <tr>\n",
       "      <th>0</th>\n",
       "      <td>2024-03-02 00:00:00</td>\n",
       "      <td>1.728394</td>\n",
       "      <td>-4.320987</td>\n",
       "      <td>64.333333</td>\n",
       "      <td>-4.320987</td>\n",
       "      <td>335.555556</td>\n",
       "      <td>22.048022</td>\n",
       "      <td>50.604944</td>\n",
       "      <td>0.0</td>\n",
       "      <td>16.093400</td>\n",
       "      <td>75.555556</td>\n",
       "      <td>1700.106667</td>\n",
       "      <td>-0.555556</td>\n",
       "      <td>0.000000</td>\n",
       "    </tr>\n",
       "    <tr>\n",
       "      <th>1</th>\n",
       "      <td>2024-03-02 01:00:00</td>\n",
       "      <td>1.851852</td>\n",
       "      <td>-4.506173</td>\n",
       "      <td>64.333333</td>\n",
       "      <td>-4.135800</td>\n",
       "      <td>335.000000</td>\n",
       "      <td>22.048022</td>\n",
       "      <td>50.640711</td>\n",
       "      <td>0.0</td>\n",
       "      <td>15.378140</td>\n",
       "      <td>84.777778</td>\n",
       "      <td>1249.680000</td>\n",
       "      <td>-0.432099</td>\n",
       "      <td>0.056444</td>\n",
       "    </tr>\n",
       "    <tr>\n",
       "      <th>2</th>\n",
       "      <td>2024-03-02 02:00:00</td>\n",
       "      <td>1.790123</td>\n",
       "      <td>-5.061728</td>\n",
       "      <td>66.333333</td>\n",
       "      <td>-3.950616</td>\n",
       "      <td>334.444444</td>\n",
       "      <td>22.656000</td>\n",
       "      <td>51.481144</td>\n",
       "      <td>0.0</td>\n",
       "      <td>14.392882</td>\n",
       "      <td>89.333333</td>\n",
       "      <td>1229.360000</td>\n",
       "      <td>-0.370370</td>\n",
       "      <td>0.197556</td>\n",
       "    </tr>\n",
       "    <tr>\n",
       "      <th>3</th>\n",
       "      <td>2024-03-02 03:00:00</td>\n",
       "      <td>1.604940</td>\n",
       "      <td>-5.308640</td>\n",
       "      <td>67.333333</td>\n",
       "      <td>-3.888887</td>\n",
       "      <td>333.777778</td>\n",
       "      <td>23.263967</td>\n",
       "      <td>51.463267</td>\n",
       "      <td>0.0</td>\n",
       "      <td>15.195758</td>\n",
       "      <td>94.555556</td>\n",
       "      <td>1933.786667</td>\n",
       "      <td>-0.370370</td>\n",
       "      <td>0.084667</td>\n",
       "    </tr>\n",
       "    <tr>\n",
       "      <th>4</th>\n",
       "      <td>2024-03-02 04:00:00</td>\n",
       "      <td>1.851852</td>\n",
       "      <td>-4.876541</td>\n",
       "      <td>66.444444</td>\n",
       "      <td>-3.950616</td>\n",
       "      <td>333.888889</td>\n",
       "      <td>23.871922</td>\n",
       "      <td>50.837400</td>\n",
       "      <td>0.0</td>\n",
       "      <td>15.825200</td>\n",
       "      <td>82.555556</td>\n",
       "      <td>2600.960000</td>\n",
       "      <td>-0.308642</td>\n",
       "      <td>0.000000</td>\n",
       "    </tr>\n",
       "  </tbody>\n",
       "</table>\n",
       "</div>"
      ],
      "text/plain": [
       "             datetime      temp  real_feel_temp    rel_hum  dew_point  \\\n",
       "0 2024-03-02 00:00:00  1.728394       -4.320987  64.333333  -4.320987   \n",
       "1 2024-03-02 01:00:00  1.851852       -4.506173  64.333333  -4.135800   \n",
       "2 2024-03-02 02:00:00  1.790123       -5.061728  66.333333  -3.950616   \n",
       "3 2024-03-02 03:00:00  1.604940       -5.308640  67.333333  -3.888887   \n",
       "4 2024-03-02 04:00:00  1.851852       -4.876541  66.444444  -3.950616   \n",
       "\n",
       "     wind_dir   wind_spd  wind_gust_spd  uv_idx        vis    cld_cvr  \\\n",
       "0  335.555556  22.048022      50.604944     0.0  16.093400  75.555556   \n",
       "1  335.000000  22.048022      50.640711     0.0  15.378140  84.777778   \n",
       "2  334.444444  22.656000      51.481144     0.0  14.392882  89.333333   \n",
       "3  333.777778  23.263967      51.463267     0.0  15.195758  94.555556   \n",
       "4  333.888889  23.871922      50.837400     0.0  15.825200  82.555556   \n",
       "\n",
       "       ceiling  wet_bulb_temp  precip_1h  \n",
       "0  1700.106667      -0.555556   0.000000  \n",
       "1  1249.680000      -0.432099   0.056444  \n",
       "2  1229.360000      -0.370370   0.197556  \n",
       "3  1933.786667      -0.370370   0.084667  \n",
       "4  2600.960000      -0.308642   0.000000  "
      ]
     },
     "execution_count": 53,
     "metadata": {},
     "output_type": "execute_result"
    }
   ],
   "source": [
    "# 데이터 불러오기\n",
    "weather_forecast_1 = pd.read_csv(\"../../data_files/weather_forecast_1.csv\")\n",
    "\n",
    "# 'ts'를 datetime 형식으로 변환 후 1시간 단위로 맞추기\n",
    "weather_forecast_1['datetime'] = pd.to_datetime(weather_forecast_1['ts'], unit='s')\n",
    "weather_forecast_1['datetime'] = weather_forecast_1['datetime'].dt.round('h') + timedelta(hours=9)\n",
    "\n",
    "# 원래 'ts' 열 제거, 'base_ts' 열 제거, 'location' 제거\n",
    "weather_forecast_1.drop(columns=['ts'], inplace=True)\n",
    "weather_forecast_1.drop(columns=['base_ts'], inplace=True)\n",
    "weather_forecast_1.drop(columns=['location'], inplace=True)\n",
    "\n",
    "# 1시간 단위로 그룹화하여 평균을 계산 (location을 제외한 모든 열)\n",
    "weather_forecast_1 = weather_forecast_1.groupby(['datetime'], as_index=False).mean()\n",
    "\n",
    "\n",
    "# 예보 데이터의 columns 순서를 actual_weather columns 순서와 맞추기\n",
    "weather_forecast_1 = weather_forecast_1[['datetime', 'temp', 'real_feel_temp', 'rel_hum',\n",
    "       'dew_point', 'wind_dir', 'wind_spd', 'wind_gust_spd', 'uv_idx', 'vis',\n",
    "       'cld_cvr', 'ceiling', 'wet_bulb_temp', 'total_liq']]\n",
    "weather_forecast_1['precip_1h'] = weather_forecast_1['total_liq']\n",
    "weather_forecast_1.drop(columns=['total_liq'], inplace=True)  \n",
    "\n",
    "# 결과 확인\n",
    "weather_forecast_1.head()"
   ]
  },
  {
   "cell_type": "markdown",
   "metadata": {},
   "source": [
    "elec_supply"
   ]
  },
  {
   "cell_type": "code",
   "execution_count": 54,
   "metadata": {},
   "outputs": [
    {
     "data": {
      "text/html": [
       "<div>\n",
       "<style scoped>\n",
       "    .dataframe tbody tr th:only-of-type {\n",
       "        vertical-align: middle;\n",
       "    }\n",
       "\n",
       "    .dataframe tbody tr th {\n",
       "        vertical-align: top;\n",
       "    }\n",
       "\n",
       "    .dataframe thead th {\n",
       "        text-align: right;\n",
       "    }\n",
       "</style>\n",
       "<table border=\"1\" class=\"dataframe\">\n",
       "  <thead>\n",
       "    <tr style=\"text-align: right;\">\n",
       "      <th></th>\n",
       "      <th>datetime</th>\n",
       "      <th>공급능력(kW)</th>\n",
       "      <th>현재 수요(kW)</th>\n",
       "      <th>태양광 발전량kW)</th>\n",
       "      <th>풍력 발전량(kW)</th>\n",
       "      <th>신재생 발전량 총합(kW)</th>\n",
       "      <th>공급 예비력(kW)</th>\n",
       "      <th>운영 예비력(kW)</th>\n",
       "    </tr>\n",
       "  </thead>\n",
       "  <tbody>\n",
       "    <tr>\n",
       "      <th>0</th>\n",
       "      <td>2024-01-01 00:00:00</td>\n",
       "      <td>1.285000e+06</td>\n",
       "      <td>757500.000000</td>\n",
       "      <td>0.0</td>\n",
       "      <td>115593.233333</td>\n",
       "      <td>123350.666667</td>\n",
       "      <td>527166.666667</td>\n",
       "      <td>328500.000000</td>\n",
       "    </tr>\n",
       "    <tr>\n",
       "      <th>1</th>\n",
       "      <td>2024-01-01 01:00:00</td>\n",
       "      <td>1.238308e+06</td>\n",
       "      <td>727538.461538</td>\n",
       "      <td>0.0</td>\n",
       "      <td>68802.153846</td>\n",
       "      <td>77036.569231</td>\n",
       "      <td>510692.307692</td>\n",
       "      <td>312692.307692</td>\n",
       "    </tr>\n",
       "    <tr>\n",
       "      <th>2</th>\n",
       "      <td>2024-01-01 02:00:00</td>\n",
       "      <td>1.214818e+06</td>\n",
       "      <td>694090.909091</td>\n",
       "      <td>0.0</td>\n",
       "      <td>45923.181818</td>\n",
       "      <td>53740.109091</td>\n",
       "      <td>520727.272727</td>\n",
       "      <td>318545.454545</td>\n",
       "    </tr>\n",
       "    <tr>\n",
       "      <th>3</th>\n",
       "      <td>2024-01-01 03:00:00</td>\n",
       "      <td>1.207923e+06</td>\n",
       "      <td>672000.000000</td>\n",
       "      <td>0.0</td>\n",
       "      <td>38567.161538</td>\n",
       "      <td>46614.815385</td>\n",
       "      <td>536000.000000</td>\n",
       "      <td>291000.000000</td>\n",
       "    </tr>\n",
       "    <tr>\n",
       "      <th>4</th>\n",
       "      <td>2024-01-01 04:00:00</td>\n",
       "      <td>1.192364e+06</td>\n",
       "      <td>666000.000000</td>\n",
       "      <td>0.0</td>\n",
       "      <td>22849.272727</td>\n",
       "      <td>30575.990909</td>\n",
       "      <td>526363.636364</td>\n",
       "      <td>318272.727273</td>\n",
       "    </tr>\n",
       "  </tbody>\n",
       "</table>\n",
       "</div>"
      ],
      "text/plain": [
       "             datetime      공급능력(kW)      현재 수요(kW)  태양광 발전량kW)     풍력 발전량(kW)  \\\n",
       "0 2024-01-01 00:00:00  1.285000e+06  757500.000000         0.0  115593.233333   \n",
       "1 2024-01-01 01:00:00  1.238308e+06  727538.461538         0.0   68802.153846   \n",
       "2 2024-01-01 02:00:00  1.214818e+06  694090.909091         0.0   45923.181818   \n",
       "3 2024-01-01 03:00:00  1.207923e+06  672000.000000         0.0   38567.161538   \n",
       "4 2024-01-01 04:00:00  1.192364e+06  666000.000000         0.0   22849.272727   \n",
       "\n",
       "   신재생 발전량 총합(kW)     공급 예비력(kW)     운영 예비력(kW)  \n",
       "0   123350.666667  527166.666667  328500.000000  \n",
       "1    77036.569231  510692.307692  312692.307692  \n",
       "2    53740.109091  520727.272727  318545.454545  \n",
       "3    46614.815385  536000.000000  291000.000000  \n",
       "4    30575.990909  526363.636364  318272.727273  "
      ]
     },
     "execution_count": 54,
     "metadata": {},
     "output_type": "execute_result"
    }
   ],
   "source": [
    "# 데이터 불러오기\n",
    "elec_supply = pd.read_csv(\"../../data_files/elec_supply.csv\")\n",
    "\n",
    "# 'ts'를 datetime 형식으로 변환 후 1시간 단위로 맞추기\n",
    "elec_supply['datetime'] = pd.to_datetime(elec_supply['ts'], unit='s')\n",
    "elec_supply['datetime'] = elec_supply['datetime'].dt.round('h') + timedelta(hours=9)\n",
    "\n",
    "# 1시간 단위로 그룹화하여 평균을 계산\n",
    "elec_supply = elec_supply.groupby(['datetime'], as_index=False).mean()\n",
    "\n",
    "# 결과 확인\n",
    "elec_supply.drop(columns=['ts'], inplace=True)  # 원래 'ts' 열 제거\n",
    "elec_supply.head()"
   ]
  },
  {
   "cell_type": "markdown",
   "metadata": {},
   "source": [
    "smp_da"
   ]
  },
  {
   "cell_type": "code",
   "execution_count": 55,
   "metadata": {},
   "outputs": [
    {
     "data": {
      "text/html": [
       "<div>\n",
       "<style scoped>\n",
       "    .dataframe tbody tr th:only-of-type {\n",
       "        vertical-align: middle;\n",
       "    }\n",
       "\n",
       "    .dataframe tbody tr th {\n",
       "        vertical-align: top;\n",
       "    }\n",
       "\n",
       "    .dataframe thead th {\n",
       "        text-align: right;\n",
       "    }\n",
       "</style>\n",
       "<table border=\"1\" class=\"dataframe\">\n",
       "  <thead>\n",
       "    <tr style=\"text-align: right;\">\n",
       "      <th></th>\n",
       "      <th>하루전가격(원/kWh)</th>\n",
       "      <th>datetime</th>\n",
       "    </tr>\n",
       "  </thead>\n",
       "  <tbody>\n",
       "    <tr>\n",
       "      <th>0</th>\n",
       "      <td>107.39</td>\n",
       "      <td>2024-03-01 00:00:00</td>\n",
       "    </tr>\n",
       "    <tr>\n",
       "      <th>1</th>\n",
       "      <td>107.39</td>\n",
       "      <td>2024-03-01 01:00:00</td>\n",
       "    </tr>\n",
       "    <tr>\n",
       "      <th>2</th>\n",
       "      <td>95.30</td>\n",
       "      <td>2024-03-01 02:00:00</td>\n",
       "    </tr>\n",
       "    <tr>\n",
       "      <th>3</th>\n",
       "      <td>87.89</td>\n",
       "      <td>2024-03-01 03:00:00</td>\n",
       "    </tr>\n",
       "    <tr>\n",
       "      <th>4</th>\n",
       "      <td>0.00</td>\n",
       "      <td>2024-03-01 04:00:00</td>\n",
       "    </tr>\n",
       "  </tbody>\n",
       "</table>\n",
       "</div>"
      ],
      "text/plain": [
       "   하루전가격(원/kWh)            datetime\n",
       "0        107.39 2024-03-01 00:00:00\n",
       "1        107.39 2024-03-01 01:00:00\n",
       "2         95.30 2024-03-01 02:00:00\n",
       "3         87.89 2024-03-01 03:00:00\n",
       "4          0.00 2024-03-01 04:00:00"
      ]
     },
     "execution_count": 55,
     "metadata": {},
     "output_type": "execute_result"
    }
   ],
   "source": [
    "# 데이터 불러오기\n",
    "smp_da = pd.read_csv(\"../../data_files/smp_da.csv\")\n",
    "\n",
    "# 'ts'를 datetime 형식으로 변환 후 1시간 단위로 맞추기\n",
    "smp_da['datetime'] = pd.to_datetime(smp_da['ts'], unit='s') + timedelta(hours=9)\n",
    "\n",
    "# 결과 확인\n",
    "smp_da.drop(columns=['ts'], inplace=True)  # 원래 'ts' 열 제거\n",
    "smp_da.head()"
   ]
  },
  {
   "cell_type": "markdown",
   "metadata": {},
   "source": [
    "smp_rt_rc"
   ]
  },
  {
   "cell_type": "code",
   "execution_count": 56,
   "metadata": {},
   "outputs": [
    {
     "data": {
      "text/html": [
       "<div>\n",
       "<style scoped>\n",
       "    .dataframe tbody tr th:only-of-type {\n",
       "        vertical-align: middle;\n",
       "    }\n",
       "\n",
       "    .dataframe tbody tr th {\n",
       "        vertical-align: top;\n",
       "    }\n",
       "\n",
       "    .dataframe thead th {\n",
       "        text-align: right;\n",
       "    }\n",
       "</style>\n",
       "<table border=\"1\" class=\"dataframe\">\n",
       "  <thead>\n",
       "    <tr style=\"text-align: right;\">\n",
       "      <th></th>\n",
       "      <th>datetime</th>\n",
       "      <th>실시간 임시 가격(원/kWh)</th>\n",
       "      <th>실시간 확정 가격(원/kWh)</th>\n",
       "    </tr>\n",
       "  </thead>\n",
       "  <tbody>\n",
       "    <tr>\n",
       "      <th>0</th>\n",
       "      <td>2024-03-01 00:00:00</td>\n",
       "      <td>95.30</td>\n",
       "      <td>95.30</td>\n",
       "    </tr>\n",
       "    <tr>\n",
       "      <th>1</th>\n",
       "      <td>2024-03-01 01:00:00</td>\n",
       "      <td>107.39</td>\n",
       "      <td>107.39</td>\n",
       "    </tr>\n",
       "    <tr>\n",
       "      <th>2</th>\n",
       "      <td>2024-03-01 02:00:00</td>\n",
       "      <td>95.30</td>\n",
       "      <td>95.30</td>\n",
       "    </tr>\n",
       "    <tr>\n",
       "      <th>3</th>\n",
       "      <td>2024-03-01 03:00:00</td>\n",
       "      <td>87.89</td>\n",
       "      <td>87.89</td>\n",
       "    </tr>\n",
       "    <tr>\n",
       "      <th>4</th>\n",
       "      <td>2024-03-01 04:00:00</td>\n",
       "      <td>86.50</td>\n",
       "      <td>86.50</td>\n",
       "    </tr>\n",
       "  </tbody>\n",
       "</table>\n",
       "</div>"
      ],
      "text/plain": [
       "             datetime  실시간 임시 가격(원/kWh)  실시간 확정 가격(원/kWh)\n",
       "0 2024-03-01 00:00:00             95.30             95.30\n",
       "1 2024-03-01 01:00:00            107.39            107.39\n",
       "2 2024-03-01 02:00:00             95.30             95.30\n",
       "3 2024-03-01 03:00:00             87.89             87.89\n",
       "4 2024-03-01 04:00:00             86.50             86.50"
      ]
     },
     "execution_count": 56,
     "metadata": {},
     "output_type": "execute_result"
    }
   ],
   "source": [
    "# 데이터 불러오기\n",
    "smp_rt_rc = pd.read_csv(\"../../data_files/smp_rt_rc.csv\")\n",
    "\n",
    "# 'ts'를 datetime 형식으로 변환 후 1시간 단위로 맞추기\n",
    "smp_rt_rc['datetime'] = pd.to_datetime(smp_rt_rc['ts'], unit='s')\n",
    "smp_rt_rc['datetime'] = smp_rt_rc['datetime'].dt.round('h') + timedelta(hours=9)\n",
    "\n",
    "# 1시간 단위로 그룹화하여 평균을 계산\n",
    "smp_rt_rc = smp_rt_rc.groupby(['datetime'], as_index=False).mean()\n",
    "\n",
    "# 결과 확인\n",
    "smp_rt_rc.drop(columns=['ts'], inplace=True)  # 원래 'ts' 열 제거\n",
    "smp_rt_rc.head()"
   ]
  },
  {
   "cell_type": "markdown",
   "metadata": {},
   "source": [
    "##### X 데이터\n",
    "\n",
    "- 제주 기상 실측 (n+1)\n",
    "- 제주 전력 시장 실시간 (n-1)\n",
    "- 제주 전력 시장 현황 (n-1)"
   ]
  },
  {
   "cell_type": "code",
   "execution_count": 57,
   "metadata": {},
   "outputs": [],
   "source": [
    "actual_weather_1\n",
    "smp_rt_rc['datetime'] += pd.Timedelta(days=2)\n",
    "elec_supply['datetime'] += pd.Timedelta(days=2)"
   ]
  },
  {
   "cell_type": "code",
   "execution_count": 58,
   "metadata": {},
   "outputs": [],
   "source": [
    "dfs = [actual_weather_1, smp_rt_rc, elec_supply]\n",
    "\n",
    "X = reduce(lambda left, right: pd.merge(left, right, on='datetime', how='outer'), dfs)"
   ]
  },
  {
   "cell_type": "markdown",
   "metadata": {},
   "source": [
    "##### Y 데이터\n",
    "\n",
    "- 하루 전 시장 전기 예측 가격(n+1)"
   ]
  },
  {
   "cell_type": "code",
   "execution_count": 59,
   "metadata": {},
   "outputs": [],
   "source": [
    "Y = smp_da"
   ]
  },
  {
   "cell_type": "markdown",
   "metadata": {},
   "source": [
    "### 파이토치 모델 구성"
   ]
  },
  {
   "cell_type": "markdown",
   "metadata": {},
   "source": [
    "##### 날짜 설정"
   ]
  },
  {
   "cell_type": "code",
   "execution_count": 60,
   "metadata": {},
   "outputs": [],
   "source": [
    "target_date = {\n",
    "  # 최소 2024-03-04\n",
    "  \"train_start_date\": '2024-03-03',\n",
    "  # 최대 2024-10-22\n",
    "  \"train_end_date\": '2024-10-22',\n",
    "  # 예측할 날짜\n",
    "  \"predict_target_date\": '2024-11-03',\n",
    "}"
   ]
  },
  {
   "cell_type": "code",
   "execution_count": 61,
   "metadata": {},
   "outputs": [],
   "source": [
    "X = X.loc[\n",
    "  (X['datetime'] > target_date['train_start_date']) &\n",
    "  (X['datetime'] <= target_date['train_end_date'])\n",
    "]"
   ]
  },
  {
   "cell_type": "code",
   "execution_count": 62,
   "metadata": {},
   "outputs": [],
   "source": [
    "Y = Y.loc[\n",
    "  (Y['datetime'] > target_date['train_start_date']) &\n",
    "  (Y['datetime'] <= target_date['train_end_date'])\n",
    "]"
   ]
  },
  {
   "cell_type": "code",
   "execution_count": 63,
   "metadata": {},
   "outputs": [
    {
     "name": "stdout",
     "output_type": "stream",
     "text": [
      "2024-03-03 01:00:00 2024-10-22 00:00:00\n"
     ]
    }
   ],
   "source": [
    "from datetime import datetime, timedelta\n",
    "\n",
    "targ = datetime.strptime(target_date['train_start_date'], '%Y-%m-%d') + timedelta(hours=1)\n",
    "endd = datetime.strptime(target_date['train_end_date'], '%Y-%m-%d')\n",
    "\n",
    "print(targ, endd)"
   ]
  },
  {
   "cell_type": "code",
   "execution_count": 64,
   "metadata": {},
   "outputs": [],
   "source": [
    "# X 데이터의 특정 시간이 누락되었기 때문에\n",
    "# Y 데이터에서도 누락된 시간대를 제거한다.\n",
    "\n",
    "while targ <= endd:\n",
    "  if not len(X.loc[X['datetime'] == targ]):\n",
    "    idx = Y[Y['datetime'] == targ].index\n",
    "    Y.drop(idx, inplace=True)\n",
    "  \n",
    "  targ = targ + timedelta(hours=1)"
   ]
  },
  {
   "cell_type": "code",
   "execution_count": 65,
   "metadata": {},
   "outputs": [
    {
     "data": {
      "text/plain": [
       "(5592, 5592)"
      ]
     },
     "execution_count": 65,
     "metadata": {},
     "output_type": "execute_result"
    }
   ],
   "source": [
    "len(X), len(Y)"
   ]
  },
  {
   "cell_type": "markdown",
   "metadata": {},
   "source": [
    "##### 모듈 임포트"
   ]
  },
  {
   "cell_type": "code",
   "execution_count": 66,
   "metadata": {},
   "outputs": [],
   "source": [
    "import torch\n",
    "import torch.nn as nn\n",
    "from torch.utils.data import Dataset\n",
    "from torch.utils.data import DataLoader\n",
    "from sklearn.preprocessing import MinMaxScaler"
   ]
  },
  {
   "cell_type": "code",
   "execution_count": 67,
   "metadata": {},
   "outputs": [
    {
     "data": {
      "text/plain": [
       "device(type='cpu')"
      ]
     },
     "execution_count": 67,
     "metadata": {},
     "output_type": "execute_result"
    }
   ],
   "source": [
    "if torch.cuda.is_available():\n",
    "  print(torch.cuda.get_device_name())\n",
    "  print(torch.__version__)\n",
    "  print(torch.version.cuda)\n",
    "  x = torch.randn(1).cuda()\n",
    "  print(x)\n",
    "\n",
    "device = torch.device(\"cuda:0\" if torch.cuda.is_available() else \"cpu\")\n",
    "device"
   ]
  },
  {
   "cell_type": "markdown",
   "metadata": {},
   "source": [
    "##### Dataset 구성"
   ]
  },
  {
   "cell_type": "code",
   "execution_count": 68,
   "metadata": {},
   "outputs": [],
   "source": [
    "class ElecDataset(Dataset):\n",
    "  def __init__(self, x_data, y_data):\n",
    "    scaler = MinMaxScaler()\n",
    "\n",
    "    columns_to_scale = x_data.columns[1:]\n",
    "    x_data[columns_to_scale] = scaler.fit_transform(x_data[columns_to_scale])\n",
    "    \n",
    "    self.x_data = x_data.fillna(0)\n",
    "    self.y_data = y_data.fillna(0)\n",
    "\n",
    "  def __getitem__(self, index):\n",
    "    length = 24\n",
    "    target_y = self.y_data['하루전가격(원/kWh)'].iloc[index*length:(index+1)*length].to_numpy()\n",
    "    targets = self.x_data.drop(columns='datetime').iloc[index*length:(index+1)*length].to_numpy()\n",
    "\n",
    "    return torch.from_numpy(targets), torch.from_numpy(target_y)\n",
    "\n",
    "  def __len__(self):\n",
    "    return int(len(self.y_data) / 24)"
   ]
  },
  {
   "cell_type": "code",
   "execution_count": 69,
   "metadata": {},
   "outputs": [],
   "source": [
    "dataset = ElecDataset(X, Y)"
   ]
  },
  {
   "cell_type": "code",
   "execution_count": 70,
   "metadata": {},
   "outputs": [
    {
     "data": {
      "text/plain": [
       "233"
      ]
     },
     "execution_count": 70,
     "metadata": {},
     "output_type": "execute_result"
    }
   ],
   "source": [
    "len(dataset)"
   ]
  },
  {
   "cell_type": "markdown",
   "metadata": {},
   "source": [
    "##### dataloader 구성"
   ]
  },
  {
   "cell_type": "code",
   "execution_count": 71,
   "metadata": {},
   "outputs": [],
   "source": [
    "dataloader = DataLoader(dataset=dataset,\n",
    "                        batch_size=8,\n",
    "                        # 데이터의 순서가 중요해서 shuffle하면 안될 듯\n",
    "                        shuffle=False,\n",
    "                        drop_last=False)"
   ]
  },
  {
   "cell_type": "markdown",
   "metadata": {},
   "source": [
    "##### 모델 구성"
   ]
  },
  {
   "cell_type": "code",
   "execution_count": 72,
   "metadata": {},
   "outputs": [],
   "source": [
    "class LSTMModel(nn.Module):\n",
    "  def __init__(self, input_size, hidden_size, output_size, num_layers):\n",
    "    super(LSTMModel, self).__init__()\n",
    "    self.hidden_size = hidden_size\n",
    "    self.num_layers = num_layers\n",
    "    \n",
    "    # Define the LSTM layer\n",
    "    self.lstm = nn.LSTM(input_size, hidden_size, num_layers, batch_first=True, dtype=torch.float64)\n",
    "    \n",
    "    # Define a fully connected layer to produce output of size 1\n",
    "    self.fc = nn.Linear(hidden_size, output_size, dtype=torch.float64)\n",
    "  \n",
    "  def forward(self, x):\n",
    "    # Set initial hidden and cell states to zeros\n",
    "    h0 = torch.zeros(self.num_layers, x.size(0), self.hidden_size, dtype=torch.float64).to(x.device)  # hidden state\n",
    "    c0 = torch.zeros(self.num_layers, x.size(0), self.hidden_size, dtype=torch.float64).to(x.device)  # cell state\n",
    "    \n",
    "    # Forward propagate LSTM\n",
    "    out, _ = self.lstm(x, (h0, c0))  # out의 shape은 (batch_size, seq_length, hidden_size)입니다.\n",
    "    \n",
    "    # 모든 타임스텝에 대해 최종 출력 처리\n",
    "    out = self.fc(out[:, -1, :])  # 각 배치에 대해 마지막 타임스텝의 출력만 취함, out의 shape은 (batch_size, output_size)로 설정됩니다.\n",
    "    \n",
    "    return out"
   ]
  },
  {
   "cell_type": "code",
   "execution_count": 73,
   "metadata": {},
   "outputs": [],
   "source": [
    "input_size = len(X.columns) - 1  # Number of input features\n",
    "hidden_size = 16  # Hidden state size, you can choose other values too\n",
    "output_size = 24  # Single output\n",
    "num_layers = 3  # Number of LSTM layers (you can adjust this)\n",
    "\n",
    "learning_rate = 0.001\n",
    "epoches= 100\n",
    "\n",
    "\n",
    "model = LSTMModel(input_size, hidden_size, output_size, num_layers)\n",
    "\n",
    "\n",
    "criterion = nn.MSELoss()\n",
    "optimizer = torch.optim.Adam(model.parameters(), lr=learning_rate)\n",
    "\n",
    "# # Example input: batch of 16 sequences, each of length 12, with 7 features per timestep\n",
    "# it = iter(dataloader)\n",
    "# input_tensor = next(it)[0]\n",
    "# print(input_tensor)\n",
    "\n",
    "# # Forward pass\n",
    "# output = model(input_tensor)\n",
    "# print(output)  # Expected output: (16, 1)"
   ]
  },
  {
   "cell_type": "markdown",
   "metadata": {},
   "source": [
    "##### 학습"
   ]
  },
  {
   "cell_type": "code",
   "execution_count": 74,
   "metadata": {},
   "outputs": [],
   "source": [
    "def train(model, train_loader, criterion, optimizer, num_epochs, device):\n",
    "    model = model.to(device)  # Move model to GPU/CPU\n",
    "    \n",
    "    for epoch in range(num_epochs):\n",
    "        model.train()  # Set the model to training mode\n",
    "        \n",
    "        running_loss = 0.0  # To keep track of loss\n",
    "        for inputs, targets in tqdm(train_loader):\n",
    "            # Move data to the same device as the model\n",
    "            inputs, targets = inputs.to(device), targets.to(device)\n",
    "            \n",
    "            # Forward pass\n",
    "            outputs = model(inputs)\n",
    "            \n",
    "            # print(f'input: {inputs.shape}, targets: {targets.shape}, outputs: {outputs.shape}')\n",
    "            # for name, param in model.named_parameters():\n",
    "            #     if param.grad is not None:\n",
    "            #         print(f\"{name} grad: {param.grad.norm()}\")\n",
    "\n",
    "            loss = criterion(outputs, targets)\n",
    "\n",
    "            # Backward pass and optimization\n",
    "            optimizer.zero_grad()  # Clear the gradients\n",
    "            loss.backward()        # Compute gradients\n",
    "            # torch.nn.utils.clip_grad_norm_(model.parameters(), max_norm=1.0)\n",
    "            optimizer.step()        # Update model parameters\n",
    "\n",
    "            running_loss += loss.item()\n",
    "            \n",
    "            # print(loss.item())\n",
    "\n",
    "        # Print the loss after each epoch\n",
    "        avg_loss = running_loss / len(train_loader)\n",
    "        print(f\"Epoch [{epoch+1}/{num_epochs}], Loss: {avg_loss:.4f}\")\n",
    "\n",
    "    print(\"Training complete.\")\n",
    "    return model"
   ]
  },
  {
   "cell_type": "code",
   "execution_count": 75,
   "metadata": {},
   "outputs": [
    {
     "name": "stderr",
     "output_type": "stream",
     "text": [
      "100%|██████████| 30/30 [00:02<00:00, 10.76it/s]\n"
     ]
    },
    {
     "name": "stdout",
     "output_type": "stream",
     "text": [
      "Epoch [1/100], Loss: 18337.5040\n"
     ]
    },
    {
     "name": "stderr",
     "output_type": "stream",
     "text": [
      "100%|██████████| 30/30 [00:03<00:00,  9.83it/s]\n"
     ]
    },
    {
     "name": "stdout",
     "output_type": "stream",
     "text": [
      "Epoch [2/100], Loss: 18215.4028\n"
     ]
    },
    {
     "name": "stderr",
     "output_type": "stream",
     "text": [
      "100%|██████████| 30/30 [00:03<00:00,  9.68it/s]\n"
     ]
    },
    {
     "name": "stdout",
     "output_type": "stream",
     "text": [
      "Epoch [3/100], Loss: 17990.4490\n"
     ]
    },
    {
     "name": "stderr",
     "output_type": "stream",
     "text": [
      "100%|██████████| 30/30 [00:02<00:00, 11.03it/s]\n"
     ]
    },
    {
     "name": "stdout",
     "output_type": "stream",
     "text": [
      "Epoch [4/100], Loss: 17780.3984\n"
     ]
    },
    {
     "name": "stderr",
     "output_type": "stream",
     "text": [
      "100%|██████████| 30/30 [00:03<00:00,  9.75it/s]\n"
     ]
    },
    {
     "name": "stdout",
     "output_type": "stream",
     "text": [
      "Epoch [5/100], Loss: 17595.5974\n"
     ]
    },
    {
     "name": "stderr",
     "output_type": "stream",
     "text": [
      "100%|██████████| 30/30 [00:02<00:00, 12.02it/s]\n"
     ]
    },
    {
     "name": "stdout",
     "output_type": "stream",
     "text": [
      "Epoch [6/100], Loss: 17433.1483\n"
     ]
    },
    {
     "name": "stderr",
     "output_type": "stream",
     "text": [
      "100%|██████████| 30/30 [00:02<00:00, 12.73it/s]\n"
     ]
    },
    {
     "name": "stdout",
     "output_type": "stream",
     "text": [
      "Epoch [7/100], Loss: 17282.1068\n"
     ]
    },
    {
     "name": "stderr",
     "output_type": "stream",
     "text": [
      "100%|██████████| 30/30 [00:02<00:00, 10.96it/s]\n"
     ]
    },
    {
     "name": "stdout",
     "output_type": "stream",
     "text": [
      "Epoch [8/100], Loss: 17137.9923\n"
     ]
    },
    {
     "name": "stderr",
     "output_type": "stream",
     "text": [
      "100%|██████████| 30/30 [00:02<00:00, 11.25it/s]\n"
     ]
    },
    {
     "name": "stdout",
     "output_type": "stream",
     "text": [
      "Epoch [9/100], Loss: 16998.7201\n"
     ]
    },
    {
     "name": "stderr",
     "output_type": "stream",
     "text": [
      "100%|██████████| 30/30 [00:02<00:00, 12.82it/s]\n"
     ]
    },
    {
     "name": "stdout",
     "output_type": "stream",
     "text": [
      "Epoch [10/100], Loss: 16863.1176\n"
     ]
    },
    {
     "name": "stderr",
     "output_type": "stream",
     "text": [
      "100%|██████████| 30/30 [00:02<00:00, 10.94it/s]\n"
     ]
    },
    {
     "name": "stdout",
     "output_type": "stream",
     "text": [
      "Epoch [11/100], Loss: 16730.4515\n"
     ]
    },
    {
     "name": "stderr",
     "output_type": "stream",
     "text": [
      "100%|██████████| 30/30 [00:02<00:00, 11.63it/s]\n"
     ]
    },
    {
     "name": "stdout",
     "output_type": "stream",
     "text": [
      "Epoch [12/100], Loss: 16600.2298\n"
     ]
    },
    {
     "name": "stderr",
     "output_type": "stream",
     "text": [
      "100%|██████████| 30/30 [00:02<00:00, 11.31it/s]\n"
     ]
    },
    {
     "name": "stdout",
     "output_type": "stream",
     "text": [
      "Epoch [13/100], Loss: 16472.1052\n"
     ]
    },
    {
     "name": "stderr",
     "output_type": "stream",
     "text": [
      "100%|██████████| 30/30 [00:02<00:00, 10.68it/s]\n"
     ]
    },
    {
     "name": "stdout",
     "output_type": "stream",
     "text": [
      "Epoch [14/100], Loss: 16345.8224\n"
     ]
    },
    {
     "name": "stderr",
     "output_type": "stream",
     "text": [
      "100%|██████████| 30/30 [00:02<00:00, 11.95it/s]\n"
     ]
    },
    {
     "name": "stdout",
     "output_type": "stream",
     "text": [
      "Epoch [15/100], Loss: 16221.1879\n"
     ]
    },
    {
     "name": "stderr",
     "output_type": "stream",
     "text": [
      "100%|██████████| 30/30 [00:02<00:00, 12.57it/s]\n"
     ]
    },
    {
     "name": "stdout",
     "output_type": "stream",
     "text": [
      "Epoch [16/100], Loss: 16098.0513\n"
     ]
    },
    {
     "name": "stderr",
     "output_type": "stream",
     "text": [
      "100%|██████████| 30/30 [00:02<00:00, 12.22it/s]\n"
     ]
    },
    {
     "name": "stdout",
     "output_type": "stream",
     "text": [
      "Epoch [17/100], Loss: 15976.2928\n"
     ]
    },
    {
     "name": "stderr",
     "output_type": "stream",
     "text": [
      "100%|██████████| 30/30 [00:02<00:00, 10.89it/s]\n"
     ]
    },
    {
     "name": "stdout",
     "output_type": "stream",
     "text": [
      "Epoch [18/100], Loss: 15855.8155\n"
     ]
    },
    {
     "name": "stderr",
     "output_type": "stream",
     "text": [
      "100%|██████████| 30/30 [00:02<00:00, 13.50it/s]\n"
     ]
    },
    {
     "name": "stdout",
     "output_type": "stream",
     "text": [
      "Epoch [19/100], Loss: 15736.5396\n"
     ]
    },
    {
     "name": "stderr",
     "output_type": "stream",
     "text": [
      "100%|██████████| 30/30 [00:02<00:00, 14.00it/s]\n"
     ]
    },
    {
     "name": "stdout",
     "output_type": "stream",
     "text": [
      "Epoch [20/100], Loss: 15618.3984\n"
     ]
    },
    {
     "name": "stderr",
     "output_type": "stream",
     "text": [
      "100%|██████████| 30/30 [00:02<00:00, 14.53it/s]\n"
     ]
    },
    {
     "name": "stdout",
     "output_type": "stream",
     "text": [
      "Epoch [21/100], Loss: 15501.3357\n"
     ]
    },
    {
     "name": "stderr",
     "output_type": "stream",
     "text": [
      "100%|██████████| 30/30 [00:02<00:00, 11.45it/s]\n"
     ]
    },
    {
     "name": "stdout",
     "output_type": "stream",
     "text": [
      "Epoch [22/100], Loss: 15385.3031\n"
     ]
    },
    {
     "name": "stderr",
     "output_type": "stream",
     "text": [
      "100%|██████████| 30/30 [00:02<00:00, 12.31it/s]\n"
     ]
    },
    {
     "name": "stdout",
     "output_type": "stream",
     "text": [
      "Epoch [23/100], Loss: 15270.2592\n"
     ]
    },
    {
     "name": "stderr",
     "output_type": "stream",
     "text": [
      "100%|██████████| 30/30 [00:02<00:00, 12.91it/s]\n"
     ]
    },
    {
     "name": "stdout",
     "output_type": "stream",
     "text": [
      "Epoch [24/100], Loss: 15156.1676\n"
     ]
    },
    {
     "name": "stderr",
     "output_type": "stream",
     "text": [
      "100%|██████████| 30/30 [00:02<00:00, 12.89it/s]\n"
     ]
    },
    {
     "name": "stdout",
     "output_type": "stream",
     "text": [
      "Epoch [25/100], Loss: 15042.9964\n"
     ]
    },
    {
     "name": "stderr",
     "output_type": "stream",
     "text": [
      "100%|██████████| 30/30 [00:03<00:00,  9.71it/s]\n"
     ]
    },
    {
     "name": "stdout",
     "output_type": "stream",
     "text": [
      "Epoch [26/100], Loss: 14930.7174\n"
     ]
    },
    {
     "name": "stderr",
     "output_type": "stream",
     "text": [
      "100%|██████████| 30/30 [00:03<00:00,  9.46it/s]\n"
     ]
    },
    {
     "name": "stdout",
     "output_type": "stream",
     "text": [
      "Epoch [27/100], Loss: 14819.3055\n"
     ]
    },
    {
     "name": "stderr",
     "output_type": "stream",
     "text": [
      "100%|██████████| 30/30 [00:02<00:00, 10.03it/s]\n"
     ]
    },
    {
     "name": "stdout",
     "output_type": "stream",
     "text": [
      "Epoch [28/100], Loss: 14708.7379\n"
     ]
    },
    {
     "name": "stderr",
     "output_type": "stream",
     "text": [
      "100%|██████████| 30/30 [00:02<00:00, 11.03it/s]\n"
     ]
    },
    {
     "name": "stdout",
     "output_type": "stream",
     "text": [
      "Epoch [29/100], Loss: 14598.9943\n"
     ]
    },
    {
     "name": "stderr",
     "output_type": "stream",
     "text": [
      "100%|██████████| 30/30 [00:02<00:00, 13.07it/s]\n"
     ]
    },
    {
     "name": "stdout",
     "output_type": "stream",
     "text": [
      "Epoch [30/100], Loss: 14490.0561\n"
     ]
    },
    {
     "name": "stderr",
     "output_type": "stream",
     "text": [
      "100%|██████████| 30/30 [00:02<00:00, 12.01it/s]\n"
     ]
    },
    {
     "name": "stdout",
     "output_type": "stream",
     "text": [
      "Epoch [31/100], Loss: 14381.9065\n"
     ]
    },
    {
     "name": "stderr",
     "output_type": "stream",
     "text": [
      "100%|██████████| 30/30 [00:02<00:00, 12.48it/s]\n"
     ]
    },
    {
     "name": "stdout",
     "output_type": "stream",
     "text": [
      "Epoch [32/100], Loss: 14274.5299\n"
     ]
    },
    {
     "name": "stderr",
     "output_type": "stream",
     "text": [
      "100%|██████████| 30/30 [00:03<00:00,  9.34it/s]\n"
     ]
    },
    {
     "name": "stdout",
     "output_type": "stream",
     "text": [
      "Epoch [33/100], Loss: 14167.9120\n"
     ]
    },
    {
     "name": "stderr",
     "output_type": "stream",
     "text": [
      "100%|██████████| 30/30 [00:02<00:00, 10.27it/s]\n"
     ]
    },
    {
     "name": "stdout",
     "output_type": "stream",
     "text": [
      "Epoch [34/100], Loss: 14062.0396\n"
     ]
    },
    {
     "name": "stderr",
     "output_type": "stream",
     "text": [
      "100%|██████████| 30/30 [00:03<00:00,  8.15it/s]\n"
     ]
    },
    {
     "name": "stdout",
     "output_type": "stream",
     "text": [
      "Epoch [35/100], Loss: 13956.9004\n"
     ]
    },
    {
     "name": "stderr",
     "output_type": "stream",
     "text": [
      "100%|██████████| 30/30 [00:03<00:00,  9.40it/s]\n"
     ]
    },
    {
     "name": "stdout",
     "output_type": "stream",
     "text": [
      "Epoch [36/100], Loss: 13852.4831\n"
     ]
    },
    {
     "name": "stderr",
     "output_type": "stream",
     "text": [
      "100%|██████████| 30/30 [00:02<00:00, 10.90it/s]\n"
     ]
    },
    {
     "name": "stdout",
     "output_type": "stream",
     "text": [
      "Epoch [37/100], Loss: 13748.7768\n"
     ]
    },
    {
     "name": "stderr",
     "output_type": "stream",
     "text": [
      "100%|██████████| 30/30 [00:03<00:00,  9.78it/s]\n"
     ]
    },
    {
     "name": "stdout",
     "output_type": "stream",
     "text": [
      "Epoch [38/100], Loss: 13645.7717\n"
     ]
    },
    {
     "name": "stderr",
     "output_type": "stream",
     "text": [
      "100%|██████████| 30/30 [00:02<00:00, 11.95it/s]\n"
     ]
    },
    {
     "name": "stdout",
     "output_type": "stream",
     "text": [
      "Epoch [39/100], Loss: 13543.4583\n"
     ]
    },
    {
     "name": "stderr",
     "output_type": "stream",
     "text": [
      "100%|██████████| 30/30 [00:02<00:00, 10.41it/s]\n"
     ]
    },
    {
     "name": "stdout",
     "output_type": "stream",
     "text": [
      "Epoch [40/100], Loss: 13441.8276\n"
     ]
    },
    {
     "name": "stderr",
     "output_type": "stream",
     "text": [
      "100%|██████████| 30/30 [00:03<00:00,  9.65it/s]\n"
     ]
    },
    {
     "name": "stdout",
     "output_type": "stream",
     "text": [
      "Epoch [41/100], Loss: 13340.8714\n"
     ]
    },
    {
     "name": "stderr",
     "output_type": "stream",
     "text": [
      "100%|██████████| 30/30 [00:03<00:00,  8.25it/s]\n"
     ]
    },
    {
     "name": "stdout",
     "output_type": "stream",
     "text": [
      "Epoch [42/100], Loss: 13240.5815\n"
     ]
    },
    {
     "name": "stderr",
     "output_type": "stream",
     "text": [
      "100%|██████████| 30/30 [00:02<00:00, 12.69it/s]\n"
     ]
    },
    {
     "name": "stdout",
     "output_type": "stream",
     "text": [
      "Epoch [43/100], Loss: 13140.9506\n"
     ]
    },
    {
     "name": "stderr",
     "output_type": "stream",
     "text": [
      "100%|██████████| 30/30 [00:02<00:00, 11.62it/s]\n"
     ]
    },
    {
     "name": "stdout",
     "output_type": "stream",
     "text": [
      "Epoch [44/100], Loss: 13041.9712\n"
     ]
    },
    {
     "name": "stderr",
     "output_type": "stream",
     "text": [
      "100%|██████████| 30/30 [00:02<00:00, 10.58it/s]\n"
     ]
    },
    {
     "name": "stdout",
     "output_type": "stream",
     "text": [
      "Epoch [45/100], Loss: 12943.6367\n"
     ]
    },
    {
     "name": "stderr",
     "output_type": "stream",
     "text": [
      "100%|██████████| 30/30 [00:02<00:00, 12.37it/s]\n"
     ]
    },
    {
     "name": "stdout",
     "output_type": "stream",
     "text": [
      "Epoch [46/100], Loss: 12845.9404\n"
     ]
    },
    {
     "name": "stderr",
     "output_type": "stream",
     "text": [
      "100%|██████████| 30/30 [00:03<00:00,  8.53it/s]\n"
     ]
    },
    {
     "name": "stdout",
     "output_type": "stream",
     "text": [
      "Epoch [47/100], Loss: 12748.8760\n"
     ]
    },
    {
     "name": "stderr",
     "output_type": "stream",
     "text": [
      "100%|██████████| 30/30 [00:02<00:00, 10.90it/s]\n"
     ]
    },
    {
     "name": "stdout",
     "output_type": "stream",
     "text": [
      "Epoch [48/100], Loss: 12652.4376\n"
     ]
    },
    {
     "name": "stderr",
     "output_type": "stream",
     "text": [
      "100%|██████████| 30/30 [00:02<00:00, 13.00it/s]\n"
     ]
    },
    {
     "name": "stdout",
     "output_type": "stream",
     "text": [
      "Epoch [49/100], Loss: 12556.6192\n"
     ]
    },
    {
     "name": "stderr",
     "output_type": "stream",
     "text": [
      "100%|██████████| 30/30 [00:02<00:00, 10.38it/s]\n"
     ]
    },
    {
     "name": "stdout",
     "output_type": "stream",
     "text": [
      "Epoch [50/100], Loss: 12461.4155\n"
     ]
    },
    {
     "name": "stderr",
     "output_type": "stream",
     "text": [
      "100%|██████████| 30/30 [00:02<00:00, 10.98it/s]\n"
     ]
    },
    {
     "name": "stdout",
     "output_type": "stream",
     "text": [
      "Epoch [51/100], Loss: 12366.8209\n"
     ]
    },
    {
     "name": "stderr",
     "output_type": "stream",
     "text": [
      "100%|██████████| 30/30 [00:02<00:00, 12.05it/s]\n"
     ]
    },
    {
     "name": "stdout",
     "output_type": "stream",
     "text": [
      "Epoch [52/100], Loss: 12272.8303\n"
     ]
    },
    {
     "name": "stderr",
     "output_type": "stream",
     "text": [
      "100%|██████████| 30/30 [00:02<00:00, 11.16it/s]\n"
     ]
    },
    {
     "name": "stdout",
     "output_type": "stream",
     "text": [
      "Epoch [53/100], Loss: 12179.4388\n"
     ]
    },
    {
     "name": "stderr",
     "output_type": "stream",
     "text": [
      "100%|██████████| 30/30 [00:02<00:00, 13.17it/s]\n"
     ]
    },
    {
     "name": "stdout",
     "output_type": "stream",
     "text": [
      "Epoch [54/100], Loss: 12086.6415\n"
     ]
    },
    {
     "name": "stderr",
     "output_type": "stream",
     "text": [
      "100%|██████████| 30/30 [00:02<00:00, 10.98it/s]\n"
     ]
    },
    {
     "name": "stdout",
     "output_type": "stream",
     "text": [
      "Epoch [55/100], Loss: 11994.4338\n"
     ]
    },
    {
     "name": "stderr",
     "output_type": "stream",
     "text": [
      "100%|██████████| 30/30 [00:03<00:00,  8.93it/s]\n"
     ]
    },
    {
     "name": "stdout",
     "output_type": "stream",
     "text": [
      "Epoch [56/100], Loss: 11902.8111\n"
     ]
    },
    {
     "name": "stderr",
     "output_type": "stream",
     "text": [
      "100%|██████████| 30/30 [00:02<00:00, 11.49it/s]\n"
     ]
    },
    {
     "name": "stdout",
     "output_type": "stream",
     "text": [
      "Epoch [57/100], Loss: 11811.7690\n"
     ]
    },
    {
     "name": "stderr",
     "output_type": "stream",
     "text": [
      "100%|██████████| 30/30 [00:03<00:00,  9.86it/s]\n"
     ]
    },
    {
     "name": "stdout",
     "output_type": "stream",
     "text": [
      "Epoch [58/100], Loss: 11721.3033\n"
     ]
    },
    {
     "name": "stderr",
     "output_type": "stream",
     "text": [
      "100%|██████████| 30/30 [00:03<00:00,  9.67it/s]\n"
     ]
    },
    {
     "name": "stdout",
     "output_type": "stream",
     "text": [
      "Epoch [59/100], Loss: 11631.4099\n"
     ]
    },
    {
     "name": "stderr",
     "output_type": "stream",
     "text": [
      "100%|██████████| 30/30 [00:02<00:00, 12.63it/s]\n"
     ]
    },
    {
     "name": "stdout",
     "output_type": "stream",
     "text": [
      "Epoch [60/100], Loss: 11542.0847\n"
     ]
    },
    {
     "name": "stderr",
     "output_type": "stream",
     "text": [
      "100%|██████████| 30/30 [00:02<00:00, 10.51it/s]\n"
     ]
    },
    {
     "name": "stdout",
     "output_type": "stream",
     "text": [
      "Epoch [61/100], Loss: 11453.3238\n"
     ]
    },
    {
     "name": "stderr",
     "output_type": "stream",
     "text": [
      "100%|██████████| 30/30 [00:03<00:00,  9.57it/s]\n"
     ]
    },
    {
     "name": "stdout",
     "output_type": "stream",
     "text": [
      "Epoch [62/100], Loss: 11365.1235\n"
     ]
    },
    {
     "name": "stderr",
     "output_type": "stream",
     "text": [
      "100%|██████████| 30/30 [00:02<00:00, 12.30it/s]\n"
     ]
    },
    {
     "name": "stdout",
     "output_type": "stream",
     "text": [
      "Epoch [63/100], Loss: 11277.4800\n"
     ]
    },
    {
     "name": "stderr",
     "output_type": "stream",
     "text": [
      "100%|██████████| 30/30 [00:02<00:00, 10.91it/s]\n"
     ]
    },
    {
     "name": "stdout",
     "output_type": "stream",
     "text": [
      "Epoch [64/100], Loss: 11190.3898\n"
     ]
    },
    {
     "name": "stderr",
     "output_type": "stream",
     "text": [
      "100%|██████████| 30/30 [00:02<00:00, 10.61it/s]\n"
     ]
    },
    {
     "name": "stdout",
     "output_type": "stream",
     "text": [
      "Epoch [65/100], Loss: 11103.8492\n"
     ]
    },
    {
     "name": "stderr",
     "output_type": "stream",
     "text": [
      "100%|██████████| 30/30 [00:02<00:00, 12.78it/s]\n"
     ]
    },
    {
     "name": "stdout",
     "output_type": "stream",
     "text": [
      "Epoch [66/100], Loss: 11017.8549\n"
     ]
    },
    {
     "name": "stderr",
     "output_type": "stream",
     "text": [
      "100%|██████████| 30/30 [00:02<00:00, 10.95it/s]\n"
     ]
    },
    {
     "name": "stdout",
     "output_type": "stream",
     "text": [
      "Epoch [67/100], Loss: 10932.4036\n"
     ]
    },
    {
     "name": "stderr",
     "output_type": "stream",
     "text": [
      "100%|██████████| 30/30 [00:02<00:00, 11.93it/s]\n"
     ]
    },
    {
     "name": "stdout",
     "output_type": "stream",
     "text": [
      "Epoch [68/100], Loss: 10847.4918\n"
     ]
    },
    {
     "name": "stderr",
     "output_type": "stream",
     "text": [
      "100%|██████████| 30/30 [00:02<00:00, 10.88it/s]\n"
     ]
    },
    {
     "name": "stdout",
     "output_type": "stream",
     "text": [
      "Epoch [69/100], Loss: 10763.1165\n"
     ]
    },
    {
     "name": "stderr",
     "output_type": "stream",
     "text": [
      "100%|██████████| 30/30 [00:03<00:00,  9.86it/s]\n"
     ]
    },
    {
     "name": "stdout",
     "output_type": "stream",
     "text": [
      "Epoch [70/100], Loss: 10679.2745\n"
     ]
    },
    {
     "name": "stderr",
     "output_type": "stream",
     "text": [
      "100%|██████████| 30/30 [00:02<00:00, 11.37it/s]\n"
     ]
    },
    {
     "name": "stdout",
     "output_type": "stream",
     "text": [
      "Epoch [71/100], Loss: 10595.9628\n"
     ]
    },
    {
     "name": "stderr",
     "output_type": "stream",
     "text": [
      "100%|██████████| 30/30 [00:02<00:00, 12.39it/s]\n"
     ]
    },
    {
     "name": "stdout",
     "output_type": "stream",
     "text": [
      "Epoch [72/100], Loss: 10513.1782\n"
     ]
    },
    {
     "name": "stderr",
     "output_type": "stream",
     "text": [
      "100%|██████████| 30/30 [00:03<00:00,  9.45it/s]\n"
     ]
    },
    {
     "name": "stdout",
     "output_type": "stream",
     "text": [
      "Epoch [73/100], Loss: 10430.9180\n"
     ]
    },
    {
     "name": "stderr",
     "output_type": "stream",
     "text": [
      "100%|██████████| 30/30 [00:02<00:00, 12.07it/s]\n"
     ]
    },
    {
     "name": "stdout",
     "output_type": "stream",
     "text": [
      "Epoch [74/100], Loss: 10349.1791\n"
     ]
    },
    {
     "name": "stderr",
     "output_type": "stream",
     "text": [
      "100%|██████████| 30/30 [00:02<00:00, 10.42it/s]\n"
     ]
    },
    {
     "name": "stdout",
     "output_type": "stream",
     "text": [
      "Epoch [75/100], Loss: 10267.9589\n"
     ]
    },
    {
     "name": "stderr",
     "output_type": "stream",
     "text": [
      "100%|██████████| 30/30 [00:02<00:00, 11.88it/s]\n"
     ]
    },
    {
     "name": "stdout",
     "output_type": "stream",
     "text": [
      "Epoch [76/100], Loss: 10187.2545\n"
     ]
    },
    {
     "name": "stderr",
     "output_type": "stream",
     "text": [
      "100%|██████████| 30/30 [00:02<00:00, 12.77it/s]\n"
     ]
    },
    {
     "name": "stdout",
     "output_type": "stream",
     "text": [
      "Epoch [77/100], Loss: 10107.0632\n"
     ]
    },
    {
     "name": "stderr",
     "output_type": "stream",
     "text": [
      "100%|██████████| 30/30 [00:02<00:00, 11.01it/s]\n"
     ]
    },
    {
     "name": "stdout",
     "output_type": "stream",
     "text": [
      "Epoch [78/100], Loss: 10027.3824\n"
     ]
    },
    {
     "name": "stderr",
     "output_type": "stream",
     "text": [
      "100%|██████████| 30/30 [00:02<00:00, 10.68it/s]\n"
     ]
    },
    {
     "name": "stdout",
     "output_type": "stream",
     "text": [
      "Epoch [79/100], Loss: 9948.2094\n"
     ]
    },
    {
     "name": "stderr",
     "output_type": "stream",
     "text": [
      "100%|██████████| 30/30 [00:02<00:00, 11.49it/s]\n"
     ]
    },
    {
     "name": "stdout",
     "output_type": "stream",
     "text": [
      "Epoch [80/100], Loss: 9869.5417\n"
     ]
    },
    {
     "name": "stderr",
     "output_type": "stream",
     "text": [
      "100%|██████████| 30/30 [00:02<00:00, 10.24it/s]\n"
     ]
    },
    {
     "name": "stdout",
     "output_type": "stream",
     "text": [
      "Epoch [81/100], Loss: 9791.3768\n"
     ]
    },
    {
     "name": "stderr",
     "output_type": "stream",
     "text": [
      "100%|██████████| 30/30 [00:02<00:00, 10.55it/s]\n"
     ]
    },
    {
     "name": "stdout",
     "output_type": "stream",
     "text": [
      "Epoch [82/100], Loss: 9713.7121\n"
     ]
    },
    {
     "name": "stderr",
     "output_type": "stream",
     "text": [
      "100%|██████████| 30/30 [00:02<00:00, 11.63it/s]\n"
     ]
    },
    {
     "name": "stdout",
     "output_type": "stream",
     "text": [
      "Epoch [83/100], Loss: 9636.5454\n"
     ]
    },
    {
     "name": "stderr",
     "output_type": "stream",
     "text": [
      "100%|██████████| 30/30 [00:02<00:00, 10.04it/s]\n"
     ]
    },
    {
     "name": "stdout",
     "output_type": "stream",
     "text": [
      "Epoch [84/100], Loss: 9559.8741\n"
     ]
    },
    {
     "name": "stderr",
     "output_type": "stream",
     "text": [
      "100%|██████████| 30/30 [00:03<00:00,  8.56it/s]\n"
     ]
    },
    {
     "name": "stdout",
     "output_type": "stream",
     "text": [
      "Epoch [85/100], Loss: 9483.6959\n"
     ]
    },
    {
     "name": "stderr",
     "output_type": "stream",
     "text": [
      "100%|██████████| 30/30 [00:02<00:00, 12.30it/s]\n"
     ]
    },
    {
     "name": "stdout",
     "output_type": "stream",
     "text": [
      "Epoch [86/100], Loss: 9408.0085\n"
     ]
    },
    {
     "name": "stderr",
     "output_type": "stream",
     "text": [
      "100%|██████████| 30/30 [00:02<00:00, 10.09it/s]\n"
     ]
    },
    {
     "name": "stdout",
     "output_type": "stream",
     "text": [
      "Epoch [87/100], Loss: 9332.8097\n"
     ]
    },
    {
     "name": "stderr",
     "output_type": "stream",
     "text": [
      "100%|██████████| 30/30 [00:03<00:00,  8.97it/s]\n"
     ]
    },
    {
     "name": "stdout",
     "output_type": "stream",
     "text": [
      "Epoch [88/100], Loss: 9258.0972\n"
     ]
    },
    {
     "name": "stderr",
     "output_type": "stream",
     "text": [
      "100%|██████████| 30/30 [00:02<00:00, 10.40it/s]\n"
     ]
    },
    {
     "name": "stdout",
     "output_type": "stream",
     "text": [
      "Epoch [89/100], Loss: 9183.8688\n"
     ]
    },
    {
     "name": "stderr",
     "output_type": "stream",
     "text": [
      "100%|██████████| 30/30 [00:02<00:00, 11.54it/s]\n"
     ]
    },
    {
     "name": "stdout",
     "output_type": "stream",
     "text": [
      "Epoch [90/100], Loss: 9110.1223\n"
     ]
    },
    {
     "name": "stderr",
     "output_type": "stream",
     "text": [
      "100%|██████████| 30/30 [00:02<00:00, 11.17it/s]\n"
     ]
    },
    {
     "name": "stdout",
     "output_type": "stream",
     "text": [
      "Epoch [91/100], Loss: 9036.8557\n"
     ]
    },
    {
     "name": "stderr",
     "output_type": "stream",
     "text": [
      "100%|██████████| 30/30 [00:02<00:00, 12.14it/s]\n"
     ]
    },
    {
     "name": "stdout",
     "output_type": "stream",
     "text": [
      "Epoch [92/100], Loss: 8964.0667\n"
     ]
    },
    {
     "name": "stderr",
     "output_type": "stream",
     "text": [
      "100%|██████████| 30/30 [00:02<00:00, 11.06it/s]\n"
     ]
    },
    {
     "name": "stdout",
     "output_type": "stream",
     "text": [
      "Epoch [93/100], Loss: 8891.7534\n"
     ]
    },
    {
     "name": "stderr",
     "output_type": "stream",
     "text": [
      "100%|██████████| 30/30 [00:03<00:00,  9.65it/s]\n"
     ]
    },
    {
     "name": "stdout",
     "output_type": "stream",
     "text": [
      "Epoch [94/100], Loss: 8819.9137\n"
     ]
    },
    {
     "name": "stderr",
     "output_type": "stream",
     "text": [
      "100%|██████████| 30/30 [00:02<00:00, 11.32it/s]\n"
     ]
    },
    {
     "name": "stdout",
     "output_type": "stream",
     "text": [
      "Epoch [95/100], Loss: 8748.5456\n"
     ]
    },
    {
     "name": "stderr",
     "output_type": "stream",
     "text": [
      "100%|██████████| 30/30 [00:02<00:00, 11.34it/s]\n"
     ]
    },
    {
     "name": "stdout",
     "output_type": "stream",
     "text": [
      "Epoch [96/100], Loss: 8677.6471\n"
     ]
    },
    {
     "name": "stderr",
     "output_type": "stream",
     "text": [
      "100%|██████████| 30/30 [00:02<00:00, 11.36it/s]\n"
     ]
    },
    {
     "name": "stdout",
     "output_type": "stream",
     "text": [
      "Epoch [97/100], Loss: 8607.2162\n"
     ]
    },
    {
     "name": "stderr",
     "output_type": "stream",
     "text": [
      "100%|██████████| 30/30 [00:02<00:00, 12.11it/s]\n"
     ]
    },
    {
     "name": "stdout",
     "output_type": "stream",
     "text": [
      "Epoch [98/100], Loss: 8537.2511\n"
     ]
    },
    {
     "name": "stderr",
     "output_type": "stream",
     "text": [
      "100%|██████████| 30/30 [00:02<00:00, 10.12it/s]\n"
     ]
    },
    {
     "name": "stdout",
     "output_type": "stream",
     "text": [
      "Epoch [99/100], Loss: 8467.7497\n"
     ]
    },
    {
     "name": "stderr",
     "output_type": "stream",
     "text": [
      "100%|██████████| 30/30 [00:02<00:00, 12.44it/s]"
     ]
    },
    {
     "name": "stdout",
     "output_type": "stream",
     "text": [
      "Epoch [100/100], Loss: 8398.7103\n",
      "Training complete.\n"
     ]
    },
    {
     "name": "stderr",
     "output_type": "stream",
     "text": [
      "\n"
     ]
    }
   ],
   "source": [
    "model = train(model, dataloader, criterion, optimizer, epoches, device)"
   ]
  },
  {
   "cell_type": "code",
   "execution_count": 76,
   "metadata": {},
   "outputs": [],
   "source": [
    "torch.save(model.state_dict(), 'model2.pth')"
   ]
  },
  {
   "cell_type": "markdown",
   "metadata": {},
   "source": [
    "##### 예측(미완)"
   ]
  },
  {
   "cell_type": "code",
   "execution_count": 79,
   "metadata": {},
   "outputs": [
    {
     "name": "stderr",
     "output_type": "stream",
     "text": [
      "C:\\Users\\user\\AppData\\Local\\Temp\\ipykernel_25148\\1464077963.py:2: FutureWarning: You are using `torch.load` with `weights_only=False` (the current default value), which uses the default pickle module implicitly. It is possible to construct malicious pickle data which will execute arbitrary code during unpickling (See https://github.com/pytorch/pytorch/blob/main/SECURITY.md#untrusted-models for more details). In a future release, the default value for `weights_only` will be flipped to `True`. This limits the functions that could be executed during unpickling. Arbitrary objects will no longer be allowed to be loaded via this mode unless they are explicitly allowlisted by the user via `torch.serialization.add_safe_globals`. We recommend you start setting `weights_only=True` for any use case where you don't have full control of the loaded file. Please open an issue on GitHub for any issues related to this experimental feature.\n",
      "  model.load_state_dict(torch.load('model2.pth'))\n"
     ]
    },
    {
     "data": {
      "text/plain": [
       "<All keys matched successfully>"
      ]
     },
     "execution_count": 79,
     "metadata": {},
     "output_type": "execute_result"
    }
   ],
   "source": [
    "model = LSTMModel(input_size, hidden_size, output_size, num_layers)\n",
    "model.load_state_dict(torch.load('model2.pth'))"
   ]
  },
  {
   "cell_type": "markdown",
   "metadata": {},
   "source": [
    "##### X 데이터\n",
    "\n",
    "- 제주 기상 예측 (n+1)\n",
    "- 제주 전력 시장 실시간 (n-1)\n",
    "- 제주 전력 시장 현황 (n-1)"
   ]
  },
  {
   "cell_type": "code",
   "execution_count": 80,
   "metadata": {},
   "outputs": [],
   "source": [
    "dfs = [weather_forecast_1, smp_rt_rc, elec_supply]\n",
    "\n",
    "input_data = reduce(lambda left, right: pd.merge(left, right, on='datetime', how='inner'), dfs)\n",
    "\n",
    "target_day = datetime.strptime(target_date['predict_target_date'], '%Y-%m-%d')\n",
    "\n",
    "input_data = input_data.loc[\n",
    "  (input_data['datetime'] > target_day) &\n",
    "  (input_data['datetime'] <= target_day + timedelta(days=1))\n",
    "]"
   ]
  },
  {
   "cell_type": "code",
   "execution_count": 81,
   "metadata": {},
   "outputs": [
    {
     "data": {
      "text/html": [
       "<div>\n",
       "<style scoped>\n",
       "    .dataframe tbody tr th:only-of-type {\n",
       "        vertical-align: middle;\n",
       "    }\n",
       "\n",
       "    .dataframe tbody tr th {\n",
       "        vertical-align: top;\n",
       "    }\n",
       "\n",
       "    .dataframe thead th {\n",
       "        text-align: right;\n",
       "    }\n",
       "</style>\n",
       "<table border=\"1\" class=\"dataframe\">\n",
       "  <thead>\n",
       "    <tr style=\"text-align: right;\">\n",
       "      <th></th>\n",
       "      <th>datetime</th>\n",
       "      <th>temp</th>\n",
       "      <th>real_feel_temp</th>\n",
       "      <th>rel_hum</th>\n",
       "      <th>dew_point</th>\n",
       "      <th>wind_dir</th>\n",
       "      <th>wind_spd</th>\n",
       "      <th>wind_gust_spd</th>\n",
       "      <th>uv_idx</th>\n",
       "      <th>vis</th>\n",
       "      <th>...</th>\n",
       "      <th>precip_1h</th>\n",
       "      <th>실시간 임시 가격(원/kWh)</th>\n",
       "      <th>실시간 확정 가격(원/kWh)</th>\n",
       "      <th>공급능력(kW)</th>\n",
       "      <th>현재 수요(kW)</th>\n",
       "      <th>태양광 발전량kW)</th>\n",
       "      <th>풍력 발전량(kW)</th>\n",
       "      <th>신재생 발전량 총합(kW)</th>\n",
       "      <th>공급 예비력(kW)</th>\n",
       "      <th>운영 예비력(kW)</th>\n",
       "    </tr>\n",
       "  </thead>\n",
       "  <tbody>\n",
       "    <tr>\n",
       "      <th>5793</th>\n",
       "      <td>2024-11-03 01:00:00</td>\n",
       "      <td>18.209867</td>\n",
       "      <td>16.358033</td>\n",
       "      <td>76.888889</td>\n",
       "      <td>14.074067</td>\n",
       "      <td>60.777778</td>\n",
       "      <td>17.327300</td>\n",
       "      <td>30.255644</td>\n",
       "      <td>0.000000</td>\n",
       "      <td>16.09340</td>\n",
       "      <td>...</td>\n",
       "      <td>0.000000</td>\n",
       "      <td>108.924000</td>\n",
       "      <td>108.924000</td>\n",
       "      <td>1.139692e+06</td>\n",
       "      <td>528153.846154</td>\n",
       "      <td>0.000000</td>\n",
       "      <td>77352.069231</td>\n",
       "      <td>77597.192308</td>\n",
       "      <td>581615.384615</td>\n",
       "      <td>364769.230769</td>\n",
       "    </tr>\n",
       "    <tr>\n",
       "      <th>5794</th>\n",
       "      <td>2024-11-03 02:00:00</td>\n",
       "      <td>17.716044</td>\n",
       "      <td>15.925922</td>\n",
       "      <td>77.666667</td>\n",
       "      <td>13.641967</td>\n",
       "      <td>55.222222</td>\n",
       "      <td>17.523989</td>\n",
       "      <td>29.433111</td>\n",
       "      <td>0.000000</td>\n",
       "      <td>16.09340</td>\n",
       "      <td>...</td>\n",
       "      <td>0.000000</td>\n",
       "      <td>103.236667</td>\n",
       "      <td>103.236667</td>\n",
       "      <td>1.155455e+06</td>\n",
       "      <td>511090.909091</td>\n",
       "      <td>0.000000</td>\n",
       "      <td>86352.463636</td>\n",
       "      <td>86597.045455</td>\n",
       "      <td>625363.636364</td>\n",
       "      <td>398727.272727</td>\n",
       "    </tr>\n",
       "    <tr>\n",
       "      <th>5795</th>\n",
       "      <td>2024-11-03 03:00:00</td>\n",
       "      <td>17.469133</td>\n",
       "      <td>15.679022</td>\n",
       "      <td>77.888889</td>\n",
       "      <td>13.580233</td>\n",
       "      <td>94.333333</td>\n",
       "      <td>17.112711</td>\n",
       "      <td>28.628433</td>\n",
       "      <td>0.000000</td>\n",
       "      <td>16.09340</td>\n",
       "      <td>...</td>\n",
       "      <td>0.000000</td>\n",
       "      <td>98.398000</td>\n",
       "      <td>98.398000</td>\n",
       "      <td>1.162154e+06</td>\n",
       "      <td>504692.307692</td>\n",
       "      <td>0.000000</td>\n",
       "      <td>92392.100000</td>\n",
       "      <td>92636.153846</td>\n",
       "      <td>647846.153846</td>\n",
       "      <td>373923.076923</td>\n",
       "    </tr>\n",
       "    <tr>\n",
       "      <th>5796</th>\n",
       "      <td>2024-11-03 04:00:00</td>\n",
       "      <td>17.098756</td>\n",
       "      <td>15.246933</td>\n",
       "      <td>79.333333</td>\n",
       "      <td>13.518500</td>\n",
       "      <td>22.000000</td>\n",
       "      <td>17.130600</td>\n",
       "      <td>27.805878</td>\n",
       "      <td>0.000000</td>\n",
       "      <td>16.09340</td>\n",
       "      <td>...</td>\n",
       "      <td>0.000000</td>\n",
       "      <td>95.116667</td>\n",
       "      <td>95.116667</td>\n",
       "      <td>1.188909e+06</td>\n",
       "      <td>491454.545455</td>\n",
       "      <td>0.000000</td>\n",
       "      <td>117552.909091</td>\n",
       "      <td>117796.636364</td>\n",
       "      <td>687363.636364</td>\n",
       "      <td>408000.000000</td>\n",
       "    </tr>\n",
       "    <tr>\n",
       "      <th>5797</th>\n",
       "      <td>2024-11-03 05:00:00</td>\n",
       "      <td>17.160489</td>\n",
       "      <td>15.246911</td>\n",
       "      <td>78.777778</td>\n",
       "      <td>13.395056</td>\n",
       "      <td>32.777778</td>\n",
       "      <td>16.486867</td>\n",
       "      <td>26.965444</td>\n",
       "      <td>0.000000</td>\n",
       "      <td>16.09340</td>\n",
       "      <td>...</td>\n",
       "      <td>0.000000</td>\n",
       "      <td>102.490000</td>\n",
       "      <td>102.490000</td>\n",
       "      <td>1.219462e+06</td>\n",
       "      <td>506769.230769</td>\n",
       "      <td>0.000000</td>\n",
       "      <td>148452.769231</td>\n",
       "      <td>148696.307692</td>\n",
       "      <td>710384.615385</td>\n",
       "      <td>424076.923077</td>\n",
       "    </tr>\n",
       "    <tr>\n",
       "      <th>5798</th>\n",
       "      <td>2024-11-03 06:00:00</td>\n",
       "      <td>17.037033</td>\n",
       "      <td>15.308656</td>\n",
       "      <td>78.888889</td>\n",
       "      <td>13.395056</td>\n",
       "      <td>40.666667</td>\n",
       "      <td>15.861011</td>\n",
       "      <td>25.964078</td>\n",
       "      <td>0.000000</td>\n",
       "      <td>16.09340</td>\n",
       "      <td>...</td>\n",
       "      <td>0.000000</td>\n",
       "      <td>104.500000</td>\n",
       "      <td>104.500000</td>\n",
       "      <td>1.213364e+06</td>\n",
       "      <td>524272.727273</td>\n",
       "      <td>0.000000</td>\n",
       "      <td>143401.181818</td>\n",
       "      <td>143643.363636</td>\n",
       "      <td>684363.636364</td>\n",
       "      <td>402363.636364</td>\n",
       "    </tr>\n",
       "    <tr>\n",
       "      <th>5799</th>\n",
       "      <td>2024-11-03 07:00:00</td>\n",
       "      <td>16.913567</td>\n",
       "      <td>15.432111</td>\n",
       "      <td>80.222222</td>\n",
       "      <td>13.456778</td>\n",
       "      <td>41.111111</td>\n",
       "      <td>15.235156</td>\n",
       "      <td>25.123656</td>\n",
       "      <td>0.000000</td>\n",
       "      <td>16.09340</td>\n",
       "      <td>...</td>\n",
       "      <td>0.000000</td>\n",
       "      <td>116.480000</td>\n",
       "      <td>116.480000</td>\n",
       "      <td>1.223154e+06</td>\n",
       "      <td>565384.615385</td>\n",
       "      <td>0.000000</td>\n",
       "      <td>151426.230769</td>\n",
       "      <td>151670.153846</td>\n",
       "      <td>653000.000000</td>\n",
       "      <td>369000.000000</td>\n",
       "    </tr>\n",
       "    <tr>\n",
       "      <th>5800</th>\n",
       "      <td>2024-11-03 08:00:00</td>\n",
       "      <td>18.086411</td>\n",
       "      <td>17.407400</td>\n",
       "      <td>75.000000</td>\n",
       "      <td>13.703689</td>\n",
       "      <td>37.777778</td>\n",
       "      <td>15.253033</td>\n",
       "      <td>24.515678</td>\n",
       "      <td>1.000000</td>\n",
       "      <td>16.09340</td>\n",
       "      <td>...</td>\n",
       "      <td>0.000000</td>\n",
       "      <td>137.910000</td>\n",
       "      <td>137.910000</td>\n",
       "      <td>1.237727e+06</td>\n",
       "      <td>622727.272727</td>\n",
       "      <td>0.000000</td>\n",
       "      <td>165409.000000</td>\n",
       "      <td>165729.000000</td>\n",
       "      <td>610181.818182</td>\n",
       "      <td>378909.090909</td>\n",
       "    </tr>\n",
       "    <tr>\n",
       "      <th>5801</th>\n",
       "      <td>2024-11-03 09:00:00</td>\n",
       "      <td>19.320978</td>\n",
       "      <td>19.074067</td>\n",
       "      <td>70.888889</td>\n",
       "      <td>13.888867</td>\n",
       "      <td>74.000000</td>\n",
       "      <td>15.449733</td>\n",
       "      <td>24.301089</td>\n",
       "      <td>1.888889</td>\n",
       "      <td>16.09340</td>\n",
       "      <td>...</td>\n",
       "      <td>0.000000</td>\n",
       "      <td>150.890000</td>\n",
       "      <td>150.890000</td>\n",
       "      <td>1.262538e+06</td>\n",
       "      <td>664461.538462</td>\n",
       "      <td>1884.663846</td>\n",
       "      <td>188450.153846</td>\n",
       "      <td>190779.846154</td>\n",
       "      <td>593153.846154</td>\n",
       "      <td>362153.846154</td>\n",
       "    </tr>\n",
       "    <tr>\n",
       "      <th>5802</th>\n",
       "      <td>2024-11-03 10:00:00</td>\n",
       "      <td>20.555556</td>\n",
       "      <td>21.049378</td>\n",
       "      <td>66.888889</td>\n",
       "      <td>14.197500</td>\n",
       "      <td>109.888889</td>\n",
       "      <td>14.859633</td>\n",
       "      <td>23.496422</td>\n",
       "      <td>2.777778</td>\n",
       "      <td>16.09340</td>\n",
       "      <td>...</td>\n",
       "      <td>0.000000</td>\n",
       "      <td>148.923333</td>\n",
       "      <td>148.923333</td>\n",
       "      <td>1.280000e+06</td>\n",
       "      <td>690545.454545</td>\n",
       "      <td>3222.000909</td>\n",
       "      <td>204576.636364</td>\n",
       "      <td>208088.909091</td>\n",
       "      <td>584909.090909</td>\n",
       "      <td>353909.090909</td>\n",
       "    </tr>\n",
       "    <tr>\n",
       "      <th>5803</th>\n",
       "      <td>2024-11-03 11:00:00</td>\n",
       "      <td>21.419767</td>\n",
       "      <td>22.222211</td>\n",
       "      <td>62.444444</td>\n",
       "      <td>14.135767</td>\n",
       "      <td>101.444444</td>\n",
       "      <td>14.859633</td>\n",
       "      <td>22.423533</td>\n",
       "      <td>3.444444</td>\n",
       "      <td>16.09340</td>\n",
       "      <td>...</td>\n",
       "      <td>0.000000</td>\n",
       "      <td>141.514000</td>\n",
       "      <td>141.514000</td>\n",
       "      <td>1.278615e+06</td>\n",
       "      <td>696307.692308</td>\n",
       "      <td>5440.853077</td>\n",
       "      <td>200946.923077</td>\n",
       "      <td>206677.846154</td>\n",
       "      <td>577461.538462</td>\n",
       "      <td>346230.769231</td>\n",
       "    </tr>\n",
       "    <tr>\n",
       "      <th>5804</th>\n",
       "      <td>2024-11-03 12:00:00</td>\n",
       "      <td>22.037033</td>\n",
       "      <td>22.777767</td>\n",
       "      <td>59.444444</td>\n",
       "      <td>14.012322</td>\n",
       "      <td>162.666667</td>\n",
       "      <td>14.645056</td>\n",
       "      <td>22.244733</td>\n",
       "      <td>3.222222</td>\n",
       "      <td>15.37814</td>\n",
       "      <td>...</td>\n",
       "      <td>0.000000</td>\n",
       "      <td>128.916667</td>\n",
       "      <td>128.916667</td>\n",
       "      <td>1.268636e+06</td>\n",
       "      <td>700727.272727</td>\n",
       "      <td>3809.337273</td>\n",
       "      <td>191933.454545</td>\n",
       "      <td>196032.818182</td>\n",
       "      <td>563000.000000</td>\n",
       "      <td>331909.090909</td>\n",
       "    </tr>\n",
       "    <tr>\n",
       "      <th>5805</th>\n",
       "      <td>2024-11-03 13:00:00</td>\n",
       "      <td>22.839511</td>\n",
       "      <td>23.580233</td>\n",
       "      <td>56.888889</td>\n",
       "      <td>13.950600</td>\n",
       "      <td>174.222222</td>\n",
       "      <td>15.074211</td>\n",
       "      <td>21.851344</td>\n",
       "      <td>3.777778</td>\n",
       "      <td>16.09340</td>\n",
       "      <td>...</td>\n",
       "      <td>0.000000</td>\n",
       "      <td>115.314000</td>\n",
       "      <td>115.314000</td>\n",
       "      <td>1.260308e+06</td>\n",
       "      <td>711692.307692</td>\n",
       "      <td>3216.756154</td>\n",
       "      <td>185112.307692</td>\n",
       "      <td>188531.153846</td>\n",
       "      <td>543692.307692</td>\n",
       "      <td>312846.153846</td>\n",
       "    </tr>\n",
       "    <tr>\n",
       "      <th>5806</th>\n",
       "      <td>2024-11-03 14:00:00</td>\n",
       "      <td>22.530856</td>\n",
       "      <td>22.716033</td>\n",
       "      <td>58.333333</td>\n",
       "      <td>14.012333</td>\n",
       "      <td>182.444444</td>\n",
       "      <td>15.664311</td>\n",
       "      <td>22.655978</td>\n",
       "      <td>3.000000</td>\n",
       "      <td>16.09340</td>\n",
       "      <td>...</td>\n",
       "      <td>0.000000</td>\n",
       "      <td>113.953333</td>\n",
       "      <td>113.953333</td>\n",
       "      <td>1.270273e+06</td>\n",
       "      <td>713909.090909</td>\n",
       "      <td>4464.423636</td>\n",
       "      <td>193692.909091</td>\n",
       "      <td>198330.272727</td>\n",
       "      <td>551272.727273</td>\n",
       "      <td>320727.272727</td>\n",
       "    </tr>\n",
       "    <tr>\n",
       "      <th>5807</th>\n",
       "      <td>2024-11-03 15:00:00</td>\n",
       "      <td>21.851867</td>\n",
       "      <td>21.543222</td>\n",
       "      <td>60.333333</td>\n",
       "      <td>14.012333</td>\n",
       "      <td>183.888889</td>\n",
       "      <td>15.700067</td>\n",
       "      <td>24.104411</td>\n",
       "      <td>2.000000</td>\n",
       "      <td>15.37814</td>\n",
       "      <td>...</td>\n",
       "      <td>0.028222</td>\n",
       "      <td>113.732000</td>\n",
       "      <td>113.732000</td>\n",
       "      <td>1.272000e+06</td>\n",
       "      <td>698615.384615</td>\n",
       "      <td>5389.608462</td>\n",
       "      <td>194680.461538</td>\n",
       "      <td>200145.076923</td>\n",
       "      <td>568615.384615</td>\n",
       "      <td>337000.000000</td>\n",
       "    </tr>\n",
       "    <tr>\n",
       "      <th>5808</th>\n",
       "      <td>2024-11-03 16:00:00</td>\n",
       "      <td>21.358022</td>\n",
       "      <td>20.679022</td>\n",
       "      <td>62.444444</td>\n",
       "      <td>14.012333</td>\n",
       "      <td>184.111111</td>\n",
       "      <td>14.430478</td>\n",
       "      <td>23.067256</td>\n",
       "      <td>1.000000</td>\n",
       "      <td>16.09340</td>\n",
       "      <td>...</td>\n",
       "      <td>0.000000</td>\n",
       "      <td>119.056667</td>\n",
       "      <td>119.056667</td>\n",
       "      <td>1.281727e+06</td>\n",
       "      <td>694636.363636</td>\n",
       "      <td>1842.583636</td>\n",
       "      <td>207820.272727</td>\n",
       "      <td>209796.636364</td>\n",
       "      <td>582454.545455</td>\n",
       "      <td>351636.363636</td>\n",
       "    </tr>\n",
       "    <tr>\n",
       "      <th>5809</th>\n",
       "      <td>2024-11-03 17:00:00</td>\n",
       "      <td>20.679033</td>\n",
       "      <td>19.197533</td>\n",
       "      <td>65.555556</td>\n",
       "      <td>13.888878</td>\n",
       "      <td>148.222222</td>\n",
       "      <td>13.214522</td>\n",
       "      <td>22.226811</td>\n",
       "      <td>0.000000</td>\n",
       "      <td>16.09340</td>\n",
       "      <td>...</td>\n",
       "      <td>0.000000</td>\n",
       "      <td>131.206000</td>\n",
       "      <td>131.206000</td>\n",
       "      <td>1.268615e+06</td>\n",
       "      <td>707153.846154</td>\n",
       "      <td>0.000000</td>\n",
       "      <td>198144.076923</td>\n",
       "      <td>198321.230769</td>\n",
       "      <td>556615.384615</td>\n",
       "      <td>327230.769231</td>\n",
       "    </tr>\n",
       "    <tr>\n",
       "      <th>5810</th>\n",
       "      <td>2024-11-03 18:00:00</td>\n",
       "      <td>19.567889</td>\n",
       "      <td>18.024689</td>\n",
       "      <td>70.222222</td>\n",
       "      <td>13.827144</td>\n",
       "      <td>73.222222</td>\n",
       "      <td>11.336956</td>\n",
       "      <td>22.441411</td>\n",
       "      <td>0.000000</td>\n",
       "      <td>16.09340</td>\n",
       "      <td>...</td>\n",
       "      <td>0.000000</td>\n",
       "      <td>131.260000</td>\n",
       "      <td>131.260000</td>\n",
       "      <td>1.302455e+06</td>\n",
       "      <td>716363.636364</td>\n",
       "      <td>0.000000</td>\n",
       "      <td>233242.545455</td>\n",
       "      <td>233358.545455</td>\n",
       "      <td>581272.727273</td>\n",
       "      <td>353272.727273</td>\n",
       "    </tr>\n",
       "    <tr>\n",
       "      <th>5811</th>\n",
       "      <td>2024-11-03 19:00:00</td>\n",
       "      <td>18.209867</td>\n",
       "      <td>17.160489</td>\n",
       "      <td>75.111111</td>\n",
       "      <td>13.827144</td>\n",
       "      <td>70.111111</td>\n",
       "      <td>10.728978</td>\n",
       "      <td>21.618844</td>\n",
       "      <td>0.000000</td>\n",
       "      <td>16.09340</td>\n",
       "      <td>...</td>\n",
       "      <td>0.000000</td>\n",
       "      <td>121.588000</td>\n",
       "      <td>121.588000</td>\n",
       "      <td>1.325846e+06</td>\n",
       "      <td>702076.923077</td>\n",
       "      <td>0.000000</td>\n",
       "      <td>256310.692308</td>\n",
       "      <td>256455.153846</td>\n",
       "      <td>619000.000000</td>\n",
       "      <td>360000.000000</td>\n",
       "    </tr>\n",
       "    <tr>\n",
       "      <th>5812</th>\n",
       "      <td>2024-11-03 20:00:00</td>\n",
       "      <td>17.716067</td>\n",
       "      <td>16.851844</td>\n",
       "      <td>77.111111</td>\n",
       "      <td>13.703678</td>\n",
       "      <td>57.222222</td>\n",
       "      <td>10.138878</td>\n",
       "      <td>21.207578</td>\n",
       "      <td>0.000000</td>\n",
       "      <td>16.09340</td>\n",
       "      <td>...</td>\n",
       "      <td>0.000000</td>\n",
       "      <td>105.860000</td>\n",
       "      <td>105.860000</td>\n",
       "      <td>1.294455e+06</td>\n",
       "      <td>702909.090909</td>\n",
       "      <td>0.000000</td>\n",
       "      <td>224797.545455</td>\n",
       "      <td>224923.545455</td>\n",
       "      <td>586909.090909</td>\n",
       "      <td>305636.363636</td>\n",
       "    </tr>\n",
       "    <tr>\n",
       "      <th>5813</th>\n",
       "      <td>2024-11-03 21:00:00</td>\n",
       "      <td>17.345656</td>\n",
       "      <td>16.604922</td>\n",
       "      <td>78.111111</td>\n",
       "      <td>13.580233</td>\n",
       "      <td>143.444444</td>\n",
       "      <td>9.924298</td>\n",
       "      <td>22.244722</td>\n",
       "      <td>0.000000</td>\n",
       "      <td>16.09340</td>\n",
       "      <td>...</td>\n",
       "      <td>0.000000</td>\n",
       "      <td>103.420000</td>\n",
       "      <td>103.420000</td>\n",
       "      <td>1.275000e+06</td>\n",
       "      <td>671000.000000</td>\n",
       "      <td>0.000000</td>\n",
       "      <td>204638.076923</td>\n",
       "      <td>204759.846154</td>\n",
       "      <td>599384.615385</td>\n",
       "      <td>316538.461538</td>\n",
       "    </tr>\n",
       "    <tr>\n",
       "      <th>5814</th>\n",
       "      <td>2024-11-03 22:00:00</td>\n",
       "      <td>16.604956</td>\n",
       "      <td>15.740744</td>\n",
       "      <td>81.444444</td>\n",
       "      <td>13.518511</td>\n",
       "      <td>284.222222</td>\n",
       "      <td>10.317698</td>\n",
       "      <td>24.515678</td>\n",
       "      <td>0.000000</td>\n",
       "      <td>16.09340</td>\n",
       "      <td>...</td>\n",
       "      <td>0.000000</td>\n",
       "      <td>103.420000</td>\n",
       "      <td>103.420000</td>\n",
       "      <td>1.294182e+06</td>\n",
       "      <td>636818.181818</td>\n",
       "      <td>0.000000</td>\n",
       "      <td>224458.272727</td>\n",
       "      <td>224580.181818</td>\n",
       "      <td>652636.363636</td>\n",
       "      <td>369272.727273</td>\n",
       "    </tr>\n",
       "    <tr>\n",
       "      <th>5815</th>\n",
       "      <td>2024-11-03 23:00:00</td>\n",
       "      <td>15.864200</td>\n",
       "      <td>14.753089</td>\n",
       "      <td>84.888889</td>\n",
       "      <td>13.395056</td>\n",
       "      <td>308.222222</td>\n",
       "      <td>10.943556</td>\n",
       "      <td>26.750844</td>\n",
       "      <td>0.000000</td>\n",
       "      <td>15.37814</td>\n",
       "      <td>...</td>\n",
       "      <td>0.000000</td>\n",
       "      <td>103.420000</td>\n",
       "      <td>103.420000</td>\n",
       "      <td>1.292538e+06</td>\n",
       "      <td>615692.307692</td>\n",
       "      <td>0.000000</td>\n",
       "      <td>221744.076923</td>\n",
       "      <td>221866.000000</td>\n",
       "      <td>672153.846154</td>\n",
       "      <td>388615.384615</td>\n",
       "    </tr>\n",
       "    <tr>\n",
       "      <th>5816</th>\n",
       "      <td>2024-11-04 00:00:00</td>\n",
       "      <td>15.524700</td>\n",
       "      <td>14.135800</td>\n",
       "      <td>86.222222</td>\n",
       "      <td>13.271594</td>\n",
       "      <td>303.888889</td>\n",
       "      <td>11.354833</td>\n",
       "      <td>28.395967</td>\n",
       "      <td>0.000000</td>\n",
       "      <td>16.09340</td>\n",
       "      <td>...</td>\n",
       "      <td>0.000000</td>\n",
       "      <td>103.716667</td>\n",
       "      <td>103.716667</td>\n",
       "      <td>1.281600e+06</td>\n",
       "      <td>583500.000000</td>\n",
       "      <td>0.000000</td>\n",
       "      <td>211286.100000</td>\n",
       "      <td>211408.000000</td>\n",
       "      <td>693400.000000</td>\n",
       "      <td>349100.000000</td>\n",
       "    </tr>\n",
       "  </tbody>\n",
       "</table>\n",
       "<p>24 rows × 23 columns</p>\n",
       "</div>"
      ],
      "text/plain": [
       "                datetime       temp  real_feel_temp    rel_hum  dew_point  \\\n",
       "5793 2024-11-03 01:00:00  18.209867       16.358033  76.888889  14.074067   \n",
       "5794 2024-11-03 02:00:00  17.716044       15.925922  77.666667  13.641967   \n",
       "5795 2024-11-03 03:00:00  17.469133       15.679022  77.888889  13.580233   \n",
       "5796 2024-11-03 04:00:00  17.098756       15.246933  79.333333  13.518500   \n",
       "5797 2024-11-03 05:00:00  17.160489       15.246911  78.777778  13.395056   \n",
       "5798 2024-11-03 06:00:00  17.037033       15.308656  78.888889  13.395056   \n",
       "5799 2024-11-03 07:00:00  16.913567       15.432111  80.222222  13.456778   \n",
       "5800 2024-11-03 08:00:00  18.086411       17.407400  75.000000  13.703689   \n",
       "5801 2024-11-03 09:00:00  19.320978       19.074067  70.888889  13.888867   \n",
       "5802 2024-11-03 10:00:00  20.555556       21.049378  66.888889  14.197500   \n",
       "5803 2024-11-03 11:00:00  21.419767       22.222211  62.444444  14.135767   \n",
       "5804 2024-11-03 12:00:00  22.037033       22.777767  59.444444  14.012322   \n",
       "5805 2024-11-03 13:00:00  22.839511       23.580233  56.888889  13.950600   \n",
       "5806 2024-11-03 14:00:00  22.530856       22.716033  58.333333  14.012333   \n",
       "5807 2024-11-03 15:00:00  21.851867       21.543222  60.333333  14.012333   \n",
       "5808 2024-11-03 16:00:00  21.358022       20.679022  62.444444  14.012333   \n",
       "5809 2024-11-03 17:00:00  20.679033       19.197533  65.555556  13.888878   \n",
       "5810 2024-11-03 18:00:00  19.567889       18.024689  70.222222  13.827144   \n",
       "5811 2024-11-03 19:00:00  18.209867       17.160489  75.111111  13.827144   \n",
       "5812 2024-11-03 20:00:00  17.716067       16.851844  77.111111  13.703678   \n",
       "5813 2024-11-03 21:00:00  17.345656       16.604922  78.111111  13.580233   \n",
       "5814 2024-11-03 22:00:00  16.604956       15.740744  81.444444  13.518511   \n",
       "5815 2024-11-03 23:00:00  15.864200       14.753089  84.888889  13.395056   \n",
       "5816 2024-11-04 00:00:00  15.524700       14.135800  86.222222  13.271594   \n",
       "\n",
       "        wind_dir   wind_spd  wind_gust_spd    uv_idx       vis  ...  \\\n",
       "5793   60.777778  17.327300      30.255644  0.000000  16.09340  ...   \n",
       "5794   55.222222  17.523989      29.433111  0.000000  16.09340  ...   \n",
       "5795   94.333333  17.112711      28.628433  0.000000  16.09340  ...   \n",
       "5796   22.000000  17.130600      27.805878  0.000000  16.09340  ...   \n",
       "5797   32.777778  16.486867      26.965444  0.000000  16.09340  ...   \n",
       "5798   40.666667  15.861011      25.964078  0.000000  16.09340  ...   \n",
       "5799   41.111111  15.235156      25.123656  0.000000  16.09340  ...   \n",
       "5800   37.777778  15.253033      24.515678  1.000000  16.09340  ...   \n",
       "5801   74.000000  15.449733      24.301089  1.888889  16.09340  ...   \n",
       "5802  109.888889  14.859633      23.496422  2.777778  16.09340  ...   \n",
       "5803  101.444444  14.859633      22.423533  3.444444  16.09340  ...   \n",
       "5804  162.666667  14.645056      22.244733  3.222222  15.37814  ...   \n",
       "5805  174.222222  15.074211      21.851344  3.777778  16.09340  ...   \n",
       "5806  182.444444  15.664311      22.655978  3.000000  16.09340  ...   \n",
       "5807  183.888889  15.700067      24.104411  2.000000  15.37814  ...   \n",
       "5808  184.111111  14.430478      23.067256  1.000000  16.09340  ...   \n",
       "5809  148.222222  13.214522      22.226811  0.000000  16.09340  ...   \n",
       "5810   73.222222  11.336956      22.441411  0.000000  16.09340  ...   \n",
       "5811   70.111111  10.728978      21.618844  0.000000  16.09340  ...   \n",
       "5812   57.222222  10.138878      21.207578  0.000000  16.09340  ...   \n",
       "5813  143.444444   9.924298      22.244722  0.000000  16.09340  ...   \n",
       "5814  284.222222  10.317698      24.515678  0.000000  16.09340  ...   \n",
       "5815  308.222222  10.943556      26.750844  0.000000  15.37814  ...   \n",
       "5816  303.888889  11.354833      28.395967  0.000000  16.09340  ...   \n",
       "\n",
       "      precip_1h  실시간 임시 가격(원/kWh)  실시간 확정 가격(원/kWh)      공급능력(kW)  \\\n",
       "5793   0.000000        108.924000        108.924000  1.139692e+06   \n",
       "5794   0.000000        103.236667        103.236667  1.155455e+06   \n",
       "5795   0.000000         98.398000         98.398000  1.162154e+06   \n",
       "5796   0.000000         95.116667         95.116667  1.188909e+06   \n",
       "5797   0.000000        102.490000        102.490000  1.219462e+06   \n",
       "5798   0.000000        104.500000        104.500000  1.213364e+06   \n",
       "5799   0.000000        116.480000        116.480000  1.223154e+06   \n",
       "5800   0.000000        137.910000        137.910000  1.237727e+06   \n",
       "5801   0.000000        150.890000        150.890000  1.262538e+06   \n",
       "5802   0.000000        148.923333        148.923333  1.280000e+06   \n",
       "5803   0.000000        141.514000        141.514000  1.278615e+06   \n",
       "5804   0.000000        128.916667        128.916667  1.268636e+06   \n",
       "5805   0.000000        115.314000        115.314000  1.260308e+06   \n",
       "5806   0.000000        113.953333        113.953333  1.270273e+06   \n",
       "5807   0.028222        113.732000        113.732000  1.272000e+06   \n",
       "5808   0.000000        119.056667        119.056667  1.281727e+06   \n",
       "5809   0.000000        131.206000        131.206000  1.268615e+06   \n",
       "5810   0.000000        131.260000        131.260000  1.302455e+06   \n",
       "5811   0.000000        121.588000        121.588000  1.325846e+06   \n",
       "5812   0.000000        105.860000        105.860000  1.294455e+06   \n",
       "5813   0.000000        103.420000        103.420000  1.275000e+06   \n",
       "5814   0.000000        103.420000        103.420000  1.294182e+06   \n",
       "5815   0.000000        103.420000        103.420000  1.292538e+06   \n",
       "5816   0.000000        103.716667        103.716667  1.281600e+06   \n",
       "\n",
       "          현재 수요(kW)   태양광 발전량kW)     풍력 발전량(kW)  신재생 발전량 총합(kW)  \\\n",
       "5793  528153.846154     0.000000   77352.069231    77597.192308   \n",
       "5794  511090.909091     0.000000   86352.463636    86597.045455   \n",
       "5795  504692.307692     0.000000   92392.100000    92636.153846   \n",
       "5796  491454.545455     0.000000  117552.909091   117796.636364   \n",
       "5797  506769.230769     0.000000  148452.769231   148696.307692   \n",
       "5798  524272.727273     0.000000  143401.181818   143643.363636   \n",
       "5799  565384.615385     0.000000  151426.230769   151670.153846   \n",
       "5800  622727.272727     0.000000  165409.000000   165729.000000   \n",
       "5801  664461.538462  1884.663846  188450.153846   190779.846154   \n",
       "5802  690545.454545  3222.000909  204576.636364   208088.909091   \n",
       "5803  696307.692308  5440.853077  200946.923077   206677.846154   \n",
       "5804  700727.272727  3809.337273  191933.454545   196032.818182   \n",
       "5805  711692.307692  3216.756154  185112.307692   188531.153846   \n",
       "5806  713909.090909  4464.423636  193692.909091   198330.272727   \n",
       "5807  698615.384615  5389.608462  194680.461538   200145.076923   \n",
       "5808  694636.363636  1842.583636  207820.272727   209796.636364   \n",
       "5809  707153.846154     0.000000  198144.076923   198321.230769   \n",
       "5810  716363.636364     0.000000  233242.545455   233358.545455   \n",
       "5811  702076.923077     0.000000  256310.692308   256455.153846   \n",
       "5812  702909.090909     0.000000  224797.545455   224923.545455   \n",
       "5813  671000.000000     0.000000  204638.076923   204759.846154   \n",
       "5814  636818.181818     0.000000  224458.272727   224580.181818   \n",
       "5815  615692.307692     0.000000  221744.076923   221866.000000   \n",
       "5816  583500.000000     0.000000  211286.100000   211408.000000   \n",
       "\n",
       "         공급 예비력(kW)     운영 예비력(kW)  \n",
       "5793  581615.384615  364769.230769  \n",
       "5794  625363.636364  398727.272727  \n",
       "5795  647846.153846  373923.076923  \n",
       "5796  687363.636364  408000.000000  \n",
       "5797  710384.615385  424076.923077  \n",
       "5798  684363.636364  402363.636364  \n",
       "5799  653000.000000  369000.000000  \n",
       "5800  610181.818182  378909.090909  \n",
       "5801  593153.846154  362153.846154  \n",
       "5802  584909.090909  353909.090909  \n",
       "5803  577461.538462  346230.769231  \n",
       "5804  563000.000000  331909.090909  \n",
       "5805  543692.307692  312846.153846  \n",
       "5806  551272.727273  320727.272727  \n",
       "5807  568615.384615  337000.000000  \n",
       "5808  582454.545455  351636.363636  \n",
       "5809  556615.384615  327230.769231  \n",
       "5810  581272.727273  353272.727273  \n",
       "5811  619000.000000  360000.000000  \n",
       "5812  586909.090909  305636.363636  \n",
       "5813  599384.615385  316538.461538  \n",
       "5814  652636.363636  369272.727273  \n",
       "5815  672153.846154  388615.384615  \n",
       "5816  693400.000000  349100.000000  \n",
       "\n",
       "[24 rows x 23 columns]"
      ]
     },
     "execution_count": 81,
     "metadata": {},
     "output_type": "execute_result"
    }
   ],
   "source": [
    "input_data"
   ]
  },
  {
   "cell_type": "code",
   "execution_count": 82,
   "metadata": {},
   "outputs": [],
   "source": [
    "predict_set = ElecDataset(input_data, Y.iloc[:24])\n",
    "\n",
    "predict_dataloader = DataLoader(dataset=predict_set,\n",
    "                        batch_size=24,\n",
    "                        shuffle=False)"
   ]
  },
  {
   "cell_type": "code",
   "execution_count": 83,
   "metadata": {},
   "outputs": [
    {
     "name": "stdout",
     "output_type": "stream",
     "text": [
      "tensor([[48.7142, 48.2337, 47.5432, 47.7575, 47.5027, 47.3328, 48.3726, 48.2220,\n",
      "         48.1071, 45.0360, 45.6416, 43.4074, 40.8239, 43.9289, 47.5790, 47.7856,\n",
      "         48.5081, 49.7744, 49.2720, 49.2340, 50.0775, 48.6925, 49.2027, 49.6834]],\n",
      "       dtype=torch.float64)\n"
     ]
    }
   ],
   "source": [
    "model.eval()\n",
    "\n",
    "with torch.no_grad():\n",
    "  for inputs, _ in predict_dataloader:\n",
    "    inputs = inputs.to(device)\n",
    "    predictions = model(inputs)\n",
    "\n",
    "print(predictions)"
   ]
  },
  {
   "cell_type": "code",
   "execution_count": 84,
   "metadata": {},
   "outputs": [
    {
     "name": "stdout",
     "output_type": "stream",
     "text": [
      "[48.714176003974316, 48.233742044248224, 47.54320473633189, 47.757511007312125, 47.502720826538855, 47.33279925854602, 48.372649143800245, 48.22195903638777, 48.10705748305932, 45.03603550909237, 45.641571545063826, 43.40740390173368, 40.82389589129669, 43.9289213242192, 47.579023046146084, 47.78561236924339, 48.50814073977988, 49.774415442958734, 49.272024318528864, 49.23395707796867, 50.077511111603314, 48.692549419244294, 49.202661281333945, 49.68335019061392]\n"
     ]
    }
   ],
   "source": [
    "flattened_list = predictions.view(-1).tolist()\n",
    "\n",
    "print(flattened_list)"
   ]
  }
 ],
 "metadata": {
  "kernelspec": {
   "display_name": ".venv",
   "language": "python",
   "name": "python3"
  },
  "language_info": {
   "codemirror_mode": {
    "name": "ipython",
    "version": 3
   },
   "file_extension": ".py",
   "mimetype": "text/x-python",
   "name": "python",
   "nbconvert_exporter": "python",
   "pygments_lexer": "ipython3",
   "version": "3.9.13"
  }
 },
 "nbformat": 4,
 "nbformat_minor": 2
}

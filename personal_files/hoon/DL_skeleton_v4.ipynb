{
 "cells": [
  {
   "cell_type": "markdown",
   "metadata": {},
   "source": [
    "# 2024 OIBC Challenge\n",
    "## (Deep Learning version skeleton 03)"
   ]
  },
  {
   "cell_type": "code",
   "execution_count": 1,
   "metadata": {},
   "outputs": [],
   "source": [
    "import matplotlib.pyplot as plt\n",
    "import pandas as pd\n",
    "from functools import reduce\n",
    "import os\n",
    "from datetime import datetime, timedelta\n",
    "from tqdm import tqdm"
   ]
  },
  {
   "cell_type": "markdown",
   "metadata": {},
   "source": [
    "### 데이터 전처리"
   ]
  },
  {
   "cell_type": "code",
   "execution_count": 2,
   "metadata": {},
   "outputs": [
    {
     "name": "stdout",
     "output_type": "stream",
     "text": [
      "f:\\For me\\Project\\24-OIBC-WolgoksTears\\personal_files\\hoon\n"
     ]
    }
   ],
   "source": [
    "print(os.getcwd())  # 현재 작업 경로 출력"
   ]
  },
  {
   "cell_type": "markdown",
   "metadata": {},
   "source": [
    "actual_weather_1"
   ]
  },
  {
   "cell_type": "code",
   "execution_count": 3,
   "metadata": {},
   "outputs": [
    {
     "data": {
      "text/html": [
       "<div>\n",
       "<style scoped>\n",
       "    .dataframe tbody tr th:only-of-type {\n",
       "        vertical-align: middle;\n",
       "    }\n",
       "\n",
       "    .dataframe tbody tr th {\n",
       "        vertical-align: top;\n",
       "    }\n",
       "\n",
       "    .dataframe thead th {\n",
       "        text-align: right;\n",
       "    }\n",
       "</style>\n",
       "<table border=\"1\" class=\"dataframe\">\n",
       "  <thead>\n",
       "    <tr style=\"text-align: right;\">\n",
       "      <th></th>\n",
       "      <th>datetime</th>\n",
       "      <th>temp</th>\n",
       "      <th>real_feel_temp</th>\n",
       "      <th>rel_hum</th>\n",
       "      <th>dew_point</th>\n",
       "      <th>wind_dir</th>\n",
       "      <th>wind_spd</th>\n",
       "      <th>wind_gust_spd</th>\n",
       "      <th>uv_idx</th>\n",
       "      <th>vis</th>\n",
       "      <th>cld_cvr</th>\n",
       "      <th>ceiling</th>\n",
       "      <th>wet_bulb_temp</th>\n",
       "      <th>precip_1h</th>\n",
       "    </tr>\n",
       "  </thead>\n",
       "  <tbody>\n",
       "    <tr>\n",
       "      <th>0</th>\n",
       "      <td>2024-03-01 00:00:00</td>\n",
       "      <td>8.500000</td>\n",
       "      <td>8.000000</td>\n",
       "      <td>81.000000</td>\n",
       "      <td>5.500000</td>\n",
       "      <td>270.000000</td>\n",
       "      <td>6.100000</td>\n",
       "      <td>17.600000</td>\n",
       "      <td>0.0</td>\n",
       "      <td>20.900000</td>\n",
       "      <td>91.000000</td>\n",
       "      <td>579.000000</td>\n",
       "      <td>7.100000</td>\n",
       "      <td>0.100000</td>\n",
       "    </tr>\n",
       "    <tr>\n",
       "      <th>1</th>\n",
       "      <td>2024-03-01 01:00:00</td>\n",
       "      <td>7.158333</td>\n",
       "      <td>3.041667</td>\n",
       "      <td>72.666667</td>\n",
       "      <td>2.508333</td>\n",
       "      <td>234.666667</td>\n",
       "      <td>20.483333</td>\n",
       "      <td>26.366667</td>\n",
       "      <td>0.0</td>\n",
       "      <td>20.783333</td>\n",
       "      <td>97.750000</td>\n",
       "      <td>693.416667</td>\n",
       "      <td>5.091667</td>\n",
       "      <td>0.008333</td>\n",
       "    </tr>\n",
       "    <tr>\n",
       "      <th>2</th>\n",
       "      <td>2024-03-01 02:00:00</td>\n",
       "      <td>6.477778</td>\n",
       "      <td>2.111111</td>\n",
       "      <td>75.666667</td>\n",
       "      <td>2.433333</td>\n",
       "      <td>262.888889</td>\n",
       "      <td>21.944444</td>\n",
       "      <td>27.433333</td>\n",
       "      <td>0.0</td>\n",
       "      <td>20.033333</td>\n",
       "      <td>86.333333</td>\n",
       "      <td>616.222222</td>\n",
       "      <td>4.733333</td>\n",
       "      <td>0.011111</td>\n",
       "    </tr>\n",
       "    <tr>\n",
       "      <th>3</th>\n",
       "      <td>2024-03-01 03:00:00</td>\n",
       "      <td>6.045455</td>\n",
       "      <td>0.900000</td>\n",
       "      <td>74.545455</td>\n",
       "      <td>1.663636</td>\n",
       "      <td>213.000000</td>\n",
       "      <td>22.490909</td>\n",
       "      <td>27.645455</td>\n",
       "      <td>0.0</td>\n",
       "      <td>19.900000</td>\n",
       "      <td>62.818182</td>\n",
       "      <td>8692.363636</td>\n",
       "      <td>4.209091</td>\n",
       "      <td>0.136364</td>\n",
       "    </tr>\n",
       "    <tr>\n",
       "      <th>4</th>\n",
       "      <td>2024-03-01 04:00:00</td>\n",
       "      <td>5.430000</td>\n",
       "      <td>-0.090000</td>\n",
       "      <td>68.100000</td>\n",
       "      <td>-0.030000</td>\n",
       "      <td>256.800000</td>\n",
       "      <td>26.140000</td>\n",
       "      <td>42.440000</td>\n",
       "      <td>0.0</td>\n",
       "      <td>23.800000</td>\n",
       "      <td>38.100000</td>\n",
       "      <td>10911.800000</td>\n",
       "      <td>3.180000</td>\n",
       "      <td>0.410000</td>\n",
       "    </tr>\n",
       "  </tbody>\n",
       "</table>\n",
       "</div>"
      ],
      "text/plain": [
       "             datetime      temp  real_feel_temp    rel_hum  dew_point  \\\n",
       "0 2024-03-01 00:00:00  8.500000        8.000000  81.000000   5.500000   \n",
       "1 2024-03-01 01:00:00  7.158333        3.041667  72.666667   2.508333   \n",
       "2 2024-03-01 02:00:00  6.477778        2.111111  75.666667   2.433333   \n",
       "3 2024-03-01 03:00:00  6.045455        0.900000  74.545455   1.663636   \n",
       "4 2024-03-01 04:00:00  5.430000       -0.090000  68.100000  -0.030000   \n",
       "\n",
       "     wind_dir   wind_spd  wind_gust_spd  uv_idx        vis    cld_cvr  \\\n",
       "0  270.000000   6.100000      17.600000     0.0  20.900000  91.000000   \n",
       "1  234.666667  20.483333      26.366667     0.0  20.783333  97.750000   \n",
       "2  262.888889  21.944444      27.433333     0.0  20.033333  86.333333   \n",
       "3  213.000000  22.490909      27.645455     0.0  19.900000  62.818182   \n",
       "4  256.800000  26.140000      42.440000     0.0  23.800000  38.100000   \n",
       "\n",
       "        ceiling  wet_bulb_temp  precip_1h  \n",
       "0    579.000000       7.100000   0.100000  \n",
       "1    693.416667       5.091667   0.008333  \n",
       "2    616.222222       4.733333   0.011111  \n",
       "3   8692.363636       4.209091   0.136364  \n",
       "4  10911.800000       3.180000   0.410000  "
      ]
     },
     "execution_count": 3,
     "metadata": {},
     "output_type": "execute_result"
    }
   ],
   "source": [
    "# 데이터 불러오기\n",
    "actual_weather_1 = pd.read_csv(\"../../data_files/actual_weather_1.csv\")\n",
    "\n",
    "# 'ts'를 datetime 형식으로 변환 후 1시간 단위로 맞추기\n",
    "actual_weather_1['datetime'] = pd.to_datetime(actual_weather_1['ts'], unit='s')\n",
    "actual_weather_1['datetime'] = actual_weather_1['datetime'].dt.round('h') + timedelta(hours=9)\n",
    "\n",
    "# 원래 'ts' 열과 'location' 제거\n",
    "actual_weather_1.drop(columns=['ts'], inplace=True)\n",
    "actual_weather_1.drop(columns=['location'], inplace=True)\n",
    "\n",
    "# 1시간 단위로 그룹화하여 평균을 계산 (location을 제외한 모든 열)\n",
    "actual_weather_1 = actual_weather_1.groupby(['datetime'], as_index=False).mean()\n",
    "\n",
    "\n",
    "# weather_forecast에 없는 columns 제거\n",
    "actual_weather_1.drop(columns=['real_feel_temp_shade'], inplace=True)\n",
    "actual_weather_1.drop(columns=['pressure'], inplace=True)\n",
    "actual_weather_1.drop(columns=['appr_temp'], inplace=True)\n",
    "actual_weather_1.drop(columns=['wind_chill_temp'], inplace=True)\n",
    " \n",
    "# 결과 확인\n",
    "actual_weather_1.head()"
   ]
  },
  {
   "cell_type": "markdown",
   "metadata": {},
   "source": [
    "weather_forecast_1"
   ]
  },
  {
   "cell_type": "code",
   "execution_count": 4,
   "metadata": {},
   "outputs": [
    {
     "data": {
      "text/html": [
       "<div>\n",
       "<style scoped>\n",
       "    .dataframe tbody tr th:only-of-type {\n",
       "        vertical-align: middle;\n",
       "    }\n",
       "\n",
       "    .dataframe tbody tr th {\n",
       "        vertical-align: top;\n",
       "    }\n",
       "\n",
       "    .dataframe thead th {\n",
       "        text-align: right;\n",
       "    }\n",
       "</style>\n",
       "<table border=\"1\" class=\"dataframe\">\n",
       "  <thead>\n",
       "    <tr style=\"text-align: right;\">\n",
       "      <th></th>\n",
       "      <th>datetime</th>\n",
       "      <th>temp</th>\n",
       "      <th>real_feel_temp</th>\n",
       "      <th>rel_hum</th>\n",
       "      <th>dew_point</th>\n",
       "      <th>wind_dir</th>\n",
       "      <th>wind_spd</th>\n",
       "      <th>wind_gust_spd</th>\n",
       "      <th>uv_idx</th>\n",
       "      <th>vis</th>\n",
       "      <th>cld_cvr</th>\n",
       "      <th>ceiling</th>\n",
       "      <th>wet_bulb_temp</th>\n",
       "      <th>precip_1h</th>\n",
       "    </tr>\n",
       "  </thead>\n",
       "  <tbody>\n",
       "    <tr>\n",
       "      <th>0</th>\n",
       "      <td>2024-03-02 00:00:00</td>\n",
       "      <td>1.728394</td>\n",
       "      <td>-4.320987</td>\n",
       "      <td>64.333333</td>\n",
       "      <td>-4.320987</td>\n",
       "      <td>335.555556</td>\n",
       "      <td>22.048022</td>\n",
       "      <td>50.604944</td>\n",
       "      <td>0.0</td>\n",
       "      <td>16.093400</td>\n",
       "      <td>75.555556</td>\n",
       "      <td>1700.106667</td>\n",
       "      <td>-0.555556</td>\n",
       "      <td>0.000000</td>\n",
       "    </tr>\n",
       "    <tr>\n",
       "      <th>1</th>\n",
       "      <td>2024-03-02 01:00:00</td>\n",
       "      <td>1.851852</td>\n",
       "      <td>-4.506173</td>\n",
       "      <td>64.333333</td>\n",
       "      <td>-4.135800</td>\n",
       "      <td>335.000000</td>\n",
       "      <td>22.048022</td>\n",
       "      <td>50.640711</td>\n",
       "      <td>0.0</td>\n",
       "      <td>15.378140</td>\n",
       "      <td>84.777778</td>\n",
       "      <td>1249.680000</td>\n",
       "      <td>-0.432099</td>\n",
       "      <td>0.056444</td>\n",
       "    </tr>\n",
       "    <tr>\n",
       "      <th>2</th>\n",
       "      <td>2024-03-02 02:00:00</td>\n",
       "      <td>1.790123</td>\n",
       "      <td>-5.061728</td>\n",
       "      <td>66.333333</td>\n",
       "      <td>-3.950616</td>\n",
       "      <td>334.444444</td>\n",
       "      <td>22.656000</td>\n",
       "      <td>51.481144</td>\n",
       "      <td>0.0</td>\n",
       "      <td>14.392882</td>\n",
       "      <td>89.333333</td>\n",
       "      <td>1229.360000</td>\n",
       "      <td>-0.370370</td>\n",
       "      <td>0.197556</td>\n",
       "    </tr>\n",
       "    <tr>\n",
       "      <th>3</th>\n",
       "      <td>2024-03-02 03:00:00</td>\n",
       "      <td>1.604940</td>\n",
       "      <td>-5.308640</td>\n",
       "      <td>67.333333</td>\n",
       "      <td>-3.888887</td>\n",
       "      <td>333.777778</td>\n",
       "      <td>23.263967</td>\n",
       "      <td>51.463267</td>\n",
       "      <td>0.0</td>\n",
       "      <td>15.195758</td>\n",
       "      <td>94.555556</td>\n",
       "      <td>1933.786667</td>\n",
       "      <td>-0.370370</td>\n",
       "      <td>0.084667</td>\n",
       "    </tr>\n",
       "    <tr>\n",
       "      <th>4</th>\n",
       "      <td>2024-03-02 04:00:00</td>\n",
       "      <td>1.851852</td>\n",
       "      <td>-4.876541</td>\n",
       "      <td>66.444444</td>\n",
       "      <td>-3.950616</td>\n",
       "      <td>333.888889</td>\n",
       "      <td>23.871922</td>\n",
       "      <td>50.837400</td>\n",
       "      <td>0.0</td>\n",
       "      <td>15.825200</td>\n",
       "      <td>82.555556</td>\n",
       "      <td>2600.960000</td>\n",
       "      <td>-0.308642</td>\n",
       "      <td>0.000000</td>\n",
       "    </tr>\n",
       "  </tbody>\n",
       "</table>\n",
       "</div>"
      ],
      "text/plain": [
       "             datetime      temp  real_feel_temp    rel_hum  dew_point  \\\n",
       "0 2024-03-02 00:00:00  1.728394       -4.320987  64.333333  -4.320987   \n",
       "1 2024-03-02 01:00:00  1.851852       -4.506173  64.333333  -4.135800   \n",
       "2 2024-03-02 02:00:00  1.790123       -5.061728  66.333333  -3.950616   \n",
       "3 2024-03-02 03:00:00  1.604940       -5.308640  67.333333  -3.888887   \n",
       "4 2024-03-02 04:00:00  1.851852       -4.876541  66.444444  -3.950616   \n",
       "\n",
       "     wind_dir   wind_spd  wind_gust_spd  uv_idx        vis    cld_cvr  \\\n",
       "0  335.555556  22.048022      50.604944     0.0  16.093400  75.555556   \n",
       "1  335.000000  22.048022      50.640711     0.0  15.378140  84.777778   \n",
       "2  334.444444  22.656000      51.481144     0.0  14.392882  89.333333   \n",
       "3  333.777778  23.263967      51.463267     0.0  15.195758  94.555556   \n",
       "4  333.888889  23.871922      50.837400     0.0  15.825200  82.555556   \n",
       "\n",
       "       ceiling  wet_bulb_temp  precip_1h  \n",
       "0  1700.106667      -0.555556   0.000000  \n",
       "1  1249.680000      -0.432099   0.056444  \n",
       "2  1229.360000      -0.370370   0.197556  \n",
       "3  1933.786667      -0.370370   0.084667  \n",
       "4  2600.960000      -0.308642   0.000000  "
      ]
     },
     "execution_count": 4,
     "metadata": {},
     "output_type": "execute_result"
    }
   ],
   "source": [
    "# 데이터 불러오기\n",
    "weather_forecast_1 = pd.read_csv(\"../../data_files/weather_forecast_1.csv\")\n",
    "\n",
    "# 'ts'를 datetime 형식으로 변환 후 1시간 단위로 맞추기\n",
    "weather_forecast_1['datetime'] = pd.to_datetime(weather_forecast_1['ts'], unit='s')\n",
    "weather_forecast_1['datetime'] = weather_forecast_1['datetime'].dt.round('h') + timedelta(hours=9)\n",
    "\n",
    "# 원래 'ts' 열 제거, 'base_ts' 열 제거, 'location' 제거\n",
    "weather_forecast_1.drop(columns=['ts'], inplace=True)\n",
    "weather_forecast_1.drop(columns=['base_ts'], inplace=True)\n",
    "weather_forecast_1.drop(columns=['location'], inplace=True)\n",
    "\n",
    "# 1시간 단위로 그룹화하여 평균을 계산 (location을 제외한 모든 열)\n",
    "weather_forecast_1 = weather_forecast_1.groupby(['datetime'], as_index=False).mean()\n",
    "\n",
    "\n",
    "# 예보 데이터의 columns 순서를 actual_weather columns 순서와 맞추기\n",
    "weather_forecast_1 = weather_forecast_1[['datetime', 'temp', 'real_feel_temp', 'rel_hum',\n",
    "       'dew_point', 'wind_dir', 'wind_spd', 'wind_gust_spd', 'uv_idx', 'vis',\n",
    "       'cld_cvr', 'ceiling', 'wet_bulb_temp', 'total_liq']]\n",
    "weather_forecast_1['precip_1h'] = weather_forecast_1['total_liq']\n",
    "weather_forecast_1.drop(columns=['total_liq'], inplace=True)  \n",
    "\n",
    "# 결과 확인\n",
    "weather_forecast_1.head()"
   ]
  },
  {
   "cell_type": "markdown",
   "metadata": {},
   "source": [
    "actual_weather_2"
   ]
  },
  {
   "cell_type": "code",
   "execution_count": 5,
   "metadata": {},
   "outputs": [
    {
     "data": {
      "text/html": [
       "<div>\n",
       "<style scoped>\n",
       "    .dataframe tbody tr th:only-of-type {\n",
       "        vertical-align: middle;\n",
       "    }\n",
       "\n",
       "    .dataframe tbody tr th {\n",
       "        vertical-align: top;\n",
       "    }\n",
       "\n",
       "    .dataframe thead th {\n",
       "        text-align: right;\n",
       "    }\n",
       "</style>\n",
       "<table border=\"1\" class=\"dataframe\">\n",
       "  <thead>\n",
       "    <tr style=\"text-align: right;\">\n",
       "      <th></th>\n",
       "      <th>datetime</th>\n",
       "      <th>cloud</th>\n",
       "      <th>temp</th>\n",
       "      <th>temp_max</th>\n",
       "      <th>temp_min</th>\n",
       "      <th>humidity</th>\n",
       "      <th>ground_press</th>\n",
       "      <th>wind_speed</th>\n",
       "      <th>wind_dir</th>\n",
       "      <th>rain</th>\n",
       "      <th>snow</th>\n",
       "    </tr>\n",
       "  </thead>\n",
       "  <tbody>\n",
       "    <tr>\n",
       "      <th>0</th>\n",
       "      <td>2024-03-01 00:00:00</td>\n",
       "      <td>89.333333</td>\n",
       "      <td>6.146667</td>\n",
       "      <td>6.146667</td>\n",
       "      <td>6.146667</td>\n",
       "      <td>74.666667</td>\n",
       "      <td>1022.666667</td>\n",
       "      <td>8.553333</td>\n",
       "      <td>345.333333</td>\n",
       "      <td>0.17</td>\n",
       "      <td>0.0</td>\n",
       "    </tr>\n",
       "    <tr>\n",
       "      <th>1</th>\n",
       "      <td>2024-03-01 01:00:00</td>\n",
       "      <td>83.500000</td>\n",
       "      <td>6.255000</td>\n",
       "      <td>6.255000</td>\n",
       "      <td>6.255000</td>\n",
       "      <td>70.500000</td>\n",
       "      <td>1022.500000</td>\n",
       "      <td>6.256667</td>\n",
       "      <td>342.000000</td>\n",
       "      <td>0.00</td>\n",
       "      <td>0.0</td>\n",
       "    </tr>\n",
       "    <tr>\n",
       "      <th>2</th>\n",
       "      <td>2024-03-01 02:00:00</td>\n",
       "      <td>84.333333</td>\n",
       "      <td>5.926667</td>\n",
       "      <td>5.926667</td>\n",
       "      <td>5.926667</td>\n",
       "      <td>67.833333</td>\n",
       "      <td>1022.833333</td>\n",
       "      <td>7.291667</td>\n",
       "      <td>343.000000</td>\n",
       "      <td>0.21</td>\n",
       "      <td>0.0</td>\n",
       "    </tr>\n",
       "    <tr>\n",
       "      <th>3</th>\n",
       "      <td>2024-03-01 03:00:00</td>\n",
       "      <td>83.666667</td>\n",
       "      <td>5.198333</td>\n",
       "      <td>5.198333</td>\n",
       "      <td>5.198333</td>\n",
       "      <td>63.833333</td>\n",
       "      <td>1023.500000</td>\n",
       "      <td>7.520000</td>\n",
       "      <td>342.333333</td>\n",
       "      <td>0.00</td>\n",
       "      <td>0.0</td>\n",
       "    </tr>\n",
       "    <tr>\n",
       "      <th>4</th>\n",
       "      <td>2024-03-01 04:00:00</td>\n",
       "      <td>42.166667</td>\n",
       "      <td>4.433333</td>\n",
       "      <td>4.433333</td>\n",
       "      <td>4.433333</td>\n",
       "      <td>64.833333</td>\n",
       "      <td>1023.833333</td>\n",
       "      <td>7.330000</td>\n",
       "      <td>342.000000</td>\n",
       "      <td>0.00</td>\n",
       "      <td>0.0</td>\n",
       "    </tr>\n",
       "  </tbody>\n",
       "</table>\n",
       "</div>"
      ],
      "text/plain": [
       "             datetime      cloud      temp  temp_max  temp_min   humidity  \\\n",
       "0 2024-03-01 00:00:00  89.333333  6.146667  6.146667  6.146667  74.666667   \n",
       "1 2024-03-01 01:00:00  83.500000  6.255000  6.255000  6.255000  70.500000   \n",
       "2 2024-03-01 02:00:00  84.333333  5.926667  5.926667  5.926667  67.833333   \n",
       "3 2024-03-01 03:00:00  83.666667  5.198333  5.198333  5.198333  63.833333   \n",
       "4 2024-03-01 04:00:00  42.166667  4.433333  4.433333  4.433333  64.833333   \n",
       "\n",
       "   ground_press  wind_speed    wind_dir  rain  snow  \n",
       "0   1022.666667    8.553333  345.333333  0.17   0.0  \n",
       "1   1022.500000    6.256667  342.000000  0.00   0.0  \n",
       "2   1022.833333    7.291667  343.000000  0.21   0.0  \n",
       "3   1023.500000    7.520000  342.333333  0.00   0.0  \n",
       "4   1023.833333    7.330000  342.000000  0.00   0.0  "
      ]
     },
     "execution_count": 5,
     "metadata": {},
     "output_type": "execute_result"
    }
   ],
   "source": [
    "# 데이터 불러오기\n",
    "actual_weather_2 = pd.read_csv(\"../../data_files/actual_weather_2.csv\")\n",
    "\n",
    "# 'ts'를 datetime 형식으로 변환 후 1시간 단위로 맞추기\n",
    "actual_weather_2['datetime'] = pd.to_datetime(actual_weather_2['ts'], unit='s')\n",
    "actual_weather_2['datetime'] = actual_weather_2['datetime'].dt.round('h') + timedelta(hours=9)\n",
    "\n",
    "# 원래 'ts' 열과 'location' 제거\n",
    "actual_weather_2.drop(columns=['ts'], inplace=True)\n",
    "actual_weather_2.drop(columns=['location'], inplace=True)\n",
    "\n",
    "# 1시간 단위로 그룹화하여 평균을 계산 (location을 제외한 모든 열)\n",
    "actual_weather_2 = actual_weather_2.groupby(['datetime'], as_index=False).mean()\n",
    " \n",
    "# 결과 확인\n",
    "actual_weather_2.head()"
   ]
  },
  {
   "cell_type": "markdown",
   "metadata": {},
   "source": [
    "weather_forecast_2"
   ]
  },
  {
   "cell_type": "code",
   "execution_count": 6,
   "metadata": {},
   "outputs": [
    {
     "data": {
      "text/html": [
       "<div>\n",
       "<style scoped>\n",
       "    .dataframe tbody tr th:only-of-type {\n",
       "        vertical-align: middle;\n",
       "    }\n",
       "\n",
       "    .dataframe tbody tr th {\n",
       "        vertical-align: top;\n",
       "    }\n",
       "\n",
       "    .dataframe thead th {\n",
       "        text-align: right;\n",
       "    }\n",
       "</style>\n",
       "<table border=\"1\" class=\"dataframe\">\n",
       "  <thead>\n",
       "    <tr style=\"text-align: right;\">\n",
       "      <th></th>\n",
       "      <th>datetime</th>\n",
       "      <th>cloud</th>\n",
       "      <th>temp</th>\n",
       "      <th>temp_max</th>\n",
       "      <th>temp_min</th>\n",
       "      <th>humidity</th>\n",
       "      <th>ground_press</th>\n",
       "      <th>wind_speed</th>\n",
       "      <th>wind_dir</th>\n",
       "      <th>rain</th>\n",
       "      <th>snow</th>\n",
       "    </tr>\n",
       "  </thead>\n",
       "  <tbody>\n",
       "    <tr>\n",
       "      <th>0</th>\n",
       "      <td>2024-03-02 00:00:00</td>\n",
       "      <td>100.000000</td>\n",
       "      <td>1.213333</td>\n",
       "      <td>1.213333</td>\n",
       "      <td>1.213333</td>\n",
       "      <td>60.333333</td>\n",
       "      <td>1027.000000</td>\n",
       "      <td>8.306667</td>\n",
       "      <td>332.333333</td>\n",
       "      <td>0.0</td>\n",
       "      <td>0.0</td>\n",
       "    </tr>\n",
       "    <tr>\n",
       "      <th>1</th>\n",
       "      <td>2024-03-02 01:00:00</td>\n",
       "      <td>100.000000</td>\n",
       "      <td>1.280000</td>\n",
       "      <td>1.280000</td>\n",
       "      <td>1.280000</td>\n",
       "      <td>61.000000</td>\n",
       "      <td>1027.000000</td>\n",
       "      <td>8.043333</td>\n",
       "      <td>333.666667</td>\n",
       "      <td>0.0</td>\n",
       "      <td>0.0</td>\n",
       "    </tr>\n",
       "    <tr>\n",
       "      <th>2</th>\n",
       "      <td>2024-03-02 02:00:00</td>\n",
       "      <td>100.000000</td>\n",
       "      <td>1.323333</td>\n",
       "      <td>1.323333</td>\n",
       "      <td>1.323333</td>\n",
       "      <td>60.666667</td>\n",
       "      <td>1026.666667</td>\n",
       "      <td>7.626667</td>\n",
       "      <td>333.000000</td>\n",
       "      <td>0.0</td>\n",
       "      <td>0.0</td>\n",
       "    </tr>\n",
       "    <tr>\n",
       "      <th>3</th>\n",
       "      <td>2024-03-02 03:00:00</td>\n",
       "      <td>100.000000</td>\n",
       "      <td>1.323333</td>\n",
       "      <td>1.323333</td>\n",
       "      <td>1.323333</td>\n",
       "      <td>60.666667</td>\n",
       "      <td>1026.000000</td>\n",
       "      <td>7.310000</td>\n",
       "      <td>332.666667</td>\n",
       "      <td>0.0</td>\n",
       "      <td>0.0</td>\n",
       "    </tr>\n",
       "    <tr>\n",
       "      <th>4</th>\n",
       "      <td>2024-03-02 04:00:00</td>\n",
       "      <td>96.333333</td>\n",
       "      <td>1.356667</td>\n",
       "      <td>1.356667</td>\n",
       "      <td>1.356667</td>\n",
       "      <td>60.666667</td>\n",
       "      <td>1026.000000</td>\n",
       "      <td>7.076667</td>\n",
       "      <td>331.666667</td>\n",
       "      <td>0.0</td>\n",
       "      <td>0.0</td>\n",
       "    </tr>\n",
       "  </tbody>\n",
       "</table>\n",
       "</div>"
      ],
      "text/plain": [
       "             datetime       cloud      temp  temp_max  temp_min   humidity  \\\n",
       "0 2024-03-02 00:00:00  100.000000  1.213333  1.213333  1.213333  60.333333   \n",
       "1 2024-03-02 01:00:00  100.000000  1.280000  1.280000  1.280000  61.000000   \n",
       "2 2024-03-02 02:00:00  100.000000  1.323333  1.323333  1.323333  60.666667   \n",
       "3 2024-03-02 03:00:00  100.000000  1.323333  1.323333  1.323333  60.666667   \n",
       "4 2024-03-02 04:00:00   96.333333  1.356667  1.356667  1.356667  60.666667   \n",
       "\n",
       "   ground_press  wind_speed    wind_dir  rain  snow  \n",
       "0   1027.000000    8.306667  332.333333   0.0   0.0  \n",
       "1   1027.000000    8.043333  333.666667   0.0   0.0  \n",
       "2   1026.666667    7.626667  333.000000   0.0   0.0  \n",
       "3   1026.000000    7.310000  332.666667   0.0   0.0  \n",
       "4   1026.000000    7.076667  331.666667   0.0   0.0  "
      ]
     },
     "execution_count": 6,
     "metadata": {},
     "output_type": "execute_result"
    }
   ],
   "source": [
    "# 데이터 불러오기\n",
    "weather_forecast_2 = pd.read_csv(\"../../data_files/weather_forecast_2.csv\")\n",
    "\n",
    "# 'ts'를 datetime 형식으로 변환 후 1시간 단위로 맞추기\n",
    "weather_forecast_2['datetime'] = pd.to_datetime(weather_forecast_2['ts'], unit='s')\n",
    "weather_forecast_2['datetime'] = weather_forecast_2['datetime'].dt.round('h') + timedelta(hours=9)\n",
    "\n",
    "# 원래 'ts' 열과 'location' 제거, 'base_ts' 제거\n",
    "weather_forecast_2.drop(columns=['ts'], inplace=True)\n",
    "weather_forecast_2.drop(columns=['location'], inplace=True)\n",
    "weather_forecast_2.drop(columns=['base_ts'], inplace=True)\n",
    "\n",
    "# 1시간 단위로 그룹화하여 평균을 계산 (location을 제외한 모든 열)\n",
    "weather_forecast_2 = weather_forecast_2.groupby(['datetime'], as_index=False).mean()\n",
    " \n",
    "# 결과 확인\n",
    "weather_forecast_2.head()"
   ]
  },
  {
   "cell_type": "markdown",
   "metadata": {},
   "source": [
    "elec_supply"
   ]
  },
  {
   "cell_type": "code",
   "execution_count": 7,
   "metadata": {},
   "outputs": [
    {
     "data": {
      "text/html": [
       "<div>\n",
       "<style scoped>\n",
       "    .dataframe tbody tr th:only-of-type {\n",
       "        vertical-align: middle;\n",
       "    }\n",
       "\n",
       "    .dataframe tbody tr th {\n",
       "        vertical-align: top;\n",
       "    }\n",
       "\n",
       "    .dataframe thead th {\n",
       "        text-align: right;\n",
       "    }\n",
       "</style>\n",
       "<table border=\"1\" class=\"dataframe\">\n",
       "  <thead>\n",
       "    <tr style=\"text-align: right;\">\n",
       "      <th></th>\n",
       "      <th>datetime</th>\n",
       "      <th>공급능력(kW)</th>\n",
       "      <th>현재 수요(kW)</th>\n",
       "      <th>태양광 발전량kW)</th>\n",
       "      <th>풍력 발전량(kW)</th>\n",
       "      <th>신재생 발전량 총합(kW)</th>\n",
       "      <th>공급 예비력(kW)</th>\n",
       "      <th>운영 예비력(kW)</th>\n",
       "    </tr>\n",
       "  </thead>\n",
       "  <tbody>\n",
       "    <tr>\n",
       "      <th>0</th>\n",
       "      <td>2024-01-01 00:00:00</td>\n",
       "      <td>1.285000e+06</td>\n",
       "      <td>757500.000000</td>\n",
       "      <td>0.0</td>\n",
       "      <td>115593.233333</td>\n",
       "      <td>123350.666667</td>\n",
       "      <td>527166.666667</td>\n",
       "      <td>328500.000000</td>\n",
       "    </tr>\n",
       "    <tr>\n",
       "      <th>1</th>\n",
       "      <td>2024-01-01 01:00:00</td>\n",
       "      <td>1.238308e+06</td>\n",
       "      <td>727538.461538</td>\n",
       "      <td>0.0</td>\n",
       "      <td>68802.153846</td>\n",
       "      <td>77036.569231</td>\n",
       "      <td>510692.307692</td>\n",
       "      <td>312692.307692</td>\n",
       "    </tr>\n",
       "    <tr>\n",
       "      <th>2</th>\n",
       "      <td>2024-01-01 02:00:00</td>\n",
       "      <td>1.214818e+06</td>\n",
       "      <td>694090.909091</td>\n",
       "      <td>0.0</td>\n",
       "      <td>45923.181818</td>\n",
       "      <td>53740.109091</td>\n",
       "      <td>520727.272727</td>\n",
       "      <td>318545.454545</td>\n",
       "    </tr>\n",
       "    <tr>\n",
       "      <th>3</th>\n",
       "      <td>2024-01-01 03:00:00</td>\n",
       "      <td>1.207923e+06</td>\n",
       "      <td>672000.000000</td>\n",
       "      <td>0.0</td>\n",
       "      <td>38567.161538</td>\n",
       "      <td>46614.815385</td>\n",
       "      <td>536000.000000</td>\n",
       "      <td>291000.000000</td>\n",
       "    </tr>\n",
       "    <tr>\n",
       "      <th>4</th>\n",
       "      <td>2024-01-01 04:00:00</td>\n",
       "      <td>1.192364e+06</td>\n",
       "      <td>666000.000000</td>\n",
       "      <td>0.0</td>\n",
       "      <td>22849.272727</td>\n",
       "      <td>30575.990909</td>\n",
       "      <td>526363.636364</td>\n",
       "      <td>318272.727273</td>\n",
       "    </tr>\n",
       "  </tbody>\n",
       "</table>\n",
       "</div>"
      ],
      "text/plain": [
       "             datetime      공급능력(kW)      현재 수요(kW)  태양광 발전량kW)     풍력 발전량(kW)  \\\n",
       "0 2024-01-01 00:00:00  1.285000e+06  757500.000000         0.0  115593.233333   \n",
       "1 2024-01-01 01:00:00  1.238308e+06  727538.461538         0.0   68802.153846   \n",
       "2 2024-01-01 02:00:00  1.214818e+06  694090.909091         0.0   45923.181818   \n",
       "3 2024-01-01 03:00:00  1.207923e+06  672000.000000         0.0   38567.161538   \n",
       "4 2024-01-01 04:00:00  1.192364e+06  666000.000000         0.0   22849.272727   \n",
       "\n",
       "   신재생 발전량 총합(kW)     공급 예비력(kW)     운영 예비력(kW)  \n",
       "0   123350.666667  527166.666667  328500.000000  \n",
       "1    77036.569231  510692.307692  312692.307692  \n",
       "2    53740.109091  520727.272727  318545.454545  \n",
       "3    46614.815385  536000.000000  291000.000000  \n",
       "4    30575.990909  526363.636364  318272.727273  "
      ]
     },
     "execution_count": 7,
     "metadata": {},
     "output_type": "execute_result"
    }
   ],
   "source": [
    "# 데이터 불러오기\n",
    "elec_supply = pd.read_csv(\"../../data_files/elec_supply.csv\")\n",
    "\n",
    "# 'ts'를 datetime 형식으로 변환 후 1시간 단위로 맞추기\n",
    "elec_supply['datetime'] = pd.to_datetime(elec_supply['ts'], unit='s')\n",
    "elec_supply['datetime'] = elec_supply['datetime'].dt.round('h') + timedelta(hours=9)\n",
    "\n",
    "# 1시간 단위로 그룹화하여 평균을 계산\n",
    "elec_supply = elec_supply.groupby(['datetime'], as_index=False).mean()\n",
    "\n",
    "# 결과 확인\n",
    "elec_supply.drop(columns=['ts'], inplace=True)  # 원래 'ts' 열 제거\n",
    "elec_supply.head()"
   ]
  },
  {
   "cell_type": "markdown",
   "metadata": {},
   "source": [
    "smp_da"
   ]
  },
  {
   "cell_type": "code",
   "execution_count": 8,
   "metadata": {},
   "outputs": [
    {
     "data": {
      "text/html": [
       "<div>\n",
       "<style scoped>\n",
       "    .dataframe tbody tr th:only-of-type {\n",
       "        vertical-align: middle;\n",
       "    }\n",
       "\n",
       "    .dataframe tbody tr th {\n",
       "        vertical-align: top;\n",
       "    }\n",
       "\n",
       "    .dataframe thead th {\n",
       "        text-align: right;\n",
       "    }\n",
       "</style>\n",
       "<table border=\"1\" class=\"dataframe\">\n",
       "  <thead>\n",
       "    <tr style=\"text-align: right;\">\n",
       "      <th></th>\n",
       "      <th>하루전가격(원/kWh)</th>\n",
       "      <th>datetime</th>\n",
       "    </tr>\n",
       "  </thead>\n",
       "  <tbody>\n",
       "    <tr>\n",
       "      <th>0</th>\n",
       "      <td>107.39</td>\n",
       "      <td>2024-03-01 00:00:00</td>\n",
       "    </tr>\n",
       "    <tr>\n",
       "      <th>1</th>\n",
       "      <td>107.39</td>\n",
       "      <td>2024-03-01 01:00:00</td>\n",
       "    </tr>\n",
       "    <tr>\n",
       "      <th>2</th>\n",
       "      <td>95.30</td>\n",
       "      <td>2024-03-01 02:00:00</td>\n",
       "    </tr>\n",
       "    <tr>\n",
       "      <th>3</th>\n",
       "      <td>87.89</td>\n",
       "      <td>2024-03-01 03:00:00</td>\n",
       "    </tr>\n",
       "    <tr>\n",
       "      <th>4</th>\n",
       "      <td>0.00</td>\n",
       "      <td>2024-03-01 04:00:00</td>\n",
       "    </tr>\n",
       "  </tbody>\n",
       "</table>\n",
       "</div>"
      ],
      "text/plain": [
       "   하루전가격(원/kWh)            datetime\n",
       "0        107.39 2024-03-01 00:00:00\n",
       "1        107.39 2024-03-01 01:00:00\n",
       "2         95.30 2024-03-01 02:00:00\n",
       "3         87.89 2024-03-01 03:00:00\n",
       "4          0.00 2024-03-01 04:00:00"
      ]
     },
     "execution_count": 8,
     "metadata": {},
     "output_type": "execute_result"
    }
   ],
   "source": [
    "# 데이터 불러오기\n",
    "smp_da = pd.read_csv(\"../../data_files/smp_da.csv\")\n",
    "\n",
    "# 'ts'를 datetime 형식으로 변환 후 1시간 단위로 맞추기\n",
    "smp_da['datetime'] = pd.to_datetime(smp_da['ts'], unit='s') + timedelta(hours=9)\n",
    "\n",
    "# 결과 확인\n",
    "smp_da.drop(columns=['ts'], inplace=True)  # 원래 'ts' 열 제거\n",
    "smp_da.head()"
   ]
  },
  {
   "cell_type": "markdown",
   "metadata": {},
   "source": [
    "smp_rt_rc"
   ]
  },
  {
   "cell_type": "code",
   "execution_count": 9,
   "metadata": {},
   "outputs": [
    {
     "data": {
      "text/html": [
       "<div>\n",
       "<style scoped>\n",
       "    .dataframe tbody tr th:only-of-type {\n",
       "        vertical-align: middle;\n",
       "    }\n",
       "\n",
       "    .dataframe tbody tr th {\n",
       "        vertical-align: top;\n",
       "    }\n",
       "\n",
       "    .dataframe thead th {\n",
       "        text-align: right;\n",
       "    }\n",
       "</style>\n",
       "<table border=\"1\" class=\"dataframe\">\n",
       "  <thead>\n",
       "    <tr style=\"text-align: right;\">\n",
       "      <th></th>\n",
       "      <th>datetime</th>\n",
       "      <th>실시간 임시 가격(원/kWh)</th>\n",
       "      <th>실시간 확정 가격(원/kWh)</th>\n",
       "    </tr>\n",
       "  </thead>\n",
       "  <tbody>\n",
       "    <tr>\n",
       "      <th>0</th>\n",
       "      <td>2024-03-01 00:00:00</td>\n",
       "      <td>133.125</td>\n",
       "      <td>133.125</td>\n",
       "    </tr>\n",
       "    <tr>\n",
       "      <th>1</th>\n",
       "      <td>2024-03-01 01:00:00</td>\n",
       "      <td>115.160</td>\n",
       "      <td>115.160</td>\n",
       "    </tr>\n",
       "    <tr>\n",
       "      <th>2</th>\n",
       "      <td>2024-03-01 02:00:00</td>\n",
       "      <td>92.830</td>\n",
       "      <td>92.830</td>\n",
       "    </tr>\n",
       "    <tr>\n",
       "      <th>3</th>\n",
       "      <td>2024-03-01 03:00:00</td>\n",
       "      <td>87.334</td>\n",
       "      <td>87.334</td>\n",
       "    </tr>\n",
       "    <tr>\n",
       "      <th>4</th>\n",
       "      <td>2024-03-01 04:00:00</td>\n",
       "      <td>87.260</td>\n",
       "      <td>87.260</td>\n",
       "    </tr>\n",
       "  </tbody>\n",
       "</table>\n",
       "</div>"
      ],
      "text/plain": [
       "             datetime  실시간 임시 가격(원/kWh)  실시간 확정 가격(원/kWh)\n",
       "0 2024-03-01 00:00:00           133.125           133.125\n",
       "1 2024-03-01 01:00:00           115.160           115.160\n",
       "2 2024-03-01 02:00:00            92.830            92.830\n",
       "3 2024-03-01 03:00:00            87.334            87.334\n",
       "4 2024-03-01 04:00:00            87.260            87.260"
      ]
     },
     "execution_count": 9,
     "metadata": {},
     "output_type": "execute_result"
    }
   ],
   "source": [
    "# 데이터 불러오기\n",
    "smp_rt_rc = pd.read_csv(\"../../data_files/smp_rt_rc.csv\")\n",
    "\n",
    "# 'ts'를 datetime 형식으로 변환 후 1시간 단위로 맞추기\n",
    "smp_rt_rc['datetime'] = pd.to_datetime(smp_rt_rc['ts'], unit='s')\n",
    "smp_rt_rc['datetime'] = smp_rt_rc['datetime'].dt.round('h') + timedelta(hours=9)\n",
    "\n",
    "# 1시간 단위로 그룹화하여 평균을 계산\n",
    "smp_rt_rc = smp_rt_rc.groupby(['datetime'], as_index=False).mean()\n",
    "\n",
    "# 결과 확인\n",
    "smp_rt_rc.drop(columns=['ts'], inplace=True)  # 원래 'ts' 열 제거\n",
    "smp_rt_rc.head()"
   ]
  },
  {
   "cell_type": "markdown",
   "metadata": {},
   "source": [
    "##### X 데이터\n",
    "\n",
    "- 제주 기상 실측_1 (n+1)\n",
    "- 제주 기상 실측_2 (n+1)\n",
    "- 하루 전 시장 전기 예측 (n)\n",
    "- 제주 전력 시장 실시간 (n-1)\n",
    "- 제주 전력 시장 현황 (n-1)"
   ]
  },
  {
   "cell_type": "code",
   "execution_count": 10,
   "metadata": {},
   "outputs": [],
   "source": [
    "actual_weather_1\n",
    "actual_weather_2\n",
    "weather_forecast_1\n",
    "weather_forecast_2\n",
    "smp_da_x = smp_da.copy()\n",
    "smp_da_x['datetime'] += pd.Timedelta(days=1)\n",
    "smp_rt_rc['datetime'] += pd.Timedelta(days=2)\n",
    "elec_supply['datetime'] += pd.Timedelta(days=2)"
   ]
  },
  {
   "cell_type": "code",
   "execution_count": 11,
   "metadata": {},
   "outputs": [],
   "source": [
    "dfs = [actual_weather_1, actual_weather_2, smp_da_x, smp_rt_rc, elec_supply]\n",
    "\n",
    "X = reduce(lambda left, right: pd.merge(left, right, on='datetime', how='outer'), dfs)"
   ]
  },
  {
   "cell_type": "markdown",
   "metadata": {},
   "source": [
    "##### Y 데이터\n",
    "\n",
    "- 하루 전 시장 전기 예측 가격(n+1)"
   ]
  },
  {
   "cell_type": "code",
   "execution_count": 12,
   "metadata": {},
   "outputs": [],
   "source": [
    "Y = smp_da"
   ]
  },
  {
   "cell_type": "markdown",
   "metadata": {},
   "source": [
    "##### 날짜 설정"
   ]
  },
  {
   "cell_type": "code",
   "execution_count": 13,
   "metadata": {},
   "outputs": [],
   "source": [
    "target_date = {\n",
    "  # 최소 2024-03-04\n",
    "  \"train_start_date\": '2024-03-03',\n",
    "  # 최대 2024-10-22\n",
    "  \"train_end_date\": '2024-10-22',\n",
    "}"
   ]
  },
  {
   "cell_type": "code",
   "execution_count": 14,
   "metadata": {},
   "outputs": [],
   "source": [
    "X = X.loc[\n",
    "  (X['datetime'] > target_date['train_start_date']) &\n",
    "  (X['datetime'] <= target_date['train_end_date'])\n",
    "]"
   ]
  },
  {
   "cell_type": "code",
   "execution_count": 15,
   "metadata": {},
   "outputs": [],
   "source": [
    "Y = Y.loc[\n",
    "  (Y['datetime'] > target_date['train_start_date']) &\n",
    "  (Y['datetime'] <= target_date['train_end_date'])\n",
    "]"
   ]
  },
  {
   "cell_type": "code",
   "execution_count": 16,
   "metadata": {},
   "outputs": [
    {
     "name": "stdout",
     "output_type": "stream",
     "text": [
      "2024-03-03 01:00:00 2024-10-22 00:00:00\n"
     ]
    }
   ],
   "source": [
    "from datetime import datetime, timedelta\n",
    "\n",
    "targ = datetime.strptime(target_date['train_start_date'], '%Y-%m-%d') + timedelta(hours=1)\n",
    "endd = datetime.strptime(target_date['train_end_date'], '%Y-%m-%d')\n",
    "\n",
    "print(targ, endd)"
   ]
  },
  {
   "cell_type": "code",
   "execution_count": 17,
   "metadata": {},
   "outputs": [],
   "source": [
    "# X 데이터의 특정 시간이 누락되었기 때문에\n",
    "# Y 데이터에서도 누락된 시간대를 제거한다.\n",
    "\n",
    "while targ <= endd:\n",
    "  if not len(X.loc[X['datetime'] == targ]):\n",
    "    idx = Y[Y['datetime'] == targ].index\n",
    "    Y.drop(idx, inplace=True)\n",
    "  \n",
    "  targ = targ + timedelta(hours=1)"
   ]
  },
  {
   "cell_type": "code",
   "execution_count": 18,
   "metadata": {},
   "outputs": [
    {
     "data": {
      "text/html": [
       "<div>\n",
       "<style scoped>\n",
       "    .dataframe tbody tr th:only-of-type {\n",
       "        vertical-align: middle;\n",
       "    }\n",
       "\n",
       "    .dataframe tbody tr th {\n",
       "        vertical-align: top;\n",
       "    }\n",
       "\n",
       "    .dataframe thead th {\n",
       "        text-align: right;\n",
       "    }\n",
       "</style>\n",
       "<table border=\"1\" class=\"dataframe\">\n",
       "  <thead>\n",
       "    <tr style=\"text-align: right;\">\n",
       "      <th></th>\n",
       "      <th>datetime</th>\n",
       "      <th>temp_x</th>\n",
       "      <th>real_feel_temp</th>\n",
       "      <th>rel_hum</th>\n",
       "      <th>dew_point</th>\n",
       "      <th>wind_dir_x</th>\n",
       "      <th>wind_spd</th>\n",
       "      <th>wind_gust_spd</th>\n",
       "      <th>uv_idx</th>\n",
       "      <th>vis</th>\n",
       "      <th>...</th>\n",
       "      <th>하루전가격(원/kWh)</th>\n",
       "      <th>실시간 임시 가격(원/kWh)</th>\n",
       "      <th>실시간 확정 가격(원/kWh)</th>\n",
       "      <th>공급능력(kW)</th>\n",
       "      <th>현재 수요(kW)</th>\n",
       "      <th>태양광 발전량kW)</th>\n",
       "      <th>풍력 발전량(kW)</th>\n",
       "      <th>신재생 발전량 총합(kW)</th>\n",
       "      <th>공급 예비력(kW)</th>\n",
       "      <th>운영 예비력(kW)</th>\n",
       "    </tr>\n",
       "  </thead>\n",
       "  <tbody>\n",
       "    <tr>\n",
       "      <th>1441</th>\n",
       "      <td>2024-03-03 01:00:00</td>\n",
       "      <td>4.962500</td>\n",
       "      <td>1.650000</td>\n",
       "      <td>56.125000</td>\n",
       "      <td>-3.112500</td>\n",
       "      <td>246.375000</td>\n",
       "      <td>16.912500</td>\n",
       "      <td>24.993750</td>\n",
       "      <td>0.0</td>\n",
       "      <td>25.937500</td>\n",
       "      <td>...</td>\n",
       "      <td>138.50</td>\n",
       "      <td>115.160</td>\n",
       "      <td>115.160</td>\n",
       "      <td>1.367154e+06</td>\n",
       "      <td>764692.307692</td>\n",
       "      <td>0.0</td>\n",
       "      <td>213928.384615</td>\n",
       "      <td>229070.230769</td>\n",
       "      <td>602692.307692</td>\n",
       "      <td>279846.153846</td>\n",
       "    </tr>\n",
       "    <tr>\n",
       "      <th>1442</th>\n",
       "      <td>2024-03-03 02:00:00</td>\n",
       "      <td>4.836364</td>\n",
       "      <td>0.918182</td>\n",
       "      <td>57.727273</td>\n",
       "      <td>-2.918182</td>\n",
       "      <td>245.727273</td>\n",
       "      <td>18.227273</td>\n",
       "      <td>22.754545</td>\n",
       "      <td>0.0</td>\n",
       "      <td>25.027273</td>\n",
       "      <td>...</td>\n",
       "      <td>99.48</td>\n",
       "      <td>92.830</td>\n",
       "      <td>92.830</td>\n",
       "      <td>1.389455e+06</td>\n",
       "      <td>736818.181818</td>\n",
       "      <td>0.0</td>\n",
       "      <td>234674.181818</td>\n",
       "      <td>249718.181818</td>\n",
       "      <td>652636.363636</td>\n",
       "      <td>328090.909091</td>\n",
       "    </tr>\n",
       "    <tr>\n",
       "      <th>1443</th>\n",
       "      <td>2024-03-03 03:00:00</td>\n",
       "      <td>4.666667</td>\n",
       "      <td>1.811111</td>\n",
       "      <td>57.777778</td>\n",
       "      <td>-3.011111</td>\n",
       "      <td>250.222222</td>\n",
       "      <td>15.344444</td>\n",
       "      <td>20.266667</td>\n",
       "      <td>0.0</td>\n",
       "      <td>23.255556</td>\n",
       "      <td>...</td>\n",
       "      <td>95.38</td>\n",
       "      <td>87.334</td>\n",
       "      <td>87.334</td>\n",
       "      <td>1.370923e+06</td>\n",
       "      <td>733461.538462</td>\n",
       "      <td>0.0</td>\n",
       "      <td>216275.153846</td>\n",
       "      <td>231237.153846</td>\n",
       "      <td>637384.615385</td>\n",
       "      <td>312538.461538</td>\n",
       "    </tr>\n",
       "    <tr>\n",
       "      <th>1444</th>\n",
       "      <td>2024-03-03 04:00:00</td>\n",
       "      <td>4.910000</td>\n",
       "      <td>1.240000</td>\n",
       "      <td>58.400000</td>\n",
       "      <td>-2.670000</td>\n",
       "      <td>256.600000</td>\n",
       "      <td>18.270000</td>\n",
       "      <td>28.230000</td>\n",
       "      <td>0.0</td>\n",
       "      <td>26.060000</td>\n",
       "      <td>...</td>\n",
       "      <td>91.24</td>\n",
       "      <td>87.260</td>\n",
       "      <td>87.260</td>\n",
       "      <td>1.378545e+06</td>\n",
       "      <td>744000.000000</td>\n",
       "      <td>0.0</td>\n",
       "      <td>223340.090909</td>\n",
       "      <td>238393.363636</td>\n",
       "      <td>634818.181818</td>\n",
       "      <td>309636.363636</td>\n",
       "    </tr>\n",
       "    <tr>\n",
       "      <th>1445</th>\n",
       "      <td>2024-03-03 05:00:00</td>\n",
       "      <td>5.516667</td>\n",
       "      <td>2.708333</td>\n",
       "      <td>56.833333</td>\n",
       "      <td>-2.525000</td>\n",
       "      <td>257.083333</td>\n",
       "      <td>16.166667</td>\n",
       "      <td>19.816667</td>\n",
       "      <td>0.0</td>\n",
       "      <td>22.541667</td>\n",
       "      <td>...</td>\n",
       "      <td>91.24</td>\n",
       "      <td>93.352</td>\n",
       "      <td>93.352</td>\n",
       "      <td>1.391462e+06</td>\n",
       "      <td>756538.461538</td>\n",
       "      <td>0.0</td>\n",
       "      <td>235738.000000</td>\n",
       "      <td>250772.615385</td>\n",
       "      <td>634923.076923</td>\n",
       "      <td>308615.384615</td>\n",
       "    </tr>\n",
       "  </tbody>\n",
       "</table>\n",
       "<p>5 rows × 34 columns</p>\n",
       "</div>"
      ],
      "text/plain": [
       "                datetime    temp_x  real_feel_temp    rel_hum  dew_point  \\\n",
       "1441 2024-03-03 01:00:00  4.962500        1.650000  56.125000  -3.112500   \n",
       "1442 2024-03-03 02:00:00  4.836364        0.918182  57.727273  -2.918182   \n",
       "1443 2024-03-03 03:00:00  4.666667        1.811111  57.777778  -3.011111   \n",
       "1444 2024-03-03 04:00:00  4.910000        1.240000  58.400000  -2.670000   \n",
       "1445 2024-03-03 05:00:00  5.516667        2.708333  56.833333  -2.525000   \n",
       "\n",
       "      wind_dir_x   wind_spd  wind_gust_spd  uv_idx        vis  ...  \\\n",
       "1441  246.375000  16.912500      24.993750     0.0  25.937500  ...   \n",
       "1442  245.727273  18.227273      22.754545     0.0  25.027273  ...   \n",
       "1443  250.222222  15.344444      20.266667     0.0  23.255556  ...   \n",
       "1444  256.600000  18.270000      28.230000     0.0  26.060000  ...   \n",
       "1445  257.083333  16.166667      19.816667     0.0  22.541667  ...   \n",
       "\n",
       "      하루전가격(원/kWh)  실시간 임시 가격(원/kWh)  실시간 확정 가격(원/kWh)      공급능력(kW)  \\\n",
       "1441        138.50           115.160           115.160  1.367154e+06   \n",
       "1442         99.48            92.830            92.830  1.389455e+06   \n",
       "1443         95.38            87.334            87.334  1.370923e+06   \n",
       "1444         91.24            87.260            87.260  1.378545e+06   \n",
       "1445         91.24            93.352            93.352  1.391462e+06   \n",
       "\n",
       "          현재 수요(kW)  태양광 발전량kW)     풍력 발전량(kW)  신재생 발전량 총합(kW)     공급 예비력(kW)  \\\n",
       "1441  764692.307692         0.0  213928.384615   229070.230769  602692.307692   \n",
       "1442  736818.181818         0.0  234674.181818   249718.181818  652636.363636   \n",
       "1443  733461.538462         0.0  216275.153846   231237.153846  637384.615385   \n",
       "1444  744000.000000         0.0  223340.090909   238393.363636  634818.181818   \n",
       "1445  756538.461538         0.0  235738.000000   250772.615385  634923.076923   \n",
       "\n",
       "         운영 예비력(kW)  \n",
       "1441  279846.153846  \n",
       "1442  328090.909091  \n",
       "1443  312538.461538  \n",
       "1444  309636.363636  \n",
       "1445  308615.384615  \n",
       "\n",
       "[5 rows x 34 columns]"
      ]
     },
     "execution_count": 18,
     "metadata": {},
     "output_type": "execute_result"
    }
   ],
   "source": [
    "X.head()"
   ]
  },
  {
   "cell_type": "code",
   "execution_count": 19,
   "metadata": {},
   "outputs": [
    {
     "data": {
      "text/plain": [
       "(5592, 5592)"
      ]
     },
     "execution_count": 19,
     "metadata": {},
     "output_type": "execute_result"
    }
   ],
   "source": [
    "len(X), len(Y)"
   ]
  },
  {
   "cell_type": "markdown",
   "metadata": {},
   "source": [
    "### 파이토치 모델 구성"
   ]
  },
  {
   "cell_type": "markdown",
   "metadata": {},
   "source": [
    "##### 모듈 임포트"
   ]
  },
  {
   "cell_type": "code",
   "execution_count": 20,
   "metadata": {},
   "outputs": [],
   "source": [
    "import torch\n",
    "import torch.nn as nn\n",
    "from torch.utils.data import Dataset\n",
    "from torch.utils.data import DataLoader\n",
    "from sklearn.preprocessing import MinMaxScaler"
   ]
  },
  {
   "cell_type": "code",
   "execution_count": 21,
   "metadata": {},
   "outputs": [
    {
     "name": "stdout",
     "output_type": "stream",
     "text": [
      "NVIDIA GeForce GTX 1650\n",
      "2.5.0+cu118\n",
      "11.8\n",
      "tensor([-1.2769], device='cuda:0')\n"
     ]
    },
    {
     "data": {
      "text/plain": [
       "device(type='cuda', index=0)"
      ]
     },
     "execution_count": 21,
     "metadata": {},
     "output_type": "execute_result"
    }
   ],
   "source": [
    "if torch.cuda.is_available():\n",
    "  print(torch.cuda.get_device_name())\n",
    "  print(torch.__version__)\n",
    "  print(torch.version.cuda)\n",
    "  x = torch.randn(1).cuda()\n",
    "  print(x)\n",
    "\n",
    "device = torch.device(\"cuda:0\" if torch.cuda.is_available() else \"cpu\")\n",
    "device"
   ]
  },
  {
   "cell_type": "markdown",
   "metadata": {},
   "source": [
    "##### Dataset 구성"
   ]
  },
  {
   "cell_type": "code",
   "execution_count": 22,
   "metadata": {},
   "outputs": [],
   "source": [
    "class ElecDataset(Dataset):\n",
    "  def __init__(self, x_data, y_data):\n",
    "    scaler = MinMaxScaler()\n",
    "\n",
    "    columns_to_scale = x_data.columns[1:]\n",
    "    x_data[columns_to_scale] = scaler.fit_transform(x_data[columns_to_scale])\n",
    "    \n",
    "    self.x_data = x_data.fillna(0)\n",
    "    self.y_data = y_data.fillna(0)\n",
    "\n",
    "  def __getitem__(self, index):\n",
    "    target_y = self.y_data['하루전가격(원/kWh)'].iloc[index]\n",
    "    targets = self.x_data.drop(columns='datetime').iloc[index].to_numpy()\n",
    "\n",
    "    return torch.from_numpy(targets), torch.tensor(target_y)\n",
    "\n",
    "  def __len__(self):\n",
    "    return int(len(self.y_data))"
   ]
  },
  {
   "cell_type": "code",
   "execution_count": 23,
   "metadata": {},
   "outputs": [],
   "source": [
    "dataset = ElecDataset(X, Y)"
   ]
  },
  {
   "cell_type": "code",
   "execution_count": 24,
   "metadata": {},
   "outputs": [
    {
     "data": {
      "text/plain": [
       "5592"
      ]
     },
     "execution_count": 24,
     "metadata": {},
     "output_type": "execute_result"
    }
   ],
   "source": [
    "len(dataset)"
   ]
  },
  {
   "cell_type": "markdown",
   "metadata": {},
   "source": [
    "##### dataloader 구성"
   ]
  },
  {
   "cell_type": "code",
   "execution_count": 25,
   "metadata": {},
   "outputs": [],
   "source": [
    "dataloader = DataLoader(dataset=dataset,\n",
    "                        batch_size=32,\n",
    "                        shuffle=True,\n",
    "                        drop_last=False)"
   ]
  },
  {
   "cell_type": "markdown",
   "metadata": {},
   "source": [
    "##### 모델 구성"
   ]
  },
  {
   "cell_type": "code",
   "execution_count": 26,
   "metadata": {},
   "outputs": [],
   "source": [
    "class NeuralNetwork(nn.Module):\n",
    "    def __init__(self, input_size, output_size):\n",
    "        super(NeuralNetwork, self).__init__()\n",
    "        self.linear_relu_stack = nn.Sequential(\n",
    "            nn.Linear(input_size, 128, dtype=torch.float64),\n",
    "            nn.ReLU(),\n",
    "            nn.Linear(128, 256, dtype=torch.float64),\n",
    "            nn.ReLU(),\n",
    "            nn.Linear(256, 256, dtype=torch.float64),\n",
    "            nn.ReLU(),\n",
    "            nn.Linear(256, 256, dtype=torch.float64),\n",
    "            nn.ReLU(),\n",
    "            nn.Linear(256, 256, dtype=torch.float64),\n",
    "            nn.ReLU(),\n",
    "            nn.Linear(256, 128, dtype=torch.float64),\n",
    "            nn.ReLU(),\n",
    "            nn.Linear(128, 32, dtype=torch.float64),\n",
    "            nn.ReLU(),\n",
    "            nn.Linear(32, 8, dtype=torch.float64),\n",
    "            nn.ReLU(),\n",
    "            nn.Linear(8, output_size, dtype=torch.float64)\n",
    "        )\n",
    "\n",
    "    def forward(self, x):\n",
    "        out = self.linear_relu_stack(x)\n",
    "\n",
    "        return out "
   ]
  },
  {
   "cell_type": "code",
   "execution_count": 27,
   "metadata": {},
   "outputs": [],
   "source": [
    "def customloss(predict, y):#학습용\n",
    "    predict = predict.squeeze()\n",
    "\n",
    "    e1 = torch.zeros_like(y)\n",
    "    e2 = torch.zeros_like(y)\n",
    "    accuracy = torch.zeros_like(y, dtype=torch.bool)\n",
    "\n",
    "    positive_mask = y > 0\n",
    "    negative_mask = y <= 0\n",
    "\n",
    "    e1_mask = y > 0  # y > 0인 부분 마스크\n",
    "    e2_mask = y < -1  # y <= 0인 부분 마스크\n",
    "    e2_adjusted_mask = (y <= 0) & (y >= -1)\n",
    "    # 각 마스크 조건에 맞는 부분에 대해서만 e1, e2를 계산합니다.\n",
    "    # e1과 e2에서 분모에 작은 상수를 추가하여 0으로 나누는 것을 방지\n",
    "    e1[e1_mask] = torch.abs((y[e1_mask] - predict[e1_mask]) / (y[e1_mask]))\n",
    "    e2[e2_mask] = torch.abs((y[e2_mask] - predict[e2_mask]) / (-y[e2_mask]))\n",
    "    e2[e2_adjusted_mask] = torch.abs((y[e2_adjusted_mask] - predict[e2_adjusted_mask]) / (-1))\n",
    "\n",
    "    accuracy[positive_mask] = (predict[positive_mask] > 0)\n",
    "    accuracy[negative_mask] = (predict[negative_mask] <= 0)\n",
    "\n",
    "    e1_mean = e1[e1 != 0].mean() if (e1 != 0).any() else torch.tensor(0.0)\n",
    "    e2_mean = e2[e2 != 0].mean() if (e2 != 0).any() else torch.tensor(0.0)\n",
    "\n",
    "    accuracy_mean = accuracy.float().mean()\n",
    "\n",
    "    e_F = 0.2 * e1_mean + 0.8 * e2_mean - (accuracy_mean - 0.95)\n",
    "    if e_F<0:\n",
    "      e_F=0\n",
    "    e_F_square = e_F**2\n",
    "    mse_loss = torch.mean((y - predict)**2)\n",
    "\n",
    "    loss_new = 0\n",
    "    if predict.mean()>140:\n",
    "      loss_new += predict.mean()-140\n",
    "\n",
    "    loss_new = loss_new ** 2\n",
    "\n",
    "    return e_F_square*10+mse_loss+loss_new"
   ]
  },
  {
   "cell_type": "code",
   "execution_count": 28,
   "metadata": {},
   "outputs": [],
   "source": [
    "input_size = len(X.columns) - 1  # Number of input features\n",
    "output_size = 1  # Single output\n",
    "\n",
    "\n",
    "model = NeuralNetwork(input_size, output_size)\n",
    "\n",
    "\n",
    "criterion = customloss # nn.MSELoss()"
   ]
  },
  {
   "cell_type": "markdown",
   "metadata": {},
   "source": [
    "##### 학습"
   ]
  },
  {
   "cell_type": "code",
   "execution_count": 29,
   "metadata": {},
   "outputs": [],
   "source": [
    "def train(model, train_loader, criterion, optimizer, num_epochs, device):\n",
    "    model = model.to(device)  # Move model to GPU/CPU\n",
    "\n",
    "    train_history = []\n",
    "    \n",
    "    for epoch in range(num_epochs):\n",
    "        model.train()  # Set the model to training mode\n",
    "        \n",
    "        running_loss = 0.0  # To keep track of loss\n",
    "        for inputs, targets in tqdm(train_loader, ncols=100):\n",
    "\n",
    "            # Move data to the same device as the model\n",
    "            inputs, targets = inputs.to(device), targets.to(device)\n",
    "            \n",
    "            # Forward pass\n",
    "            outputs = model(inputs)\n",
    "\n",
    "            loss = criterion(outputs, targets)\n",
    "\n",
    "            # Backward pass and optimization\n",
    "            optimizer.zero_grad()  # Clear the gradients\n",
    "            loss.backward()        # Compute gradients\n",
    "            # torch.nn.utils.clip_grad_norm_(model.parameters(), max_norm=1.0)\n",
    "            optimizer.step()        # Update model parameters\n",
    "\n",
    "            running_loss += loss.item()\n",
    "            \n",
    "            # print(loss.item())\n",
    "\n",
    "        # Print the loss after each epoch\n",
    "        avg_loss = running_loss / len(train_loader)\n",
    "        train_history.append(avg_loss)\n",
    "        print(f\"Epoch [{epoch+1}/{num_epochs}], Loss: {avg_loss:.4f}\")\n",
    "\n",
    "    print(\"Training complete.\")\n",
    "    return model, train_history"
   ]
  },
  {
   "cell_type": "markdown",
   "metadata": {},
   "source": [
    "##### 하이퍼 파라미터"
   ]
  },
  {
   "cell_type": "code",
   "execution_count": 30,
   "metadata": {},
   "outputs": [],
   "source": [
    "learning_rate = 0.0003\n",
    "epoches=100\n",
    "\n",
    "optimizer = torch.optim.Adam(model.parameters(), lr=learning_rate)"
   ]
  },
  {
   "cell_type": "code",
   "execution_count": 31,
   "metadata": {},
   "outputs": [
    {
     "name": "stderr",
     "output_type": "stream",
     "text": [
      "100%|█████████████████████████████████████████████████████████████| 175/175 [00:12<00:00, 13.98it/s]\n"
     ]
    },
    {
     "name": "stdout",
     "output_type": "stream",
     "text": [
      "Epoch [1/100], Loss: 14409.6778\n"
     ]
    },
    {
     "name": "stderr",
     "output_type": "stream",
     "text": [
      "100%|█████████████████████████████████████████████████████████████| 175/175 [00:11<00:00, 15.05it/s]\n"
     ]
    },
    {
     "name": "stdout",
     "output_type": "stream",
     "text": [
      "Epoch [2/100], Loss: 11467.1872\n"
     ]
    },
    {
     "name": "stderr",
     "output_type": "stream",
     "text": [
      "100%|█████████████████████████████████████████████████████████████| 175/175 [00:11<00:00, 15.00it/s]\n"
     ]
    },
    {
     "name": "stdout",
     "output_type": "stream",
     "text": [
      "Epoch [3/100], Loss: 7340.6690\n"
     ]
    },
    {
     "name": "stderr",
     "output_type": "stream",
     "text": [
      "100%|█████████████████████████████████████████████████████████████| 175/175 [00:11<00:00, 15.11it/s]\n"
     ]
    },
    {
     "name": "stdout",
     "output_type": "stream",
     "text": [
      "Epoch [4/100], Loss: 6274.7793\n"
     ]
    },
    {
     "name": "stderr",
     "output_type": "stream",
     "text": [
      "100%|█████████████████████████████████████████████████████████████| 175/175 [00:11<00:00, 15.13it/s]\n"
     ]
    },
    {
     "name": "stdout",
     "output_type": "stream",
     "text": [
      "Epoch [5/100], Loss: 5758.4077\n"
     ]
    },
    {
     "name": "stderr",
     "output_type": "stream",
     "text": [
      "100%|█████████████████████████████████████████████████████████████| 175/175 [00:11<00:00, 15.01it/s]\n"
     ]
    },
    {
     "name": "stdout",
     "output_type": "stream",
     "text": [
      "Epoch [6/100], Loss: 4531.1481\n"
     ]
    },
    {
     "name": "stderr",
     "output_type": "stream",
     "text": [
      "100%|█████████████████████████████████████████████████████████████| 175/175 [00:12<00:00, 14.21it/s]\n"
     ]
    },
    {
     "name": "stdout",
     "output_type": "stream",
     "text": [
      "Epoch [7/100], Loss: 4225.1856\n"
     ]
    },
    {
     "name": "stderr",
     "output_type": "stream",
     "text": [
      "100%|█████████████████████████████████████████████████████████████| 175/175 [00:12<00:00, 14.52it/s]\n"
     ]
    },
    {
     "name": "stdout",
     "output_type": "stream",
     "text": [
      "Epoch [8/100], Loss: 4650.6065\n"
     ]
    },
    {
     "name": "stderr",
     "output_type": "stream",
     "text": [
      "100%|█████████████████████████████████████████████████████████████| 175/175 [00:11<00:00, 14.79it/s]\n"
     ]
    },
    {
     "name": "stdout",
     "output_type": "stream",
     "text": [
      "Epoch [9/100], Loss: 4050.0223\n"
     ]
    },
    {
     "name": "stderr",
     "output_type": "stream",
     "text": [
      "100%|█████████████████████████████████████████████████████████████| 175/175 [00:11<00:00, 14.95it/s]\n"
     ]
    },
    {
     "name": "stdout",
     "output_type": "stream",
     "text": [
      "Epoch [10/100], Loss: 4092.7018\n"
     ]
    },
    {
     "name": "stderr",
     "output_type": "stream",
     "text": [
      "100%|█████████████████████████████████████████████████████████████| 175/175 [00:12<00:00, 14.37it/s]\n"
     ]
    },
    {
     "name": "stdout",
     "output_type": "stream",
     "text": [
      "Epoch [11/100], Loss: 5086.5383\n"
     ]
    },
    {
     "name": "stderr",
     "output_type": "stream",
     "text": [
      "100%|█████████████████████████████████████████████████████████████| 175/175 [00:11<00:00, 14.76it/s]\n"
     ]
    },
    {
     "name": "stdout",
     "output_type": "stream",
     "text": [
      "Epoch [12/100], Loss: 3987.7254\n"
     ]
    },
    {
     "name": "stderr",
     "output_type": "stream",
     "text": [
      "100%|█████████████████████████████████████████████████████████████| 175/175 [00:12<00:00, 14.39it/s]\n"
     ]
    },
    {
     "name": "stdout",
     "output_type": "stream",
     "text": [
      "Epoch [13/100], Loss: 3487.3656\n"
     ]
    },
    {
     "name": "stderr",
     "output_type": "stream",
     "text": [
      "100%|█████████████████████████████████████████████████████████████| 175/175 [00:11<00:00, 15.21it/s]\n"
     ]
    },
    {
     "name": "stdout",
     "output_type": "stream",
     "text": [
      "Epoch [14/100], Loss: 4409.9330\n"
     ]
    },
    {
     "name": "stderr",
     "output_type": "stream",
     "text": [
      "100%|█████████████████████████████████████████████████████████████| 175/175 [00:11<00:00, 15.36it/s]\n"
     ]
    },
    {
     "name": "stdout",
     "output_type": "stream",
     "text": [
      "Epoch [15/100], Loss: 4244.1861\n"
     ]
    },
    {
     "name": "stderr",
     "output_type": "stream",
     "text": [
      "100%|█████████████████████████████████████████████████████████████| 175/175 [00:11<00:00, 14.95it/s]\n"
     ]
    },
    {
     "name": "stdout",
     "output_type": "stream",
     "text": [
      "Epoch [16/100], Loss: 3941.1181\n"
     ]
    },
    {
     "name": "stderr",
     "output_type": "stream",
     "text": [
      "100%|█████████████████████████████████████████████████████████████| 175/175 [00:11<00:00, 15.27it/s]\n"
     ]
    },
    {
     "name": "stdout",
     "output_type": "stream",
     "text": [
      "Epoch [17/100], Loss: 3995.8364\n"
     ]
    },
    {
     "name": "stderr",
     "output_type": "stream",
     "text": [
      "100%|█████████████████████████████████████████████████████████████| 175/175 [00:11<00:00, 15.30it/s]\n"
     ]
    },
    {
     "name": "stdout",
     "output_type": "stream",
     "text": [
      "Epoch [18/100], Loss: 3273.3764\n"
     ]
    },
    {
     "name": "stderr",
     "output_type": "stream",
     "text": [
      "100%|█████████████████████████████████████████████████████████████| 175/175 [00:11<00:00, 15.25it/s]\n"
     ]
    },
    {
     "name": "stdout",
     "output_type": "stream",
     "text": [
      "Epoch [19/100], Loss: 3423.5525\n"
     ]
    },
    {
     "name": "stderr",
     "output_type": "stream",
     "text": [
      "100%|█████████████████████████████████████████████████████████████| 175/175 [00:11<00:00, 15.32it/s]\n"
     ]
    },
    {
     "name": "stdout",
     "output_type": "stream",
     "text": [
      "Epoch [20/100], Loss: 3763.8198\n"
     ]
    },
    {
     "name": "stderr",
     "output_type": "stream",
     "text": [
      "100%|█████████████████████████████████████████████████████████████| 175/175 [00:11<00:00, 15.34it/s]\n"
     ]
    },
    {
     "name": "stdout",
     "output_type": "stream",
     "text": [
      "Epoch [21/100], Loss: 2770.2619\n"
     ]
    },
    {
     "name": "stderr",
     "output_type": "stream",
     "text": [
      "100%|█████████████████████████████████████████████████████████████| 175/175 [00:11<00:00, 15.43it/s]\n"
     ]
    },
    {
     "name": "stdout",
     "output_type": "stream",
     "text": [
      "Epoch [22/100], Loss: 3213.5377\n"
     ]
    },
    {
     "name": "stderr",
     "output_type": "stream",
     "text": [
      "100%|█████████████████████████████████████████████████████████████| 175/175 [00:11<00:00, 15.37it/s]\n"
     ]
    },
    {
     "name": "stdout",
     "output_type": "stream",
     "text": [
      "Epoch [23/100], Loss: 3645.4707\n"
     ]
    },
    {
     "name": "stderr",
     "output_type": "stream",
     "text": [
      "100%|█████████████████████████████████████████████████████████████| 175/175 [00:11<00:00, 15.34it/s]\n"
     ]
    },
    {
     "name": "stdout",
     "output_type": "stream",
     "text": [
      "Epoch [24/100], Loss: 2744.0029\n"
     ]
    },
    {
     "name": "stderr",
     "output_type": "stream",
     "text": [
      "100%|█████████████████████████████████████████████████████████████| 175/175 [00:11<00:00, 15.34it/s]\n"
     ]
    },
    {
     "name": "stdout",
     "output_type": "stream",
     "text": [
      "Epoch [25/100], Loss: 3137.0591\n"
     ]
    },
    {
     "name": "stderr",
     "output_type": "stream",
     "text": [
      "100%|█████████████████████████████████████████████████████████████| 175/175 [00:11<00:00, 15.39it/s]\n"
     ]
    },
    {
     "name": "stdout",
     "output_type": "stream",
     "text": [
      "Epoch [26/100], Loss: 3228.6023\n"
     ]
    },
    {
     "name": "stderr",
     "output_type": "stream",
     "text": [
      "100%|█████████████████████████████████████████████████████████████| 175/175 [00:11<00:00, 15.33it/s]\n"
     ]
    },
    {
     "name": "stdout",
     "output_type": "stream",
     "text": [
      "Epoch [27/100], Loss: 4009.1917\n"
     ]
    },
    {
     "name": "stderr",
     "output_type": "stream",
     "text": [
      "100%|█████████████████████████████████████████████████████████████| 175/175 [00:11<00:00, 15.34it/s]\n"
     ]
    },
    {
     "name": "stdout",
     "output_type": "stream",
     "text": [
      "Epoch [28/100], Loss: 2515.4652\n"
     ]
    },
    {
     "name": "stderr",
     "output_type": "stream",
     "text": [
      "100%|█████████████████████████████████████████████████████████████| 175/175 [00:11<00:00, 15.27it/s]\n"
     ]
    },
    {
     "name": "stdout",
     "output_type": "stream",
     "text": [
      "Epoch [29/100], Loss: 3854.9585\n"
     ]
    },
    {
     "name": "stderr",
     "output_type": "stream",
     "text": [
      "100%|█████████████████████████████████████████████████████████████| 175/175 [00:11<00:00, 15.25it/s]\n"
     ]
    },
    {
     "name": "stdout",
     "output_type": "stream",
     "text": [
      "Epoch [30/100], Loss: 3279.6740\n"
     ]
    },
    {
     "name": "stderr",
     "output_type": "stream",
     "text": [
      "100%|█████████████████████████████████████████████████████████████| 175/175 [00:11<00:00, 15.38it/s]\n"
     ]
    },
    {
     "name": "stdout",
     "output_type": "stream",
     "text": [
      "Epoch [31/100], Loss: 2343.4221\n"
     ]
    },
    {
     "name": "stderr",
     "output_type": "stream",
     "text": [
      "100%|█████████████████████████████████████████████████████████████| 175/175 [00:11<00:00, 15.36it/s]\n"
     ]
    },
    {
     "name": "stdout",
     "output_type": "stream",
     "text": [
      "Epoch [32/100], Loss: 2885.4323\n"
     ]
    },
    {
     "name": "stderr",
     "output_type": "stream",
     "text": [
      "100%|█████████████████████████████████████████████████████████████| 175/175 [00:11<00:00, 15.43it/s]\n"
     ]
    },
    {
     "name": "stdout",
     "output_type": "stream",
     "text": [
      "Epoch [33/100], Loss: 2166.4432\n"
     ]
    },
    {
     "name": "stderr",
     "output_type": "stream",
     "text": [
      "100%|█████████████████████████████████████████████████████████████| 175/175 [00:11<00:00, 15.35it/s]\n"
     ]
    },
    {
     "name": "stdout",
     "output_type": "stream",
     "text": [
      "Epoch [34/100], Loss: 1911.5537\n"
     ]
    },
    {
     "name": "stderr",
     "output_type": "stream",
     "text": [
      "100%|█████████████████████████████████████████████████████████████| 175/175 [00:11<00:00, 15.11it/s]\n"
     ]
    },
    {
     "name": "stdout",
     "output_type": "stream",
     "text": [
      "Epoch [35/100], Loss: 3424.8340\n"
     ]
    },
    {
     "name": "stderr",
     "output_type": "stream",
     "text": [
      "100%|█████████████████████████████████████████████████████████████| 175/175 [00:11<00:00, 15.28it/s]\n"
     ]
    },
    {
     "name": "stdout",
     "output_type": "stream",
     "text": [
      "Epoch [36/100], Loss: 2745.3357\n"
     ]
    },
    {
     "name": "stderr",
     "output_type": "stream",
     "text": [
      "100%|█████████████████████████████████████████████████████████████| 175/175 [00:11<00:00, 15.24it/s]\n"
     ]
    },
    {
     "name": "stdout",
     "output_type": "stream",
     "text": [
      "Epoch [37/100], Loss: 2804.6644\n"
     ]
    },
    {
     "name": "stderr",
     "output_type": "stream",
     "text": [
      "100%|█████████████████████████████████████████████████████████████| 175/175 [00:11<00:00, 15.19it/s]\n"
     ]
    },
    {
     "name": "stdout",
     "output_type": "stream",
     "text": [
      "Epoch [38/100], Loss: 1987.5520\n"
     ]
    },
    {
     "name": "stderr",
     "output_type": "stream",
     "text": [
      "100%|█████████████████████████████████████████████████████████████| 175/175 [00:11<00:00, 15.25it/s]\n"
     ]
    },
    {
     "name": "stdout",
     "output_type": "stream",
     "text": [
      "Epoch [39/100], Loss: 2007.0192\n"
     ]
    },
    {
     "name": "stderr",
     "output_type": "stream",
     "text": [
      "100%|█████████████████████████████████████████████████████████████| 175/175 [00:11<00:00, 14.79it/s]\n"
     ]
    },
    {
     "name": "stdout",
     "output_type": "stream",
     "text": [
      "Epoch [40/100], Loss: 2085.1915\n"
     ]
    },
    {
     "name": "stderr",
     "output_type": "stream",
     "text": [
      "100%|█████████████████████████████████████████████████████████████| 175/175 [00:11<00:00, 15.00it/s]\n"
     ]
    },
    {
     "name": "stdout",
     "output_type": "stream",
     "text": [
      "Epoch [41/100], Loss: 2578.7615\n"
     ]
    },
    {
     "name": "stderr",
     "output_type": "stream",
     "text": [
      "100%|█████████████████████████████████████████████████████████████| 175/175 [00:11<00:00, 14.94it/s]\n"
     ]
    },
    {
     "name": "stdout",
     "output_type": "stream",
     "text": [
      "Epoch [42/100], Loss: 3146.0781\n"
     ]
    },
    {
     "name": "stderr",
     "output_type": "stream",
     "text": [
      "100%|█████████████████████████████████████████████████████████████| 175/175 [00:11<00:00, 15.25it/s]\n"
     ]
    },
    {
     "name": "stdout",
     "output_type": "stream",
     "text": [
      "Epoch [43/100], Loss: 2192.8680\n"
     ]
    },
    {
     "name": "stderr",
     "output_type": "stream",
     "text": [
      "100%|█████████████████████████████████████████████████████████████| 175/175 [00:11<00:00, 15.18it/s]\n"
     ]
    },
    {
     "name": "stdout",
     "output_type": "stream",
     "text": [
      "Epoch [44/100], Loss: 2334.8441\n"
     ]
    },
    {
     "name": "stderr",
     "output_type": "stream",
     "text": [
      "100%|█████████████████████████████████████████████████████████████| 175/175 [00:11<00:00, 15.26it/s]\n"
     ]
    },
    {
     "name": "stdout",
     "output_type": "stream",
     "text": [
      "Epoch [45/100], Loss: 3606.8950\n"
     ]
    },
    {
     "name": "stderr",
     "output_type": "stream",
     "text": [
      "100%|█████████████████████████████████████████████████████████████| 175/175 [00:11<00:00, 15.25it/s]\n"
     ]
    },
    {
     "name": "stdout",
     "output_type": "stream",
     "text": [
      "Epoch [46/100], Loss: 2271.2187\n"
     ]
    },
    {
     "name": "stderr",
     "output_type": "stream",
     "text": [
      "100%|█████████████████████████████████████████████████████████████| 175/175 [00:12<00:00, 14.37it/s]\n"
     ]
    },
    {
     "name": "stdout",
     "output_type": "stream",
     "text": [
      "Epoch [47/100], Loss: 3200.3598\n"
     ]
    },
    {
     "name": "stderr",
     "output_type": "stream",
     "text": [
      "100%|█████████████████████████████████████████████████████████████| 175/175 [00:12<00:00, 14.23it/s]\n"
     ]
    },
    {
     "name": "stdout",
     "output_type": "stream",
     "text": [
      "Epoch [48/100], Loss: 2900.8044\n"
     ]
    },
    {
     "name": "stderr",
     "output_type": "stream",
     "text": [
      "100%|█████████████████████████████████████████████████████████████| 175/175 [00:11<00:00, 14.88it/s]\n"
     ]
    },
    {
     "name": "stdout",
     "output_type": "stream",
     "text": [
      "Epoch [49/100], Loss: 1890.0919\n"
     ]
    },
    {
     "name": "stderr",
     "output_type": "stream",
     "text": [
      "100%|█████████████████████████████████████████████████████████████| 175/175 [00:12<00:00, 14.50it/s]\n"
     ]
    },
    {
     "name": "stdout",
     "output_type": "stream",
     "text": [
      "Epoch [50/100], Loss: 2173.6323\n"
     ]
    },
    {
     "name": "stderr",
     "output_type": "stream",
     "text": [
      "100%|█████████████████████████████████████████████████████████████| 175/175 [00:11<00:00, 14.94it/s]\n"
     ]
    },
    {
     "name": "stdout",
     "output_type": "stream",
     "text": [
      "Epoch [51/100], Loss: 1881.0132\n"
     ]
    },
    {
     "name": "stderr",
     "output_type": "stream",
     "text": [
      "100%|█████████████████████████████████████████████████████████████| 175/175 [00:11<00:00, 15.06it/s]\n"
     ]
    },
    {
     "name": "stdout",
     "output_type": "stream",
     "text": [
      "Epoch [52/100], Loss: 2004.8006\n"
     ]
    },
    {
     "name": "stderr",
     "output_type": "stream",
     "text": [
      "100%|█████████████████████████████████████████████████████████████| 175/175 [00:11<00:00, 14.86it/s]\n"
     ]
    },
    {
     "name": "stdout",
     "output_type": "stream",
     "text": [
      "Epoch [53/100], Loss: 1610.2056\n"
     ]
    },
    {
     "name": "stderr",
     "output_type": "stream",
     "text": [
      "100%|█████████████████████████████████████████████████████████████| 175/175 [00:11<00:00, 14.92it/s]\n"
     ]
    },
    {
     "name": "stdout",
     "output_type": "stream",
     "text": [
      "Epoch [54/100], Loss: 2093.6251\n"
     ]
    },
    {
     "name": "stderr",
     "output_type": "stream",
     "text": [
      "100%|█████████████████████████████████████████████████████████████| 175/175 [00:11<00:00, 14.91it/s]\n"
     ]
    },
    {
     "name": "stdout",
     "output_type": "stream",
     "text": [
      "Epoch [55/100], Loss: 1839.8775\n"
     ]
    },
    {
     "name": "stderr",
     "output_type": "stream",
     "text": [
      "100%|█████████████████████████████████████████████████████████████| 175/175 [00:11<00:00, 14.91it/s]\n"
     ]
    },
    {
     "name": "stdout",
     "output_type": "stream",
     "text": [
      "Epoch [56/100], Loss: 2162.3283\n"
     ]
    },
    {
     "name": "stderr",
     "output_type": "stream",
     "text": [
      "100%|█████████████████████████████████████████████████████████████| 175/175 [00:11<00:00, 14.99it/s]\n"
     ]
    },
    {
     "name": "stdout",
     "output_type": "stream",
     "text": [
      "Epoch [57/100], Loss: 2784.7247\n"
     ]
    },
    {
     "name": "stderr",
     "output_type": "stream",
     "text": [
      "100%|█████████████████████████████████████████████████████████████| 175/175 [00:11<00:00, 14.92it/s]\n"
     ]
    },
    {
     "name": "stdout",
     "output_type": "stream",
     "text": [
      "Epoch [58/100], Loss: 2162.6507\n"
     ]
    },
    {
     "name": "stderr",
     "output_type": "stream",
     "text": [
      "100%|█████████████████████████████████████████████████████████████| 175/175 [00:11<00:00, 15.06it/s]\n"
     ]
    },
    {
     "name": "stdout",
     "output_type": "stream",
     "text": [
      "Epoch [59/100], Loss: 2468.6559\n"
     ]
    },
    {
     "name": "stderr",
     "output_type": "stream",
     "text": [
      "100%|█████████████████████████████████████████████████████████████| 175/175 [00:11<00:00, 15.02it/s]\n"
     ]
    },
    {
     "name": "stdout",
     "output_type": "stream",
     "text": [
      "Epoch [60/100], Loss: 1939.9453\n"
     ]
    },
    {
     "name": "stderr",
     "output_type": "stream",
     "text": [
      "100%|█████████████████████████████████████████████████████████████| 175/175 [00:11<00:00, 15.02it/s]\n"
     ]
    },
    {
     "name": "stdout",
     "output_type": "stream",
     "text": [
      "Epoch [61/100], Loss: 1751.8088\n"
     ]
    },
    {
     "name": "stderr",
     "output_type": "stream",
     "text": [
      "100%|█████████████████████████████████████████████████████████████| 175/175 [00:11<00:00, 14.99it/s]\n"
     ]
    },
    {
     "name": "stdout",
     "output_type": "stream",
     "text": [
      "Epoch [62/100], Loss: 2144.7571\n"
     ]
    },
    {
     "name": "stderr",
     "output_type": "stream",
     "text": [
      "100%|█████████████████████████████████████████████████████████████| 175/175 [00:11<00:00, 14.89it/s]\n"
     ]
    },
    {
     "name": "stdout",
     "output_type": "stream",
     "text": [
      "Epoch [63/100], Loss: 1713.8097\n"
     ]
    },
    {
     "name": "stderr",
     "output_type": "stream",
     "text": [
      "100%|█████████████████████████████████████████████████████████████| 175/175 [00:11<00:00, 14.93it/s]\n"
     ]
    },
    {
     "name": "stdout",
     "output_type": "stream",
     "text": [
      "Epoch [64/100], Loss: 3066.8504\n"
     ]
    },
    {
     "name": "stderr",
     "output_type": "stream",
     "text": [
      "100%|█████████████████████████████████████████████████████████████| 175/175 [00:12<00:00, 14.23it/s]\n"
     ]
    },
    {
     "name": "stdout",
     "output_type": "stream",
     "text": [
      "Epoch [65/100], Loss: 2376.5344\n"
     ]
    },
    {
     "name": "stderr",
     "output_type": "stream",
     "text": [
      "100%|█████████████████████████████████████████████████████████████| 175/175 [00:12<00:00, 14.35it/s]\n"
     ]
    },
    {
     "name": "stdout",
     "output_type": "stream",
     "text": [
      "Epoch [66/100], Loss: 2178.5160\n"
     ]
    },
    {
     "name": "stderr",
     "output_type": "stream",
     "text": [
      "100%|█████████████████████████████████████████████████████████████| 175/175 [00:11<00:00, 14.82it/s]\n"
     ]
    },
    {
     "name": "stdout",
     "output_type": "stream",
     "text": [
      "Epoch [67/100], Loss: 1649.4886\n"
     ]
    },
    {
     "name": "stderr",
     "output_type": "stream",
     "text": [
      "100%|█████████████████████████████████████████████████████████████| 175/175 [00:12<00:00, 14.24it/s]\n"
     ]
    },
    {
     "name": "stdout",
     "output_type": "stream",
     "text": [
      "Epoch [68/100], Loss: 2055.7224\n"
     ]
    },
    {
     "name": "stderr",
     "output_type": "stream",
     "text": [
      "100%|█████████████████████████████████████████████████████████████| 175/175 [00:12<00:00, 14.44it/s]\n"
     ]
    },
    {
     "name": "stdout",
     "output_type": "stream",
     "text": [
      "Epoch [69/100], Loss: 1669.3313\n"
     ]
    },
    {
     "name": "stderr",
     "output_type": "stream",
     "text": [
      "100%|█████████████████████████████████████████████████████████████| 175/175 [00:12<00:00, 14.54it/s]\n"
     ]
    },
    {
     "name": "stdout",
     "output_type": "stream",
     "text": [
      "Epoch [70/100], Loss: 1893.7280\n"
     ]
    },
    {
     "name": "stderr",
     "output_type": "stream",
     "text": [
      "100%|█████████████████████████████████████████████████████████████| 175/175 [00:11<00:00, 14.75it/s]\n"
     ]
    },
    {
     "name": "stdout",
     "output_type": "stream",
     "text": [
      "Epoch [71/100], Loss: 1467.5339\n"
     ]
    },
    {
     "name": "stderr",
     "output_type": "stream",
     "text": [
      "100%|█████████████████████████████████████████████████████████████| 175/175 [00:11<00:00, 14.59it/s]\n"
     ]
    },
    {
     "name": "stdout",
     "output_type": "stream",
     "text": [
      "Epoch [72/100], Loss: 1455.0313\n"
     ]
    },
    {
     "name": "stderr",
     "output_type": "stream",
     "text": [
      "100%|█████████████████████████████████████████████████████████████| 175/175 [00:12<00:00, 14.33it/s]\n"
     ]
    },
    {
     "name": "stdout",
     "output_type": "stream",
     "text": [
      "Epoch [73/100], Loss: 1811.7042\n"
     ]
    },
    {
     "name": "stderr",
     "output_type": "stream",
     "text": [
      "100%|█████████████████████████████████████████████████████████████| 175/175 [00:12<00:00, 14.20it/s]\n"
     ]
    },
    {
     "name": "stdout",
     "output_type": "stream",
     "text": [
      "Epoch [74/100], Loss: 2302.4622\n"
     ]
    },
    {
     "name": "stderr",
     "output_type": "stream",
     "text": [
      "100%|█████████████████████████████████████████████████████████████| 175/175 [00:12<00:00, 14.36it/s]\n"
     ]
    },
    {
     "name": "stdout",
     "output_type": "stream",
     "text": [
      "Epoch [75/100], Loss: 2434.5420\n"
     ]
    },
    {
     "name": "stderr",
     "output_type": "stream",
     "text": [
      "100%|█████████████████████████████████████████████████████████████| 175/175 [00:11<00:00, 14.74it/s]\n"
     ]
    },
    {
     "name": "stdout",
     "output_type": "stream",
     "text": [
      "Epoch [76/100], Loss: 1477.8230\n"
     ]
    },
    {
     "name": "stderr",
     "output_type": "stream",
     "text": [
      "100%|█████████████████████████████████████████████████████████████| 175/175 [00:11<00:00, 14.95it/s]\n"
     ]
    },
    {
     "name": "stdout",
     "output_type": "stream",
     "text": [
      "Epoch [77/100], Loss: 1556.9232\n"
     ]
    },
    {
     "name": "stderr",
     "output_type": "stream",
     "text": [
      "100%|█████████████████████████████████████████████████████████████| 175/175 [00:11<00:00, 14.86it/s]\n"
     ]
    },
    {
     "name": "stdout",
     "output_type": "stream",
     "text": [
      "Epoch [78/100], Loss: 1994.9755\n"
     ]
    },
    {
     "name": "stderr",
     "output_type": "stream",
     "text": [
      "100%|█████████████████████████████████████████████████████████████| 175/175 [00:11<00:00, 14.92it/s]\n"
     ]
    },
    {
     "name": "stdout",
     "output_type": "stream",
     "text": [
      "Epoch [79/100], Loss: 1872.3547\n"
     ]
    },
    {
     "name": "stderr",
     "output_type": "stream",
     "text": [
      "100%|█████████████████████████████████████████████████████████████| 175/175 [00:12<00:00, 14.53it/s]\n"
     ]
    },
    {
     "name": "stdout",
     "output_type": "stream",
     "text": [
      "Epoch [80/100], Loss: 1828.5120\n"
     ]
    },
    {
     "name": "stderr",
     "output_type": "stream",
     "text": [
      "100%|█████████████████████████████████████████████████████████████| 175/175 [00:12<00:00, 14.51it/s]\n"
     ]
    },
    {
     "name": "stdout",
     "output_type": "stream",
     "text": [
      "Epoch [81/100], Loss: 1350.7000\n"
     ]
    },
    {
     "name": "stderr",
     "output_type": "stream",
     "text": [
      "100%|█████████████████████████████████████████████████████████████| 175/175 [00:11<00:00, 14.89it/s]\n"
     ]
    },
    {
     "name": "stdout",
     "output_type": "stream",
     "text": [
      "Epoch [82/100], Loss: 1607.5004\n"
     ]
    },
    {
     "name": "stderr",
     "output_type": "stream",
     "text": [
      "100%|█████████████████████████████████████████████████████████████| 175/175 [00:11<00:00, 14.75it/s]\n"
     ]
    },
    {
     "name": "stdout",
     "output_type": "stream",
     "text": [
      "Epoch [83/100], Loss: 1460.8169\n"
     ]
    },
    {
     "name": "stderr",
     "output_type": "stream",
     "text": [
      "100%|█████████████████████████████████████████████████████████████| 175/175 [00:11<00:00, 14.90it/s]\n"
     ]
    },
    {
     "name": "stdout",
     "output_type": "stream",
     "text": [
      "Epoch [84/100], Loss: 1669.5599\n"
     ]
    },
    {
     "name": "stderr",
     "output_type": "stream",
     "text": [
      "100%|█████████████████████████████████████████████████████████████| 175/175 [00:11<00:00, 15.01it/s]\n"
     ]
    },
    {
     "name": "stdout",
     "output_type": "stream",
     "text": [
      "Epoch [85/100], Loss: 1371.6698\n"
     ]
    },
    {
     "name": "stderr",
     "output_type": "stream",
     "text": [
      "100%|█████████████████████████████████████████████████████████████| 175/175 [00:11<00:00, 14.61it/s]\n"
     ]
    },
    {
     "name": "stdout",
     "output_type": "stream",
     "text": [
      "Epoch [86/100], Loss: 1377.8151\n"
     ]
    },
    {
     "name": "stderr",
     "output_type": "stream",
     "text": [
      "100%|█████████████████████████████████████████████████████████████| 175/175 [00:12<00:00, 14.51it/s]\n"
     ]
    },
    {
     "name": "stdout",
     "output_type": "stream",
     "text": [
      "Epoch [87/100], Loss: 1323.4469\n"
     ]
    },
    {
     "name": "stderr",
     "output_type": "stream",
     "text": [
      "100%|█████████████████████████████████████████████████████████████| 175/175 [00:11<00:00, 14.96it/s]\n"
     ]
    },
    {
     "name": "stdout",
     "output_type": "stream",
     "text": [
      "Epoch [88/100], Loss: 1534.7038\n"
     ]
    },
    {
     "name": "stderr",
     "output_type": "stream",
     "text": [
      "100%|█████████████████████████████████████████████████████████████| 175/175 [00:11<00:00, 14.92it/s]\n"
     ]
    },
    {
     "name": "stdout",
     "output_type": "stream",
     "text": [
      "Epoch [89/100], Loss: 1256.0485\n"
     ]
    },
    {
     "name": "stderr",
     "output_type": "stream",
     "text": [
      "100%|█████████████████████████████████████████████████████████████| 175/175 [00:11<00:00, 14.70it/s]\n"
     ]
    },
    {
     "name": "stdout",
     "output_type": "stream",
     "text": [
      "Epoch [90/100], Loss: 2129.0082\n"
     ]
    },
    {
     "name": "stderr",
     "output_type": "stream",
     "text": [
      "100%|█████████████████████████████████████████████████████████████| 175/175 [00:11<00:00, 14.84it/s]\n"
     ]
    },
    {
     "name": "stdout",
     "output_type": "stream",
     "text": [
      "Epoch [91/100], Loss: 1986.6987\n"
     ]
    },
    {
     "name": "stderr",
     "output_type": "stream",
     "text": [
      "100%|█████████████████████████████████████████████████████████████| 175/175 [00:11<00:00, 14.97it/s]\n"
     ]
    },
    {
     "name": "stdout",
     "output_type": "stream",
     "text": [
      "Epoch [92/100], Loss: 1673.8301\n"
     ]
    },
    {
     "name": "stderr",
     "output_type": "stream",
     "text": [
      "100%|█████████████████████████████████████████████████████████████| 175/175 [00:11<00:00, 14.86it/s]\n"
     ]
    },
    {
     "name": "stdout",
     "output_type": "stream",
     "text": [
      "Epoch [93/100], Loss: 1376.3123\n"
     ]
    },
    {
     "name": "stderr",
     "output_type": "stream",
     "text": [
      "100%|█████████████████████████████████████████████████████████████| 175/175 [00:11<00:00, 14.86it/s]\n"
     ]
    },
    {
     "name": "stdout",
     "output_type": "stream",
     "text": [
      "Epoch [94/100], Loss: 1356.8860\n"
     ]
    },
    {
     "name": "stderr",
     "output_type": "stream",
     "text": [
      "100%|█████████████████████████████████████████████████████████████| 175/175 [00:11<00:00, 14.87it/s]\n"
     ]
    },
    {
     "name": "stdout",
     "output_type": "stream",
     "text": [
      "Epoch [95/100], Loss: 1301.8765\n"
     ]
    },
    {
     "name": "stderr",
     "output_type": "stream",
     "text": [
      "100%|█████████████████████████████████████████████████████████████| 175/175 [00:11<00:00, 14.87it/s]\n"
     ]
    },
    {
     "name": "stdout",
     "output_type": "stream",
     "text": [
      "Epoch [96/100], Loss: 1189.8565\n"
     ]
    },
    {
     "name": "stderr",
     "output_type": "stream",
     "text": [
      "100%|█████████████████████████████████████████████████████████████| 175/175 [00:11<00:00, 14.99it/s]\n"
     ]
    },
    {
     "name": "stdout",
     "output_type": "stream",
     "text": [
      "Epoch [97/100], Loss: 1960.4541\n"
     ]
    },
    {
     "name": "stderr",
     "output_type": "stream",
     "text": [
      "100%|█████████████████████████████████████████████████████████████| 175/175 [00:11<00:00, 14.95it/s]\n"
     ]
    },
    {
     "name": "stdout",
     "output_type": "stream",
     "text": [
      "Epoch [98/100], Loss: 1511.3922\n"
     ]
    },
    {
     "name": "stderr",
     "output_type": "stream",
     "text": [
      "100%|█████████████████████████████████████████████████████████████| 175/175 [00:11<00:00, 14.99it/s]\n"
     ]
    },
    {
     "name": "stdout",
     "output_type": "stream",
     "text": [
      "Epoch [99/100], Loss: 1987.4509\n"
     ]
    },
    {
     "name": "stderr",
     "output_type": "stream",
     "text": [
      "100%|█████████████████████████████████████████████████████████████| 175/175 [00:11<00:00, 14.91it/s]"
     ]
    },
    {
     "name": "stdout",
     "output_type": "stream",
     "text": [
      "Epoch [100/100], Loss: 1528.4294\n",
      "Training complete.\n"
     ]
    },
    {
     "name": "stderr",
     "output_type": "stream",
     "text": [
      "\n"
     ]
    }
   ],
   "source": [
    "model, train_history = train(model, dataloader, criterion, optimizer, epoches, device)"
   ]
  },
  {
   "cell_type": "markdown",
   "metadata": {},
   "source": [
    "학습 loss"
   ]
  },
  {
   "cell_type": "code",
   "execution_count": 32,
   "metadata": {},
   "outputs": [
    {
     "data": {
      "image/png": "[encoded data removed]",
      "text/plain": [
       "<Figure size 640x480 with 1 Axes>"
      ]
     },
     "metadata": {},
     "output_type": "display_data"
    }
   ],
   "source": [
    "plt.plot(train_history)\n",
    "\n",
    "plt.title('Model Loss')\n",
    "plt.xlabel('epoches')\n",
    "plt.ylabel('loss')\n",
    "plt.grid(True, linestyle='--')\n",
    "\n",
    "plt.show()"
   ]
  },
  {
   "cell_type": "code",
   "execution_count": 33,
   "metadata": {},
   "outputs": [],
   "source": [
    "torch.save(model.state_dict(), 'model4.pth')"
   ]
  },
  {
   "cell_type": "markdown",
   "metadata": {},
   "source": [
    "### 예측"
   ]
  },
  {
   "cell_type": "code",
   "execution_count": 53,
   "metadata": {},
   "outputs": [],
   "source": [
    "test_target_date = {\n",
    "  # 최소 2024-10-25\n",
    "  \"start_date\": '2024-10-25',\n",
    "  # 최대 2024-11-07\n",
    "  \"end_date\": '2024-11-07',\n",
    "}\n",
    "\n",
    "predict_target_date = '2024-11-05'"
   ]
  },
  {
   "cell_type": "markdown",
   "metadata": {},
   "source": [
    "##### 모델 불러오기"
   ]
  },
  {
   "cell_type": "code",
   "execution_count": 54,
   "metadata": {},
   "outputs": [
    {
     "name": "stderr",
     "output_type": "stream",
     "text": [
      "C:\\Users\\ldh75\\AppData\\Local\\Temp\\ipykernel_24912\\4006895719.py:5: FutureWarning: You are using `torch.load` with `weights_only=False` (the current default value), which uses the default pickle module implicitly. It is possible to construct malicious pickle data which will execute arbitrary code during unpickling (See https://github.com/pytorch/pytorch/blob/main/SECURITY.md#untrusted-models for more details). In a future release, the default value for `weights_only` will be flipped to `True`. This limits the functions that could be executed during unpickling. Arbitrary objects will no longer be allowed to be loaded via this mode unless they are explicitly allowlisted by the user via `torch.serialization.add_safe_globals`. We recommend you start setting `weights_only=True` for any use case where you don't have full control of the loaded file. Please open an issue on GitHub for any issues related to this experimental feature.\n",
      "  model_test.load_state_dict(torch.load('model4.pth'))\n"
     ]
    },
    {
     "data": {
      "text/plain": [
       "<All keys matched successfully>"
      ]
     },
     "execution_count": 54,
     "metadata": {},
     "output_type": "execute_result"
    }
   ],
   "source": [
    "model_test = NeuralNetwork(input_size, output_size)\n",
    "\n",
    "model_test.to(device)\n",
    "\n",
    "model_test.load_state_dict(torch.load('model4.pth'))"
   ]
  },
  {
   "cell_type": "markdown",
   "metadata": {},
   "source": [
    "##### X 데이터\n",
    "\n",
    "- 제주 기상 예측 1 (n+1)\n",
    "- 제주 기상 예측 2 (n+1)\n",
    "- 하루 전 시장 전기 예측 (n)\n",
    "- 제주 전력 시장 실시간 (n-1)\n",
    "- 제주 전력 시장 현황 (n-1)"
   ]
  },
  {
   "cell_type": "code",
   "execution_count": 55,
   "metadata": {},
   "outputs": [],
   "source": [
    "dfs = [weather_forecast_1, weather_forecast_2, smp_da_x, smp_rt_rc, elec_supply]\n",
    "\n",
    "test_data = reduce(lambda left, right: pd.merge(left, right, on='datetime', how='inner'), dfs)\n",
    "\n",
    "target_day = datetime.strptime(predict_target_date, '%Y-%m-%d')\n",
    "\n",
    "target_data = test_data.loc[\n",
    "  (test_data['datetime'] > target_day) &\n",
    "  (test_data['datetime'] <= target_day + timedelta(days=1))\n",
    "]\n",
    "\n",
    "test_data = test_data.loc[\n",
    "  (test_data['datetime'] > datetime.strptime(test_target_date['start_date'], '%Y-%m-%d')) &\n",
    "  (test_data['datetime'] <= datetime.strptime(test_target_date['end_date'], '%Y-%m-%d') + timedelta(days=1))\n",
    "]"
   ]
  },
  {
   "cell_type": "code",
   "execution_count": 56,
   "metadata": {},
   "outputs": [
    {
     "data": {
      "text/html": [
       "<div>\n",
       "<style scoped>\n",
       "    .dataframe tbody tr th:only-of-type {\n",
       "        vertical-align: middle;\n",
       "    }\n",
       "\n",
       "    .dataframe tbody tr th {\n",
       "        vertical-align: top;\n",
       "    }\n",
       "\n",
       "    .dataframe thead th {\n",
       "        text-align: right;\n",
       "    }\n",
       "</style>\n",
       "<table border=\"1\" class=\"dataframe\">\n",
       "  <thead>\n",
       "    <tr style=\"text-align: right;\">\n",
       "      <th></th>\n",
       "      <th>datetime</th>\n",
       "      <th>temp_x</th>\n",
       "      <th>real_feel_temp</th>\n",
       "      <th>rel_hum</th>\n",
       "      <th>dew_point</th>\n",
       "      <th>wind_dir_x</th>\n",
       "      <th>wind_spd</th>\n",
       "      <th>wind_gust_spd</th>\n",
       "      <th>uv_idx</th>\n",
       "      <th>vis</th>\n",
       "      <th>...</th>\n",
       "      <th>하루전가격(원/kWh)</th>\n",
       "      <th>실시간 임시 가격(원/kWh)</th>\n",
       "      <th>실시간 확정 가격(원/kWh)</th>\n",
       "      <th>공급능력(kW)</th>\n",
       "      <th>현재 수요(kW)</th>\n",
       "      <th>태양광 발전량kW)</th>\n",
       "      <th>풍력 발전량(kW)</th>\n",
       "      <th>신재생 발전량 총합(kW)</th>\n",
       "      <th>공급 예비력(kW)</th>\n",
       "      <th>운영 예비력(kW)</th>\n",
       "    </tr>\n",
       "  </thead>\n",
       "  <tbody>\n",
       "    <tr>\n",
       "      <th>5865</th>\n",
       "      <td>2024-11-05 01:00:00</td>\n",
       "      <td>14.135811</td>\n",
       "      <td>10.123461</td>\n",
       "      <td>73.555556</td>\n",
       "      <td>9.506188</td>\n",
       "      <td>161.000000</td>\n",
       "      <td>30.488122</td>\n",
       "      <td>52.464633</td>\n",
       "      <td>0.000000</td>\n",
       "      <td>16.0934</td>\n",
       "      <td>...</td>\n",
       "      <td>103.98</td>\n",
       "      <td>100.874000</td>\n",
       "      <td>100.874000</td>\n",
       "      <td>1.128077e+06</td>\n",
       "      <td>506769.230769</td>\n",
       "      <td>0.000000</td>\n",
       "      <td>49740.376923</td>\n",
       "      <td>49910.230769</td>\n",
       "      <td>571153.846154</td>\n",
       "      <td>328538.461538</td>\n",
       "    </tr>\n",
       "    <tr>\n",
       "      <th>5866</th>\n",
       "      <td>2024-11-05 02:00:00</td>\n",
       "      <td>13.888900</td>\n",
       "      <td>9.814827</td>\n",
       "      <td>72.555556</td>\n",
       "      <td>9.074073</td>\n",
       "      <td>159.555556</td>\n",
       "      <td>29.862267</td>\n",
       "      <td>51.427511</td>\n",
       "      <td>0.000000</td>\n",
       "      <td>16.0934</td>\n",
       "      <td>...</td>\n",
       "      <td>87.53</td>\n",
       "      <td>90.686667</td>\n",
       "      <td>90.686667</td>\n",
       "      <td>1.124909e+06</td>\n",
       "      <td>479090.909091</td>\n",
       "      <td>0.000000</td>\n",
       "      <td>46735.536364</td>\n",
       "      <td>46992.654545</td>\n",
       "      <td>596000.000000</td>\n",
       "      <td>353000.000000</td>\n",
       "    </tr>\n",
       "    <tr>\n",
       "      <th>5867</th>\n",
       "      <td>2024-11-05 03:00:00</td>\n",
       "      <td>13.580233</td>\n",
       "      <td>9.567910</td>\n",
       "      <td>72.444444</td>\n",
       "      <td>8.827160</td>\n",
       "      <td>158.777778</td>\n",
       "      <td>28.843011</td>\n",
       "      <td>50.819533</td>\n",
       "      <td>0.000000</td>\n",
       "      <td>16.0934</td>\n",
       "      <td>...</td>\n",
       "      <td>87.42</td>\n",
       "      <td>87.392000</td>\n",
       "      <td>87.392000</td>\n",
       "      <td>1.136000e+06</td>\n",
       "      <td>465076.923077</td>\n",
       "      <td>0.000000</td>\n",
       "      <td>57687.215385</td>\n",
       "      <td>57943.815385</td>\n",
       "      <td>620615.384615</td>\n",
       "      <td>379538.461538</td>\n",
       "    </tr>\n",
       "    <tr>\n",
       "      <th>5868</th>\n",
       "      <td>2024-11-05 04:00:00</td>\n",
       "      <td>13.456778</td>\n",
       "      <td>9.444458</td>\n",
       "      <td>72.222222</td>\n",
       "      <td>8.456790</td>\n",
       "      <td>158.666667</td>\n",
       "      <td>28.431744</td>\n",
       "      <td>50.426133</td>\n",
       "      <td>0.000000</td>\n",
       "      <td>16.0934</td>\n",
       "      <td>...</td>\n",
       "      <td>86.95</td>\n",
       "      <td>87.213333</td>\n",
       "      <td>87.213333</td>\n",
       "      <td>1.135727e+06</td>\n",
       "      <td>457363.636364</td>\n",
       "      <td>0.000000</td>\n",
       "      <td>57016.754545</td>\n",
       "      <td>57190.263636</td>\n",
       "      <td>628090.909091</td>\n",
       "      <td>384000.000000</td>\n",
       "    </tr>\n",
       "    <tr>\n",
       "      <th>5869</th>\n",
       "      <td>2024-11-05 05:00:00</td>\n",
       "      <td>13.456778</td>\n",
       "      <td>9.444458</td>\n",
       "      <td>71.555556</td>\n",
       "      <td>8.395061</td>\n",
       "      <td>159.222222</td>\n",
       "      <td>27.609189</td>\n",
       "      <td>49.818156</td>\n",
       "      <td>0.000000</td>\n",
       "      <td>16.0934</td>\n",
       "      <td>...</td>\n",
       "      <td>87.27</td>\n",
       "      <td>89.432000</td>\n",
       "      <td>89.432000</td>\n",
       "      <td>1.138462e+06</td>\n",
       "      <td>462230.769231</td>\n",
       "      <td>0.000000</td>\n",
       "      <td>60370.353846</td>\n",
       "      <td>60490.107692</td>\n",
       "      <td>626076.923077</td>\n",
       "      <td>382538.461538</td>\n",
       "    </tr>\n",
       "    <tr>\n",
       "      <th>5870</th>\n",
       "      <td>2024-11-05 06:00:00</td>\n",
       "      <td>13.086411</td>\n",
       "      <td>9.444451</td>\n",
       "      <td>71.333333</td>\n",
       "      <td>8.148148</td>\n",
       "      <td>159.666667</td>\n",
       "      <td>26.983342</td>\n",
       "      <td>49.389000</td>\n",
       "      <td>0.000000</td>\n",
       "      <td>16.0934</td>\n",
       "      <td>...</td>\n",
       "      <td>102.49</td>\n",
       "      <td>92.450000</td>\n",
       "      <td>92.450000</td>\n",
       "      <td>1.150818e+06</td>\n",
       "      <td>480272.727273</td>\n",
       "      <td>0.000000</td>\n",
       "      <td>72965.809091</td>\n",
       "      <td>73085.245455</td>\n",
       "      <td>620636.363636</td>\n",
       "      <td>377909.090909</td>\n",
       "    </tr>\n",
       "    <tr>\n",
       "      <th>5871</th>\n",
       "      <td>2024-11-05 07:00:00</td>\n",
       "      <td>12.777778</td>\n",
       "      <td>8.888890</td>\n",
       "      <td>73.444444</td>\n",
       "      <td>8.148147</td>\n",
       "      <td>83.111111</td>\n",
       "      <td>27.805867</td>\n",
       "      <td>49.389000</td>\n",
       "      <td>0.000000</td>\n",
       "      <td>16.0934</td>\n",
       "      <td>...</td>\n",
       "      <td>104.14</td>\n",
       "      <td>92.550000</td>\n",
       "      <td>92.550000</td>\n",
       "      <td>1.115385e+06</td>\n",
       "      <td>493538.461538</td>\n",
       "      <td>545.529231</td>\n",
       "      <td>35658.007692</td>\n",
       "      <td>36347.138462</td>\n",
       "      <td>571846.153846</td>\n",
       "      <td>327615.384615</td>\n",
       "    </tr>\n",
       "    <tr>\n",
       "      <th>5872</th>\n",
       "      <td>2024-11-05 08:00:00</td>\n",
       "      <td>13.456789</td>\n",
       "      <td>10.308654</td>\n",
       "      <td>71.000000</td>\n",
       "      <td>8.333332</td>\n",
       "      <td>84.555556</td>\n",
       "      <td>27.591289</td>\n",
       "      <td>49.192300</td>\n",
       "      <td>1.000000</td>\n",
       "      <td>16.0934</td>\n",
       "      <td>...</td>\n",
       "      <td>115.78</td>\n",
       "      <td>96.676667</td>\n",
       "      <td>96.676667</td>\n",
       "      <td>1.169545e+06</td>\n",
       "      <td>475000.000000</td>\n",
       "      <td>29607.755455</td>\n",
       "      <td>61016.209091</td>\n",
       "      <td>90624.490909</td>\n",
       "      <td>646363.636364</td>\n",
       "      <td>398363.636364</td>\n",
       "    </tr>\n",
       "    <tr>\n",
       "      <th>5873</th>\n",
       "      <td>2024-11-05 09:00:00</td>\n",
       "      <td>14.506167</td>\n",
       "      <td>12.407404</td>\n",
       "      <td>66.444444</td>\n",
       "      <td>8.333332</td>\n",
       "      <td>85.555556</td>\n",
       "      <td>27.394600</td>\n",
       "      <td>48.977722</td>\n",
       "      <td>2.000000</td>\n",
       "      <td>16.0934</td>\n",
       "      <td>...</td>\n",
       "      <td>131.30</td>\n",
       "      <td>104.630000</td>\n",
       "      <td>104.630000</td>\n",
       "      <td>1.247692e+06</td>\n",
       "      <td>463076.923077</td>\n",
       "      <td>124886.069231</td>\n",
       "      <td>46579.207692</td>\n",
       "      <td>171465.846154</td>\n",
       "      <td>752769.230769</td>\n",
       "      <td>478000.000000</td>\n",
       "    </tr>\n",
       "    <tr>\n",
       "      <th>5874</th>\n",
       "      <td>2024-11-05 10:00:00</td>\n",
       "      <td>15.246933</td>\n",
       "      <td>13.580244</td>\n",
       "      <td>63.444444</td>\n",
       "      <td>8.333332</td>\n",
       "      <td>84.333333</td>\n",
       "      <td>27.394600</td>\n",
       "      <td>49.192300</td>\n",
       "      <td>2.888889</td>\n",
       "      <td>16.0934</td>\n",
       "      <td>...</td>\n",
       "      <td>149.56</td>\n",
       "      <td>104.630000</td>\n",
       "      <td>104.630000</td>\n",
       "      <td>1.311273e+06</td>\n",
       "      <td>486727.272727</td>\n",
       "      <td>197856.818182</td>\n",
       "      <td>40707.027273</td>\n",
       "      <td>238564.545455</td>\n",
       "      <td>807181.818182</td>\n",
       "      <td>521363.636364</td>\n",
       "    </tr>\n",
       "    <tr>\n",
       "      <th>5875</th>\n",
       "      <td>2024-11-05 11:00:00</td>\n",
       "      <td>15.740744</td>\n",
       "      <td>14.567889</td>\n",
       "      <td>60.555556</td>\n",
       "      <td>8.209876</td>\n",
       "      <td>83.111111</td>\n",
       "      <td>27.197911</td>\n",
       "      <td>49.389000</td>\n",
       "      <td>3.333333</td>\n",
       "      <td>16.0934</td>\n",
       "      <td>...</td>\n",
       "      <td>137.97</td>\n",
       "      <td>104.378000</td>\n",
       "      <td>104.378000</td>\n",
       "      <td>1.344000e+06</td>\n",
       "      <td>487769.230769</td>\n",
       "      <td>237528.846154</td>\n",
       "      <td>36550.261538</td>\n",
       "      <td>274079.769231</td>\n",
       "      <td>846923.076923</td>\n",
       "      <td>555384.615385</td>\n",
       "    </tr>\n",
       "    <tr>\n",
       "      <th>5876</th>\n",
       "      <td>2024-11-05 12:00:00</td>\n",
       "      <td>15.864211</td>\n",
       "      <td>14.814811</td>\n",
       "      <td>59.111111</td>\n",
       "      <td>7.901234</td>\n",
       "      <td>82.000000</td>\n",
       "      <td>27.394609</td>\n",
       "      <td>49.389000</td>\n",
       "      <td>3.222222</td>\n",
       "      <td>16.0934</td>\n",
       "      <td>...</td>\n",
       "      <td>134.96</td>\n",
       "      <td>69.333333</td>\n",
       "      <td>69.333333</td>\n",
       "      <td>1.343364e+06</td>\n",
       "      <td>482181.818182</td>\n",
       "      <td>259690.909091</td>\n",
       "      <td>15456.618182</td>\n",
       "      <td>275148.000000</td>\n",
       "      <td>839363.636364</td>\n",
       "      <td>560363.636364</td>\n",
       "    </tr>\n",
       "    <tr>\n",
       "      <th>5877</th>\n",
       "      <td>2024-11-05 13:00:00</td>\n",
       "      <td>16.049378</td>\n",
       "      <td>14.320989</td>\n",
       "      <td>57.555556</td>\n",
       "      <td>7.654322</td>\n",
       "      <td>120.555556</td>\n",
       "      <td>27.180031</td>\n",
       "      <td>49.389000</td>\n",
       "      <td>2.222222</td>\n",
       "      <td>16.0934</td>\n",
       "      <td>...</td>\n",
       "      <td>116.58</td>\n",
       "      <td>34.920000</td>\n",
       "      <td>34.920000</td>\n",
       "      <td>1.345000e+06</td>\n",
       "      <td>505307.692308</td>\n",
       "      <td>237683.923077</td>\n",
       "      <td>40593.723077</td>\n",
       "      <td>278278.230769</td>\n",
       "      <td>815615.384615</td>\n",
       "      <td>540153.846154</td>\n",
       "    </tr>\n",
       "    <tr>\n",
       "      <th>5878</th>\n",
       "      <td>2024-11-05 14:00:00</td>\n",
       "      <td>15.925944</td>\n",
       "      <td>13.703700</td>\n",
       "      <td>57.000000</td>\n",
       "      <td>7.283951</td>\n",
       "      <td>159.444444</td>\n",
       "      <td>27.180031</td>\n",
       "      <td>49.389000</td>\n",
       "      <td>1.666667</td>\n",
       "      <td>16.0934</td>\n",
       "      <td>...</td>\n",
       "      <td>116.58</td>\n",
       "      <td>93.056667</td>\n",
       "      <td>93.056667</td>\n",
       "      <td>1.331818e+06</td>\n",
       "      <td>519181.818182</td>\n",
       "      <td>208067.454545</td>\n",
       "      <td>57091.990909</td>\n",
       "      <td>265160.181818</td>\n",
       "      <td>789909.090909</td>\n",
       "      <td>512818.181818</td>\n",
       "    </tr>\n",
       "    <tr>\n",
       "      <th>5879</th>\n",
       "      <td>2024-11-05 15:00:00</td>\n",
       "      <td>15.432100</td>\n",
       "      <td>12.716054</td>\n",
       "      <td>57.222222</td>\n",
       "      <td>7.037038</td>\n",
       "      <td>158.444444</td>\n",
       "      <td>27.394609</td>\n",
       "      <td>49.818156</td>\n",
       "      <td>1.000000</td>\n",
       "      <td>16.0934</td>\n",
       "      <td>...</td>\n",
       "      <td>131.30</td>\n",
       "      <td>83.656000</td>\n",
       "      <td>83.656000</td>\n",
       "      <td>1.248231e+06</td>\n",
       "      <td>539461.538462</td>\n",
       "      <td>171255.692308</td>\n",
       "      <td>52783.800000</td>\n",
       "      <td>224104.538462</td>\n",
       "      <td>682615.384615</td>\n",
       "      <td>468615.384615</td>\n",
       "    </tr>\n",
       "    <tr>\n",
       "      <th>5880</th>\n",
       "      <td>2024-11-05 16:00:00</td>\n",
       "      <td>15.061733</td>\n",
       "      <td>12.160492</td>\n",
       "      <td>57.777778</td>\n",
       "      <td>6.851852</td>\n",
       "      <td>158.888889</td>\n",
       "      <td>27.394609</td>\n",
       "      <td>48.977722</td>\n",
       "      <td>1.000000</td>\n",
       "      <td>16.0934</td>\n",
       "      <td>...</td>\n",
       "      <td>131.40</td>\n",
       "      <td>105.913333</td>\n",
       "      <td>105.913333</td>\n",
       "      <td>1.171091e+06</td>\n",
       "      <td>592000.000000</td>\n",
       "      <td>106990.590909</td>\n",
       "      <td>45601.200000</td>\n",
       "      <td>152717.090909</td>\n",
       "      <td>559363.636364</td>\n",
       "      <td>407363.636364</td>\n",
       "    </tr>\n",
       "    <tr>\n",
       "      <th>5881</th>\n",
       "      <td>2024-11-05 17:00:00</td>\n",
       "      <td>14.444444</td>\n",
       "      <td>11.049396</td>\n",
       "      <td>59.555556</td>\n",
       "      <td>6.666668</td>\n",
       "      <td>159.555556</td>\n",
       "      <td>27.001220</td>\n",
       "      <td>47.726011</td>\n",
       "      <td>0.000000</td>\n",
       "      <td>16.0934</td>\n",
       "      <td>...</td>\n",
       "      <td>131.35</td>\n",
       "      <td>109.144000</td>\n",
       "      <td>109.144000</td>\n",
       "      <td>1.101385e+06</td>\n",
       "      <td>611076.923077</td>\n",
       "      <td>37503.838462</td>\n",
       "      <td>42299.653846</td>\n",
       "      <td>79964.753846</td>\n",
       "      <td>444846.153846</td>\n",
       "      <td>344076.923077</td>\n",
       "    </tr>\n",
       "    <tr>\n",
       "      <th>5882</th>\n",
       "      <td>2024-11-05 18:00:00</td>\n",
       "      <td>13.765433</td>\n",
       "      <td>9.938287</td>\n",
       "      <td>62.111111</td>\n",
       "      <td>6.543210</td>\n",
       "      <td>159.888889</td>\n",
       "      <td>26.375344</td>\n",
       "      <td>46.724633</td>\n",
       "      <td>0.000000</td>\n",
       "      <td>16.0934</td>\n",
       "      <td>...</td>\n",
       "      <td>127.26</td>\n",
       "      <td>109.963333</td>\n",
       "      <td>109.963333</td>\n",
       "      <td>1.072455e+06</td>\n",
       "      <td>642000.000000</td>\n",
       "      <td>4120.013636</td>\n",
       "      <td>43846.218182</td>\n",
       "      <td>48207.381818</td>\n",
       "      <td>380363.636364</td>\n",
       "      <td>313454.545455</td>\n",
       "    </tr>\n",
       "    <tr>\n",
       "      <th>5883</th>\n",
       "      <td>2024-11-05 19:00:00</td>\n",
       "      <td>13.209867</td>\n",
       "      <td>9.320994</td>\n",
       "      <td>63.444444</td>\n",
       "      <td>6.419752</td>\n",
       "      <td>120.444444</td>\n",
       "      <td>25.946178</td>\n",
       "      <td>45.705378</td>\n",
       "      <td>0.000000</td>\n",
       "      <td>16.0934</td>\n",
       "      <td>...</td>\n",
       "      <td>127.32</td>\n",
       "      <td>109.970000</td>\n",
       "      <td>109.970000</td>\n",
       "      <td>1.076462e+06</td>\n",
       "      <td>641461.538462</td>\n",
       "      <td>4778.104615</td>\n",
       "      <td>44564.576923</td>\n",
       "      <td>49584.030769</td>\n",
       "      <td>384846.153846</td>\n",
       "      <td>317153.846154</td>\n",
       "    </tr>\n",
       "    <tr>\n",
       "      <th>5884</th>\n",
       "      <td>2024-11-05 20:00:00</td>\n",
       "      <td>13.271589</td>\n",
       "      <td>9.629636</td>\n",
       "      <td>63.000000</td>\n",
       "      <td>6.358024</td>\n",
       "      <td>81.333333</td>\n",
       "      <td>25.946178</td>\n",
       "      <td>45.276222</td>\n",
       "      <td>0.000000</td>\n",
       "      <td>16.0934</td>\n",
       "      <td>...</td>\n",
       "      <td>116.78</td>\n",
       "      <td>109.840000</td>\n",
       "      <td>109.840000</td>\n",
       "      <td>1.070727e+06</td>\n",
       "      <td>633090.909091</td>\n",
       "      <td>6315.502727</td>\n",
       "      <td>36120.400000</td>\n",
       "      <td>42678.009091</td>\n",
       "      <td>387545.454545</td>\n",
       "      <td>320454.545455</td>\n",
       "    </tr>\n",
       "    <tr>\n",
       "      <th>5885</th>\n",
       "      <td>2024-11-05 21:00:00</td>\n",
       "      <td>12.901233</td>\n",
       "      <td>9.259266</td>\n",
       "      <td>64.333333</td>\n",
       "      <td>6.296296</td>\n",
       "      <td>81.888889</td>\n",
       "      <td>25.320332</td>\n",
       "      <td>44.042389</td>\n",
       "      <td>0.000000</td>\n",
       "      <td>16.0934</td>\n",
       "      <td>...</td>\n",
       "      <td>116.73</td>\n",
       "      <td>109.132000</td>\n",
       "      <td>109.132000</td>\n",
       "      <td>1.059615e+06</td>\n",
       "      <td>611615.384615</td>\n",
       "      <td>4558.236923</td>\n",
       "      <td>25821.284615</td>\n",
       "      <td>30621.400000</td>\n",
       "      <td>397692.307692</td>\n",
       "      <td>329615.384615</td>\n",
       "    </tr>\n",
       "    <tr>\n",
       "      <th>5886</th>\n",
       "      <td>2024-11-05 22:00:00</td>\n",
       "      <td>12.592589</td>\n",
       "      <td>8.888891</td>\n",
       "      <td>64.777778</td>\n",
       "      <td>6.172840</td>\n",
       "      <td>82.333333</td>\n",
       "      <td>24.694488</td>\n",
       "      <td>42.611856</td>\n",
       "      <td>0.000000</td>\n",
       "      <td>16.0934</td>\n",
       "      <td>...</td>\n",
       "      <td>106.73</td>\n",
       "      <td>108.590000</td>\n",
       "      <td>108.590000</td>\n",
       "      <td>1.055545e+06</td>\n",
       "      <td>590090.909091</td>\n",
       "      <td>2189.443636</td>\n",
       "      <td>22990.209091</td>\n",
       "      <td>25501.027273</td>\n",
       "      <td>415181.818182</td>\n",
       "      <td>347909.090909</td>\n",
       "    </tr>\n",
       "    <tr>\n",
       "      <th>5887</th>\n",
       "      <td>2024-11-05 23:00:00</td>\n",
       "      <td>12.407400</td>\n",
       "      <td>8.703701</td>\n",
       "      <td>64.111111</td>\n",
       "      <td>5.987656</td>\n",
       "      <td>82.555556</td>\n",
       "      <td>24.301088</td>\n",
       "      <td>41.986000</td>\n",
       "      <td>0.000000</td>\n",
       "      <td>16.0934</td>\n",
       "      <td>...</td>\n",
       "      <td>106.56</td>\n",
       "      <td>107.550000</td>\n",
       "      <td>107.550000</td>\n",
       "      <td>1.042692e+06</td>\n",
       "      <td>565076.923077</td>\n",
       "      <td>0.000000</td>\n",
       "      <td>11962.710769</td>\n",
       "      <td>12445.863077</td>\n",
       "      <td>427461.538462</td>\n",
       "      <td>246307.692308</td>\n",
       "    </tr>\n",
       "    <tr>\n",
       "      <th>5888</th>\n",
       "      <td>2024-11-06 00:00:00</td>\n",
       "      <td>12.345678</td>\n",
       "      <td>8.765432</td>\n",
       "      <td>63.722222</td>\n",
       "      <td>5.648148</td>\n",
       "      <td>83.000000</td>\n",
       "      <td>23.907699</td>\n",
       "      <td>41.592600</td>\n",
       "      <td>0.000000</td>\n",
       "      <td>16.0934</td>\n",
       "      <td>...</td>\n",
       "      <td>104.12</td>\n",
       "      <td>105.060000</td>\n",
       "      <td>105.060000</td>\n",
       "      <td>1.034200e+06</td>\n",
       "      <td>530000.000000</td>\n",
       "      <td>0.000000</td>\n",
       "      <td>3419.278000</td>\n",
       "      <td>3662.515000</td>\n",
       "      <td>454100.000000</td>\n",
       "      <td>263400.000000</td>\n",
       "    </tr>\n",
       "  </tbody>\n",
       "</table>\n",
       "<p>24 rows × 34 columns</p>\n",
       "</div>"
      ],
      "text/plain": [
       "                datetime     temp_x  real_feel_temp    rel_hum  dew_point  \\\n",
       "5865 2024-11-05 01:00:00  14.135811       10.123461  73.555556   9.506188   \n",
       "5866 2024-11-05 02:00:00  13.888900        9.814827  72.555556   9.074073   \n",
       "5867 2024-11-05 03:00:00  13.580233        9.567910  72.444444   8.827160   \n",
       "5868 2024-11-05 04:00:00  13.456778        9.444458  72.222222   8.456790   \n",
       "5869 2024-11-05 05:00:00  13.456778        9.444458  71.555556   8.395061   \n",
       "5870 2024-11-05 06:00:00  13.086411        9.444451  71.333333   8.148148   \n",
       "5871 2024-11-05 07:00:00  12.777778        8.888890  73.444444   8.148147   \n",
       "5872 2024-11-05 08:00:00  13.456789       10.308654  71.000000   8.333332   \n",
       "5873 2024-11-05 09:00:00  14.506167       12.407404  66.444444   8.333332   \n",
       "5874 2024-11-05 10:00:00  15.246933       13.580244  63.444444   8.333332   \n",
       "5875 2024-11-05 11:00:00  15.740744       14.567889  60.555556   8.209876   \n",
       "5876 2024-11-05 12:00:00  15.864211       14.814811  59.111111   7.901234   \n",
       "5877 2024-11-05 13:00:00  16.049378       14.320989  57.555556   7.654322   \n",
       "5878 2024-11-05 14:00:00  15.925944       13.703700  57.000000   7.283951   \n",
       "5879 2024-11-05 15:00:00  15.432100       12.716054  57.222222   7.037038   \n",
       "5880 2024-11-05 16:00:00  15.061733       12.160492  57.777778   6.851852   \n",
       "5881 2024-11-05 17:00:00  14.444444       11.049396  59.555556   6.666668   \n",
       "5882 2024-11-05 18:00:00  13.765433        9.938287  62.111111   6.543210   \n",
       "5883 2024-11-05 19:00:00  13.209867        9.320994  63.444444   6.419752   \n",
       "5884 2024-11-05 20:00:00  13.271589        9.629636  63.000000   6.358024   \n",
       "5885 2024-11-05 21:00:00  12.901233        9.259266  64.333333   6.296296   \n",
       "5886 2024-11-05 22:00:00  12.592589        8.888891  64.777778   6.172840   \n",
       "5887 2024-11-05 23:00:00  12.407400        8.703701  64.111111   5.987656   \n",
       "5888 2024-11-06 00:00:00  12.345678        8.765432  63.722222   5.648148   \n",
       "\n",
       "      wind_dir_x   wind_spd  wind_gust_spd    uv_idx      vis  ...  \\\n",
       "5865  161.000000  30.488122      52.464633  0.000000  16.0934  ...   \n",
       "5866  159.555556  29.862267      51.427511  0.000000  16.0934  ...   \n",
       "5867  158.777778  28.843011      50.819533  0.000000  16.0934  ...   \n",
       "5868  158.666667  28.431744      50.426133  0.000000  16.0934  ...   \n",
       "5869  159.222222  27.609189      49.818156  0.000000  16.0934  ...   \n",
       "5870  159.666667  26.983342      49.389000  0.000000  16.0934  ...   \n",
       "5871   83.111111  27.805867      49.389000  0.000000  16.0934  ...   \n",
       "5872   84.555556  27.591289      49.192300  1.000000  16.0934  ...   \n",
       "5873   85.555556  27.394600      48.977722  2.000000  16.0934  ...   \n",
       "5874   84.333333  27.394600      49.192300  2.888889  16.0934  ...   \n",
       "5875   83.111111  27.197911      49.389000  3.333333  16.0934  ...   \n",
       "5876   82.000000  27.394609      49.389000  3.222222  16.0934  ...   \n",
       "5877  120.555556  27.180031      49.389000  2.222222  16.0934  ...   \n",
       "5878  159.444444  27.180031      49.389000  1.666667  16.0934  ...   \n",
       "5879  158.444444  27.394609      49.818156  1.000000  16.0934  ...   \n",
       "5880  158.888889  27.394609      48.977722  1.000000  16.0934  ...   \n",
       "5881  159.555556  27.001220      47.726011  0.000000  16.0934  ...   \n",
       "5882  159.888889  26.375344      46.724633  0.000000  16.0934  ...   \n",
       "5883  120.444444  25.946178      45.705378  0.000000  16.0934  ...   \n",
       "5884   81.333333  25.946178      45.276222  0.000000  16.0934  ...   \n",
       "5885   81.888889  25.320332      44.042389  0.000000  16.0934  ...   \n",
       "5886   82.333333  24.694488      42.611856  0.000000  16.0934  ...   \n",
       "5887   82.555556  24.301088      41.986000  0.000000  16.0934  ...   \n",
       "5888   83.000000  23.907699      41.592600  0.000000  16.0934  ...   \n",
       "\n",
       "      하루전가격(원/kWh)  실시간 임시 가격(원/kWh)  실시간 확정 가격(원/kWh)      공급능력(kW)  \\\n",
       "5865        103.98        100.874000        100.874000  1.128077e+06   \n",
       "5866         87.53         90.686667         90.686667  1.124909e+06   \n",
       "5867         87.42         87.392000         87.392000  1.136000e+06   \n",
       "5868         86.95         87.213333         87.213333  1.135727e+06   \n",
       "5869         87.27         89.432000         89.432000  1.138462e+06   \n",
       "5870        102.49         92.450000         92.450000  1.150818e+06   \n",
       "5871        104.14         92.550000         92.550000  1.115385e+06   \n",
       "5872        115.78         96.676667         96.676667  1.169545e+06   \n",
       "5873        131.30        104.630000        104.630000  1.247692e+06   \n",
       "5874        149.56        104.630000        104.630000  1.311273e+06   \n",
       "5875        137.97        104.378000        104.378000  1.344000e+06   \n",
       "5876        134.96         69.333333         69.333333  1.343364e+06   \n",
       "5877        116.58         34.920000         34.920000  1.345000e+06   \n",
       "5878        116.58         93.056667         93.056667  1.331818e+06   \n",
       "5879        131.30         83.656000         83.656000  1.248231e+06   \n",
       "5880        131.40        105.913333        105.913333  1.171091e+06   \n",
       "5881        131.35        109.144000        109.144000  1.101385e+06   \n",
       "5882        127.26        109.963333        109.963333  1.072455e+06   \n",
       "5883        127.32        109.970000        109.970000  1.076462e+06   \n",
       "5884        116.78        109.840000        109.840000  1.070727e+06   \n",
       "5885        116.73        109.132000        109.132000  1.059615e+06   \n",
       "5886        106.73        108.590000        108.590000  1.055545e+06   \n",
       "5887        106.56        107.550000        107.550000  1.042692e+06   \n",
       "5888        104.12        105.060000        105.060000  1.034200e+06   \n",
       "\n",
       "          현재 수요(kW)     태양광 발전량kW)    풍력 발전량(kW)  신재생 발전량 총합(kW)  \\\n",
       "5865  506769.230769       0.000000  49740.376923    49910.230769   \n",
       "5866  479090.909091       0.000000  46735.536364    46992.654545   \n",
       "5867  465076.923077       0.000000  57687.215385    57943.815385   \n",
       "5868  457363.636364       0.000000  57016.754545    57190.263636   \n",
       "5869  462230.769231       0.000000  60370.353846    60490.107692   \n",
       "5870  480272.727273       0.000000  72965.809091    73085.245455   \n",
       "5871  493538.461538     545.529231  35658.007692    36347.138462   \n",
       "5872  475000.000000   29607.755455  61016.209091    90624.490909   \n",
       "5873  463076.923077  124886.069231  46579.207692   171465.846154   \n",
       "5874  486727.272727  197856.818182  40707.027273   238564.545455   \n",
       "5875  487769.230769  237528.846154  36550.261538   274079.769231   \n",
       "5876  482181.818182  259690.909091  15456.618182   275148.000000   \n",
       "5877  505307.692308  237683.923077  40593.723077   278278.230769   \n",
       "5878  519181.818182  208067.454545  57091.990909   265160.181818   \n",
       "5879  539461.538462  171255.692308  52783.800000   224104.538462   \n",
       "5880  592000.000000  106990.590909  45601.200000   152717.090909   \n",
       "5881  611076.923077   37503.838462  42299.653846    79964.753846   \n",
       "5882  642000.000000    4120.013636  43846.218182    48207.381818   \n",
       "5883  641461.538462    4778.104615  44564.576923    49584.030769   \n",
       "5884  633090.909091    6315.502727  36120.400000    42678.009091   \n",
       "5885  611615.384615    4558.236923  25821.284615    30621.400000   \n",
       "5886  590090.909091    2189.443636  22990.209091    25501.027273   \n",
       "5887  565076.923077       0.000000  11962.710769    12445.863077   \n",
       "5888  530000.000000       0.000000   3419.278000     3662.515000   \n",
       "\n",
       "         공급 예비력(kW)     운영 예비력(kW)  \n",
       "5865  571153.846154  328538.461538  \n",
       "5866  596000.000000  353000.000000  \n",
       "5867  620615.384615  379538.461538  \n",
       "5868  628090.909091  384000.000000  \n",
       "5869  626076.923077  382538.461538  \n",
       "5870  620636.363636  377909.090909  \n",
       "5871  571846.153846  327615.384615  \n",
       "5872  646363.636364  398363.636364  \n",
       "5873  752769.230769  478000.000000  \n",
       "5874  807181.818182  521363.636364  \n",
       "5875  846923.076923  555384.615385  \n",
       "5876  839363.636364  560363.636364  \n",
       "5877  815615.384615  540153.846154  \n",
       "5878  789909.090909  512818.181818  \n",
       "5879  682615.384615  468615.384615  \n",
       "5880  559363.636364  407363.636364  \n",
       "5881  444846.153846  344076.923077  \n",
       "5882  380363.636364  313454.545455  \n",
       "5883  384846.153846  317153.846154  \n",
       "5884  387545.454545  320454.545455  \n",
       "5885  397692.307692  329615.384615  \n",
       "5886  415181.818182  347909.090909  \n",
       "5887  427461.538462  246307.692308  \n",
       "5888  454100.000000  263400.000000  \n",
       "\n",
       "[24 rows x 34 columns]"
      ]
     },
     "execution_count": 56,
     "metadata": {},
     "output_type": "execute_result"
    }
   ],
   "source": [
    "target_data"
   ]
  },
  {
   "cell_type": "code",
   "execution_count": 57,
   "metadata": {},
   "outputs": [],
   "source": [
    "predict_set = ElecDataset(target_data, Y.iloc[:24])\n",
    "\n",
    "predict_dataloader = DataLoader(dataset=predict_set,\n",
    "                        batch_size=24,\n",
    "                        shuffle=False)"
   ]
  },
  {
   "cell_type": "code",
   "execution_count": 58,
   "metadata": {},
   "outputs": [
    {
     "name": "stdout",
     "output_type": "stream",
     "text": [
      "tensor([[ 54.6755],\n",
      "        [  0.4036],\n",
      "        [  0.5653],\n",
      "        [  0.5055],\n",
      "        [  1.7419],\n",
      "        [ 98.7775],\n",
      "        [117.5217],\n",
      "        [ 64.2156],\n",
      "        [ 30.2197],\n",
      "        [163.7382],\n",
      "        [119.0266],\n",
      "        [132.0973],\n",
      "        [ 94.9542],\n",
      "        [126.5783],\n",
      "        [141.8749],\n",
      "        [161.6860],\n",
      "        [172.0654],\n",
      "        [173.4432],\n",
      "        [192.7737],\n",
      "        [174.4632],\n",
      "        [175.2655],\n",
      "        [169.0092],\n",
      "        [162.4889],\n",
      "        [151.7129]], device='cuda:0', dtype=torch.float64)\n"
     ]
    }
   ],
   "source": [
    "model_test.eval()\n",
    "\n",
    "with torch.no_grad():\n",
    "  for inputs, _ in predict_dataloader:\n",
    "    inputs = inputs.to(device)\n",
    "    predictions = model_test(inputs)\n",
    "\n",
    "print(predictions)"
   ]
  },
  {
   "cell_type": "code",
   "execution_count": 59,
   "metadata": {},
   "outputs": [
    {
     "name": "stdout",
     "output_type": "stream",
     "text": [
      "[54.67545512281277, 0.4036191940713137, 0.5653353431272283, 0.5055363469800563, 1.7418902176481348, 98.77751511778584, 117.52168504187495, 64.21560555204262, 30.219714179129436, 163.7382125529604, 119.02662692291057, 132.09732842204187, 94.95416162321884, 126.57832467119826, 141.87488897783427, 161.68599453731954, 172.06540723261116, 173.44319697148796, 192.7736629932811, 174.4632144099778, 175.26554207277258, 169.00924619566052, 162.48892614393165, 151.7129037271955]\n"
     ]
    }
   ],
   "source": [
    "flattened_list = predictions.view(-1).tolist()\n",
    "\n",
    "print(flattened_list)"
   ]
  },
  {
   "cell_type": "markdown",
   "metadata": {},
   "source": [
    "##### 분석"
   ]
  },
  {
   "cell_type": "markdown",
   "metadata": {},
   "source": [
    "예측결과"
   ]
  },
  {
   "cell_type": "code",
   "execution_count": 60,
   "metadata": {},
   "outputs": [
    {
     "data": {
      "image/png": "[encoded data removed]",
      "text/plain": [
       "<Figure size 640x480 with 1 Axes>"
      ]
     },
     "metadata": {},
     "output_type": "display_data"
    }
   ],
   "source": [
    "plt.plot(list(range(1, 25)), flattened_list)\n",
    "\n",
    "plt.title(predict_target_date)\n",
    "plt.xlabel('hours')\n",
    "plt.ylabel('smp_da')\n",
    "plt.xticks(list(range(1,25, 1)))\n",
    "plt.grid(True, linestyle='--')\n",
    "\n",
    "plt.show()"
   ]
  }
 ],
 "metadata": {
  "kernelspec": {
   "display_name": ".venv",
   "language": "python",
   "name": "python3"
  },
  "language_info": {
   "codemirror_mode": {
    "name": "ipython",
    "version": 3
   },
   "file_extension": ".py",
   "mimetype": "text/x-python",
   "name": "python",
   "nbconvert_exporter": "python",
   "pygments_lexer": "ipython3",
   "version": "3.9.13"
  }
 },
 "nbformat": 4,
 "nbformat_minor": 2
}

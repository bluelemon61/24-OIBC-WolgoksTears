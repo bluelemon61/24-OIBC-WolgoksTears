{
 "cells": [
  {
   "cell_type": "markdown",
   "metadata": {},
   "source": [
    "# 2024 OIBC Challenge\n",
    "## (Deep Learning version skeleton 03)"
   ]
  },
  {
   "cell_type": "code",
   "execution_count": 30,
   "metadata": {},
   "outputs": [],
   "source": [
    "import matplotlib.pyplot as plt\n",
    "import pandas as pd\n",
    "from functools import reduce\n",
    "import os\n",
    "from datetime import datetime, timedelta\n",
    "from tqdm import tqdm"
   ]
  },
  {
   "cell_type": "markdown",
   "metadata": {},
   "source": [
    "### 데이터 전처리"
   ]
  },
  {
   "cell_type": "code",
   "execution_count": 31,
   "metadata": {},
   "outputs": [
    {
     "name": "stdout",
     "output_type": "stream",
     "text": [
      "f:\\For me\\Project\\24-OIBC-WolgoksTears\\personal_files\\hoon\n"
     ]
    }
   ],
   "source": [
    "print(os.getcwd())  # 현재 작업 경로 출력"
   ]
  },
  {
   "cell_type": "markdown",
   "metadata": {},
   "source": [
    "actual_weather_1"
   ]
  },
  {
   "cell_type": "code",
   "execution_count": 32,
   "metadata": {},
   "outputs": [
    {
     "data": {
      "text/html": [
       "<div>\n",
       "<style scoped>\n",
       "    .dataframe tbody tr th:only-of-type {\n",
       "        vertical-align: middle;\n",
       "    }\n",
       "\n",
       "    .dataframe tbody tr th {\n",
       "        vertical-align: top;\n",
       "    }\n",
       "\n",
       "    .dataframe thead th {\n",
       "        text-align: right;\n",
       "    }\n",
       "</style>\n",
       "<table border=\"1\" class=\"dataframe\">\n",
       "  <thead>\n",
       "    <tr style=\"text-align: right;\">\n",
       "      <th></th>\n",
       "      <th>datetime</th>\n",
       "      <th>temp</th>\n",
       "      <th>real_feel_temp</th>\n",
       "      <th>rel_hum</th>\n",
       "      <th>dew_point</th>\n",
       "      <th>wind_dir</th>\n",
       "      <th>wind_spd</th>\n",
       "      <th>wind_gust_spd</th>\n",
       "      <th>uv_idx</th>\n",
       "      <th>vis</th>\n",
       "      <th>cld_cvr</th>\n",
       "      <th>ceiling</th>\n",
       "      <th>wet_bulb_temp</th>\n",
       "      <th>precip_1h</th>\n",
       "    </tr>\n",
       "  </thead>\n",
       "  <tbody>\n",
       "    <tr>\n",
       "      <th>0</th>\n",
       "      <td>2024-03-01 00:00:00</td>\n",
       "      <td>8.500000</td>\n",
       "      <td>8.000000</td>\n",
       "      <td>81.000000</td>\n",
       "      <td>5.500000</td>\n",
       "      <td>270.000000</td>\n",
       "      <td>6.100000</td>\n",
       "      <td>17.600000</td>\n",
       "      <td>0.0</td>\n",
       "      <td>20.900000</td>\n",
       "      <td>91.000000</td>\n",
       "      <td>579.000000</td>\n",
       "      <td>7.100000</td>\n",
       "      <td>0.100000</td>\n",
       "    </tr>\n",
       "    <tr>\n",
       "      <th>1</th>\n",
       "      <td>2024-03-01 01:00:00</td>\n",
       "      <td>7.158333</td>\n",
       "      <td>3.041667</td>\n",
       "      <td>72.666667</td>\n",
       "      <td>2.508333</td>\n",
       "      <td>234.666667</td>\n",
       "      <td>20.483333</td>\n",
       "      <td>26.366667</td>\n",
       "      <td>0.0</td>\n",
       "      <td>20.783333</td>\n",
       "      <td>97.750000</td>\n",
       "      <td>693.416667</td>\n",
       "      <td>5.091667</td>\n",
       "      <td>0.008333</td>\n",
       "    </tr>\n",
       "    <tr>\n",
       "      <th>2</th>\n",
       "      <td>2024-03-01 02:00:00</td>\n",
       "      <td>6.477778</td>\n",
       "      <td>2.111111</td>\n",
       "      <td>75.666667</td>\n",
       "      <td>2.433333</td>\n",
       "      <td>262.888889</td>\n",
       "      <td>21.944444</td>\n",
       "      <td>27.433333</td>\n",
       "      <td>0.0</td>\n",
       "      <td>20.033333</td>\n",
       "      <td>86.333333</td>\n",
       "      <td>616.222222</td>\n",
       "      <td>4.733333</td>\n",
       "      <td>0.011111</td>\n",
       "    </tr>\n",
       "    <tr>\n",
       "      <th>3</th>\n",
       "      <td>2024-03-01 03:00:00</td>\n",
       "      <td>6.045455</td>\n",
       "      <td>0.900000</td>\n",
       "      <td>74.545455</td>\n",
       "      <td>1.663636</td>\n",
       "      <td>213.000000</td>\n",
       "      <td>22.490909</td>\n",
       "      <td>27.645455</td>\n",
       "      <td>0.0</td>\n",
       "      <td>19.900000</td>\n",
       "      <td>62.818182</td>\n",
       "      <td>8692.363636</td>\n",
       "      <td>4.209091</td>\n",
       "      <td>0.136364</td>\n",
       "    </tr>\n",
       "    <tr>\n",
       "      <th>4</th>\n",
       "      <td>2024-03-01 04:00:00</td>\n",
       "      <td>5.430000</td>\n",
       "      <td>-0.090000</td>\n",
       "      <td>68.100000</td>\n",
       "      <td>-0.030000</td>\n",
       "      <td>256.800000</td>\n",
       "      <td>26.140000</td>\n",
       "      <td>42.440000</td>\n",
       "      <td>0.0</td>\n",
       "      <td>23.800000</td>\n",
       "      <td>38.100000</td>\n",
       "      <td>10911.800000</td>\n",
       "      <td>3.180000</td>\n",
       "      <td>0.410000</td>\n",
       "    </tr>\n",
       "  </tbody>\n",
       "</table>\n",
       "</div>"
      ],
      "text/plain": [
       "             datetime      temp  real_feel_temp    rel_hum  dew_point  \\\n",
       "0 2024-03-01 00:00:00  8.500000        8.000000  81.000000   5.500000   \n",
       "1 2024-03-01 01:00:00  7.158333        3.041667  72.666667   2.508333   \n",
       "2 2024-03-01 02:00:00  6.477778        2.111111  75.666667   2.433333   \n",
       "3 2024-03-01 03:00:00  6.045455        0.900000  74.545455   1.663636   \n",
       "4 2024-03-01 04:00:00  5.430000       -0.090000  68.100000  -0.030000   \n",
       "\n",
       "     wind_dir   wind_spd  wind_gust_spd  uv_idx        vis    cld_cvr  \\\n",
       "0  270.000000   6.100000      17.600000     0.0  20.900000  91.000000   \n",
       "1  234.666667  20.483333      26.366667     0.0  20.783333  97.750000   \n",
       "2  262.888889  21.944444      27.433333     0.0  20.033333  86.333333   \n",
       "3  213.000000  22.490909      27.645455     0.0  19.900000  62.818182   \n",
       "4  256.800000  26.140000      42.440000     0.0  23.800000  38.100000   \n",
       "\n",
       "        ceiling  wet_bulb_temp  precip_1h  \n",
       "0    579.000000       7.100000   0.100000  \n",
       "1    693.416667       5.091667   0.008333  \n",
       "2    616.222222       4.733333   0.011111  \n",
       "3   8692.363636       4.209091   0.136364  \n",
       "4  10911.800000       3.180000   0.410000  "
      ]
     },
     "execution_count": 32,
     "metadata": {},
     "output_type": "execute_result"
    }
   ],
   "source": [
    "# 데이터 불러오기\n",
    "actual_weather_1 = pd.read_csv(\"../../data_files/actual_weather_1.csv\")\n",
    "\n",
    "# 'ts'를 datetime 형식으로 변환 후 1시간 단위로 맞추기\n",
    "actual_weather_1['datetime'] = pd.to_datetime(actual_weather_1['ts'], unit='s')\n",
    "actual_weather_1['datetime'] = actual_weather_1['datetime'].dt.round('h') + timedelta(hours=9)\n",
    "\n",
    "# 원래 'ts' 열과 'location' 제거\n",
    "actual_weather_1.drop(columns=['ts'], inplace=True)\n",
    "actual_weather_1.drop(columns=['location'], inplace=True)\n",
    "\n",
    "# 1시간 단위로 그룹화하여 평균을 계산 (location을 제외한 모든 열)\n",
    "actual_weather_1 = actual_weather_1.groupby(['datetime'], as_index=False).mean()\n",
    "\n",
    "\n",
    "# weather_forecast에 없는 columns 제거\n",
    "actual_weather_1.drop(columns=['real_feel_temp_shade'], inplace=True)\n",
    "actual_weather_1.drop(columns=['pressure'], inplace=True)\n",
    "actual_weather_1.drop(columns=['appr_temp'], inplace=True)\n",
    "actual_weather_1.drop(columns=['wind_chill_temp'], inplace=True)\n",
    " \n",
    "# 결과 확인\n",
    "actual_weather_1.head()"
   ]
  },
  {
   "cell_type": "markdown",
   "metadata": {},
   "source": [
    "weather_forecast"
   ]
  },
  {
   "cell_type": "code",
   "execution_count": 33,
   "metadata": {},
   "outputs": [
    {
     "data": {
      "text/html": [
       "<div>\n",
       "<style scoped>\n",
       "    .dataframe tbody tr th:only-of-type {\n",
       "        vertical-align: middle;\n",
       "    }\n",
       "\n",
       "    .dataframe tbody tr th {\n",
       "        vertical-align: top;\n",
       "    }\n",
       "\n",
       "    .dataframe thead th {\n",
       "        text-align: right;\n",
       "    }\n",
       "</style>\n",
       "<table border=\"1\" class=\"dataframe\">\n",
       "  <thead>\n",
       "    <tr style=\"text-align: right;\">\n",
       "      <th></th>\n",
       "      <th>datetime</th>\n",
       "      <th>temp</th>\n",
       "      <th>real_feel_temp</th>\n",
       "      <th>rel_hum</th>\n",
       "      <th>dew_point</th>\n",
       "      <th>wind_dir</th>\n",
       "      <th>wind_spd</th>\n",
       "      <th>wind_gust_spd</th>\n",
       "      <th>uv_idx</th>\n",
       "      <th>vis</th>\n",
       "      <th>cld_cvr</th>\n",
       "      <th>ceiling</th>\n",
       "      <th>wet_bulb_temp</th>\n",
       "      <th>precip_1h</th>\n",
       "    </tr>\n",
       "  </thead>\n",
       "  <tbody>\n",
       "    <tr>\n",
       "      <th>0</th>\n",
       "      <td>2024-03-02 00:00:00</td>\n",
       "      <td>1.728394</td>\n",
       "      <td>-4.320987</td>\n",
       "      <td>64.333333</td>\n",
       "      <td>-4.320987</td>\n",
       "      <td>335.555556</td>\n",
       "      <td>22.048022</td>\n",
       "      <td>50.604944</td>\n",
       "      <td>0.0</td>\n",
       "      <td>16.093400</td>\n",
       "      <td>75.555556</td>\n",
       "      <td>1700.106667</td>\n",
       "      <td>-0.555556</td>\n",
       "      <td>0.000000</td>\n",
       "    </tr>\n",
       "    <tr>\n",
       "      <th>1</th>\n",
       "      <td>2024-03-02 01:00:00</td>\n",
       "      <td>1.851852</td>\n",
       "      <td>-4.506173</td>\n",
       "      <td>64.333333</td>\n",
       "      <td>-4.135800</td>\n",
       "      <td>335.000000</td>\n",
       "      <td>22.048022</td>\n",
       "      <td>50.640711</td>\n",
       "      <td>0.0</td>\n",
       "      <td>15.378140</td>\n",
       "      <td>84.777778</td>\n",
       "      <td>1249.680000</td>\n",
       "      <td>-0.432099</td>\n",
       "      <td>0.056444</td>\n",
       "    </tr>\n",
       "    <tr>\n",
       "      <th>2</th>\n",
       "      <td>2024-03-02 02:00:00</td>\n",
       "      <td>1.790123</td>\n",
       "      <td>-5.061728</td>\n",
       "      <td>66.333333</td>\n",
       "      <td>-3.950616</td>\n",
       "      <td>334.444444</td>\n",
       "      <td>22.656000</td>\n",
       "      <td>51.481144</td>\n",
       "      <td>0.0</td>\n",
       "      <td>14.392882</td>\n",
       "      <td>89.333333</td>\n",
       "      <td>1229.360000</td>\n",
       "      <td>-0.370370</td>\n",
       "      <td>0.197556</td>\n",
       "    </tr>\n",
       "    <tr>\n",
       "      <th>3</th>\n",
       "      <td>2024-03-02 03:00:00</td>\n",
       "      <td>1.604940</td>\n",
       "      <td>-5.308640</td>\n",
       "      <td>67.333333</td>\n",
       "      <td>-3.888887</td>\n",
       "      <td>333.777778</td>\n",
       "      <td>23.263967</td>\n",
       "      <td>51.463267</td>\n",
       "      <td>0.0</td>\n",
       "      <td>15.195758</td>\n",
       "      <td>94.555556</td>\n",
       "      <td>1933.786667</td>\n",
       "      <td>-0.370370</td>\n",
       "      <td>0.084667</td>\n",
       "    </tr>\n",
       "    <tr>\n",
       "      <th>4</th>\n",
       "      <td>2024-03-02 04:00:00</td>\n",
       "      <td>1.851852</td>\n",
       "      <td>-4.876541</td>\n",
       "      <td>66.444444</td>\n",
       "      <td>-3.950616</td>\n",
       "      <td>333.888889</td>\n",
       "      <td>23.871922</td>\n",
       "      <td>50.837400</td>\n",
       "      <td>0.0</td>\n",
       "      <td>15.825200</td>\n",
       "      <td>82.555556</td>\n",
       "      <td>2600.960000</td>\n",
       "      <td>-0.308642</td>\n",
       "      <td>0.000000</td>\n",
       "    </tr>\n",
       "  </tbody>\n",
       "</table>\n",
       "</div>"
      ],
      "text/plain": [
       "             datetime      temp  real_feel_temp    rel_hum  dew_point  \\\n",
       "0 2024-03-02 00:00:00  1.728394       -4.320987  64.333333  -4.320987   \n",
       "1 2024-03-02 01:00:00  1.851852       -4.506173  64.333333  -4.135800   \n",
       "2 2024-03-02 02:00:00  1.790123       -5.061728  66.333333  -3.950616   \n",
       "3 2024-03-02 03:00:00  1.604940       -5.308640  67.333333  -3.888887   \n",
       "4 2024-03-02 04:00:00  1.851852       -4.876541  66.444444  -3.950616   \n",
       "\n",
       "     wind_dir   wind_spd  wind_gust_spd  uv_idx        vis    cld_cvr  \\\n",
       "0  335.555556  22.048022      50.604944     0.0  16.093400  75.555556   \n",
       "1  335.000000  22.048022      50.640711     0.0  15.378140  84.777778   \n",
       "2  334.444444  22.656000      51.481144     0.0  14.392882  89.333333   \n",
       "3  333.777778  23.263967      51.463267     0.0  15.195758  94.555556   \n",
       "4  333.888889  23.871922      50.837400     0.0  15.825200  82.555556   \n",
       "\n",
       "       ceiling  wet_bulb_temp  precip_1h  \n",
       "0  1700.106667      -0.555556   0.000000  \n",
       "1  1249.680000      -0.432099   0.056444  \n",
       "2  1229.360000      -0.370370   0.197556  \n",
       "3  1933.786667      -0.370370   0.084667  \n",
       "4  2600.960000      -0.308642   0.000000  "
      ]
     },
     "execution_count": 33,
     "metadata": {},
     "output_type": "execute_result"
    }
   ],
   "source": [
    "# 데이터 불러오기\n",
    "weather_forecast_1 = pd.read_csv(\"../../data_files/weather_forecast_1.csv\")\n",
    "\n",
    "# 'ts'를 datetime 형식으로 변환 후 1시간 단위로 맞추기\n",
    "weather_forecast_1['datetime'] = pd.to_datetime(weather_forecast_1['ts'], unit='s')\n",
    "weather_forecast_1['datetime'] = weather_forecast_1['datetime'].dt.round('h') + timedelta(hours=9)\n",
    "\n",
    "# 원래 'ts' 열 제거, 'base_ts' 열 제거, 'location' 제거\n",
    "weather_forecast_1.drop(columns=['ts'], inplace=True)\n",
    "weather_forecast_1.drop(columns=['base_ts'], inplace=True)\n",
    "weather_forecast_1.drop(columns=['location'], inplace=True)\n",
    "\n",
    "# 1시간 단위로 그룹화하여 평균을 계산 (location을 제외한 모든 열)\n",
    "weather_forecast_1 = weather_forecast_1.groupby(['datetime'], as_index=False).mean()\n",
    "\n",
    "\n",
    "# 예보 데이터의 columns 순서를 actual_weather columns 순서와 맞추기\n",
    "weather_forecast_1 = weather_forecast_1[['datetime', 'temp', 'real_feel_temp', 'rel_hum',\n",
    "       'dew_point', 'wind_dir', 'wind_spd', 'wind_gust_spd', 'uv_idx', 'vis',\n",
    "       'cld_cvr', 'ceiling', 'wet_bulb_temp', 'total_liq']]\n",
    "weather_forecast_1['precip_1h'] = weather_forecast_1['total_liq']\n",
    "weather_forecast_1.drop(columns=['total_liq'], inplace=True)  \n",
    "\n",
    "# 결과 확인\n",
    "weather_forecast_1.head()"
   ]
  },
  {
   "cell_type": "markdown",
   "metadata": {},
   "source": [
    "elec_supply"
   ]
  },
  {
   "cell_type": "code",
   "execution_count": 34,
   "metadata": {},
   "outputs": [
    {
     "data": {
      "text/html": [
       "<div>\n",
       "<style scoped>\n",
       "    .dataframe tbody tr th:only-of-type {\n",
       "        vertical-align: middle;\n",
       "    }\n",
       "\n",
       "    .dataframe tbody tr th {\n",
       "        vertical-align: top;\n",
       "    }\n",
       "\n",
       "    .dataframe thead th {\n",
       "        text-align: right;\n",
       "    }\n",
       "</style>\n",
       "<table border=\"1\" class=\"dataframe\">\n",
       "  <thead>\n",
       "    <tr style=\"text-align: right;\">\n",
       "      <th></th>\n",
       "      <th>datetime</th>\n",
       "      <th>공급능력(kW)</th>\n",
       "      <th>현재 수요(kW)</th>\n",
       "      <th>태양광 발전량kW)</th>\n",
       "      <th>풍력 발전량(kW)</th>\n",
       "      <th>신재생 발전량 총합(kW)</th>\n",
       "      <th>공급 예비력(kW)</th>\n",
       "      <th>운영 예비력(kW)</th>\n",
       "    </tr>\n",
       "  </thead>\n",
       "  <tbody>\n",
       "    <tr>\n",
       "      <th>0</th>\n",
       "      <td>2024-01-01 00:00:00</td>\n",
       "      <td>1.285000e+06</td>\n",
       "      <td>757500.000000</td>\n",
       "      <td>0.0</td>\n",
       "      <td>115593.233333</td>\n",
       "      <td>123350.666667</td>\n",
       "      <td>527166.666667</td>\n",
       "      <td>328500.000000</td>\n",
       "    </tr>\n",
       "    <tr>\n",
       "      <th>1</th>\n",
       "      <td>2024-01-01 01:00:00</td>\n",
       "      <td>1.238308e+06</td>\n",
       "      <td>727538.461538</td>\n",
       "      <td>0.0</td>\n",
       "      <td>68802.153846</td>\n",
       "      <td>77036.569231</td>\n",
       "      <td>510692.307692</td>\n",
       "      <td>312692.307692</td>\n",
       "    </tr>\n",
       "    <tr>\n",
       "      <th>2</th>\n",
       "      <td>2024-01-01 02:00:00</td>\n",
       "      <td>1.214818e+06</td>\n",
       "      <td>694090.909091</td>\n",
       "      <td>0.0</td>\n",
       "      <td>45923.181818</td>\n",
       "      <td>53740.109091</td>\n",
       "      <td>520727.272727</td>\n",
       "      <td>318545.454545</td>\n",
       "    </tr>\n",
       "    <tr>\n",
       "      <th>3</th>\n",
       "      <td>2024-01-01 03:00:00</td>\n",
       "      <td>1.207923e+06</td>\n",
       "      <td>672000.000000</td>\n",
       "      <td>0.0</td>\n",
       "      <td>38567.161538</td>\n",
       "      <td>46614.815385</td>\n",
       "      <td>536000.000000</td>\n",
       "      <td>291000.000000</td>\n",
       "    </tr>\n",
       "    <tr>\n",
       "      <th>4</th>\n",
       "      <td>2024-01-01 04:00:00</td>\n",
       "      <td>1.192364e+06</td>\n",
       "      <td>666000.000000</td>\n",
       "      <td>0.0</td>\n",
       "      <td>22849.272727</td>\n",
       "      <td>30575.990909</td>\n",
       "      <td>526363.636364</td>\n",
       "      <td>318272.727273</td>\n",
       "    </tr>\n",
       "  </tbody>\n",
       "</table>\n",
       "</div>"
      ],
      "text/plain": [
       "             datetime      공급능력(kW)      현재 수요(kW)  태양광 발전량kW)     풍력 발전량(kW)  \\\n",
       "0 2024-01-01 00:00:00  1.285000e+06  757500.000000         0.0  115593.233333   \n",
       "1 2024-01-01 01:00:00  1.238308e+06  727538.461538         0.0   68802.153846   \n",
       "2 2024-01-01 02:00:00  1.214818e+06  694090.909091         0.0   45923.181818   \n",
       "3 2024-01-01 03:00:00  1.207923e+06  672000.000000         0.0   38567.161538   \n",
       "4 2024-01-01 04:00:00  1.192364e+06  666000.000000         0.0   22849.272727   \n",
       "\n",
       "   신재생 발전량 총합(kW)     공급 예비력(kW)     운영 예비력(kW)  \n",
       "0   123350.666667  527166.666667  328500.000000  \n",
       "1    77036.569231  510692.307692  312692.307692  \n",
       "2    53740.109091  520727.272727  318545.454545  \n",
       "3    46614.815385  536000.000000  291000.000000  \n",
       "4    30575.990909  526363.636364  318272.727273  "
      ]
     },
     "execution_count": 34,
     "metadata": {},
     "output_type": "execute_result"
    }
   ],
   "source": [
    "# 데이터 불러오기\n",
    "elec_supply = pd.read_csv(\"../../data_files/elec_supply.csv\")\n",
    "\n",
    "# 'ts'를 datetime 형식으로 변환 후 1시간 단위로 맞추기\n",
    "elec_supply['datetime'] = pd.to_datetime(elec_supply['ts'], unit='s')\n",
    "elec_supply['datetime'] = elec_supply['datetime'].dt.round('h') + timedelta(hours=9)\n",
    "\n",
    "# 1시간 단위로 그룹화하여 평균을 계산\n",
    "elec_supply = elec_supply.groupby(['datetime'], as_index=False).mean()\n",
    "\n",
    "# 결과 확인\n",
    "elec_supply.drop(columns=['ts'], inplace=True)  # 원래 'ts' 열 제거\n",
    "elec_supply.head()"
   ]
  },
  {
   "cell_type": "markdown",
   "metadata": {},
   "source": [
    "smp_da"
   ]
  },
  {
   "cell_type": "code",
   "execution_count": 35,
   "metadata": {},
   "outputs": [
    {
     "data": {
      "text/html": [
       "<div>\n",
       "<style scoped>\n",
       "    .dataframe tbody tr th:only-of-type {\n",
       "        vertical-align: middle;\n",
       "    }\n",
       "\n",
       "    .dataframe tbody tr th {\n",
       "        vertical-align: top;\n",
       "    }\n",
       "\n",
       "    .dataframe thead th {\n",
       "        text-align: right;\n",
       "    }\n",
       "</style>\n",
       "<table border=\"1\" class=\"dataframe\">\n",
       "  <thead>\n",
       "    <tr style=\"text-align: right;\">\n",
       "      <th></th>\n",
       "      <th>하루전가격(원/kWh)</th>\n",
       "      <th>datetime</th>\n",
       "    </tr>\n",
       "  </thead>\n",
       "  <tbody>\n",
       "    <tr>\n",
       "      <th>0</th>\n",
       "      <td>107.39</td>\n",
       "      <td>2024-03-01 00:00:00</td>\n",
       "    </tr>\n",
       "    <tr>\n",
       "      <th>1</th>\n",
       "      <td>107.39</td>\n",
       "      <td>2024-03-01 01:00:00</td>\n",
       "    </tr>\n",
       "    <tr>\n",
       "      <th>2</th>\n",
       "      <td>95.30</td>\n",
       "      <td>2024-03-01 02:00:00</td>\n",
       "    </tr>\n",
       "    <tr>\n",
       "      <th>3</th>\n",
       "      <td>87.89</td>\n",
       "      <td>2024-03-01 03:00:00</td>\n",
       "    </tr>\n",
       "    <tr>\n",
       "      <th>4</th>\n",
       "      <td>0.00</td>\n",
       "      <td>2024-03-01 04:00:00</td>\n",
       "    </tr>\n",
       "  </tbody>\n",
       "</table>\n",
       "</div>"
      ],
      "text/plain": [
       "   하루전가격(원/kWh)            datetime\n",
       "0        107.39 2024-03-01 00:00:00\n",
       "1        107.39 2024-03-01 01:00:00\n",
       "2         95.30 2024-03-01 02:00:00\n",
       "3         87.89 2024-03-01 03:00:00\n",
       "4          0.00 2024-03-01 04:00:00"
      ]
     },
     "execution_count": 35,
     "metadata": {},
     "output_type": "execute_result"
    }
   ],
   "source": [
    "# 데이터 불러오기\n",
    "smp_da = pd.read_csv(\"../../data_files/smp_da.csv\")\n",
    "\n",
    "# 'ts'를 datetime 형식으로 변환 후 1시간 단위로 맞추기\n",
    "smp_da['datetime'] = pd.to_datetime(smp_da['ts'], unit='s') + timedelta(hours=9)\n",
    "\n",
    "# 결과 확인\n",
    "smp_da.drop(columns=['ts'], inplace=True)  # 원래 'ts' 열 제거\n",
    "smp_da.head()"
   ]
  },
  {
   "cell_type": "markdown",
   "metadata": {},
   "source": [
    "smp_rt_rc"
   ]
  },
  {
   "cell_type": "code",
   "execution_count": 36,
   "metadata": {},
   "outputs": [
    {
     "data": {
      "text/html": [
       "<div>\n",
       "<style scoped>\n",
       "    .dataframe tbody tr th:only-of-type {\n",
       "        vertical-align: middle;\n",
       "    }\n",
       "\n",
       "    .dataframe tbody tr th {\n",
       "        vertical-align: top;\n",
       "    }\n",
       "\n",
       "    .dataframe thead th {\n",
       "        text-align: right;\n",
       "    }\n",
       "</style>\n",
       "<table border=\"1\" class=\"dataframe\">\n",
       "  <thead>\n",
       "    <tr style=\"text-align: right;\">\n",
       "      <th></th>\n",
       "      <th>datetime</th>\n",
       "      <th>실시간 임시 가격(원/kWh)</th>\n",
       "      <th>실시간 확정 가격(원/kWh)</th>\n",
       "    </tr>\n",
       "  </thead>\n",
       "  <tbody>\n",
       "    <tr>\n",
       "      <th>0</th>\n",
       "      <td>2024-03-01 00:00:00</td>\n",
       "      <td>133.125</td>\n",
       "      <td>133.125</td>\n",
       "    </tr>\n",
       "    <tr>\n",
       "      <th>1</th>\n",
       "      <td>2024-03-01 01:00:00</td>\n",
       "      <td>115.160</td>\n",
       "      <td>115.160</td>\n",
       "    </tr>\n",
       "    <tr>\n",
       "      <th>2</th>\n",
       "      <td>2024-03-01 02:00:00</td>\n",
       "      <td>92.830</td>\n",
       "      <td>92.830</td>\n",
       "    </tr>\n",
       "    <tr>\n",
       "      <th>3</th>\n",
       "      <td>2024-03-01 03:00:00</td>\n",
       "      <td>87.334</td>\n",
       "      <td>87.334</td>\n",
       "    </tr>\n",
       "    <tr>\n",
       "      <th>4</th>\n",
       "      <td>2024-03-01 04:00:00</td>\n",
       "      <td>87.260</td>\n",
       "      <td>87.260</td>\n",
       "    </tr>\n",
       "  </tbody>\n",
       "</table>\n",
       "</div>"
      ],
      "text/plain": [
       "             datetime  실시간 임시 가격(원/kWh)  실시간 확정 가격(원/kWh)\n",
       "0 2024-03-01 00:00:00           133.125           133.125\n",
       "1 2024-03-01 01:00:00           115.160           115.160\n",
       "2 2024-03-01 02:00:00            92.830            92.830\n",
       "3 2024-03-01 03:00:00            87.334            87.334\n",
       "4 2024-03-01 04:00:00            87.260            87.260"
      ]
     },
     "execution_count": 36,
     "metadata": {},
     "output_type": "execute_result"
    }
   ],
   "source": [
    "# 데이터 불러오기\n",
    "smp_rt_rc = pd.read_csv(\"../../data_files/smp_rt_rc.csv\")\n",
    "\n",
    "# 'ts'를 datetime 형식으로 변환 후 1시간 단위로 맞추기\n",
    "smp_rt_rc['datetime'] = pd.to_datetime(smp_rt_rc['ts'], unit='s')\n",
    "smp_rt_rc['datetime'] = smp_rt_rc['datetime'].dt.round('h') + timedelta(hours=9)\n",
    "\n",
    "# 1시간 단위로 그룹화하여 평균을 계산\n",
    "smp_rt_rc = smp_rt_rc.groupby(['datetime'], as_index=False).mean()\n",
    "\n",
    "# 결과 확인\n",
    "smp_rt_rc.drop(columns=['ts'], inplace=True)  # 원래 'ts' 열 제거\n",
    "smp_rt_rc.head()"
   ]
  },
  {
   "cell_type": "markdown",
   "metadata": {},
   "source": [
    "##### X 데이터\n",
    "\n",
    "- 제주 기상 실측 (n+1)\n",
    "- 하루 전 시장 전기 예측 (n)\n",
    "- 제주 전력 시장 실시간 (n-1)\n",
    "- 제주 전력 시장 현황 (n-1)"
   ]
  },
  {
   "cell_type": "code",
   "execution_count": 37,
   "metadata": {},
   "outputs": [],
   "source": [
    "actual_weather_1\n",
    "weather_forecast_1['datetime']\n",
    "smp_da_x = smp_da.copy()\n",
    "smp_da_x['datetime'] += pd.Timedelta(days=1)\n",
    "smp_rt_rc['datetime'] += pd.Timedelta(days=2)\n",
    "elec_supply['datetime'] += pd.Timedelta(days=2)"
   ]
  },
  {
   "cell_type": "code",
   "execution_count": 38,
   "metadata": {},
   "outputs": [],
   "source": [
    "dfs = [actual_weather_1, smp_da_x, smp_rt_rc, elec_supply]\n",
    "\n",
    "X = reduce(lambda left, right: pd.merge(left, right, on='datetime', how='outer'), dfs)"
   ]
  },
  {
   "cell_type": "code",
   "execution_count": 39,
   "metadata": {},
   "outputs": [
    {
     "data": {
      "text/html": [
       "<div>\n",
       "<style scoped>\n",
       "    .dataframe tbody tr th:only-of-type {\n",
       "        vertical-align: middle;\n",
       "    }\n",
       "\n",
       "    .dataframe tbody tr th {\n",
       "        vertical-align: top;\n",
       "    }\n",
       "\n",
       "    .dataframe thead th {\n",
       "        text-align: right;\n",
       "    }\n",
       "</style>\n",
       "<table border=\"1\" class=\"dataframe\">\n",
       "  <thead>\n",
       "    <tr style=\"text-align: right;\">\n",
       "      <th></th>\n",
       "      <th>datetime</th>\n",
       "      <th>temp</th>\n",
       "      <th>real_feel_temp</th>\n",
       "      <th>rel_hum</th>\n",
       "      <th>dew_point</th>\n",
       "      <th>wind_dir</th>\n",
       "      <th>wind_spd</th>\n",
       "      <th>wind_gust_spd</th>\n",
       "      <th>uv_idx</th>\n",
       "      <th>vis</th>\n",
       "      <th>...</th>\n",
       "      <th>하루전가격(원/kWh)</th>\n",
       "      <th>실시간 임시 가격(원/kWh)</th>\n",
       "      <th>실시간 확정 가격(원/kWh)</th>\n",
       "      <th>공급능력(kW)</th>\n",
       "      <th>현재 수요(kW)</th>\n",
       "      <th>태양광 발전량kW)</th>\n",
       "      <th>풍력 발전량(kW)</th>\n",
       "      <th>신재생 발전량 총합(kW)</th>\n",
       "      <th>공급 예비력(kW)</th>\n",
       "      <th>운영 예비력(kW)</th>\n",
       "    </tr>\n",
       "  </thead>\n",
       "  <tbody>\n",
       "    <tr>\n",
       "      <th>0</th>\n",
       "      <td>2024-01-03 00:00:00</td>\n",
       "      <td>NaN</td>\n",
       "      <td>NaN</td>\n",
       "      <td>NaN</td>\n",
       "      <td>NaN</td>\n",
       "      <td>NaN</td>\n",
       "      <td>NaN</td>\n",
       "      <td>NaN</td>\n",
       "      <td>NaN</td>\n",
       "      <td>NaN</td>\n",
       "      <td>...</td>\n",
       "      <td>NaN</td>\n",
       "      <td>NaN</td>\n",
       "      <td>NaN</td>\n",
       "      <td>1.285000e+06</td>\n",
       "      <td>757500.000000</td>\n",
       "      <td>0.0</td>\n",
       "      <td>115593.233333</td>\n",
       "      <td>123350.666667</td>\n",
       "      <td>527166.666667</td>\n",
       "      <td>328500.000000</td>\n",
       "    </tr>\n",
       "    <tr>\n",
       "      <th>1</th>\n",
       "      <td>2024-01-03 01:00:00</td>\n",
       "      <td>NaN</td>\n",
       "      <td>NaN</td>\n",
       "      <td>NaN</td>\n",
       "      <td>NaN</td>\n",
       "      <td>NaN</td>\n",
       "      <td>NaN</td>\n",
       "      <td>NaN</td>\n",
       "      <td>NaN</td>\n",
       "      <td>NaN</td>\n",
       "      <td>...</td>\n",
       "      <td>NaN</td>\n",
       "      <td>NaN</td>\n",
       "      <td>NaN</td>\n",
       "      <td>1.238308e+06</td>\n",
       "      <td>727538.461538</td>\n",
       "      <td>0.0</td>\n",
       "      <td>68802.153846</td>\n",
       "      <td>77036.569231</td>\n",
       "      <td>510692.307692</td>\n",
       "      <td>312692.307692</td>\n",
       "    </tr>\n",
       "    <tr>\n",
       "      <th>2</th>\n",
       "      <td>2024-01-03 02:00:00</td>\n",
       "      <td>NaN</td>\n",
       "      <td>NaN</td>\n",
       "      <td>NaN</td>\n",
       "      <td>NaN</td>\n",
       "      <td>NaN</td>\n",
       "      <td>NaN</td>\n",
       "      <td>NaN</td>\n",
       "      <td>NaN</td>\n",
       "      <td>NaN</td>\n",
       "      <td>...</td>\n",
       "      <td>NaN</td>\n",
       "      <td>NaN</td>\n",
       "      <td>NaN</td>\n",
       "      <td>1.214818e+06</td>\n",
       "      <td>694090.909091</td>\n",
       "      <td>0.0</td>\n",
       "      <td>45923.181818</td>\n",
       "      <td>53740.109091</td>\n",
       "      <td>520727.272727</td>\n",
       "      <td>318545.454545</td>\n",
       "    </tr>\n",
       "    <tr>\n",
       "      <th>3</th>\n",
       "      <td>2024-01-03 03:00:00</td>\n",
       "      <td>NaN</td>\n",
       "      <td>NaN</td>\n",
       "      <td>NaN</td>\n",
       "      <td>NaN</td>\n",
       "      <td>NaN</td>\n",
       "      <td>NaN</td>\n",
       "      <td>NaN</td>\n",
       "      <td>NaN</td>\n",
       "      <td>NaN</td>\n",
       "      <td>...</td>\n",
       "      <td>NaN</td>\n",
       "      <td>NaN</td>\n",
       "      <td>NaN</td>\n",
       "      <td>1.207923e+06</td>\n",
       "      <td>672000.000000</td>\n",
       "      <td>0.0</td>\n",
       "      <td>38567.161538</td>\n",
       "      <td>46614.815385</td>\n",
       "      <td>536000.000000</td>\n",
       "      <td>291000.000000</td>\n",
       "    </tr>\n",
       "    <tr>\n",
       "      <th>4</th>\n",
       "      <td>2024-01-03 04:00:00</td>\n",
       "      <td>NaN</td>\n",
       "      <td>NaN</td>\n",
       "      <td>NaN</td>\n",
       "      <td>NaN</td>\n",
       "      <td>NaN</td>\n",
       "      <td>NaN</td>\n",
       "      <td>NaN</td>\n",
       "      <td>NaN</td>\n",
       "      <td>NaN</td>\n",
       "      <td>...</td>\n",
       "      <td>NaN</td>\n",
       "      <td>NaN</td>\n",
       "      <td>NaN</td>\n",
       "      <td>1.192364e+06</td>\n",
       "      <td>666000.000000</td>\n",
       "      <td>0.0</td>\n",
       "      <td>22849.272727</td>\n",
       "      <td>30575.990909</td>\n",
       "      <td>526363.636364</td>\n",
       "      <td>318272.727273</td>\n",
       "    </tr>\n",
       "  </tbody>\n",
       "</table>\n",
       "<p>5 rows × 24 columns</p>\n",
       "</div>"
      ],
      "text/plain": [
       "             datetime  temp  real_feel_temp  rel_hum  dew_point  wind_dir  \\\n",
       "0 2024-01-03 00:00:00   NaN             NaN      NaN        NaN       NaN   \n",
       "1 2024-01-03 01:00:00   NaN             NaN      NaN        NaN       NaN   \n",
       "2 2024-01-03 02:00:00   NaN             NaN      NaN        NaN       NaN   \n",
       "3 2024-01-03 03:00:00   NaN             NaN      NaN        NaN       NaN   \n",
       "4 2024-01-03 04:00:00   NaN             NaN      NaN        NaN       NaN   \n",
       "\n",
       "   wind_spd  wind_gust_spd  uv_idx  vis  ...  하루전가격(원/kWh)  실시간 임시 가격(원/kWh)  \\\n",
       "0       NaN            NaN     NaN  NaN  ...           NaN               NaN   \n",
       "1       NaN            NaN     NaN  NaN  ...           NaN               NaN   \n",
       "2       NaN            NaN     NaN  NaN  ...           NaN               NaN   \n",
       "3       NaN            NaN     NaN  NaN  ...           NaN               NaN   \n",
       "4       NaN            NaN     NaN  NaN  ...           NaN               NaN   \n",
       "\n",
       "   실시간 확정 가격(원/kWh)      공급능력(kW)      현재 수요(kW)  태양광 발전량kW)     풍력 발전량(kW)  \\\n",
       "0               NaN  1.285000e+06  757500.000000         0.0  115593.233333   \n",
       "1               NaN  1.238308e+06  727538.461538         0.0   68802.153846   \n",
       "2               NaN  1.214818e+06  694090.909091         0.0   45923.181818   \n",
       "3               NaN  1.207923e+06  672000.000000         0.0   38567.161538   \n",
       "4               NaN  1.192364e+06  666000.000000         0.0   22849.272727   \n",
       "\n",
       "   신재생 발전량 총합(kW)     공급 예비력(kW)     운영 예비력(kW)  \n",
       "0   123350.666667  527166.666667  328500.000000  \n",
       "1    77036.569231  510692.307692  312692.307692  \n",
       "2    53740.109091  520727.272727  318545.454545  \n",
       "3    46614.815385  536000.000000  291000.000000  \n",
       "4    30575.990909  526363.636364  318272.727273  \n",
       "\n",
       "[5 rows x 24 columns]"
      ]
     },
     "execution_count": 39,
     "metadata": {},
     "output_type": "execute_result"
    }
   ],
   "source": [
    "X.head()"
   ]
  },
  {
   "cell_type": "markdown",
   "metadata": {},
   "source": [
    "##### Y 데이터\n",
    "\n",
    "- 하루 전 시장 전기 예측 가격(n+1)"
   ]
  },
  {
   "cell_type": "code",
   "execution_count": 40,
   "metadata": {},
   "outputs": [],
   "source": [
    "Y = smp_da"
   ]
  },
  {
   "cell_type": "markdown",
   "metadata": {},
   "source": [
    "### 파이토치 모델 구성"
   ]
  },
  {
   "cell_type": "markdown",
   "metadata": {},
   "source": [
    "##### 날짜 설정"
   ]
  },
  {
   "cell_type": "code",
   "execution_count": 42,
   "metadata": {},
   "outputs": [],
   "source": [
    "target_date = {\n",
    "  # 최소 2024-03-04\n",
    "  \"train_start_date\": '2024-03-03',\n",
    "  # 최대 2024-10-22\n",
    "  \"train_end_date\": '2024-10-22',\n",
    "}"
   ]
  },
  {
   "cell_type": "code",
   "execution_count": 43,
   "metadata": {},
   "outputs": [],
   "source": [
    "X = X.loc[\n",
    "  (X['datetime'] > target_date['train_start_date']) &\n",
    "  (X['datetime'] <= target_date['train_end_date'])\n",
    "]"
   ]
  },
  {
   "cell_type": "code",
   "execution_count": 44,
   "metadata": {},
   "outputs": [],
   "source": [
    "Y = Y.loc[\n",
    "  (Y['datetime'] > target_date['train_start_date']) &\n",
    "  (Y['datetime'] <= target_date['train_end_date'])\n",
    "]"
   ]
  },
  {
   "cell_type": "code",
   "execution_count": 45,
   "metadata": {},
   "outputs": [
    {
     "name": "stdout",
     "output_type": "stream",
     "text": [
      "2024-03-03 01:00:00 2024-10-22 00:00:00\n"
     ]
    }
   ],
   "source": [
    "from datetime import datetime, timedelta\n",
    "\n",
    "targ = datetime.strptime(target_date['train_start_date'], '%Y-%m-%d') + timedelta(hours=1)\n",
    "endd = datetime.strptime(target_date['train_end_date'], '%Y-%m-%d')\n",
    "\n",
    "print(targ, endd)"
   ]
  },
  {
   "cell_type": "code",
   "execution_count": 46,
   "metadata": {},
   "outputs": [],
   "source": [
    "# X 데이터의 특정 시간이 누락되었기 때문에\n",
    "# Y 데이터에서도 누락된 시간대를 제거한다.\n",
    "\n",
    "while targ <= endd:\n",
    "  if not len(X.loc[X['datetime'] == targ]):\n",
    "    idx = Y[Y['datetime'] == targ].index\n",
    "    Y.drop(idx, inplace=True)\n",
    "  \n",
    "  targ = targ + timedelta(hours=1)"
   ]
  },
  {
   "cell_type": "code",
   "execution_count": 47,
   "metadata": {},
   "outputs": [
    {
     "data": {
      "text/plain": [
       "(5592, 5592)"
      ]
     },
     "execution_count": 47,
     "metadata": {},
     "output_type": "execute_result"
    }
   ],
   "source": [
    "len(X), len(Y)"
   ]
  },
  {
   "cell_type": "markdown",
   "metadata": {},
   "source": [
    "##### 모듈 임포트"
   ]
  },
  {
   "cell_type": "code",
   "execution_count": 48,
   "metadata": {},
   "outputs": [],
   "source": [
    "import torch\n",
    "import torch.nn as nn\n",
    "from torch.utils.data import Dataset\n",
    "from torch.utils.data import DataLoader\n",
    "from sklearn.preprocessing import MinMaxScaler"
   ]
  },
  {
   "cell_type": "code",
   "execution_count": 49,
   "metadata": {},
   "outputs": [
    {
     "name": "stdout",
     "output_type": "stream",
     "text": [
      "NVIDIA GeForce GTX 1650\n",
      "2.5.0+cu118\n",
      "11.8\n",
      "tensor([-0.4093], device='cuda:0')\n"
     ]
    },
    {
     "data": {
      "text/plain": [
       "device(type='cuda', index=0)"
      ]
     },
     "execution_count": 49,
     "metadata": {},
     "output_type": "execute_result"
    }
   ],
   "source": [
    "if torch.cuda.is_available():\n",
    "  print(torch.cuda.get_device_name())\n",
    "  print(torch.__version__)\n",
    "  print(torch.version.cuda)\n",
    "  x = torch.randn(1).cuda()\n",
    "  print(x)\n",
    "\n",
    "device = torch.device(\"cuda:0\" if torch.cuda.is_available() else \"cpu\")\n",
    "device"
   ]
  },
  {
   "cell_type": "markdown",
   "metadata": {},
   "source": [
    "##### Dataset 구성"
   ]
  },
  {
   "cell_type": "code",
   "execution_count": 50,
   "metadata": {},
   "outputs": [],
   "source": [
    "class ElecDataset(Dataset):\n",
    "  def __init__(self, x_data, y_data):\n",
    "    scaler = MinMaxScaler()\n",
    "\n",
    "    columns_to_scale = x_data.columns[1:]\n",
    "    x_data[columns_to_scale] = scaler.fit_transform(x_data[columns_to_scale])\n",
    "    \n",
    "    self.x_data = x_data.fillna(0)\n",
    "    self.y_data = y_data.fillna(0)\n",
    "\n",
    "  def __getitem__(self, index):\n",
    "    target_y = self.y_data['하루전가격(원/kWh)'].iloc[index]\n",
    "    targets = self.x_data.drop(columns='datetime').iloc[index].to_numpy()\n",
    "\n",
    "    return torch.from_numpy(targets), torch.tensor(target_y)\n",
    "\n",
    "  def __len__(self):\n",
    "    return int(len(self.y_data))"
   ]
  },
  {
   "cell_type": "code",
   "execution_count": 51,
   "metadata": {},
   "outputs": [],
   "source": [
    "dataset = ElecDataset(X, Y)"
   ]
  },
  {
   "cell_type": "code",
   "execution_count": 52,
   "metadata": {},
   "outputs": [
    {
     "data": {
      "text/plain": [
       "5592"
      ]
     },
     "execution_count": 52,
     "metadata": {},
     "output_type": "execute_result"
    }
   ],
   "source": [
    "len(dataset)"
   ]
  },
  {
   "cell_type": "markdown",
   "metadata": {},
   "source": [
    "##### dataloader 구성"
   ]
  },
  {
   "cell_type": "code",
   "execution_count": 53,
   "metadata": {},
   "outputs": [],
   "source": [
    "dataloader = DataLoader(dataset=dataset,\n",
    "                        batch_size=32,\n",
    "                        shuffle=True,\n",
    "                        drop_last=False)"
   ]
  },
  {
   "cell_type": "markdown",
   "metadata": {},
   "source": [
    "##### 모델 구성"
   ]
  },
  {
   "cell_type": "code",
   "execution_count": 54,
   "metadata": {},
   "outputs": [],
   "source": [
    "class NeuralNetwork(nn.Module):\n",
    "    def __init__(self, input_size, output_size):\n",
    "        super(NeuralNetwork, self).__init__()\n",
    "        self.linear_relu_stack = nn.Sequential(\n",
    "            nn.Linear(input_size, 128, dtype=torch.float64),\n",
    "            nn.ReLU(),\n",
    "            nn.Linear(128, 256, dtype=torch.float64),\n",
    "            nn.ReLU(),\n",
    "            nn.Linear(256, 256, dtype=torch.float64),\n",
    "            nn.ReLU(),\n",
    "            nn.Linear(256, 256, dtype=torch.float64),\n",
    "            nn.ReLU(),\n",
    "            nn.Linear(256, 256, dtype=torch.float64),\n",
    "            nn.ReLU(),\n",
    "            nn.Linear(256, 128, dtype=torch.float64),\n",
    "            nn.ReLU(),\n",
    "            nn.Linear(128, 32, dtype=torch.float64),\n",
    "            nn.ReLU(),\n",
    "            nn.Linear(32, 8, dtype=torch.float64),\n",
    "            nn.ReLU(),\n",
    "            nn.Linear(8, output_size, dtype=torch.float64)\n",
    "        )\n",
    "\n",
    "    def forward(self, x):\n",
    "        out = self.linear_relu_stack(x)\n",
    "\n",
    "        return out "
   ]
  },
  {
   "cell_type": "code",
   "execution_count": 55,
   "metadata": {},
   "outputs": [],
   "source": [
    "def customloss(predict, y):#학습용\n",
    "    predict = predict.squeeze()\n",
    "\n",
    "    e1 = torch.zeros_like(y)\n",
    "    e2 = torch.zeros_like(y)\n",
    "    accuracy = torch.zeros_like(y, dtype=torch.bool)\n",
    "\n",
    "    positive_mask = y > 0\n",
    "    negative_mask = y <= 0\n",
    "\n",
    "    e1_mask = y > 0  # y > 0인 부분 마스크\n",
    "    e2_mask = y < -1  # y <= 0인 부분 마스크\n",
    "    e2_adjusted_mask = (y <= 0) & (y >= -1)\n",
    "    # 각 마스크 조건에 맞는 부분에 대해서만 e1, e2를 계산합니다.\n",
    "    # e1과 e2에서 분모에 작은 상수를 추가하여 0으로 나누는 것을 방지\n",
    "    e1[e1_mask] = torch.abs((y[e1_mask] - predict[e1_mask]) / (y[e1_mask]))\n",
    "    e2[e2_mask] = torch.abs((y[e2_mask] - predict[e2_mask]) / (-y[e2_mask]))\n",
    "    e2[e2_adjusted_mask] = torch.abs((y[e2_adjusted_mask] - predict[e2_adjusted_mask]) / (-1))\n",
    "\n",
    "    accuracy[positive_mask] = (predict[positive_mask] > 0)\n",
    "    accuracy[negative_mask] = (predict[negative_mask] <= 0)\n",
    "\n",
    "    e1_mean = e1[e1 != 0].mean() if (e1 != 0).any() else torch.tensor(0.0)\n",
    "    e2_mean = e2[e2 != 0].mean() if (e2 != 0).any() else torch.tensor(0.0)\n",
    "\n",
    "    accuracy_mean = accuracy.float().mean()\n",
    "\n",
    "    e_F = 0.2 * e1_mean + 0.8 * e2_mean - (accuracy_mean - 0.95)\n",
    "    if e_F<0:\n",
    "      e_F=0\n",
    "    e_F_square = e_F**2\n",
    "    mse_loss = torch.mean((y - predict)**2)\n",
    "\n",
    "    return e_F_square*10+mse_loss"
   ]
  },
  {
   "cell_type": "code",
   "execution_count": null,
   "metadata": {},
   "outputs": [],
   "source": [
    "input_size = len(X.columns) - 1  # Number of input features\n",
    "output_size = 1  # Single output\n",
    "\n",
    "\n",
    "model = NeuralNetwork(input_size, output_size)\n",
    "\n",
    "\n",
    "criterion = customloss # nn.MSELoss()"
   ]
  },
  {
   "cell_type": "markdown",
   "metadata": {},
   "source": [
    "##### 학습"
   ]
  },
  {
   "cell_type": "code",
   "execution_count": 57,
   "metadata": {},
   "outputs": [],
   "source": [
    "def train(model, train_loader, criterion, optimizer, num_epochs, device):\n",
    "    model = model.to(device)  # Move model to GPU/CPU\n",
    "\n",
    "    train_history = []\n",
    "    \n",
    "    for epoch in range(num_epochs):\n",
    "        model.train()  # Set the model to training mode\n",
    "        \n",
    "        running_loss = 0.0  # To keep track of loss\n",
    "        for inputs, targets in tqdm(train_loader, ncols=100):\n",
    "\n",
    "            # Move data to the same device as the model\n",
    "            inputs, targets = inputs.to(device), targets.to(device)\n",
    "            \n",
    "            # Forward pass\n",
    "            outputs = model(inputs)\n",
    "\n",
    "            loss = criterion(outputs, targets)\n",
    "\n",
    "            # Backward pass and optimization\n",
    "            optimizer.zero_grad()  # Clear the gradients\n",
    "            loss.backward()        # Compute gradients\n",
    "            # torch.nn.utils.clip_grad_norm_(model.parameters(), max_norm=1.0)\n",
    "            optimizer.step()        # Update model parameters\n",
    "\n",
    "            running_loss += loss.item()\n",
    "            \n",
    "            # print(loss.item())\n",
    "\n",
    "        # Print the loss after each epoch\n",
    "        avg_loss = running_loss / len(train_loader)\n",
    "        train_history.append(avg_loss)\n",
    "        print(f\"Epoch [{epoch+1}/{num_epochs}], Loss: {avg_loss:.4f}\")\n",
    "\n",
    "    print(\"Training complete.\")\n",
    "    return model, train_history"
   ]
  },
  {
   "cell_type": "markdown",
   "metadata": {},
   "source": [
    "##### 하이퍼 파라미터"
   ]
  },
  {
   "cell_type": "code",
   "execution_count": null,
   "metadata": {},
   "outputs": [],
   "source": [
    "learning_rate = 0.0005\n",
    "epoches=50\n",
    "\n",
    "optimizer = torch.optim.Adam(model.parameters(), lr=learning_rate)"
   ]
  },
  {
   "cell_type": "code",
   "execution_count": 58,
   "metadata": {},
   "outputs": [
    {
     "name": "stderr",
     "output_type": "stream",
     "text": [
      "100%|█████████████████████████████████████████████████████████████| 175/175 [00:11<00:00, 14.75it/s]\n"
     ]
    },
    {
     "name": "stdout",
     "output_type": "stream",
     "text": [
      "Epoch [1/50], Loss: 14322.8583\n"
     ]
    },
    {
     "name": "stderr",
     "output_type": "stream",
     "text": [
      "100%|█████████████████████████████████████████████████████████████| 175/175 [00:10<00:00, 16.18it/s]\n"
     ]
    },
    {
     "name": "stdout",
     "output_type": "stream",
     "text": [
      "Epoch [2/50], Loss: 8452.1499\n"
     ]
    },
    {
     "name": "stderr",
     "output_type": "stream",
     "text": [
      "100%|█████████████████████████████████████████████████████████████| 175/175 [00:10<00:00, 16.32it/s]\n"
     ]
    },
    {
     "name": "stdout",
     "output_type": "stream",
     "text": [
      "Epoch [3/50], Loss: 6076.4121\n"
     ]
    },
    {
     "name": "stderr",
     "output_type": "stream",
     "text": [
      "100%|█████████████████████████████████████████████████████████████| 175/175 [00:10<00:00, 16.01it/s]\n"
     ]
    },
    {
     "name": "stdout",
     "output_type": "stream",
     "text": [
      "Epoch [4/50], Loss: 4548.5704\n"
     ]
    },
    {
     "name": "stderr",
     "output_type": "stream",
     "text": [
      "100%|█████████████████████████████████████████████████████████████| 175/175 [00:11<00:00, 15.06it/s]\n"
     ]
    },
    {
     "name": "stdout",
     "output_type": "stream",
     "text": [
      "Epoch [5/50], Loss: 4614.2763\n"
     ]
    },
    {
     "name": "stderr",
     "output_type": "stream",
     "text": [
      "100%|█████████████████████████████████████████████████████████████| 175/175 [00:11<00:00, 15.02it/s]\n"
     ]
    },
    {
     "name": "stdout",
     "output_type": "stream",
     "text": [
      "Epoch [6/50], Loss: 4393.5078\n"
     ]
    },
    {
     "name": "stderr",
     "output_type": "stream",
     "text": [
      "100%|█████████████████████████████████████████████████████████████| 175/175 [00:11<00:00, 15.66it/s]\n"
     ]
    },
    {
     "name": "stdout",
     "output_type": "stream",
     "text": [
      "Epoch [7/50], Loss: 4760.4805\n"
     ]
    },
    {
     "name": "stderr",
     "output_type": "stream",
     "text": [
      "100%|█████████████████████████████████████████████████████████████| 175/175 [00:10<00:00, 16.26it/s]\n"
     ]
    },
    {
     "name": "stdout",
     "output_type": "stream",
     "text": [
      "Epoch [8/50], Loss: 4865.4122\n"
     ]
    },
    {
     "name": "stderr",
     "output_type": "stream",
     "text": [
      "100%|█████████████████████████████████████████████████████████████| 175/175 [00:11<00:00, 15.73it/s]\n"
     ]
    },
    {
     "name": "stdout",
     "output_type": "stream",
     "text": [
      "Epoch [9/50], Loss: 4538.7474\n"
     ]
    },
    {
     "name": "stderr",
     "output_type": "stream",
     "text": [
      "100%|█████████████████████████████████████████████████████████████| 175/175 [00:11<00:00, 15.07it/s]\n"
     ]
    },
    {
     "name": "stdout",
     "output_type": "stream",
     "text": [
      "Epoch [10/50], Loss: 3814.1550\n"
     ]
    },
    {
     "name": "stderr",
     "output_type": "stream",
     "text": [
      "100%|█████████████████████████████████████████████████████████████| 175/175 [00:11<00:00, 14.71it/s]\n"
     ]
    },
    {
     "name": "stdout",
     "output_type": "stream",
     "text": [
      "Epoch [11/50], Loss: 4115.8227\n"
     ]
    },
    {
     "name": "stderr",
     "output_type": "stream",
     "text": [
      "100%|█████████████████████████████████████████████████████████████| 175/175 [00:11<00:00, 15.03it/s]\n"
     ]
    },
    {
     "name": "stdout",
     "output_type": "stream",
     "text": [
      "Epoch [12/50], Loss: 4112.0878\n"
     ]
    },
    {
     "name": "stderr",
     "output_type": "stream",
     "text": [
      "100%|█████████████████████████████████████████████████████████████| 175/175 [00:11<00:00, 15.16it/s]\n"
     ]
    },
    {
     "name": "stdout",
     "output_type": "stream",
     "text": [
      "Epoch [13/50], Loss: 3938.8185\n"
     ]
    },
    {
     "name": "stderr",
     "output_type": "stream",
     "text": [
      "100%|█████████████████████████████████████████████████████████████| 175/175 [00:11<00:00, 15.42it/s]\n"
     ]
    },
    {
     "name": "stdout",
     "output_type": "stream",
     "text": [
      "Epoch [14/50], Loss: 4483.5418\n"
     ]
    },
    {
     "name": "stderr",
     "output_type": "stream",
     "text": [
      "100%|█████████████████████████████████████████████████████████████| 175/175 [00:11<00:00, 15.42it/s]\n"
     ]
    },
    {
     "name": "stdout",
     "output_type": "stream",
     "text": [
      "Epoch [15/50], Loss: 3169.6064\n"
     ]
    },
    {
     "name": "stderr",
     "output_type": "stream",
     "text": [
      "100%|█████████████████████████████████████████████████████████████| 175/175 [00:11<00:00, 15.54it/s]\n"
     ]
    },
    {
     "name": "stdout",
     "output_type": "stream",
     "text": [
      "Epoch [16/50], Loss: 3688.9831\n"
     ]
    },
    {
     "name": "stderr",
     "output_type": "stream",
     "text": [
      "100%|█████████████████████████████████████████████████████████████| 175/175 [00:11<00:00, 15.34it/s]\n"
     ]
    },
    {
     "name": "stdout",
     "output_type": "stream",
     "text": [
      "Epoch [17/50], Loss: 4052.0945\n"
     ]
    },
    {
     "name": "stderr",
     "output_type": "stream",
     "text": [
      "100%|█████████████████████████████████████████████████████████████| 175/175 [00:10<00:00, 16.47it/s]\n"
     ]
    },
    {
     "name": "stdout",
     "output_type": "stream",
     "text": [
      "Epoch [18/50], Loss: 4170.0185\n"
     ]
    },
    {
     "name": "stderr",
     "output_type": "stream",
     "text": [
      "100%|█████████████████████████████████████████████████████████████| 175/175 [00:10<00:00, 16.64it/s]\n"
     ]
    },
    {
     "name": "stdout",
     "output_type": "stream",
     "text": [
      "Epoch [19/50], Loss: 2793.4308\n"
     ]
    },
    {
     "name": "stderr",
     "output_type": "stream",
     "text": [
      "100%|█████████████████████████████████████████████████████████████| 175/175 [00:11<00:00, 15.78it/s]\n"
     ]
    },
    {
     "name": "stdout",
     "output_type": "stream",
     "text": [
      "Epoch [20/50], Loss: 3249.3331\n"
     ]
    },
    {
     "name": "stderr",
     "output_type": "stream",
     "text": [
      "100%|█████████████████████████████████████████████████████████████| 175/175 [00:11<00:00, 15.24it/s]\n"
     ]
    },
    {
     "name": "stdout",
     "output_type": "stream",
     "text": [
      "Epoch [21/50], Loss: 3159.0117\n"
     ]
    },
    {
     "name": "stderr",
     "output_type": "stream",
     "text": [
      "100%|█████████████████████████████████████████████████████████████| 175/175 [00:11<00:00, 15.44it/s]\n"
     ]
    },
    {
     "name": "stdout",
     "output_type": "stream",
     "text": [
      "Epoch [22/50], Loss: 3028.1672\n"
     ]
    },
    {
     "name": "stderr",
     "output_type": "stream",
     "text": [
      "100%|█████████████████████████████████████████████████████████████| 175/175 [00:11<00:00, 15.18it/s]\n"
     ]
    },
    {
     "name": "stdout",
     "output_type": "stream",
     "text": [
      "Epoch [23/50], Loss: 3355.6607\n"
     ]
    },
    {
     "name": "stderr",
     "output_type": "stream",
     "text": [
      "100%|█████████████████████████████████████████████████████████████| 175/175 [00:10<00:00, 15.96it/s]\n"
     ]
    },
    {
     "name": "stdout",
     "output_type": "stream",
     "text": [
      "Epoch [24/50], Loss: 3696.2521\n"
     ]
    },
    {
     "name": "stderr",
     "output_type": "stream",
     "text": [
      "100%|█████████████████████████████████████████████████████████████| 175/175 [00:10<00:00, 16.62it/s]\n"
     ]
    },
    {
     "name": "stdout",
     "output_type": "stream",
     "text": [
      "Epoch [25/50], Loss: 2525.7115\n"
     ]
    },
    {
     "name": "stderr",
     "output_type": "stream",
     "text": [
      "100%|█████████████████████████████████████████████████████████████| 175/175 [00:10<00:00, 16.33it/s]\n"
     ]
    },
    {
     "name": "stdout",
     "output_type": "stream",
     "text": [
      "Epoch [26/50], Loss: 4238.0911\n"
     ]
    },
    {
     "name": "stderr",
     "output_type": "stream",
     "text": [
      "100%|█████████████████████████████████████████████████████████████| 175/175 [00:11<00:00, 15.26it/s]\n"
     ]
    },
    {
     "name": "stdout",
     "output_type": "stream",
     "text": [
      "Epoch [27/50], Loss: 2287.3184\n"
     ]
    },
    {
     "name": "stderr",
     "output_type": "stream",
     "text": [
      "100%|█████████████████████████████████████████████████████████████| 175/175 [00:12<00:00, 14.43it/s]\n"
     ]
    },
    {
     "name": "stdout",
     "output_type": "stream",
     "text": [
      "Epoch [28/50], Loss: 2135.2514\n"
     ]
    },
    {
     "name": "stderr",
     "output_type": "stream",
     "text": [
      "100%|█████████████████████████████████████████████████████████████| 175/175 [00:12<00:00, 14.54it/s]\n"
     ]
    },
    {
     "name": "stdout",
     "output_type": "stream",
     "text": [
      "Epoch [29/50], Loss: 3350.4037\n"
     ]
    },
    {
     "name": "stderr",
     "output_type": "stream",
     "text": [
      "100%|█████████████████████████████████████████████████████████████| 175/175 [00:12<00:00, 14.54it/s]\n"
     ]
    },
    {
     "name": "stdout",
     "output_type": "stream",
     "text": [
      "Epoch [30/50], Loss: 2636.1477\n"
     ]
    },
    {
     "name": "stderr",
     "output_type": "stream",
     "text": [
      "100%|█████████████████████████████████████████████████████████████| 175/175 [00:13<00:00, 12.67it/s]\n"
     ]
    },
    {
     "name": "stdout",
     "output_type": "stream",
     "text": [
      "Epoch [31/50], Loss: 2259.2538\n"
     ]
    },
    {
     "name": "stderr",
     "output_type": "stream",
     "text": [
      "100%|█████████████████████████████████████████████████████████████| 175/175 [00:12<00:00, 14.32it/s]\n"
     ]
    },
    {
     "name": "stdout",
     "output_type": "stream",
     "text": [
      "Epoch [32/50], Loss: 2970.8552\n"
     ]
    },
    {
     "name": "stderr",
     "output_type": "stream",
     "text": [
      "100%|█████████████████████████████████████████████████████████████| 175/175 [00:12<00:00, 14.22it/s]\n"
     ]
    },
    {
     "name": "stdout",
     "output_type": "stream",
     "text": [
      "Epoch [33/50], Loss: 3574.8299\n"
     ]
    },
    {
     "name": "stderr",
     "output_type": "stream",
     "text": [
      "100%|█████████████████████████████████████████████████████████████| 175/175 [00:11<00:00, 14.86it/s]\n"
     ]
    },
    {
     "name": "stdout",
     "output_type": "stream",
     "text": [
      "Epoch [34/50], Loss: 2982.9004\n"
     ]
    },
    {
     "name": "stderr",
     "output_type": "stream",
     "text": [
      "100%|█████████████████████████████████████████████████████████████| 175/175 [00:12<00:00, 13.76it/s]\n"
     ]
    },
    {
     "name": "stdout",
     "output_type": "stream",
     "text": [
      "Epoch [35/50], Loss: 2379.0970\n"
     ]
    },
    {
     "name": "stderr",
     "output_type": "stream",
     "text": [
      "100%|█████████████████████████████████████████████████████████████| 175/175 [00:11<00:00, 14.70it/s]\n"
     ]
    },
    {
     "name": "stdout",
     "output_type": "stream",
     "text": [
      "Epoch [36/50], Loss: 3474.9048\n"
     ]
    },
    {
     "name": "stderr",
     "output_type": "stream",
     "text": [
      "100%|█████████████████████████████████████████████████████████████| 175/175 [00:11<00:00, 15.37it/s]\n"
     ]
    },
    {
     "name": "stdout",
     "output_type": "stream",
     "text": [
      "Epoch [37/50], Loss: 2453.4548\n"
     ]
    },
    {
     "name": "stderr",
     "output_type": "stream",
     "text": [
      "100%|█████████████████████████████████████████████████████████████| 175/175 [00:11<00:00, 15.03it/s]\n"
     ]
    },
    {
     "name": "stdout",
     "output_type": "stream",
     "text": [
      "Epoch [38/50], Loss: 2063.5087\n"
     ]
    },
    {
     "name": "stderr",
     "output_type": "stream",
     "text": [
      "100%|█████████████████████████████████████████████████████████████| 175/175 [00:13<00:00, 12.78it/s]\n"
     ]
    },
    {
     "name": "stdout",
     "output_type": "stream",
     "text": [
      "Epoch [39/50], Loss: 3400.1113\n"
     ]
    },
    {
     "name": "stderr",
     "output_type": "stream",
     "text": [
      "100%|█████████████████████████████████████████████████████████████| 175/175 [00:12<00:00, 14.56it/s]\n"
     ]
    },
    {
     "name": "stdout",
     "output_type": "stream",
     "text": [
      "Epoch [40/50], Loss: 2077.0042\n"
     ]
    },
    {
     "name": "stderr",
     "output_type": "stream",
     "text": [
      "100%|█████████████████████████████████████████████████████████████| 175/175 [00:11<00:00, 14.81it/s]\n"
     ]
    },
    {
     "name": "stdout",
     "output_type": "stream",
     "text": [
      "Epoch [41/50], Loss: 2226.3133\n"
     ]
    },
    {
     "name": "stderr",
     "output_type": "stream",
     "text": [
      "100%|█████████████████████████████████████████████████████████████| 175/175 [00:11<00:00, 14.74it/s]\n"
     ]
    },
    {
     "name": "stdout",
     "output_type": "stream",
     "text": [
      "Epoch [42/50], Loss: 2492.4694\n"
     ]
    },
    {
     "name": "stderr",
     "output_type": "stream",
     "text": [
      "100%|█████████████████████████████████████████████████████████████| 175/175 [00:11<00:00, 14.80it/s]\n"
     ]
    },
    {
     "name": "stdout",
     "output_type": "stream",
     "text": [
      "Epoch [43/50], Loss: 2650.2212\n"
     ]
    },
    {
     "name": "stderr",
     "output_type": "stream",
     "text": [
      "100%|█████████████████████████████████████████████████████████████| 175/175 [00:12<00:00, 13.80it/s]\n"
     ]
    },
    {
     "name": "stdout",
     "output_type": "stream",
     "text": [
      "Epoch [44/50], Loss: 2414.6967\n"
     ]
    },
    {
     "name": "stderr",
     "output_type": "stream",
     "text": [
      "100%|█████████████████████████████████████████████████████████████| 175/175 [00:13<00:00, 12.85it/s]\n"
     ]
    },
    {
     "name": "stdout",
     "output_type": "stream",
     "text": [
      "Epoch [45/50], Loss: 3353.6097\n"
     ]
    },
    {
     "name": "stderr",
     "output_type": "stream",
     "text": [
      "100%|█████████████████████████████████████████████████████████████| 175/175 [00:12<00:00, 13.67it/s]\n"
     ]
    },
    {
     "name": "stdout",
     "output_type": "stream",
     "text": [
      "Epoch [46/50], Loss: 2906.1165\n"
     ]
    },
    {
     "name": "stderr",
     "output_type": "stream",
     "text": [
      "100%|█████████████████████████████████████████████████████████████| 175/175 [00:13<00:00, 13.06it/s]\n"
     ]
    },
    {
     "name": "stdout",
     "output_type": "stream",
     "text": [
      "Epoch [47/50], Loss: 2188.9126\n"
     ]
    },
    {
     "name": "stderr",
     "output_type": "stream",
     "text": [
      "100%|█████████████████████████████████████████████████████████████| 175/175 [00:12<00:00, 13.75it/s]\n"
     ]
    },
    {
     "name": "stdout",
     "output_type": "stream",
     "text": [
      "Epoch [48/50], Loss: 2434.0044\n"
     ]
    },
    {
     "name": "stderr",
     "output_type": "stream",
     "text": [
      "100%|█████████████████████████████████████████████████████████████| 175/175 [00:12<00:00, 14.20it/s]\n"
     ]
    },
    {
     "name": "stdout",
     "output_type": "stream",
     "text": [
      "Epoch [49/50], Loss: 2993.1834\n"
     ]
    },
    {
     "name": "stderr",
     "output_type": "stream",
     "text": [
      "100%|█████████████████████████████████████████████████████████████| 175/175 [00:13<00:00, 13.26it/s]"
     ]
    },
    {
     "name": "stdout",
     "output_type": "stream",
     "text": [
      "Epoch [50/50], Loss: 2137.4865\n",
      "Training complete.\n"
     ]
    },
    {
     "name": "stderr",
     "output_type": "stream",
     "text": [
      "\n"
     ]
    }
   ],
   "source": [
    "model, train_history = train(model, dataloader, criterion, optimizer, epoches, device)"
   ]
  },
  {
   "cell_type": "markdown",
   "metadata": {},
   "source": [
    "학습 loss"
   ]
  },
  {
   "cell_type": "code",
   "execution_count": 59,
   "metadata": {},
   "outputs": [
    {
     "data": {
      "image/png": "[encoded data removed]",
      "text/plain": [
       "<Figure size 640x480 with 1 Axes>"
      ]
     },
     "metadata": {},
     "output_type": "display_data"
    }
   ],
   "source": [
    "plt.plot(train_history)\n",
    "\n",
    "plt.title('Model Loss')\n",
    "plt.xlabel('epoches')\n",
    "plt.ylabel('loss')\n",
    "plt.grid(True, linestyle='--')\n",
    "\n",
    "plt.show()"
   ]
  },
  {
   "cell_type": "code",
   "execution_count": 60,
   "metadata": {},
   "outputs": [],
   "source": [
    "torch.save(model.state_dict(), 'model4.pth')"
   ]
  },
  {
   "cell_type": "markdown",
   "metadata": {},
   "source": [
    "### 예측"
   ]
  },
  {
   "cell_type": "code",
   "execution_count": 61,
   "metadata": {},
   "outputs": [],
   "source": [
    "test_target_date = {\n",
    "  # 최소 2024-10-25\n",
    "  \"start_date\": '2024-10-25',\n",
    "  # 최대 2024-11-07\n",
    "  \"end_date\": '2024-11-07',\n",
    "}\n",
    "\n",
    "predict_target_date = '2024-11-06'"
   ]
  },
  {
   "cell_type": "markdown",
   "metadata": {},
   "source": [
    "##### 모델 불러오기"
   ]
  },
  {
   "cell_type": "code",
   "execution_count": 62,
   "metadata": {},
   "outputs": [
    {
     "name": "stderr",
     "output_type": "stream",
     "text": [
      "C:\\Users\\ldh75\\AppData\\Local\\Temp\\ipykernel_38176\\4006895719.py:5: FutureWarning: You are using `torch.load` with `weights_only=False` (the current default value), which uses the default pickle module implicitly. It is possible to construct malicious pickle data which will execute arbitrary code during unpickling (See https://github.com/pytorch/pytorch/blob/main/SECURITY.md#untrusted-models for more details). In a future release, the default value for `weights_only` will be flipped to `True`. This limits the functions that could be executed during unpickling. Arbitrary objects will no longer be allowed to be loaded via this mode unless they are explicitly allowlisted by the user via `torch.serialization.add_safe_globals`. We recommend you start setting `weights_only=True` for any use case where you don't have full control of the loaded file. Please open an issue on GitHub for any issues related to this experimental feature.\n",
      "  model_test.load_state_dict(torch.load('model4.pth'))\n"
     ]
    },
    {
     "data": {
      "text/plain": [
       "<All keys matched successfully>"
      ]
     },
     "execution_count": 62,
     "metadata": {},
     "output_type": "execute_result"
    }
   ],
   "source": [
    "model_test = NeuralNetwork(input_size, output_size)\n",
    "\n",
    "model_test.to(device)\n",
    "\n",
    "model_test.load_state_dict(torch.load('model4.pth'))"
   ]
  },
  {
   "cell_type": "markdown",
   "metadata": {},
   "source": [
    "##### X 데이터\n",
    "\n",
    "- 제주 기상 실측 (n+1)\n",
    "- 하루 전 시장 전기 예측 (n)\n",
    "- 제주 전력 시장 실시간 (n-1)\n",
    "- 제주 전력 시장 현황 (n-1)"
   ]
  },
  {
   "cell_type": "code",
   "execution_count": 63,
   "metadata": {},
   "outputs": [],
   "source": [
    "dfs = [weather_forecast_1, smp_da_x, smp_rt_rc, elec_supply]\n",
    "\n",
    "test_data = reduce(lambda left, right: pd.merge(left, right, on='datetime', how='inner'), dfs)\n",
    "\n",
    "target_day = datetime.strptime(predict_target_date, '%Y-%m-%d')\n",
    "\n",
    "target_data = test_data.loc[\n",
    "  (test_data['datetime'] > target_day) &\n",
    "  (test_data['datetime'] <= target_day + timedelta(days=1))\n",
    "]\n",
    "\n",
    "test_data = test_data.loc[\n",
    "  (test_data['datetime'] > datetime.strptime(test_target_date['start_date'], '%Y-%m-%d')) &\n",
    "  (test_data['datetime'] <= datetime.strptime(test_target_date['end_date'], '%Y-%m-%d') + timedelta(days=1))\n",
    "]"
   ]
  },
  {
   "cell_type": "code",
   "execution_count": 64,
   "metadata": {},
   "outputs": [
    {
     "data": {
      "text/html": [
       "<div>\n",
       "<style scoped>\n",
       "    .dataframe tbody tr th:only-of-type {\n",
       "        vertical-align: middle;\n",
       "    }\n",
       "\n",
       "    .dataframe tbody tr th {\n",
       "        vertical-align: top;\n",
       "    }\n",
       "\n",
       "    .dataframe thead th {\n",
       "        text-align: right;\n",
       "    }\n",
       "</style>\n",
       "<table border=\"1\" class=\"dataframe\">\n",
       "  <thead>\n",
       "    <tr style=\"text-align: right;\">\n",
       "      <th></th>\n",
       "      <th>datetime</th>\n",
       "      <th>temp</th>\n",
       "      <th>real_feel_temp</th>\n",
       "      <th>rel_hum</th>\n",
       "      <th>dew_point</th>\n",
       "      <th>wind_dir</th>\n",
       "      <th>wind_spd</th>\n",
       "      <th>wind_gust_spd</th>\n",
       "      <th>uv_idx</th>\n",
       "      <th>vis</th>\n",
       "      <th>...</th>\n",
       "      <th>하루전가격(원/kWh)</th>\n",
       "      <th>실시간 임시 가격(원/kWh)</th>\n",
       "      <th>실시간 확정 가격(원/kWh)</th>\n",
       "      <th>공급능력(kW)</th>\n",
       "      <th>현재 수요(kW)</th>\n",
       "      <th>태양광 발전량kW)</th>\n",
       "      <th>풍력 발전량(kW)</th>\n",
       "      <th>신재생 발전량 총합(kW)</th>\n",
       "      <th>공급 예비력(kW)</th>\n",
       "      <th>운영 예비력(kW)</th>\n",
       "    </tr>\n",
       "  </thead>\n",
       "  <tbody>\n",
       "    <tr>\n",
       "      <th>5601</th>\n",
       "      <td>2024-10-25 01:00:00</td>\n",
       "      <td>18.271589</td>\n",
       "      <td>16.543222</td>\n",
       "      <td>65.777778</td>\n",
       "      <td>11.790110</td>\n",
       "      <td>73.222222</td>\n",
       "      <td>15.664311</td>\n",
       "      <td>25.731622</td>\n",
       "      <td>0.0</td>\n",
       "      <td>16.0934</td>\n",
       "      <td>...</td>\n",
       "      <td>92.57</td>\n",
       "      <td>97.078000</td>\n",
       "      <td>97.078000</td>\n",
       "      <td>1.242000e+06</td>\n",
       "      <td>552615.384615</td>\n",
       "      <td>0.000000</td>\n",
       "      <td>236260.076923</td>\n",
       "      <td>244775.846154</td>\n",
       "      <td>684384.615385</td>\n",
       "      <td>223846.153846</td>\n",
       "    </tr>\n",
       "    <tr>\n",
       "      <th>5602</th>\n",
       "      <td>2024-10-25 02:00:00</td>\n",
       "      <td>18.456789</td>\n",
       "      <td>16.728389</td>\n",
       "      <td>68.777778</td>\n",
       "      <td>12.592600</td>\n",
       "      <td>70.888889</td>\n",
       "      <td>15.449733</td>\n",
       "      <td>26.357467</td>\n",
       "      <td>0.0</td>\n",
       "      <td>16.0934</td>\n",
       "      <td>...</td>\n",
       "      <td>204.70</td>\n",
       "      <td>133.896667</td>\n",
       "      <td>133.896667</td>\n",
       "      <td>1.240000e+06</td>\n",
       "      <td>524181.818182</td>\n",
       "      <td>0.000000</td>\n",
       "      <td>236084.090909</td>\n",
       "      <td>244635.090909</td>\n",
       "      <td>710818.181818</td>\n",
       "      <td>217181.818182</td>\n",
       "    </tr>\n",
       "    <tr>\n",
       "      <th>5603</th>\n",
       "      <td>2024-10-25 03:00:00</td>\n",
       "      <td>18.950611</td>\n",
       "      <td>17.098756</td>\n",
       "      <td>70.888889</td>\n",
       "      <td>13.395044</td>\n",
       "      <td>68.666667</td>\n",
       "      <td>15.664311</td>\n",
       "      <td>27.376733</td>\n",
       "      <td>0.0</td>\n",
       "      <td>16.0934</td>\n",
       "      <td>...</td>\n",
       "      <td>0.00</td>\n",
       "      <td>122.590000</td>\n",
       "      <td>122.590000</td>\n",
       "      <td>1.228769e+06</td>\n",
       "      <td>509769.230769</td>\n",
       "      <td>0.000000</td>\n",
       "      <td>248816.769231</td>\n",
       "      <td>257309.923077</td>\n",
       "      <td>714230.769231</td>\n",
       "      <td>210846.153846</td>\n",
       "    </tr>\n",
       "    <tr>\n",
       "      <th>5604</th>\n",
       "      <td>2024-10-25 04:00:00</td>\n",
       "      <td>18.950611</td>\n",
       "      <td>17.222222</td>\n",
       "      <td>72.555556</td>\n",
       "      <td>13.888878</td>\n",
       "      <td>67.111111</td>\n",
       "      <td>15.664311</td>\n",
       "      <td>27.573433</td>\n",
       "      <td>0.0</td>\n",
       "      <td>16.0934</td>\n",
       "      <td>...</td>\n",
       "      <td>0.00</td>\n",
       "      <td>30.783333</td>\n",
       "      <td>30.783333</td>\n",
       "      <td>1.223909e+06</td>\n",
       "      <td>502545.454545</td>\n",
       "      <td>0.000000</td>\n",
       "      <td>244287.363636</td>\n",
       "      <td>252679.909091</td>\n",
       "      <td>716454.545455</td>\n",
       "      <td>212363.636364</td>\n",
       "    </tr>\n",
       "    <tr>\n",
       "      <th>5605</th>\n",
       "      <td>2024-10-25 05:00:00</td>\n",
       "      <td>19.135778</td>\n",
       "      <td>17.407422</td>\n",
       "      <td>74.000000</td>\n",
       "      <td>14.444433</td>\n",
       "      <td>65.888889</td>\n",
       "      <td>16.093467</td>\n",
       "      <td>28.431744</td>\n",
       "      <td>0.0</td>\n",
       "      <td>16.0934</td>\n",
       "      <td>...</td>\n",
       "      <td>0.00</td>\n",
       "      <td>0.000000</td>\n",
       "      <td>0.000000</td>\n",
       "      <td>1.222077e+06</td>\n",
       "      <td>504923.076923</td>\n",
       "      <td>0.000000</td>\n",
       "      <td>239023.153846</td>\n",
       "      <td>247333.615385</td>\n",
       "      <td>703769.230769</td>\n",
       "      <td>208230.769231</td>\n",
       "    </tr>\n",
       "    <tr>\n",
       "      <th>...</th>\n",
       "      <td>...</td>\n",
       "      <td>...</td>\n",
       "      <td>...</td>\n",
       "      <td>...</td>\n",
       "      <td>...</td>\n",
       "      <td>...</td>\n",
       "      <td>...</td>\n",
       "      <td>...</td>\n",
       "      <td>...</td>\n",
       "      <td>...</td>\n",
       "      <td>...</td>\n",
       "      <td>...</td>\n",
       "      <td>...</td>\n",
       "      <td>...</td>\n",
       "      <td>...</td>\n",
       "      <td>...</td>\n",
       "      <td>...</td>\n",
       "      <td>...</td>\n",
       "      <td>...</td>\n",
       "      <td>...</td>\n",
       "      <td>...</td>\n",
       "    </tr>\n",
       "    <tr>\n",
       "      <th>5932</th>\n",
       "      <td>2024-11-07 20:00:00</td>\n",
       "      <td>15.370378</td>\n",
       "      <td>15.493833</td>\n",
       "      <td>72.333333</td>\n",
       "      <td>10.432126</td>\n",
       "      <td>102.000000</td>\n",
       "      <td>5.793637</td>\n",
       "      <td>13.822498</td>\n",
       "      <td>0.0</td>\n",
       "      <td>16.0934</td>\n",
       "      <td>...</td>\n",
       "      <td>117.52</td>\n",
       "      <td>127.580000</td>\n",
       "      <td>127.580000</td>\n",
       "      <td>1.244889e+06</td>\n",
       "      <td>705000.000000</td>\n",
       "      <td>6775.994444</td>\n",
       "      <td>303707.222222</td>\n",
       "      <td>310726.888889</td>\n",
       "      <td>540111.111111</td>\n",
       "      <td>366888.888889</td>\n",
       "    </tr>\n",
       "    <tr>\n",
       "      <th>5933</th>\n",
       "      <td>2024-11-07 21:00:00</td>\n",
       "      <td>15.493844</td>\n",
       "      <td>15.308656</td>\n",
       "      <td>73.222222</td>\n",
       "      <td>10.802470</td>\n",
       "      <td>105.555556</td>\n",
       "      <td>7.438751</td>\n",
       "      <td>16.272251</td>\n",
       "      <td>0.0</td>\n",
       "      <td>16.0934</td>\n",
       "      <td>...</td>\n",
       "      <td>117.53</td>\n",
       "      <td>119.556000</td>\n",
       "      <td>119.556000</td>\n",
       "      <td>1.236917e+06</td>\n",
       "      <td>670750.000000</td>\n",
       "      <td>4554.705833</td>\n",
       "      <td>298021.500000</td>\n",
       "      <td>302820.333333</td>\n",
       "      <td>566166.666667</td>\n",
       "      <td>391166.666667</td>\n",
       "    </tr>\n",
       "    <tr>\n",
       "      <th>5934</th>\n",
       "      <td>2024-11-07 22:00:00</td>\n",
       "      <td>15.123444</td>\n",
       "      <td>14.876556</td>\n",
       "      <td>77.333333</td>\n",
       "      <td>11.111110</td>\n",
       "      <td>111.666667</td>\n",
       "      <td>7.027472</td>\n",
       "      <td>16.272253</td>\n",
       "      <td>0.0</td>\n",
       "      <td>16.0934</td>\n",
       "      <td>...</td>\n",
       "      <td>113.81</td>\n",
       "      <td>106.686667</td>\n",
       "      <td>106.686667</td>\n",
       "      <td>1.243364e+06</td>\n",
       "      <td>648818.181818</td>\n",
       "      <td>1637.663636</td>\n",
       "      <td>306868.272727</td>\n",
       "      <td>308800.000000</td>\n",
       "      <td>594727.272727</td>\n",
       "      <td>407818.181818</td>\n",
       "    </tr>\n",
       "    <tr>\n",
       "      <th>5935</th>\n",
       "      <td>2024-11-07 23:00:00</td>\n",
       "      <td>15.493833</td>\n",
       "      <td>15.246944</td>\n",
       "      <td>77.111111</td>\n",
       "      <td>11.543210</td>\n",
       "      <td>117.111111</td>\n",
       "      <td>7.027472</td>\n",
       "      <td>16.683544</td>\n",
       "      <td>0.0</td>\n",
       "      <td>16.0934</td>\n",
       "      <td>...</td>\n",
       "      <td>113.61</td>\n",
       "      <td>105.064000</td>\n",
       "      <td>105.064000</td>\n",
       "      <td>1.223077e+06</td>\n",
       "      <td>625307.692308</td>\n",
       "      <td>0.000000</td>\n",
       "      <td>288086.538462</td>\n",
       "      <td>288662.615385</td>\n",
       "      <td>597615.384615</td>\n",
       "      <td>410384.615385</td>\n",
       "    </tr>\n",
       "    <tr>\n",
       "      <th>5936</th>\n",
       "      <td>2024-11-08 00:00:00</td>\n",
       "      <td>15.524694</td>\n",
       "      <td>15.277789</td>\n",
       "      <td>76.611111</td>\n",
       "      <td>11.512352</td>\n",
       "      <td>122.111111</td>\n",
       "      <td>7.438749</td>\n",
       "      <td>16.504744</td>\n",
       "      <td>0.0</td>\n",
       "      <td>16.0934</td>\n",
       "      <td>...</td>\n",
       "      <td>109.09</td>\n",
       "      <td>104.526667</td>\n",
       "      <td>104.526667</td>\n",
       "      <td>1.215800e+06</td>\n",
       "      <td>584500.000000</td>\n",
       "      <td>0.000000</td>\n",
       "      <td>281273.100000</td>\n",
       "      <td>281592.400000</td>\n",
       "      <td>631100.000000</td>\n",
       "      <td>443000.000000</td>\n",
       "    </tr>\n",
       "  </tbody>\n",
       "</table>\n",
       "<p>336 rows × 24 columns</p>\n",
       "</div>"
      ],
      "text/plain": [
       "                datetime       temp  real_feel_temp    rel_hum  dew_point  \\\n",
       "5601 2024-10-25 01:00:00  18.271589       16.543222  65.777778  11.790110   \n",
       "5602 2024-10-25 02:00:00  18.456789       16.728389  68.777778  12.592600   \n",
       "5603 2024-10-25 03:00:00  18.950611       17.098756  70.888889  13.395044   \n",
       "5604 2024-10-25 04:00:00  18.950611       17.222222  72.555556  13.888878   \n",
       "5605 2024-10-25 05:00:00  19.135778       17.407422  74.000000  14.444433   \n",
       "...                  ...        ...             ...        ...        ...   \n",
       "5932 2024-11-07 20:00:00  15.370378       15.493833  72.333333  10.432126   \n",
       "5933 2024-11-07 21:00:00  15.493844       15.308656  73.222222  10.802470   \n",
       "5934 2024-11-07 22:00:00  15.123444       14.876556  77.333333  11.111110   \n",
       "5935 2024-11-07 23:00:00  15.493833       15.246944  77.111111  11.543210   \n",
       "5936 2024-11-08 00:00:00  15.524694       15.277789  76.611111  11.512352   \n",
       "\n",
       "        wind_dir   wind_spd  wind_gust_spd  uv_idx      vis  ...  \\\n",
       "5601   73.222222  15.664311      25.731622     0.0  16.0934  ...   \n",
       "5602   70.888889  15.449733      26.357467     0.0  16.0934  ...   \n",
       "5603   68.666667  15.664311      27.376733     0.0  16.0934  ...   \n",
       "5604   67.111111  15.664311      27.573433     0.0  16.0934  ...   \n",
       "5605   65.888889  16.093467      28.431744     0.0  16.0934  ...   \n",
       "...          ...        ...            ...     ...      ...  ...   \n",
       "5932  102.000000   5.793637      13.822498     0.0  16.0934  ...   \n",
       "5933  105.555556   7.438751      16.272251     0.0  16.0934  ...   \n",
       "5934  111.666667   7.027472      16.272253     0.0  16.0934  ...   \n",
       "5935  117.111111   7.027472      16.683544     0.0  16.0934  ...   \n",
       "5936  122.111111   7.438749      16.504744     0.0  16.0934  ...   \n",
       "\n",
       "      하루전가격(원/kWh)  실시간 임시 가격(원/kWh)  실시간 확정 가격(원/kWh)      공급능력(kW)  \\\n",
       "5601         92.57         97.078000         97.078000  1.242000e+06   \n",
       "5602        204.70        133.896667        133.896667  1.240000e+06   \n",
       "5603          0.00        122.590000        122.590000  1.228769e+06   \n",
       "5604          0.00         30.783333         30.783333  1.223909e+06   \n",
       "5605          0.00          0.000000          0.000000  1.222077e+06   \n",
       "...            ...               ...               ...           ...   \n",
       "5932        117.52        127.580000        127.580000  1.244889e+06   \n",
       "5933        117.53        119.556000        119.556000  1.236917e+06   \n",
       "5934        113.81        106.686667        106.686667  1.243364e+06   \n",
       "5935        113.61        105.064000        105.064000  1.223077e+06   \n",
       "5936        109.09        104.526667        104.526667  1.215800e+06   \n",
       "\n",
       "          현재 수요(kW)   태양광 발전량kW)     풍력 발전량(kW)  신재생 발전량 총합(kW)  \\\n",
       "5601  552615.384615     0.000000  236260.076923   244775.846154   \n",
       "5602  524181.818182     0.000000  236084.090909   244635.090909   \n",
       "5603  509769.230769     0.000000  248816.769231   257309.923077   \n",
       "5604  502545.454545     0.000000  244287.363636   252679.909091   \n",
       "5605  504923.076923     0.000000  239023.153846   247333.615385   \n",
       "...             ...          ...            ...             ...   \n",
       "5932  705000.000000  6775.994444  303707.222222   310726.888889   \n",
       "5933  670750.000000  4554.705833  298021.500000   302820.333333   \n",
       "5934  648818.181818  1637.663636  306868.272727   308800.000000   \n",
       "5935  625307.692308     0.000000  288086.538462   288662.615385   \n",
       "5936  584500.000000     0.000000  281273.100000   281592.400000   \n",
       "\n",
       "         공급 예비력(kW)     운영 예비력(kW)  \n",
       "5601  684384.615385  223846.153846  \n",
       "5602  710818.181818  217181.818182  \n",
       "5603  714230.769231  210846.153846  \n",
       "5604  716454.545455  212363.636364  \n",
       "5605  703769.230769  208230.769231  \n",
       "...             ...            ...  \n",
       "5932  540111.111111  366888.888889  \n",
       "5933  566166.666667  391166.666667  \n",
       "5934  594727.272727  407818.181818  \n",
       "5935  597615.384615  410384.615385  \n",
       "5936  631100.000000  443000.000000  \n",
       "\n",
       "[336 rows x 24 columns]"
      ]
     },
     "execution_count": 64,
     "metadata": {},
     "output_type": "execute_result"
    }
   ],
   "source": [
    "test_data"
   ]
  },
  {
   "cell_type": "code",
   "execution_count": 65,
   "metadata": {},
   "outputs": [
    {
     "data": {
      "text/html": [
       "<div>\n",
       "<style scoped>\n",
       "    .dataframe tbody tr th:only-of-type {\n",
       "        vertical-align: middle;\n",
       "    }\n",
       "\n",
       "    .dataframe tbody tr th {\n",
       "        vertical-align: top;\n",
       "    }\n",
       "\n",
       "    .dataframe thead th {\n",
       "        text-align: right;\n",
       "    }\n",
       "</style>\n",
       "<table border=\"1\" class=\"dataframe\">\n",
       "  <thead>\n",
       "    <tr style=\"text-align: right;\">\n",
       "      <th></th>\n",
       "      <th>datetime</th>\n",
       "      <th>temp</th>\n",
       "      <th>real_feel_temp</th>\n",
       "      <th>rel_hum</th>\n",
       "      <th>dew_point</th>\n",
       "      <th>wind_dir</th>\n",
       "      <th>wind_spd</th>\n",
       "      <th>wind_gust_spd</th>\n",
       "      <th>uv_idx</th>\n",
       "      <th>vis</th>\n",
       "      <th>...</th>\n",
       "      <th>하루전가격(원/kWh)</th>\n",
       "      <th>실시간 임시 가격(원/kWh)</th>\n",
       "      <th>실시간 확정 가격(원/kWh)</th>\n",
       "      <th>공급능력(kW)</th>\n",
       "      <th>현재 수요(kW)</th>\n",
       "      <th>태양광 발전량kW)</th>\n",
       "      <th>풍력 발전량(kW)</th>\n",
       "      <th>신재생 발전량 총합(kW)</th>\n",
       "      <th>공급 예비력(kW)</th>\n",
       "      <th>운영 예비력(kW)</th>\n",
       "    </tr>\n",
       "  </thead>\n",
       "  <tbody>\n",
       "    <tr>\n",
       "      <th>5889</th>\n",
       "      <td>2024-11-06 01:00:00</td>\n",
       "      <td>12.222216</td>\n",
       "      <td>8.580243</td>\n",
       "      <td>63.777778</td>\n",
       "      <td>5.555557</td>\n",
       "      <td>83.555556</td>\n",
       "      <td>23.496410</td>\n",
       "      <td>40.770044</td>\n",
       "      <td>0.000000</td>\n",
       "      <td>16.0934</td>\n",
       "      <td>...</td>\n",
       "      <td>103.72</td>\n",
       "      <td>97.400000</td>\n",
       "      <td>97.400000</td>\n",
       "      <td>1.032077e+06</td>\n",
       "      <td>497000.000000</td>\n",
       "      <td>0.000000</td>\n",
       "      <td>614.893000</td>\n",
       "      <td>908.781846</td>\n",
       "      <td>484692.307692</td>\n",
       "      <td>263769.230769</td>\n",
       "    </tr>\n",
       "    <tr>\n",
       "      <th>5890</th>\n",
       "      <td>2024-11-06 02:00:00</td>\n",
       "      <td>12.037027</td>\n",
       "      <td>8.209879</td>\n",
       "      <td>64.555556</td>\n",
       "      <td>5.493828</td>\n",
       "      <td>83.888889</td>\n",
       "      <td>23.710999</td>\n",
       "      <td>42.200578</td>\n",
       "      <td>0.000000</td>\n",
       "      <td>16.0934</td>\n",
       "      <td>...</td>\n",
       "      <td>92.74</td>\n",
       "      <td>87.493333</td>\n",
       "      <td>87.493333</td>\n",
       "      <td>1.032273e+06</td>\n",
       "      <td>472363.636364</td>\n",
       "      <td>0.000000</td>\n",
       "      <td>279.042545</td>\n",
       "      <td>660.190636</td>\n",
       "      <td>509636.363636</td>\n",
       "      <td>263090.909091</td>\n",
       "    </tr>\n",
       "    <tr>\n",
       "      <th>5891</th>\n",
       "      <td>2024-11-06 03:00:00</td>\n",
       "      <td>11.728404</td>\n",
       "      <td>7.716048</td>\n",
       "      <td>65.777778</td>\n",
       "      <td>5.493828</td>\n",
       "      <td>84.333333</td>\n",
       "      <td>24.318967</td>\n",
       "      <td>43.863567</td>\n",
       "      <td>0.000000</td>\n",
       "      <td>16.0934</td>\n",
       "      <td>...</td>\n",
       "      <td>87.46</td>\n",
       "      <td>87.232000</td>\n",
       "      <td>87.232000</td>\n",
       "      <td>1.033000e+06</td>\n",
       "      <td>455923.076923</td>\n",
       "      <td>0.000000</td>\n",
       "      <td>359.823769</td>\n",
       "      <td>739.888923</td>\n",
       "      <td>526692.307692</td>\n",
       "      <td>280307.692308</td>\n",
       "    </tr>\n",
       "    <tr>\n",
       "      <th>5892</th>\n",
       "      <td>2024-11-06 04:00:00</td>\n",
       "      <td>11.851849</td>\n",
       "      <td>7.777776</td>\n",
       "      <td>65.777778</td>\n",
       "      <td>5.617286</td>\n",
       "      <td>85.333333</td>\n",
       "      <td>25.534900</td>\n",
       "      <td>46.295478</td>\n",
       "      <td>0.000000</td>\n",
       "      <td>16.0934</td>\n",
       "      <td>...</td>\n",
       "      <td>87.49</td>\n",
       "      <td>87.056667</td>\n",
       "      <td>87.056667</td>\n",
       "      <td>1.033000e+06</td>\n",
       "      <td>449818.181818</td>\n",
       "      <td>0.000000</td>\n",
       "      <td>395.955182</td>\n",
       "      <td>753.233091</td>\n",
       "      <td>532909.090909</td>\n",
       "      <td>286636.363636</td>\n",
       "    </tr>\n",
       "    <tr>\n",
       "      <th>5893</th>\n",
       "      <td>2024-11-06 05:00:00</td>\n",
       "      <td>12.283944</td>\n",
       "      <td>8.086418</td>\n",
       "      <td>65.333333</td>\n",
       "      <td>5.864200</td>\n",
       "      <td>86.555556</td>\n",
       "      <td>26.357464</td>\n",
       "      <td>48.566444</td>\n",
       "      <td>0.000000</td>\n",
       "      <td>16.0934</td>\n",
       "      <td>...</td>\n",
       "      <td>0.00</td>\n",
       "      <td>93.358000</td>\n",
       "      <td>93.358000</td>\n",
       "      <td>1.032538e+06</td>\n",
       "      <td>456923.076923</td>\n",
       "      <td>0.000000</td>\n",
       "      <td>424.759769</td>\n",
       "      <td>579.875692</td>\n",
       "      <td>525538.461538</td>\n",
       "      <td>317230.769231</td>\n",
       "    </tr>\n",
       "    <tr>\n",
       "      <th>5894</th>\n",
       "      <td>2024-11-06 06:00:00</td>\n",
       "      <td>12.530867</td>\n",
       "      <td>8.271609</td>\n",
       "      <td>65.000000</td>\n",
       "      <td>6.172839</td>\n",
       "      <td>87.888889</td>\n",
       "      <td>27.805889</td>\n",
       "      <td>51.463267</td>\n",
       "      <td>0.000000</td>\n",
       "      <td>16.0934</td>\n",
       "      <td>...</td>\n",
       "      <td>0.00</td>\n",
       "      <td>103.040000</td>\n",
       "      <td>103.040000</td>\n",
       "      <td>1.033182e+06</td>\n",
       "      <td>485909.090909</td>\n",
       "      <td>0.000000</td>\n",
       "      <td>1130.962182</td>\n",
       "      <td>1256.141364</td>\n",
       "      <td>497090.909091</td>\n",
       "      <td>374727.272727</td>\n",
       "    </tr>\n",
       "    <tr>\n",
       "      <th>5895</th>\n",
       "      <td>2024-11-06 07:00:00</td>\n",
       "      <td>12.592600</td>\n",
       "      <td>8.271609</td>\n",
       "      <td>65.555556</td>\n",
       "      <td>6.296296</td>\n",
       "      <td>201.111111</td>\n",
       "      <td>28.628433</td>\n",
       "      <td>53.716356</td>\n",
       "      <td>0.000000</td>\n",
       "      <td>16.0934</td>\n",
       "      <td>...</td>\n",
       "      <td>104.21</td>\n",
       "      <td>108.796000</td>\n",
       "      <td>108.796000</td>\n",
       "      <td>1.068308e+06</td>\n",
       "      <td>517923.076923</td>\n",
       "      <td>817.756154</td>\n",
       "      <td>634.594462</td>\n",
       "      <td>1659.884692</td>\n",
       "      <td>500230.769231</td>\n",
       "      <td>377461.538462</td>\n",
       "    </tr>\n",
       "    <tr>\n",
       "      <th>5896</th>\n",
       "      <td>2024-11-06 08:00:00</td>\n",
       "      <td>12.901233</td>\n",
       "      <td>8.950614</td>\n",
       "      <td>64.666667</td>\n",
       "      <td>6.358027</td>\n",
       "      <td>202.222222</td>\n",
       "      <td>30.058956</td>\n",
       "      <td>55.772744</td>\n",
       "      <td>0.666667</td>\n",
       "      <td>16.0934</td>\n",
       "      <td>...</td>\n",
       "      <td>106.62</td>\n",
       "      <td>120.953333</td>\n",
       "      <td>120.953333</td>\n",
       "      <td>1.117000e+06</td>\n",
       "      <td>528636.363636</td>\n",
       "      <td>35087.402727</td>\n",
       "      <td>1179.212818</td>\n",
       "      <td>36390.738182</td>\n",
       "      <td>544454.545455</td>\n",
       "      <td>415727.272727</td>\n",
       "    </tr>\n",
       "    <tr>\n",
       "      <th>5897</th>\n",
       "      <td>2024-11-06 09:00:00</td>\n",
       "      <td>13.580233</td>\n",
       "      <td>9.938277</td>\n",
       "      <td>61.444444</td>\n",
       "      <td>6.419756</td>\n",
       "      <td>203.222222</td>\n",
       "      <td>31.918644</td>\n",
       "      <td>57.811233</td>\n",
       "      <td>1.333333</td>\n",
       "      <td>16.0934</td>\n",
       "      <td>...</td>\n",
       "      <td>117.37</td>\n",
       "      <td>136.718000</td>\n",
       "      <td>136.778000</td>\n",
       "      <td>1.204154e+06</td>\n",
       "      <td>545692.307692</td>\n",
       "      <td>126945.684615</td>\n",
       "      <td>417.556692</td>\n",
       "      <td>127487.646154</td>\n",
       "      <td>638692.307692</td>\n",
       "      <td>438461.538462</td>\n",
       "    </tr>\n",
       "    <tr>\n",
       "      <th>5898</th>\n",
       "      <td>2024-11-06 10:00:00</td>\n",
       "      <td>14.691356</td>\n",
       "      <td>11.851853</td>\n",
       "      <td>57.666667</td>\n",
       "      <td>6.358027</td>\n",
       "      <td>164.888889</td>\n",
       "      <td>30.058956</td>\n",
       "      <td>55.379333</td>\n",
       "      <td>2.111111</td>\n",
       "      <td>16.0934</td>\n",
       "      <td>...</td>\n",
       "      <td>136.94</td>\n",
       "      <td>145.696667</td>\n",
       "      <td>145.696667</td>\n",
       "      <td>1.278727e+06</td>\n",
       "      <td>554272.727273</td>\n",
       "      <td>205438.181818</td>\n",
       "      <td>516.134182</td>\n",
       "      <td>206078.272727</td>\n",
       "      <td>707363.636364</td>\n",
       "      <td>448181.818182</td>\n",
       "    </tr>\n",
       "    <tr>\n",
       "      <th>5899</th>\n",
       "      <td>2024-11-06 11:00:00</td>\n",
       "      <td>15.185200</td>\n",
       "      <td>13.703711</td>\n",
       "      <td>54.888889</td>\n",
       "      <td>6.234568</td>\n",
       "      <td>167.333333</td>\n",
       "      <td>28.825133</td>\n",
       "      <td>53.090500</td>\n",
       "      <td>3.000000</td>\n",
       "      <td>16.0934</td>\n",
       "      <td>...</td>\n",
       "      <td>136.94</td>\n",
       "      <td>109.172000</td>\n",
       "      <td>132.222000</td>\n",
       "      <td>1.284308e+06</td>\n",
       "      <td>605000.000000</td>\n",
       "      <td>212340.769231</td>\n",
       "      <td>1353.765000</td>\n",
       "      <td>213819.153846</td>\n",
       "      <td>669230.769231</td>\n",
       "      <td>404153.846154</td>\n",
       "    </tr>\n",
       "    <tr>\n",
       "      <th>5900</th>\n",
       "      <td>2024-11-06 12:00:00</td>\n",
       "      <td>15.802478</td>\n",
       "      <td>14.876544</td>\n",
       "      <td>52.000000</td>\n",
       "      <td>5.925927</td>\n",
       "      <td>89.555556</td>\n",
       "      <td>27.180022</td>\n",
       "      <td>51.034100</td>\n",
       "      <td>4.000000</td>\n",
       "      <td>16.0934</td>\n",
       "      <td>...</td>\n",
       "      <td>0.00</td>\n",
       "      <td>128.833333</td>\n",
       "      <td>128.833333</td>\n",
       "      <td>1.263273e+06</td>\n",
       "      <td>614545.454545</td>\n",
       "      <td>191272.363636</td>\n",
       "      <td>19980.487091</td>\n",
       "      <td>211377.272727</td>\n",
       "      <td>636454.545455</td>\n",
       "      <td>374272.727273</td>\n",
       "    </tr>\n",
       "    <tr>\n",
       "      <th>5901</th>\n",
       "      <td>2024-11-06 13:00:00</td>\n",
       "      <td>15.370378</td>\n",
       "      <td>14.259244</td>\n",
       "      <td>52.777778</td>\n",
       "      <td>5.679014</td>\n",
       "      <td>52.111111</td>\n",
       "      <td>25.534900</td>\n",
       "      <td>48.548556</td>\n",
       "      <td>3.111111</td>\n",
       "      <td>16.0934</td>\n",
       "      <td>...</td>\n",
       "      <td>0.00</td>\n",
       "      <td>116.580000</td>\n",
       "      <td>116.580000</td>\n",
       "      <td>1.159385e+06</td>\n",
       "      <td>648461.538462</td>\n",
       "      <td>84956.653846</td>\n",
       "      <td>54513.684615</td>\n",
       "      <td>139596.076923</td>\n",
       "      <td>460692.307692</td>\n",
       "      <td>237153.846154</td>\n",
       "    </tr>\n",
       "    <tr>\n",
       "      <th>5902</th>\n",
       "      <td>2024-11-06 14:00:00</td>\n",
       "      <td>15.061733</td>\n",
       "      <td>13.641978</td>\n",
       "      <td>52.888889</td>\n",
       "      <td>5.432100</td>\n",
       "      <td>15.222222</td>\n",
       "      <td>24.104400</td>\n",
       "      <td>46.098778</td>\n",
       "      <td>3.000000</td>\n",
       "      <td>16.0934</td>\n",
       "      <td>...</td>\n",
       "      <td>0.00</td>\n",
       "      <td>121.486667</td>\n",
       "      <td>121.486667</td>\n",
       "      <td>1.132273e+06</td>\n",
       "      <td>576272.727273</td>\n",
       "      <td>74421.400000</td>\n",
       "      <td>36840.818182</td>\n",
       "      <td>111387.881818</td>\n",
       "      <td>505272.727273</td>\n",
       "      <td>305727.272727</td>\n",
       "    </tr>\n",
       "    <tr>\n",
       "      <th>5903</th>\n",
       "      <td>2024-11-06 15:00:00</td>\n",
       "      <td>14.506178</td>\n",
       "      <td>12.654316</td>\n",
       "      <td>54.333333</td>\n",
       "      <td>5.370371</td>\n",
       "      <td>18.555556</td>\n",
       "      <td>23.067256</td>\n",
       "      <td>44.256956</td>\n",
       "      <td>2.000000</td>\n",
       "      <td>16.0934</td>\n",
       "      <td>...</td>\n",
       "      <td>0.00</td>\n",
       "      <td>131.340000</td>\n",
       "      <td>131.340000</td>\n",
       "      <td>1.210538e+06</td>\n",
       "      <td>595615.384615</td>\n",
       "      <td>141357.000000</td>\n",
       "      <td>46641.607692</td>\n",
       "      <td>188122.692308</td>\n",
       "      <td>593615.384615</td>\n",
       "      <td>428923.076923</td>\n",
       "    </tr>\n",
       "    <tr>\n",
       "      <th>5904</th>\n",
       "      <td>2024-11-06 16:00:00</td>\n",
       "      <td>14.444444</td>\n",
       "      <td>12.283960</td>\n",
       "      <td>54.111111</td>\n",
       "      <td>5.308642</td>\n",
       "      <td>19.888889</td>\n",
       "      <td>20.599622</td>\n",
       "      <td>41.199200</td>\n",
       "      <td>1.000000</td>\n",
       "      <td>16.0934</td>\n",
       "      <td>...</td>\n",
       "      <td>136.87</td>\n",
       "      <td>131.383333</td>\n",
       "      <td>131.383333</td>\n",
       "      <td>1.201273e+06</td>\n",
       "      <td>657909.090909</td>\n",
       "      <td>122126.609091</td>\n",
       "      <td>55224.763636</td>\n",
       "      <td>177474.727273</td>\n",
       "      <td>538272.727273</td>\n",
       "      <td>371545.454545</td>\n",
       "    </tr>\n",
       "    <tr>\n",
       "      <th>5905</th>\n",
       "      <td>2024-11-06 17:00:00</td>\n",
       "      <td>13.580233</td>\n",
       "      <td>10.987674</td>\n",
       "      <td>57.333333</td>\n",
       "      <td>5.308642</td>\n",
       "      <td>21.777778</td>\n",
       "      <td>17.327289</td>\n",
       "      <td>37.068544</td>\n",
       "      <td>0.000000</td>\n",
       "      <td>16.0934</td>\n",
       "      <td>...</td>\n",
       "      <td>136.13</td>\n",
       "      <td>129.714000</td>\n",
       "      <td>129.714000</td>\n",
       "      <td>1.129000e+06</td>\n",
       "      <td>677846.153846</td>\n",
       "      <td>40167.355385</td>\n",
       "      <td>63595.453846</td>\n",
       "      <td>103888.507692</td>\n",
       "      <td>424846.153846</td>\n",
       "      <td>279307.692308</td>\n",
       "    </tr>\n",
       "    <tr>\n",
       "      <th>5906</th>\n",
       "      <td>2024-11-06 18:00:00</td>\n",
       "      <td>12.839511</td>\n",
       "      <td>10.493840</td>\n",
       "      <td>60.444444</td>\n",
       "      <td>5.308642</td>\n",
       "      <td>25.111111</td>\n",
       "      <td>15.467611</td>\n",
       "      <td>33.760433</td>\n",
       "      <td>0.000000</td>\n",
       "      <td>16.0934</td>\n",
       "      <td>...</td>\n",
       "      <td>131.98</td>\n",
       "      <td>127.280000</td>\n",
       "      <td>127.280000</td>\n",
       "      <td>1.154000e+06</td>\n",
       "      <td>694545.454545</td>\n",
       "      <td>3743.321818</td>\n",
       "      <td>122647.090909</td>\n",
       "      <td>126623.763636</td>\n",
       "      <td>429454.545455</td>\n",
       "      <td>311909.090909</td>\n",
       "    </tr>\n",
       "    <tr>\n",
       "      <th>5907</th>\n",
       "      <td>2024-11-06 19:00:00</td>\n",
       "      <td>11.913588</td>\n",
       "      <td>9.938284</td>\n",
       "      <td>64.000000</td>\n",
       "      <td>5.370371</td>\n",
       "      <td>29.666667</td>\n",
       "      <td>12.588667</td>\n",
       "      <td>30.076844</td>\n",
       "      <td>0.000000</td>\n",
       "      <td>16.0934</td>\n",
       "      <td>...</td>\n",
       "      <td>132.17</td>\n",
       "      <td>123.104000</td>\n",
       "      <td>123.104000</td>\n",
       "      <td>1.222615e+06</td>\n",
       "      <td>700769.230769</td>\n",
       "      <td>5134.753846</td>\n",
       "      <td>187912.153846</td>\n",
       "      <td>193288.692308</td>\n",
       "      <td>511000.000000</td>\n",
       "      <td>389384.615385</td>\n",
       "    </tr>\n",
       "    <tr>\n",
       "      <th>5908</th>\n",
       "      <td>2024-11-06 20:00:00</td>\n",
       "      <td>11.975316</td>\n",
       "      <td>10.617291</td>\n",
       "      <td>64.333333</td>\n",
       "      <td>5.555557</td>\n",
       "      <td>36.777778</td>\n",
       "      <td>11.122376</td>\n",
       "      <td>25.731600</td>\n",
       "      <td>0.000000</td>\n",
       "      <td>16.0934</td>\n",
       "      <td>...</td>\n",
       "      <td>127.56</td>\n",
       "      <td>116.763333</td>\n",
       "      <td>116.763333</td>\n",
       "      <td>1.249909e+06</td>\n",
       "      <td>687454.545455</td>\n",
       "      <td>5815.412727</td>\n",
       "      <td>212335.363636</td>\n",
       "      <td>218391.909091</td>\n",
       "      <td>557454.545455</td>\n",
       "      <td>374636.363636</td>\n",
       "    </tr>\n",
       "    <tr>\n",
       "      <th>5909</th>\n",
       "      <td>2024-11-06 21:00:00</td>\n",
       "      <td>11.913593</td>\n",
       "      <td>10.925938</td>\n",
       "      <td>64.888889</td>\n",
       "      <td>5.555557</td>\n",
       "      <td>47.666667</td>\n",
       "      <td>9.262681</td>\n",
       "      <td>22.030144</td>\n",
       "      <td>0.000000</td>\n",
       "      <td>16.0934</td>\n",
       "      <td>...</td>\n",
       "      <td>127.62</td>\n",
       "      <td>112.730000</td>\n",
       "      <td>112.730000</td>\n",
       "      <td>1.235231e+06</td>\n",
       "      <td>652846.153846</td>\n",
       "      <td>3569.746154</td>\n",
       "      <td>198968.461538</td>\n",
       "      <td>202779.923077</td>\n",
       "      <td>577692.307692</td>\n",
       "      <td>350000.000000</td>\n",
       "    </tr>\n",
       "    <tr>\n",
       "      <th>5910</th>\n",
       "      <td>2024-11-06 22:00:00</td>\n",
       "      <td>11.234566</td>\n",
       "      <td>10.308652</td>\n",
       "      <td>67.666667</td>\n",
       "      <td>5.493829</td>\n",
       "      <td>46.333333</td>\n",
       "      <td>9.906420</td>\n",
       "      <td>21.225467</td>\n",
       "      <td>0.000000</td>\n",
       "      <td>16.0934</td>\n",
       "      <td>...</td>\n",
       "      <td>107.46</td>\n",
       "      <td>106.673333</td>\n",
       "      <td>106.673333</td>\n",
       "      <td>1.215182e+06</td>\n",
       "      <td>630909.090909</td>\n",
       "      <td>502.762727</td>\n",
       "      <td>180574.727273</td>\n",
       "      <td>181791.363636</td>\n",
       "      <td>579181.818182</td>\n",
       "      <td>324909.090909</td>\n",
       "    </tr>\n",
       "    <tr>\n",
       "      <th>5911</th>\n",
       "      <td>2024-11-06 23:00:00</td>\n",
       "      <td>10.802481</td>\n",
       "      <td>9.753087</td>\n",
       "      <td>69.222222</td>\n",
       "      <td>5.432100</td>\n",
       "      <td>44.777778</td>\n",
       "      <td>9.119622</td>\n",
       "      <td>21.654644</td>\n",
       "      <td>0.000000</td>\n",
       "      <td>16.0934</td>\n",
       "      <td>...</td>\n",
       "      <td>105.14</td>\n",
       "      <td>105.584000</td>\n",
       "      <td>105.584000</td>\n",
       "      <td>1.243846e+06</td>\n",
       "      <td>603923.076923</td>\n",
       "      <td>0.000000</td>\n",
       "      <td>217281.307692</td>\n",
       "      <td>217647.384615</td>\n",
       "      <td>631538.461538</td>\n",
       "      <td>348153.846154</td>\n",
       "    </tr>\n",
       "    <tr>\n",
       "      <th>5912</th>\n",
       "      <td>2024-11-07 00:00:00</td>\n",
       "      <td>10.679016</td>\n",
       "      <td>9.598772</td>\n",
       "      <td>68.444444</td>\n",
       "      <td>5.154321</td>\n",
       "      <td>42.888889</td>\n",
       "      <td>9.513022</td>\n",
       "      <td>22.030144</td>\n",
       "      <td>0.000000</td>\n",
       "      <td>16.0934</td>\n",
       "      <td>...</td>\n",
       "      <td>104.95</td>\n",
       "      <td>103.986667</td>\n",
       "      <td>103.986667</td>\n",
       "      <td>1.183800e+06</td>\n",
       "      <td>564900.000000</td>\n",
       "      <td>0.000000</td>\n",
       "      <td>209690.700000</td>\n",
       "      <td>209937.300000</td>\n",
       "      <td>605100.000000</td>\n",
       "      <td>296300.000000</td>\n",
       "    </tr>\n",
       "  </tbody>\n",
       "</table>\n",
       "<p>24 rows × 24 columns</p>\n",
       "</div>"
      ],
      "text/plain": [
       "                datetime       temp  real_feel_temp    rel_hum  dew_point  \\\n",
       "5889 2024-11-06 01:00:00  12.222216        8.580243  63.777778   5.555557   \n",
       "5890 2024-11-06 02:00:00  12.037027        8.209879  64.555556   5.493828   \n",
       "5891 2024-11-06 03:00:00  11.728404        7.716048  65.777778   5.493828   \n",
       "5892 2024-11-06 04:00:00  11.851849        7.777776  65.777778   5.617286   \n",
       "5893 2024-11-06 05:00:00  12.283944        8.086418  65.333333   5.864200   \n",
       "5894 2024-11-06 06:00:00  12.530867        8.271609  65.000000   6.172839   \n",
       "5895 2024-11-06 07:00:00  12.592600        8.271609  65.555556   6.296296   \n",
       "5896 2024-11-06 08:00:00  12.901233        8.950614  64.666667   6.358027   \n",
       "5897 2024-11-06 09:00:00  13.580233        9.938277  61.444444   6.419756   \n",
       "5898 2024-11-06 10:00:00  14.691356       11.851853  57.666667   6.358027   \n",
       "5899 2024-11-06 11:00:00  15.185200       13.703711  54.888889   6.234568   \n",
       "5900 2024-11-06 12:00:00  15.802478       14.876544  52.000000   5.925927   \n",
       "5901 2024-11-06 13:00:00  15.370378       14.259244  52.777778   5.679014   \n",
       "5902 2024-11-06 14:00:00  15.061733       13.641978  52.888889   5.432100   \n",
       "5903 2024-11-06 15:00:00  14.506178       12.654316  54.333333   5.370371   \n",
       "5904 2024-11-06 16:00:00  14.444444       12.283960  54.111111   5.308642   \n",
       "5905 2024-11-06 17:00:00  13.580233       10.987674  57.333333   5.308642   \n",
       "5906 2024-11-06 18:00:00  12.839511       10.493840  60.444444   5.308642   \n",
       "5907 2024-11-06 19:00:00  11.913588        9.938284  64.000000   5.370371   \n",
       "5908 2024-11-06 20:00:00  11.975316       10.617291  64.333333   5.555557   \n",
       "5909 2024-11-06 21:00:00  11.913593       10.925938  64.888889   5.555557   \n",
       "5910 2024-11-06 22:00:00  11.234566       10.308652  67.666667   5.493829   \n",
       "5911 2024-11-06 23:00:00  10.802481        9.753087  69.222222   5.432100   \n",
       "5912 2024-11-07 00:00:00  10.679016        9.598772  68.444444   5.154321   \n",
       "\n",
       "        wind_dir   wind_spd  wind_gust_spd    uv_idx      vis  ...  \\\n",
       "5889   83.555556  23.496410      40.770044  0.000000  16.0934  ...   \n",
       "5890   83.888889  23.710999      42.200578  0.000000  16.0934  ...   \n",
       "5891   84.333333  24.318967      43.863567  0.000000  16.0934  ...   \n",
       "5892   85.333333  25.534900      46.295478  0.000000  16.0934  ...   \n",
       "5893   86.555556  26.357464      48.566444  0.000000  16.0934  ...   \n",
       "5894   87.888889  27.805889      51.463267  0.000000  16.0934  ...   \n",
       "5895  201.111111  28.628433      53.716356  0.000000  16.0934  ...   \n",
       "5896  202.222222  30.058956      55.772744  0.666667  16.0934  ...   \n",
       "5897  203.222222  31.918644      57.811233  1.333333  16.0934  ...   \n",
       "5898  164.888889  30.058956      55.379333  2.111111  16.0934  ...   \n",
       "5899  167.333333  28.825133      53.090500  3.000000  16.0934  ...   \n",
       "5900   89.555556  27.180022      51.034100  4.000000  16.0934  ...   \n",
       "5901   52.111111  25.534900      48.548556  3.111111  16.0934  ...   \n",
       "5902   15.222222  24.104400      46.098778  3.000000  16.0934  ...   \n",
       "5903   18.555556  23.067256      44.256956  2.000000  16.0934  ...   \n",
       "5904   19.888889  20.599622      41.199200  1.000000  16.0934  ...   \n",
       "5905   21.777778  17.327289      37.068544  0.000000  16.0934  ...   \n",
       "5906   25.111111  15.467611      33.760433  0.000000  16.0934  ...   \n",
       "5907   29.666667  12.588667      30.076844  0.000000  16.0934  ...   \n",
       "5908   36.777778  11.122376      25.731600  0.000000  16.0934  ...   \n",
       "5909   47.666667   9.262681      22.030144  0.000000  16.0934  ...   \n",
       "5910   46.333333   9.906420      21.225467  0.000000  16.0934  ...   \n",
       "5911   44.777778   9.119622      21.654644  0.000000  16.0934  ...   \n",
       "5912   42.888889   9.513022      22.030144  0.000000  16.0934  ...   \n",
       "\n",
       "      하루전가격(원/kWh)  실시간 임시 가격(원/kWh)  실시간 확정 가격(원/kWh)      공급능력(kW)  \\\n",
       "5889        103.72         97.400000         97.400000  1.032077e+06   \n",
       "5890         92.74         87.493333         87.493333  1.032273e+06   \n",
       "5891         87.46         87.232000         87.232000  1.033000e+06   \n",
       "5892         87.49         87.056667         87.056667  1.033000e+06   \n",
       "5893          0.00         93.358000         93.358000  1.032538e+06   \n",
       "5894          0.00        103.040000        103.040000  1.033182e+06   \n",
       "5895        104.21        108.796000        108.796000  1.068308e+06   \n",
       "5896        106.62        120.953333        120.953333  1.117000e+06   \n",
       "5897        117.37        136.718000        136.778000  1.204154e+06   \n",
       "5898        136.94        145.696667        145.696667  1.278727e+06   \n",
       "5899        136.94        109.172000        132.222000  1.284308e+06   \n",
       "5900          0.00        128.833333        128.833333  1.263273e+06   \n",
       "5901          0.00        116.580000        116.580000  1.159385e+06   \n",
       "5902          0.00        121.486667        121.486667  1.132273e+06   \n",
       "5903          0.00        131.340000        131.340000  1.210538e+06   \n",
       "5904        136.87        131.383333        131.383333  1.201273e+06   \n",
       "5905        136.13        129.714000        129.714000  1.129000e+06   \n",
       "5906        131.98        127.280000        127.280000  1.154000e+06   \n",
       "5907        132.17        123.104000        123.104000  1.222615e+06   \n",
       "5908        127.56        116.763333        116.763333  1.249909e+06   \n",
       "5909        127.62        112.730000        112.730000  1.235231e+06   \n",
       "5910        107.46        106.673333        106.673333  1.215182e+06   \n",
       "5911        105.14        105.584000        105.584000  1.243846e+06   \n",
       "5912        104.95        103.986667        103.986667  1.183800e+06   \n",
       "\n",
       "          현재 수요(kW)     태양광 발전량kW)     풍력 발전량(kW)  신재생 발전량 총합(kW)  \\\n",
       "5889  497000.000000       0.000000     614.893000      908.781846   \n",
       "5890  472363.636364       0.000000     279.042545      660.190636   \n",
       "5891  455923.076923       0.000000     359.823769      739.888923   \n",
       "5892  449818.181818       0.000000     395.955182      753.233091   \n",
       "5893  456923.076923       0.000000     424.759769      579.875692   \n",
       "5894  485909.090909       0.000000    1130.962182     1256.141364   \n",
       "5895  517923.076923     817.756154     634.594462     1659.884692   \n",
       "5896  528636.363636   35087.402727    1179.212818    36390.738182   \n",
       "5897  545692.307692  126945.684615     417.556692   127487.646154   \n",
       "5898  554272.727273  205438.181818     516.134182   206078.272727   \n",
       "5899  605000.000000  212340.769231    1353.765000   213819.153846   \n",
       "5900  614545.454545  191272.363636   19980.487091   211377.272727   \n",
       "5901  648461.538462   84956.653846   54513.684615   139596.076923   \n",
       "5902  576272.727273   74421.400000   36840.818182   111387.881818   \n",
       "5903  595615.384615  141357.000000   46641.607692   188122.692308   \n",
       "5904  657909.090909  122126.609091   55224.763636   177474.727273   \n",
       "5905  677846.153846   40167.355385   63595.453846   103888.507692   \n",
       "5906  694545.454545    3743.321818  122647.090909   126623.763636   \n",
       "5907  700769.230769    5134.753846  187912.153846   193288.692308   \n",
       "5908  687454.545455    5815.412727  212335.363636   218391.909091   \n",
       "5909  652846.153846    3569.746154  198968.461538   202779.923077   \n",
       "5910  630909.090909     502.762727  180574.727273   181791.363636   \n",
       "5911  603923.076923       0.000000  217281.307692   217647.384615   \n",
       "5912  564900.000000       0.000000  209690.700000   209937.300000   \n",
       "\n",
       "         공급 예비력(kW)     운영 예비력(kW)  \n",
       "5889  484692.307692  263769.230769  \n",
       "5890  509636.363636  263090.909091  \n",
       "5891  526692.307692  280307.692308  \n",
       "5892  532909.090909  286636.363636  \n",
       "5893  525538.461538  317230.769231  \n",
       "5894  497090.909091  374727.272727  \n",
       "5895  500230.769231  377461.538462  \n",
       "5896  544454.545455  415727.272727  \n",
       "5897  638692.307692  438461.538462  \n",
       "5898  707363.636364  448181.818182  \n",
       "5899  669230.769231  404153.846154  \n",
       "5900  636454.545455  374272.727273  \n",
       "5901  460692.307692  237153.846154  \n",
       "5902  505272.727273  305727.272727  \n",
       "5903  593615.384615  428923.076923  \n",
       "5904  538272.727273  371545.454545  \n",
       "5905  424846.153846  279307.692308  \n",
       "5906  429454.545455  311909.090909  \n",
       "5907  511000.000000  389384.615385  \n",
       "5908  557454.545455  374636.363636  \n",
       "5909  577692.307692  350000.000000  \n",
       "5910  579181.818182  324909.090909  \n",
       "5911  631538.461538  348153.846154  \n",
       "5912  605100.000000  296300.000000  \n",
       "\n",
       "[24 rows x 24 columns]"
      ]
     },
     "execution_count": 65,
     "metadata": {},
     "output_type": "execute_result"
    }
   ],
   "source": [
    "target_data"
   ]
  },
  {
   "cell_type": "code",
   "execution_count": 66,
   "metadata": {},
   "outputs": [],
   "source": [
    "predict_set = ElecDataset(target_data, Y.iloc[:24])\n",
    "\n",
    "predict_dataloader = DataLoader(dataset=predict_set,\n",
    "                        batch_size=24,\n",
    "                        shuffle=False)"
   ]
  },
  {
   "cell_type": "code",
   "execution_count": 68,
   "metadata": {},
   "outputs": [
    {
     "name": "stdout",
     "output_type": "stream",
     "text": [
      "tensor([[4.8386e+01],\n",
      "        [2.3006e+01],\n",
      "        [3.4218e+01],\n",
      "        [1.1945e+01],\n",
      "        [1.6528e-01],\n",
      "        [1.5880e-01],\n",
      "        [1.3807e+01],\n",
      "        [7.1235e+00],\n",
      "        [1.4574e+01],\n",
      "        [1.1549e+02],\n",
      "        [9.0967e+01],\n",
      "        [1.6888e+01],\n",
      "        [1.0988e+02],\n",
      "        [1.7127e+01],\n",
      "        [1.9603e+01],\n",
      "        [1.2764e+02],\n",
      "        [1.4541e+02],\n",
      "        [1.5264e+02],\n",
      "        [1.8155e+02],\n",
      "        [1.8264e+02],\n",
      "        [1.7014e+02],\n",
      "        [1.6005e+02],\n",
      "        [1.6593e+02],\n",
      "        [1.4779e+02]], device='cuda:0', dtype=torch.float64)\n"
     ]
    }
   ],
   "source": [
    "model_test.eval()\n",
    "\n",
    "with torch.no_grad():\n",
    "  for inputs, _ in predict_dataloader:\n",
    "    inputs = inputs.to(device)\n",
    "    predictions = model_test(inputs)\n",
    "\n",
    "print(predictions)"
   ]
  },
  {
   "cell_type": "code",
   "execution_count": 69,
   "metadata": {},
   "outputs": [
    {
     "name": "stdout",
     "output_type": "stream",
     "text": [
      "[48.38631505293676, 23.005973960717693, 34.217638988637816, 11.944968836991217, 0.16527934959309706, 0.15879514867054859, 13.807067091053092, 7.123467942354658, 14.574186157796623, 115.49275208362772, 90.96667681917637, 16.88759418306925, 109.8845291373479, 17.12711848971751, 19.60319666300659, 127.64268845880426, 145.41450350546026, 152.64423038512146, 181.55426151302612, 182.63773958986192, 170.13953061311832, 160.05004599324383, 165.9349882419516, 147.7900538802053]\n"
     ]
    }
   ],
   "source": [
    "flattened_list = predictions.view(-1).tolist()\n",
    "\n",
    "print(flattened_list)"
   ]
  },
  {
   "cell_type": "markdown",
   "metadata": {},
   "source": [
    "##### 분석"
   ]
  },
  {
   "cell_type": "markdown",
   "metadata": {},
   "source": [
    "예측결과"
   ]
  },
  {
   "cell_type": "code",
   "execution_count": 70,
   "metadata": {},
   "outputs": [
    {
     "data": {
      "image/png": "[encoded data removed]",
      "text/plain": [
       "<Figure size 640x480 with 1 Axes>"
      ]
     },
     "metadata": {},
     "output_type": "display_data"
    }
   ],
   "source": [
    "plt.plot(list(range(1, 25)), flattened_list)\n",
    "\n",
    "plt.title(predict_target_date)\n",
    "plt.xlabel('hours')\n",
    "plt.ylabel('smp_da')\n",
    "plt.xticks(list(range(1,25, 1)))\n",
    "plt.grid(True, linestyle='--')\n",
    "\n",
    "plt.show()"
   ]
  }
 ],
 "metadata": {
  "kernelspec": {
   "display_name": ".venv",
   "language": "python",
   "name": "python3"
  },
  "language_info": {
   "codemirror_mode": {
    "name": "ipython",
    "version": 3
   },
   "file_extension": ".py",
   "mimetype": "text/x-python",
   "name": "python",
   "nbconvert_exporter": "python",
   "pygments_lexer": "ipython3",
   "version": "3.9.13"
  }
 },
 "nbformat": 4,
 "nbformat_minor": 2
}

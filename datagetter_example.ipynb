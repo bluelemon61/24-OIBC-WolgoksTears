{
 "cells": [
  {
   "cell_type": "markdown",
   "metadata": {},
   "source": [
    "### 데이터 정리 함수 이용 예제"
   ]
  },
  {
   "cell_type": "code",
   "execution_count": 1,
   "metadata": {},
   "outputs": [
    {
     "name": "stdout",
     "output_type": "stream",
     "text": [
      "repository/data_files에 파일이 저장되었습니다.\n"
     ]
    }
   ],
   "source": [
    "from datagetter.datagetter import data_getter\n",
    "\n",
    "# 반드시 시작일은 2024-10-23부터 입력!!\n",
    "data_getter('2024-10-23', '2024-11-06')"
   ]
  },
  {
   "cell_type": "markdown",
   "metadata": {},
   "source": [
    "### 정답 제출 예제"
   ]
  },
  {
   "cell_type": "code",
   "execution_count": 2,
   "metadata": {},
   "outputs": [
    {
     "name": "stdout",
     "output_type": "stream",
     "text": [
      "True\n"
     ]
    }
   ],
   "source": [
    "import os\n",
    "from dotenv import load_dotenv\n",
    "from datagetter.api.post_apis import post_apis\n",
    "\n",
    "load_dotenv()\n",
    "\n",
    "API_KEY = os.getenv(\"API_KEY\")\n",
    "API_URL = os.getenv(\"API_URL\")\n",
    "\n",
    "post_api = post_apis(API_KEY, API_URL)\n",
    "\n",
    "result = [129.18152247732968, 129.18152137362506, 129.18152048631006, 129.1815199554289, 129.18152385138816, 129.1815210415397, 129.18152358236506, 129.18153098110392, 129.18153426704106, 129.18153569574054, 129.18153565898717, 129.18153341082245, 129.1815342274402, 129.18153474889675, 129.1815343280527, 129.1815337762944, 129.1815313405146, 129.18153087053045, 129.1815303783442, 129.1815223523374, 129.18152282752257, 129.1815288665157, 129.18152694718293, 129.18152899299724]\n",
    "post_api.submissions(result)"
   ]
  }
 ],
 "metadata": {
  "kernelspec": {
   "display_name": ".venv",
   "language": "python",
   "name": "python3"
  },
  "language_info": {
   "codemirror_mode": {
    "name": "ipython",
    "version": 3
   },
   "file_extension": ".py",
   "mimetype": "text/x-python",
   "name": "python",
   "nbconvert_exporter": "python",
   "pygments_lexer": "ipython3",
   "version": "3.9.13"
  }
 },
 "nbformat": 4,
 "nbformat_minor": 2
}

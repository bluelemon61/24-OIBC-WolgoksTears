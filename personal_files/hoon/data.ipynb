{
 "cells": [
  {
   "cell_type": "code",
   "execution_count": 2,
   "metadata": {},
   "outputs": [
    {
     "name": "stdout",
     "output_type": "stream",
     "text": [
      "c:\\Users\\user\\Desktop\\24-OIBC-WolgoksTears\\personal_files\\hoon\n"
     ]
    }
   ],
   "source": [
    "import os\n",
    "print(os.getcwd())  # 현재 작업 경로 출력"
   ]
  },
  {
   "cell_type": "code",
   "execution_count": 4,
   "metadata": {},
   "outputs": [
    {
     "name": "stdout",
     "output_type": "stream",
     "text": [
      "                 datetime        location   temp  real_feel_temp  \\\n",
      "0     2024-02-29 15:00:00    Bonggae-dong   7.80            5.70   \n",
      "1     2024-02-29 15:00:00    Cheonji-dong   8.50            7.60   \n",
      "2     2024-02-29 15:00:00       Geumak-ri   4.90           -1.80   \n",
      "3     2024-02-29 15:00:00  Gwangryeong-ri   7.10            7.50   \n",
      "4     2024-02-29 15:00:00      Hacheon-ri   6.10            1.10   \n",
      "...                   ...             ...    ...             ...   \n",
      "48093 2024-10-31 13:00:00     Songdang-ri  18.40           17.40   \n",
      "48094 2024-10-31 13:00:00       Yongsu-ri  20.35           18.35   \n",
      "48095 2024-10-31 14:00:00  Gwangryeong-ri  19.50           17.80   \n",
      "48096 2024-10-31 14:00:00     Songdang-ri  19.00           18.30   \n",
      "48097 2024-10-31 14:00:00       Yongsu-ri  20.40           17.95   \n",
      "\n",
      "       real_feel_temp_shade  rel_hum  dew_point  wind_dir  wind_spd  \\\n",
      "0                      5.70     65.0       2.20     338.0     11.10   \n",
      "1                      7.60     82.0       5.60     270.0      7.70   \n",
      "2                     -1.80     66.0      -1.00     293.0     26.50   \n",
      "3                      7.50     66.0       1.10       0.0      5.00   \n",
      "4                      1.10     80.0       2.90     158.0     18.00   \n",
      "...                     ...      ...        ...       ...       ...   \n",
      "48093                 17.40     92.0      17.00      68.0      5.40   \n",
      "48094                 18.35     72.0      15.25     124.0     12.45   \n",
      "48095                 17.80     86.0      17.20      45.0     14.10   \n",
      "48096                 18.30     89.0      17.20      90.0      4.00   \n",
      "48097                 17.95     68.5      14.40     248.0      6.65   \n",
      "\n",
      "       wind_gust_spd  uv_idx   vis  cld_cvr  ceiling  pressure  appr_temp  \\\n",
      "0              11.10     0.0  16.1    100.0   1219.0   1022.00        8.9   \n",
      "1              15.25     0.0  21.7     95.5    670.5   1018.95       10.0   \n",
      "2              31.80     0.0  17.7     97.0    579.0   1022.00        6.1   \n",
      "3              16.00     0.0  17.7     97.0    579.0   1022.00        8.3   \n",
      "4              18.00     0.0  16.1     99.0    579.0   1022.00        7.8   \n",
      "...              ...     ...   ...      ...      ...       ...        ...   \n",
      "48093          13.50     0.0  20.9     96.0   5852.0   1020.30       20.0   \n",
      "48094          17.90     0.0  38.6     95.5   4633.0   1019.70       21.1   \n",
      "48095          23.00     0.0  16.1     97.0   5852.0   1020.00       20.0   \n",
      "48096          21.60     0.0  16.1     95.0   5852.0   1020.00       20.0   \n",
      "48097          21.10     0.0  40.2     95.5   5242.5   1018.80       20.8   \n",
      "\n",
      "       wind_chill_temp  wet_bulb_temp  precip_1h  \n",
      "0                 5.60           5.20       0.00  \n",
      "1                 6.95           7.15       0.05  \n",
      "2                 0.60           2.50       0.00  \n",
      "3                 6.70           4.40       0.00  \n",
      "4                 2.80           4.80       0.10  \n",
      "...                ...            ...        ...  \n",
      "48093            18.30          17.50       0.10  \n",
      "48094            20.55          17.25       0.20  \n",
      "48095            19.40          18.10       0.00  \n",
      "48096            18.90          17.90       0.10  \n",
      "48097            20.55          16.80       0.80  \n",
      "\n",
      "[48098 rows x 19 columns]\n"
     ]
    },
    {
     "name": "stderr",
     "output_type": "stream",
     "text": [
      "C:\\Users\\user\\AppData\\Local\\Temp\\ipykernel_14160\\2715945740.py:8: FutureWarning: 'H' is deprecated and will be removed in a future version, please use 'h' instead.\n",
      "  data['datetime'] = data['datetime'].dt.floor('H')\n"
     ]
    }
   ],
   "source": [
    "import pandas as pd\n",
    "\n",
    "# 데이터 불러오기\n",
    "data = pd.read_csv(\"../../data_files/actual_weather_1.csv\")\n",
    "\n",
    "# 'ts'를 datetime 형식으로 변환 후 1시간 단위로 맞추기\n",
    "data['datetime'] = pd.to_datetime(data['ts'], unit='s')\n",
    "data['datetime'] = data['datetime'].dt.floor('H')\n",
    "\n",
    "# 1시간 단위로 그룹화하여 평균을 계산 (location을 제외한 모든 열)\n",
    "averaged_data = data.groupby(['datetime', 'location'], as_index=False).mean()\n",
    "\n",
    "# 결과 확인\n",
    "averaged_data.drop(columns=['ts'], inplace=True)  # 원래 'ts' 열 제거\n",
    "print(averaged_data)\n"
   ]
  }
 ],
 "metadata": {
  "kernelspec": {
   "display_name": ".venv",
   "language": "python",
   "name": "python3"
  },
  "language_info": {
   "codemirror_mode": {
    "name": "ipython",
    "version": 3
   },
   "file_extension": ".py",
   "mimetype": "text/x-python",
   "name": "python",
   "nbconvert_exporter": "python",
   "pygments_lexer": "ipython3",
   "version": "3.9.13"
  }
 },
 "nbformat": 4,
 "nbformat_minor": 2
}

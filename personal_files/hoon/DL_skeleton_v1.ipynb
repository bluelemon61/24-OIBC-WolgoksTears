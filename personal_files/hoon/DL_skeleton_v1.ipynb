{
 "cells": [
  {
   "cell_type": "markdown",
   "metadata": {},
   "source": [
    "# 2024 OIBC Challenge\n",
    "## (Deep Learning version skeleton 01)"
   ]
  },
  {
   "cell_type": "code",
   "execution_count": 1,
   "metadata": {},
   "outputs": [],
   "source": [
    "import torch\n",
    "import torch.nn as nn\n",
    "from torch.utils.data import Dataset\n",
    "from torch.utils.data import DataLoader\n",
    "import pandas as pd\n",
    "from sklearn.preprocessing import MinMaxScaler\n",
    "import datetime"
   ]
  },
  {
   "cell_type": "code",
   "execution_count": 2,
   "metadata": {},
   "outputs": [
    {
     "name": "stdout",
     "output_type": "stream",
     "text": [
      "NVIDIA GeForce GTX 1650\n",
      "2.5.0+cu118\n",
      "11.8\n",
      "tensor([0.0838], device='cuda:0')\n"
     ]
    },
    {
     "data": {
      "text/plain": [
       "device(type='cuda', index=0)"
      ]
     },
     "execution_count": 2,
     "metadata": {},
     "output_type": "execute_result"
    }
   ],
   "source": [
    "if torch.cuda.is_available():\n",
    "  print(torch.cuda.get_device_name())\n",
    "  print(torch.__version__)\n",
    "  print(torch.version.cuda)\n",
    "  x = torch.randn(1).cuda()\n",
    "  print(x)\n",
    "\n",
    "device = torch.device(\"cuda:0\" if torch.cuda.is_available() else \"cpu\")\n",
    "device"
   ]
  },
  {
   "cell_type": "code",
   "execution_count": 3,
   "metadata": {},
   "outputs": [
    {
     "data": {
      "text/html": [
       "<div>\n",
       "<style scoped>\n",
       "    .dataframe tbody tr th:only-of-type {\n",
       "        vertical-align: middle;\n",
       "    }\n",
       "\n",
       "    .dataframe tbody tr th {\n",
       "        vertical-align: top;\n",
       "    }\n",
       "\n",
       "    .dataframe thead th {\n",
       "        text-align: right;\n",
       "    }\n",
       "</style>\n",
       "<table border=\"1\" class=\"dataframe\">\n",
       "  <thead>\n",
       "    <tr style=\"text-align: right;\">\n",
       "      <th></th>\n",
       "      <th>ts</th>\n",
       "      <th>공급능력(kW)</th>\n",
       "      <th>현재 수요(kW)</th>\n",
       "      <th>태양광 발전량kW)</th>\n",
       "      <th>풍력 발전량(kW)</th>\n",
       "      <th>신재생 발전량 총합(kW)</th>\n",
       "      <th>공급 예비력(kW)</th>\n",
       "      <th>운영 예비력(kW)</th>\n",
       "    </tr>\n",
       "  </thead>\n",
       "  <tbody>\n",
       "    <tr>\n",
       "      <th>17188</th>\n",
       "      <td>2024-02-29 14:00:00</td>\n",
       "      <td>1347000.0</td>\n",
       "      <td>839000.0</td>\n",
       "      <td>0.0</td>\n",
       "      <td>196591.0</td>\n",
       "      <td>210378.0</td>\n",
       "      <td>508000.0</td>\n",
       "      <td>306000.0</td>\n",
       "    </tr>\n",
       "    <tr>\n",
       "      <th>17189</th>\n",
       "      <td>2024-02-29 14:05:00</td>\n",
       "      <td>1352000.0</td>\n",
       "      <td>842000.0</td>\n",
       "      <td>0.0</td>\n",
       "      <td>199446.0</td>\n",
       "      <td>213221.0</td>\n",
       "      <td>509000.0</td>\n",
       "      <td>309000.0</td>\n",
       "    </tr>\n",
       "    <tr>\n",
       "      <th>17190</th>\n",
       "      <td>2024-02-29 14:10:00</td>\n",
       "      <td>1351000.0</td>\n",
       "      <td>839000.0</td>\n",
       "      <td>0.0</td>\n",
       "      <td>198012.0</td>\n",
       "      <td>212961.0</td>\n",
       "      <td>511000.0</td>\n",
       "      <td>309000.0</td>\n",
       "    </tr>\n",
       "    <tr>\n",
       "      <th>17191</th>\n",
       "      <td>2024-02-29 14:15:00</td>\n",
       "      <td>1358000.0</td>\n",
       "      <td>841000.0</td>\n",
       "      <td>0.0</td>\n",
       "      <td>205018.0</td>\n",
       "      <td>219922.0</td>\n",
       "      <td>517000.0</td>\n",
       "      <td>318000.0</td>\n",
       "    </tr>\n",
       "    <tr>\n",
       "      <th>17192</th>\n",
       "      <td>2024-02-29 14:20:00</td>\n",
       "      <td>1364000.0</td>\n",
       "      <td>837000.0</td>\n",
       "      <td>0.0</td>\n",
       "      <td>211577.0</td>\n",
       "      <td>226343.0</td>\n",
       "      <td>528000.0</td>\n",
       "      <td>327000.0</td>\n",
       "    </tr>\n",
       "  </tbody>\n",
       "</table>\n",
       "</div>"
      ],
      "text/plain": [
       "                       ts   공급능력(kW)  현재 수요(kW)  태양광 발전량kW)  풍력 발전량(kW)  \\\n",
       "17188 2024-02-29 14:00:00  1347000.0   839000.0         0.0    196591.0   \n",
       "17189 2024-02-29 14:05:00  1352000.0   842000.0         0.0    199446.0   \n",
       "17190 2024-02-29 14:10:00  1351000.0   839000.0         0.0    198012.0   \n",
       "17191 2024-02-29 14:15:00  1358000.0   841000.0         0.0    205018.0   \n",
       "17192 2024-02-29 14:20:00  1364000.0   837000.0         0.0    211577.0   \n",
       "\n",
       "       신재생 발전량 총합(kW)  공급 예비력(kW)  운영 예비력(kW)  \n",
       "17188        210378.0    508000.0    306000.0  \n",
       "17189        213221.0    509000.0    309000.0  \n",
       "17190        212961.0    511000.0    309000.0  \n",
       "17191        219922.0    517000.0    318000.0  \n",
       "17192        226343.0    528000.0    327000.0  "
      ]
     },
     "execution_count": 3,
     "metadata": {},
     "output_type": "execute_result"
    }
   ],
   "source": [
    "elec_market_status = pd.read_csv('../../data_files/제주전력시장_현황데이터.csv')\n",
    "elec_market_status['ts'] = pd.to_datetime(elec_market_status['ts'], unit='s')\n",
    "start_index = elec_market_status.index[elec_market_status['ts']=='2024-02-29 14:00:00'][0]\n",
    "elec_market_status = elec_market_status[start_index:]\n",
    "\n",
    "elec_market_status.head()"
   ]
  },
  {
   "cell_type": "code",
   "execution_count": 4,
   "metadata": {},
   "outputs": [
    {
     "data": {
      "text/html": [
       "<div>\n",
       "<style scoped>\n",
       "    .dataframe tbody tr th:only-of-type {\n",
       "        vertical-align: middle;\n",
       "    }\n",
       "\n",
       "    .dataframe tbody tr th {\n",
       "        vertical-align: top;\n",
       "    }\n",
       "\n",
       "    .dataframe thead th {\n",
       "        text-align: right;\n",
       "    }\n",
       "</style>\n",
       "<table border=\"1\" class=\"dataframe\">\n",
       "  <thead>\n",
       "    <tr style=\"text-align: right;\">\n",
       "      <th></th>\n",
       "      <th>ts</th>\n",
       "      <th>하루전가격(원/kWh)</th>\n",
       "    </tr>\n",
       "  </thead>\n",
       "  <tbody>\n",
       "    <tr>\n",
       "      <th>0</th>\n",
       "      <td>2024-02-29 15:00:00</td>\n",
       "      <td>107.39</td>\n",
       "    </tr>\n",
       "    <tr>\n",
       "      <th>1</th>\n",
       "      <td>2024-02-29 16:00:00</td>\n",
       "      <td>107.39</td>\n",
       "    </tr>\n",
       "    <tr>\n",
       "      <th>2</th>\n",
       "      <td>2024-02-29 17:00:00</td>\n",
       "      <td>95.30</td>\n",
       "    </tr>\n",
       "    <tr>\n",
       "      <th>3</th>\n",
       "      <td>2024-02-29 18:00:00</td>\n",
       "      <td>87.89</td>\n",
       "    </tr>\n",
       "    <tr>\n",
       "      <th>4</th>\n",
       "      <td>2024-02-29 19:00:00</td>\n",
       "      <td>0.00</td>\n",
       "    </tr>\n",
       "  </tbody>\n",
       "</table>\n",
       "</div>"
      ],
      "text/plain": [
       "                   ts  하루전가격(원/kWh)\n",
       "0 2024-02-29 15:00:00        107.39\n",
       "1 2024-02-29 16:00:00        107.39\n",
       "2 2024-02-29 17:00:00         95.30\n",
       "3 2024-02-29 18:00:00         87.89\n",
       "4 2024-02-29 19:00:00          0.00"
      ]
     },
     "execution_count": 4,
     "metadata": {},
     "output_type": "execute_result"
    }
   ],
   "source": [
    "elec_day_ahead = pd.read_csv('../../data_files/제주전력시장_시장전기가격_하루전가격.csv')\n",
    "elec_day_ahead['ts'] = pd.to_datetime(elec_day_ahead['ts'], unit='s')\n",
    "elec_day_ahead.head()"
   ]
  },
  {
   "cell_type": "code",
   "execution_count": 5,
   "metadata": {},
   "outputs": [
    {
     "name": "stdout",
     "output_type": "stream",
     "text": [
      "2024-02-29 14:00:00 2024-02-29 15:00:00\n",
      "tensor([[1347000.,  839000.,       0.,  196591.,  210378.,  508000.,  306000.],\n",
      "        [1352000.,  842000.,       0.,  199446.,  213221.,  509000.,  309000.],\n",
      "        [1351000.,  839000.,       0.,  198012.,  212961.,  511000.,  309000.],\n",
      "        [1358000.,  841000.,       0.,  205018.,  219922.,  517000.,  318000.],\n",
      "        [1364000.,  837000.,       0.,  211577.,  226343.,  528000.,  327000.],\n",
      "        [1364000.,  826000.,       0.,  210374.,  225914.,  537000.,  337000.],\n",
      "        [1373000.,  829000.,       0.,  219935.,  235739.,  544000.,  345000.],\n",
      "        [1370000.,  823000.,       0.,  218018.,  232482.,  548000.,  348000.],\n",
      "        [1389000.,  827000.,       0.,  235611.,  250743.,  562000.,  360000.],\n",
      "        [1390000.,  818000.,       0.,  234741.,  250744.,  572000.,  371000.],\n",
      "        [1393000.,  815000.,       0.,  242293.,  256841.,  578000.,  380000.]],\n",
      "       dtype=torch.float64)\n",
      "107.39\n"
     ]
    }
   ],
   "source": [
    "for idx in range(0, 1): #len(elec_day_ahead)\n",
    "  one_hour_ago = elec_day_ahead['ts'][idx].to_pydatetime() - datetime.timedelta(hours=1)\n",
    "  print(one_hour_ago, elec_day_ahead['ts'][idx])\n",
    "  targets = elec_market_status[(one_hour_ago <= elec_market_status['ts']) & (elec_day_ahead['ts'][idx].to_pydatetime() > elec_market_status['ts'])]\n",
    "  targets = targets.drop('ts', axis=1)\n",
    "  print(torch.from_numpy(targets.to_numpy()))\n",
    "\n",
    "  print(elec_day_ahead.drop('ts', axis=1).to_numpy()[idx][0])"
   ]
  },
  {
   "cell_type": "code",
   "execution_count": 6,
   "metadata": {},
   "outputs": [],
   "source": [
    "class ElecDataset(Dataset):\n",
    "  def __init__(self, x_data, y_data):\n",
    "    self.x_data = x_data\n",
    "    self.y_data = y_data\n",
    "\n",
    "  def __getitem__(self, index):\n",
    "    one_hour_ago = self.y_data['ts'][index].to_pydatetime() - datetime.timedelta(hours=1)\n",
    "    targets = self.x_data[(one_hour_ago <= self.x_data['ts']) & (self.y_data['ts'][index].to_pydatetime() > self.x_data['ts'])]\n",
    "    targets = targets.drop('ts', axis=1)\n",
    "    targets = torch.from_numpy(targets.to_numpy())\n",
    "    # MEMO - padding\n",
    "    if len(targets) < 12:\n",
    "      targets = torch.nn.functional.pad(targets, (0, 0, 0, 12-len(targets)))\n",
    "      # print(targets)\n",
    "      # print('\\n')\n",
    "\n",
    "    target_y = self.y_data.drop('ts', axis=1).to_numpy()[index][0]\n",
    "\n",
    "    return targets, target_y\n",
    "\n",
    "  def __len__(self):\n",
    "    return len(self.y_data)"
   ]
  },
  {
   "cell_type": "code",
   "execution_count": 7,
   "metadata": {},
   "outputs": [],
   "source": [
    "scaler = MinMaxScaler()\n",
    "\n",
    "columns_to_scale = elec_market_status.columns[1:]\n",
    "elec_market_status[columns_to_scale] = scaler.fit_transform(elec_market_status[columns_to_scale])\n",
    "\n",
    "dataset = ElecDataset(elec_market_status, elec_day_ahead)"
   ]
  },
  {
   "cell_type": "code",
   "execution_count": 8,
   "metadata": {},
   "outputs": [],
   "source": [
    "dataloader = DataLoader(dataset=dataset,\n",
    "                        batch_size=16,\n",
    "                        shuffle=True,\n",
    "                        drop_last=False)\n",
    "\n",
    "# for epoch in range(int(len(dataset)/16)+1):\n",
    "#   print(f\"epoch: {epoch}\")\n",
    "#   for batch in dataloader:\n",
    "#     X, y = batch\n",
    "#     print(X.size(), y)"
   ]
  },
  {
   "cell_type": "code",
   "execution_count": 9,
   "metadata": {},
   "outputs": [],
   "source": [
    "class LSTMModel(nn.Module):\n",
    "  def __init__(self, input_size, hidden_size, output_size, num_layers):\n",
    "    super(LSTMModel, self).__init__()\n",
    "    self.hidden_size = hidden_size\n",
    "    self.num_layers = num_layers\n",
    "    \n",
    "    # Define the LSTM layer\n",
    "    self.lstm = nn.LSTM(input_size, hidden_size, num_layers, batch_first=True, dtype=torch.float64)\n",
    "    \n",
    "    # Define a fully connected layer to produce output of size 1\n",
    "    self.fc = nn.Linear(hidden_size, output_size, dtype=torch.float64)\n",
    "  \n",
    "  def forward(self, x):\n",
    "    # Set initial hidden and cell states to zeros\n",
    "    h0 = torch.zeros(self.num_layers, x.size(0), self.hidden_size, dtype=torch.float64).to(x.device)  # hidden state\n",
    "    c0 = torch.zeros(self.num_layers, x.size(0), self.hidden_size, dtype=torch.float64).to(x.device)  # cell state\n",
    "    \n",
    "    # Forward propagate LSTM\n",
    "    out, _ = self.lstm(x, (h0, c0))  # out: tensor of shape (batch_size, seq_length, hidden_size)\n",
    "    \n",
    "    # Get the last time step output (last hidden state)\n",
    "    out = out[:, -1, :]  # (batch_size, hidden_size)\n",
    "    \n",
    "    # Pass the output through the fully connected layer\n",
    "    out = self.fc(out)  # (batch_size, 1)\n",
    "    \n",
    "    return out"
   ]
  },
  {
   "cell_type": "code",
   "execution_count": 13,
   "metadata": {},
   "outputs": [],
   "source": [
    "input_size = 7  # Number of input features (7)\n",
    "hidden_size = 16  # Hidden state size, you can choose other values too\n",
    "output_size = 1  # Single output\n",
    "num_layers = 3  # Number of LSTM layers (you can adjust this)\n",
    "\n",
    "learning_rate = 0.01\n",
    "epoches= 10\n",
    "\n",
    "\n",
    "model = LSTMModel(input_size, hidden_size, output_size, num_layers)\n",
    "\n",
    "\n",
    "criterion = nn.MSELoss()\n",
    "optimizer = torch.optim.Adam(model.parameters(), lr=learning_rate)\n",
    "\n",
    "# # Example input: batch of 16 sequences, each of length 12, with 7 features per timestep\n",
    "# it = iter(dataloader)\n",
    "# input_tensor = next(it)[0]\n",
    "# print(input_tensor)\n",
    "\n",
    "# # Forward pass\n",
    "# output = model(input_tensor)\n",
    "# print(output)  # Expected output: (16, 1)"
   ]
  },
  {
   "cell_type": "code",
   "execution_count": 14,
   "metadata": {},
   "outputs": [],
   "source": [
    "def train(model, train_loader, criterion, optimizer, num_epochs, device):\n",
    "    model = model.to(device)  # Move model to GPU/CPU\n",
    "    \n",
    "    for epoch in range(num_epochs):\n",
    "        model.train()  # Set the model to training mode\n",
    "        \n",
    "        running_loss = 0.0  # To keep track of loss\n",
    "        for inputs, targets in train_loader:\n",
    "            # Move data to the same device as the model\n",
    "            inputs, targets = inputs.to(device), targets.to(device)\n",
    "            targets = targets.view(-1, 1)\n",
    "            \n",
    "            # Forward pass\n",
    "            outputs = model(inputs)\n",
    "            loss = criterion(outputs, targets)\n",
    "\n",
    "            # Backward pass and optimization\n",
    "            optimizer.zero_grad()  # Clear the gradients\n",
    "            loss.backward()        # Compute gradients\n",
    "            optimizer.step()        # Update model parameters\n",
    "\n",
    "            running_loss += loss.item()\n",
    "\n",
    "        # Print the loss after each epoch\n",
    "        avg_loss = running_loss / len(train_loader)\n",
    "        print(f\"Epoch [{epoch+1}/{num_epochs}], Loss: {avg_loss:.4f}\")\n",
    "\n",
    "    print(\"Training complete.\")"
   ]
  },
  {
   "cell_type": "code",
   "execution_count": 15,
   "metadata": {},
   "outputs": [
    {
     "name": "stdout",
     "output_type": "stream",
     "text": [
      "Epoch [1/10], Loss: 11937.7819\n",
      "Epoch [2/10], Loss: 4990.0548\n",
      "Epoch [3/10], Loss: 2616.2151\n",
      "Epoch [4/10], Loss: 1999.1004\n",
      "Epoch [5/10], Loss: 1902.9440\n",
      "Epoch [6/10], Loss: 1894.0407\n",
      "Epoch [7/10], Loss: 1893.2088\n",
      "Epoch [8/10], Loss: 1893.5194\n",
      "Epoch [9/10], Loss: 1931.2521\n",
      "Epoch [10/10], Loss: 1893.2481\n",
      "Training complete.\n"
     ]
    }
   ],
   "source": [
    "train(model, dataloader, criterion, optimizer, epoches, device)"
   ]
  }
 ],
 "metadata": {
  "kernelspec": {
   "display_name": ".venv",
   "language": "python",
   "name": "python3"
  },
  "language_info": {
   "codemirror_mode": {
    "name": "ipython",
    "version": 3
   },
   "file_extension": ".py",
   "mimetype": "text/x-python",
   "name": "python",
   "nbconvert_exporter": "python",
   "pygments_lexer": "ipython3",
   "version": "3.9.13"
  },
  "polyglot_notebook": {
   "kernelInfo": {
    "defaultKernelName": "csharp",
    "items": [
     {
      "aliases": [],
      "name": "csharp"
     }
    ]
   }
  }
 },
 "nbformat": 4,
 "nbformat_minor": 2
}

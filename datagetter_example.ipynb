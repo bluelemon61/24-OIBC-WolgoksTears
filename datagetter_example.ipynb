{
 "cells": [
  {
   "cell_type": "markdown",
   "metadata": {},
   "source": [
    "### 데이터 정리 함수 이용 예제"
   ]
  },
  {
   "cell_type": "code",
   "execution_count": null,
   "metadata": {},
   "outputs": [],
   "source": [
    "from datagetter.datagetter import data_getter\n",
    "\n",
    "# 반드시 시작일은 2024-10-23부터 입력!!\n",
    "# 종료일은 오늘의 하루 전(=어제)를 쏘는걸 추천\n",
    "data_getter('2024-10-23', '2024-10-29')"
   ]
  },
  {
   "cell_type": "markdown",
   "metadata": {},
   "source": [
    "### 정답 제출 예제"
   ]
  },
  {
   "cell_type": "code",
   "execution_count": null,
   "metadata": {},
   "outputs": [],
   "source": [
    "import os\n",
    "from dotenv import load_dotenv\n",
    "from datagetter.post_apis import post_apis\n",
    "\n",
    "load_dotenv()\n",
    "\n",
    "API_KEY = os.getenv(\"API_KEY\")\n",
    "API_URL = os.getenv(\"API_URL\")\n",
    "\n",
    "post_api = post_apis(API_KEY, API_URL)\n",
    "\n",
    "result = [0.0] * 24\n",
    "post_api.submissions(result)"
   ]
  }
 ],
 "metadata": {
  "kernelspec": {
   "display_name": ".venv",
   "language": "python",
   "name": "python3"
  },
  "language_info": {
   "name": "python",
   "version": "3.9.13"
  }
 },
 "nbformat": 4,
 "nbformat_minor": 2
}

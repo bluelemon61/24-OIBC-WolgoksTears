{
 "cells": [
  {
   "cell_type": "markdown",
   "metadata": {},
   "source": [
    "# 2024 OIBC Challenge\n",
    "**(Deep Learning version final)**"
   ]
  },
  {
   "cell_type": "code",
   "execution_count": 1,
   "metadata": {},
   "outputs": [],
   "source": [
    "import matplotlib.pyplot as plt\n",
    "import pandas as pd\n",
    "from functools import reduce\n",
    "import os\n",
    "from datetime import datetime, timedelta\n",
    "\n",
    "import torch\n",
    "from torch.utils.data import DataLoader\n",
    "from DL_final import NeuralNetwork, ElecDataset, train"
   ]
  },
  {
   "cell_type": "markdown",
   "metadata": {},
   "source": [
    "## 데이터 전처리"
   ]
  },
  {
   "cell_type": "code",
   "execution_count": 2,
   "metadata": {},
   "outputs": [
    {
     "name": "stdout",
     "output_type": "stream",
     "text": [
      "f:\\For me\\Project\\24-OIBC-WolgoksTears\\personal_files\\hoon\n"
     ]
    }
   ],
   "source": [
    "print(os.getcwd())  # 현재 작업 경로 출력"
   ]
  },
  {
   "cell_type": "markdown",
   "metadata": {},
   "source": [
    "actual_weather_1"
   ]
  },
  {
   "cell_type": "code",
   "execution_count": 3,
   "metadata": {},
   "outputs": [
    {
     "data": {
      "text/html": [
       "<div>\n",
       "<style scoped>\n",
       "    .dataframe tbody tr th:only-of-type {\n",
       "        vertical-align: middle;\n",
       "    }\n",
       "\n",
       "    .dataframe tbody tr th {\n",
       "        vertical-align: top;\n",
       "    }\n",
       "\n",
       "    .dataframe thead th {\n",
       "        text-align: right;\n",
       "    }\n",
       "</style>\n",
       "<table border=\"1\" class=\"dataframe\">\n",
       "  <thead>\n",
       "    <tr style=\"text-align: right;\">\n",
       "      <th></th>\n",
       "      <th>datetime</th>\n",
       "      <th>temp</th>\n",
       "      <th>real_feel_temp</th>\n",
       "      <th>rel_hum</th>\n",
       "      <th>dew_point</th>\n",
       "      <th>wind_dir</th>\n",
       "      <th>wind_spd</th>\n",
       "      <th>wind_gust_spd</th>\n",
       "      <th>uv_idx</th>\n",
       "      <th>vis</th>\n",
       "      <th>cld_cvr</th>\n",
       "      <th>ceiling</th>\n",
       "      <th>wet_bulb_temp</th>\n",
       "      <th>precip_1h</th>\n",
       "    </tr>\n",
       "  </thead>\n",
       "  <tbody>\n",
       "    <tr>\n",
       "      <th>0</th>\n",
       "      <td>2024-03-01 00:00:00</td>\n",
       "      <td>8.500000</td>\n",
       "      <td>8.000000</td>\n",
       "      <td>81.000000</td>\n",
       "      <td>5.500000</td>\n",
       "      <td>270.000000</td>\n",
       "      <td>6.100000</td>\n",
       "      <td>17.600000</td>\n",
       "      <td>0.0</td>\n",
       "      <td>20.900000</td>\n",
       "      <td>91.000000</td>\n",
       "      <td>579.000000</td>\n",
       "      <td>7.100000</td>\n",
       "      <td>0.100000</td>\n",
       "    </tr>\n",
       "    <tr>\n",
       "      <th>1</th>\n",
       "      <td>2024-03-01 01:00:00</td>\n",
       "      <td>7.158333</td>\n",
       "      <td>3.041667</td>\n",
       "      <td>72.666667</td>\n",
       "      <td>2.508333</td>\n",
       "      <td>234.666667</td>\n",
       "      <td>20.483333</td>\n",
       "      <td>26.366667</td>\n",
       "      <td>0.0</td>\n",
       "      <td>20.783333</td>\n",
       "      <td>97.750000</td>\n",
       "      <td>693.416667</td>\n",
       "      <td>5.091667</td>\n",
       "      <td>0.008333</td>\n",
       "    </tr>\n",
       "    <tr>\n",
       "      <th>2</th>\n",
       "      <td>2024-03-01 02:00:00</td>\n",
       "      <td>6.477778</td>\n",
       "      <td>2.111111</td>\n",
       "      <td>75.666667</td>\n",
       "      <td>2.433333</td>\n",
       "      <td>262.888889</td>\n",
       "      <td>21.944444</td>\n",
       "      <td>27.433333</td>\n",
       "      <td>0.0</td>\n",
       "      <td>20.033333</td>\n",
       "      <td>86.333333</td>\n",
       "      <td>616.222222</td>\n",
       "      <td>4.733333</td>\n",
       "      <td>0.011111</td>\n",
       "    </tr>\n",
       "    <tr>\n",
       "      <th>3</th>\n",
       "      <td>2024-03-01 03:00:00</td>\n",
       "      <td>6.045455</td>\n",
       "      <td>0.900000</td>\n",
       "      <td>74.545455</td>\n",
       "      <td>1.663636</td>\n",
       "      <td>213.000000</td>\n",
       "      <td>22.490909</td>\n",
       "      <td>27.645455</td>\n",
       "      <td>0.0</td>\n",
       "      <td>19.900000</td>\n",
       "      <td>62.818182</td>\n",
       "      <td>8692.363636</td>\n",
       "      <td>4.209091</td>\n",
       "      <td>0.136364</td>\n",
       "    </tr>\n",
       "    <tr>\n",
       "      <th>4</th>\n",
       "      <td>2024-03-01 04:00:00</td>\n",
       "      <td>5.430000</td>\n",
       "      <td>-0.090000</td>\n",
       "      <td>68.100000</td>\n",
       "      <td>-0.030000</td>\n",
       "      <td>256.800000</td>\n",
       "      <td>26.140000</td>\n",
       "      <td>42.440000</td>\n",
       "      <td>0.0</td>\n",
       "      <td>23.800000</td>\n",
       "      <td>38.100000</td>\n",
       "      <td>10911.800000</td>\n",
       "      <td>3.180000</td>\n",
       "      <td>0.410000</td>\n",
       "    </tr>\n",
       "  </tbody>\n",
       "</table>\n",
       "</div>"
      ],
      "text/plain": [
       "             datetime      temp  real_feel_temp    rel_hum  dew_point  \\\n",
       "0 2024-03-01 00:00:00  8.500000        8.000000  81.000000   5.500000   \n",
       "1 2024-03-01 01:00:00  7.158333        3.041667  72.666667   2.508333   \n",
       "2 2024-03-01 02:00:00  6.477778        2.111111  75.666667   2.433333   \n",
       "3 2024-03-01 03:00:00  6.045455        0.900000  74.545455   1.663636   \n",
       "4 2024-03-01 04:00:00  5.430000       -0.090000  68.100000  -0.030000   \n",
       "\n",
       "     wind_dir   wind_spd  wind_gust_spd  uv_idx        vis    cld_cvr  \\\n",
       "0  270.000000   6.100000      17.600000     0.0  20.900000  91.000000   \n",
       "1  234.666667  20.483333      26.366667     0.0  20.783333  97.750000   \n",
       "2  262.888889  21.944444      27.433333     0.0  20.033333  86.333333   \n",
       "3  213.000000  22.490909      27.645455     0.0  19.900000  62.818182   \n",
       "4  256.800000  26.140000      42.440000     0.0  23.800000  38.100000   \n",
       "\n",
       "        ceiling  wet_bulb_temp  precip_1h  \n",
       "0    579.000000       7.100000   0.100000  \n",
       "1    693.416667       5.091667   0.008333  \n",
       "2    616.222222       4.733333   0.011111  \n",
       "3   8692.363636       4.209091   0.136364  \n",
       "4  10911.800000       3.180000   0.410000  "
      ]
     },
     "execution_count": 3,
     "metadata": {},
     "output_type": "execute_result"
    }
   ],
   "source": [
    "# 데이터 불러오기\n",
    "actual_weather_1 = pd.read_csv(\"../../data_files/actual_weather_1.csv\")\n",
    "\n",
    "# 'ts'를 datetime 형식으로 변환 후 1시간 단위로 맞추기\n",
    "actual_weather_1['datetime'] = pd.to_datetime(actual_weather_1['ts'], unit='s')\n",
    "actual_weather_1['datetime'] = actual_weather_1['datetime'].dt.round('h') + timedelta(hours=9)\n",
    "\n",
    "# 원래 'ts' 열과 'location' 제거\n",
    "actual_weather_1.drop(columns=['ts'], inplace=True)\n",
    "actual_weather_1.drop(columns=['location'], inplace=True)\n",
    "\n",
    "# 1시간 단위로 그룹화하여 평균을 계산 (location을 제외한 모든 열)\n",
    "actual_weather_1 = actual_weather_1.groupby(['datetime'], as_index=False).mean()\n",
    "\n",
    "\n",
    "# weather_forecast에 없는 columns 제거\n",
    "actual_weather_1.drop(columns=['real_feel_temp_shade'], inplace=True)\n",
    "actual_weather_1.drop(columns=['pressure'], inplace=True)\n",
    "actual_weather_1.drop(columns=['appr_temp'], inplace=True)\n",
    "actual_weather_1.drop(columns=['wind_chill_temp'], inplace=True)\n",
    " \n",
    "# 결과 확인\n",
    "actual_weather_1.head()"
   ]
  },
  {
   "cell_type": "markdown",
   "metadata": {},
   "source": [
    "weather_forecast_1"
   ]
  },
  {
   "cell_type": "code",
   "execution_count": 4,
   "metadata": {},
   "outputs": [
    {
     "data": {
      "text/html": [
       "<div>\n",
       "<style scoped>\n",
       "    .dataframe tbody tr th:only-of-type {\n",
       "        vertical-align: middle;\n",
       "    }\n",
       "\n",
       "    .dataframe tbody tr th {\n",
       "        vertical-align: top;\n",
       "    }\n",
       "\n",
       "    .dataframe thead th {\n",
       "        text-align: right;\n",
       "    }\n",
       "</style>\n",
       "<table border=\"1\" class=\"dataframe\">\n",
       "  <thead>\n",
       "    <tr style=\"text-align: right;\">\n",
       "      <th></th>\n",
       "      <th>datetime</th>\n",
       "      <th>temp</th>\n",
       "      <th>real_feel_temp</th>\n",
       "      <th>rel_hum</th>\n",
       "      <th>dew_point</th>\n",
       "      <th>wind_dir</th>\n",
       "      <th>wind_spd</th>\n",
       "      <th>wind_gust_spd</th>\n",
       "      <th>uv_idx</th>\n",
       "      <th>vis</th>\n",
       "      <th>cld_cvr</th>\n",
       "      <th>ceiling</th>\n",
       "      <th>wet_bulb_temp</th>\n",
       "      <th>precip_1h</th>\n",
       "    </tr>\n",
       "  </thead>\n",
       "  <tbody>\n",
       "    <tr>\n",
       "      <th>0</th>\n",
       "      <td>2024-03-02 00:00:00</td>\n",
       "      <td>1.728394</td>\n",
       "      <td>-4.320987</td>\n",
       "      <td>64.333333</td>\n",
       "      <td>-4.320987</td>\n",
       "      <td>335.555556</td>\n",
       "      <td>22.048022</td>\n",
       "      <td>50.604944</td>\n",
       "      <td>0.0</td>\n",
       "      <td>16.093400</td>\n",
       "      <td>75.555556</td>\n",
       "      <td>1700.106667</td>\n",
       "      <td>-0.555556</td>\n",
       "      <td>0.000000</td>\n",
       "    </tr>\n",
       "    <tr>\n",
       "      <th>1</th>\n",
       "      <td>2024-03-02 01:00:00</td>\n",
       "      <td>1.851852</td>\n",
       "      <td>-4.506173</td>\n",
       "      <td>64.333333</td>\n",
       "      <td>-4.135800</td>\n",
       "      <td>335.000000</td>\n",
       "      <td>22.048022</td>\n",
       "      <td>50.640711</td>\n",
       "      <td>0.0</td>\n",
       "      <td>15.378140</td>\n",
       "      <td>84.777778</td>\n",
       "      <td>1249.680000</td>\n",
       "      <td>-0.432099</td>\n",
       "      <td>0.056444</td>\n",
       "    </tr>\n",
       "    <tr>\n",
       "      <th>2</th>\n",
       "      <td>2024-03-02 02:00:00</td>\n",
       "      <td>1.790123</td>\n",
       "      <td>-5.061728</td>\n",
       "      <td>66.333333</td>\n",
       "      <td>-3.950616</td>\n",
       "      <td>334.444444</td>\n",
       "      <td>22.656000</td>\n",
       "      <td>51.481144</td>\n",
       "      <td>0.0</td>\n",
       "      <td>14.392882</td>\n",
       "      <td>89.333333</td>\n",
       "      <td>1229.360000</td>\n",
       "      <td>-0.370370</td>\n",
       "      <td>0.197556</td>\n",
       "    </tr>\n",
       "    <tr>\n",
       "      <th>3</th>\n",
       "      <td>2024-03-02 03:00:00</td>\n",
       "      <td>1.604940</td>\n",
       "      <td>-5.308640</td>\n",
       "      <td>67.333333</td>\n",
       "      <td>-3.888887</td>\n",
       "      <td>333.777778</td>\n",
       "      <td>23.263967</td>\n",
       "      <td>51.463267</td>\n",
       "      <td>0.0</td>\n",
       "      <td>15.195758</td>\n",
       "      <td>94.555556</td>\n",
       "      <td>1933.786667</td>\n",
       "      <td>-0.370370</td>\n",
       "      <td>0.084667</td>\n",
       "    </tr>\n",
       "    <tr>\n",
       "      <th>4</th>\n",
       "      <td>2024-03-02 04:00:00</td>\n",
       "      <td>1.851852</td>\n",
       "      <td>-4.876541</td>\n",
       "      <td>66.444444</td>\n",
       "      <td>-3.950616</td>\n",
       "      <td>333.888889</td>\n",
       "      <td>23.871922</td>\n",
       "      <td>50.837400</td>\n",
       "      <td>0.0</td>\n",
       "      <td>15.825200</td>\n",
       "      <td>82.555556</td>\n",
       "      <td>2600.960000</td>\n",
       "      <td>-0.308642</td>\n",
       "      <td>0.000000</td>\n",
       "    </tr>\n",
       "  </tbody>\n",
       "</table>\n",
       "</div>"
      ],
      "text/plain": [
       "             datetime      temp  real_feel_temp    rel_hum  dew_point  \\\n",
       "0 2024-03-02 00:00:00  1.728394       -4.320987  64.333333  -4.320987   \n",
       "1 2024-03-02 01:00:00  1.851852       -4.506173  64.333333  -4.135800   \n",
       "2 2024-03-02 02:00:00  1.790123       -5.061728  66.333333  -3.950616   \n",
       "3 2024-03-02 03:00:00  1.604940       -5.308640  67.333333  -3.888887   \n",
       "4 2024-03-02 04:00:00  1.851852       -4.876541  66.444444  -3.950616   \n",
       "\n",
       "     wind_dir   wind_spd  wind_gust_spd  uv_idx        vis    cld_cvr  \\\n",
       "0  335.555556  22.048022      50.604944     0.0  16.093400  75.555556   \n",
       "1  335.000000  22.048022      50.640711     0.0  15.378140  84.777778   \n",
       "2  334.444444  22.656000      51.481144     0.0  14.392882  89.333333   \n",
       "3  333.777778  23.263967      51.463267     0.0  15.195758  94.555556   \n",
       "4  333.888889  23.871922      50.837400     0.0  15.825200  82.555556   \n",
       "\n",
       "       ceiling  wet_bulb_temp  precip_1h  \n",
       "0  1700.106667      -0.555556   0.000000  \n",
       "1  1249.680000      -0.432099   0.056444  \n",
       "2  1229.360000      -0.370370   0.197556  \n",
       "3  1933.786667      -0.370370   0.084667  \n",
       "4  2600.960000      -0.308642   0.000000  "
      ]
     },
     "execution_count": 4,
     "metadata": {},
     "output_type": "execute_result"
    }
   ],
   "source": [
    "# 데이터 불러오기\n",
    "weather_forecast_1 = pd.read_csv(\"../../data_files/weather_forecast_1.csv\")\n",
    "\n",
    "# 'ts'를 datetime 형식으로 변환 후 1시간 단위로 맞추기\n",
    "weather_forecast_1['datetime'] = pd.to_datetime(weather_forecast_1['ts'], unit='s')\n",
    "weather_forecast_1['datetime'] = weather_forecast_1['datetime'].dt.round('h') + timedelta(hours=9)\n",
    "\n",
    "# 원래 'ts' 열 제거, 'base_ts' 열 제거, 'location' 제거\n",
    "weather_forecast_1.drop(columns=['ts'], inplace=True)\n",
    "weather_forecast_1.drop(columns=['base_ts'], inplace=True)\n",
    "weather_forecast_1.drop(columns=['location'], inplace=True)\n",
    "\n",
    "# 1시간 단위로 그룹화하여 평균을 계산 (location을 제외한 모든 열)\n",
    "weather_forecast_1 = weather_forecast_1.groupby(['datetime'], as_index=False).mean()\n",
    "\n",
    "\n",
    "# 예보 데이터의 columns 순서를 actual_weather columns 순서와 맞추기\n",
    "weather_forecast_1 = weather_forecast_1[['datetime', 'temp', 'real_feel_temp', 'rel_hum',\n",
    "       'dew_point', 'wind_dir', 'wind_spd', 'wind_gust_spd', 'uv_idx', 'vis',\n",
    "       'cld_cvr', 'ceiling', 'wet_bulb_temp', 'total_liq']]\n",
    "weather_forecast_1['precip_1h'] = weather_forecast_1['total_liq']\n",
    "weather_forecast_1.drop(columns=['total_liq'], inplace=True)  \n",
    "\n",
    "# 결과 확인\n",
    "weather_forecast_1.head()"
   ]
  },
  {
   "cell_type": "markdown",
   "metadata": {},
   "source": [
    "actual_weather_2"
   ]
  },
  {
   "cell_type": "code",
   "execution_count": 5,
   "metadata": {},
   "outputs": [
    {
     "data": {
      "text/html": [
       "<div>\n",
       "<style scoped>\n",
       "    .dataframe tbody tr th:only-of-type {\n",
       "        vertical-align: middle;\n",
       "    }\n",
       "\n",
       "    .dataframe tbody tr th {\n",
       "        vertical-align: top;\n",
       "    }\n",
       "\n",
       "    .dataframe thead th {\n",
       "        text-align: right;\n",
       "    }\n",
       "</style>\n",
       "<table border=\"1\" class=\"dataframe\">\n",
       "  <thead>\n",
       "    <tr style=\"text-align: right;\">\n",
       "      <th></th>\n",
       "      <th>datetime</th>\n",
       "      <th>cloud</th>\n",
       "      <th>temp</th>\n",
       "      <th>temp_max</th>\n",
       "      <th>temp_min</th>\n",
       "      <th>humidity</th>\n",
       "      <th>ground_press</th>\n",
       "      <th>wind_speed</th>\n",
       "      <th>wind_dir</th>\n",
       "      <th>rain</th>\n",
       "      <th>snow</th>\n",
       "    </tr>\n",
       "  </thead>\n",
       "  <tbody>\n",
       "    <tr>\n",
       "      <th>0</th>\n",
       "      <td>2024-03-01 00:00:00</td>\n",
       "      <td>89.333333</td>\n",
       "      <td>6.146667</td>\n",
       "      <td>6.146667</td>\n",
       "      <td>6.146667</td>\n",
       "      <td>74.666667</td>\n",
       "      <td>1022.666667</td>\n",
       "      <td>8.553333</td>\n",
       "      <td>345.333333</td>\n",
       "      <td>0.17</td>\n",
       "      <td>0.0</td>\n",
       "    </tr>\n",
       "    <tr>\n",
       "      <th>1</th>\n",
       "      <td>2024-03-01 01:00:00</td>\n",
       "      <td>83.500000</td>\n",
       "      <td>6.255000</td>\n",
       "      <td>6.255000</td>\n",
       "      <td>6.255000</td>\n",
       "      <td>70.500000</td>\n",
       "      <td>1022.500000</td>\n",
       "      <td>6.256667</td>\n",
       "      <td>342.000000</td>\n",
       "      <td>0.00</td>\n",
       "      <td>0.0</td>\n",
       "    </tr>\n",
       "    <tr>\n",
       "      <th>2</th>\n",
       "      <td>2024-03-01 02:00:00</td>\n",
       "      <td>84.333333</td>\n",
       "      <td>5.926667</td>\n",
       "      <td>5.926667</td>\n",
       "      <td>5.926667</td>\n",
       "      <td>67.833333</td>\n",
       "      <td>1022.833333</td>\n",
       "      <td>7.291667</td>\n",
       "      <td>343.000000</td>\n",
       "      <td>0.21</td>\n",
       "      <td>0.0</td>\n",
       "    </tr>\n",
       "    <tr>\n",
       "      <th>3</th>\n",
       "      <td>2024-03-01 03:00:00</td>\n",
       "      <td>83.666667</td>\n",
       "      <td>5.198333</td>\n",
       "      <td>5.198333</td>\n",
       "      <td>5.198333</td>\n",
       "      <td>63.833333</td>\n",
       "      <td>1023.500000</td>\n",
       "      <td>7.520000</td>\n",
       "      <td>342.333333</td>\n",
       "      <td>0.00</td>\n",
       "      <td>0.0</td>\n",
       "    </tr>\n",
       "    <tr>\n",
       "      <th>4</th>\n",
       "      <td>2024-03-01 04:00:00</td>\n",
       "      <td>42.166667</td>\n",
       "      <td>4.433333</td>\n",
       "      <td>4.433333</td>\n",
       "      <td>4.433333</td>\n",
       "      <td>64.833333</td>\n",
       "      <td>1023.833333</td>\n",
       "      <td>7.330000</td>\n",
       "      <td>342.000000</td>\n",
       "      <td>0.00</td>\n",
       "      <td>0.0</td>\n",
       "    </tr>\n",
       "  </tbody>\n",
       "</table>\n",
       "</div>"
      ],
      "text/plain": [
       "             datetime      cloud      temp  temp_max  temp_min   humidity  \\\n",
       "0 2024-03-01 00:00:00  89.333333  6.146667  6.146667  6.146667  74.666667   \n",
       "1 2024-03-01 01:00:00  83.500000  6.255000  6.255000  6.255000  70.500000   \n",
       "2 2024-03-01 02:00:00  84.333333  5.926667  5.926667  5.926667  67.833333   \n",
       "3 2024-03-01 03:00:00  83.666667  5.198333  5.198333  5.198333  63.833333   \n",
       "4 2024-03-01 04:00:00  42.166667  4.433333  4.433333  4.433333  64.833333   \n",
       "\n",
       "   ground_press  wind_speed    wind_dir  rain  snow  \n",
       "0   1022.666667    8.553333  345.333333  0.17   0.0  \n",
       "1   1022.500000    6.256667  342.000000  0.00   0.0  \n",
       "2   1022.833333    7.291667  343.000000  0.21   0.0  \n",
       "3   1023.500000    7.520000  342.333333  0.00   0.0  \n",
       "4   1023.833333    7.330000  342.000000  0.00   0.0  "
      ]
     },
     "execution_count": 5,
     "metadata": {},
     "output_type": "execute_result"
    }
   ],
   "source": [
    "# 데이터 불러오기\n",
    "actual_weather_2 = pd.read_csv(\"../../data_files/actual_weather_2.csv\")\n",
    "\n",
    "# 'ts'를 datetime 형식으로 변환 후 1시간 단위로 맞추기\n",
    "actual_weather_2['datetime'] = pd.to_datetime(actual_weather_2['ts'], unit='s')\n",
    "actual_weather_2['datetime'] = actual_weather_2['datetime'].dt.round('h') + timedelta(hours=9)\n",
    "\n",
    "# 원래 'ts' 열과 'location' 제거\n",
    "actual_weather_2.drop(columns=['ts'], inplace=True)\n",
    "actual_weather_2.drop(columns=['location'], inplace=True)\n",
    "\n",
    "# 1시간 단위로 그룹화하여 평균을 계산 (location을 제외한 모든 열)\n",
    "actual_weather_2 = actual_weather_2.groupby(['datetime'], as_index=False).mean()\n",
    " \n",
    "# 결과 확인\n",
    "actual_weather_2.head()"
   ]
  },
  {
   "cell_type": "markdown",
   "metadata": {},
   "source": [
    "weather_forecast_2"
   ]
  },
  {
   "cell_type": "code",
   "execution_count": 6,
   "metadata": {},
   "outputs": [
    {
     "data": {
      "text/html": [
       "<div>\n",
       "<style scoped>\n",
       "    .dataframe tbody tr th:only-of-type {\n",
       "        vertical-align: middle;\n",
       "    }\n",
       "\n",
       "    .dataframe tbody tr th {\n",
       "        vertical-align: top;\n",
       "    }\n",
       "\n",
       "    .dataframe thead th {\n",
       "        text-align: right;\n",
       "    }\n",
       "</style>\n",
       "<table border=\"1\" class=\"dataframe\">\n",
       "  <thead>\n",
       "    <tr style=\"text-align: right;\">\n",
       "      <th></th>\n",
       "      <th>datetime</th>\n",
       "      <th>cloud</th>\n",
       "      <th>temp</th>\n",
       "      <th>temp_max</th>\n",
       "      <th>temp_min</th>\n",
       "      <th>humidity</th>\n",
       "      <th>ground_press</th>\n",
       "      <th>wind_speed</th>\n",
       "      <th>wind_dir</th>\n",
       "      <th>rain</th>\n",
       "      <th>snow</th>\n",
       "    </tr>\n",
       "  </thead>\n",
       "  <tbody>\n",
       "    <tr>\n",
       "      <th>0</th>\n",
       "      <td>2024-03-02 00:00:00</td>\n",
       "      <td>100.000000</td>\n",
       "      <td>1.213333</td>\n",
       "      <td>1.213333</td>\n",
       "      <td>1.213333</td>\n",
       "      <td>60.333333</td>\n",
       "      <td>1027.000000</td>\n",
       "      <td>8.306667</td>\n",
       "      <td>332.333333</td>\n",
       "      <td>0.0</td>\n",
       "      <td>0.0</td>\n",
       "    </tr>\n",
       "    <tr>\n",
       "      <th>1</th>\n",
       "      <td>2024-03-02 01:00:00</td>\n",
       "      <td>100.000000</td>\n",
       "      <td>1.280000</td>\n",
       "      <td>1.280000</td>\n",
       "      <td>1.280000</td>\n",
       "      <td>61.000000</td>\n",
       "      <td>1027.000000</td>\n",
       "      <td>8.043333</td>\n",
       "      <td>333.666667</td>\n",
       "      <td>0.0</td>\n",
       "      <td>0.0</td>\n",
       "    </tr>\n",
       "    <tr>\n",
       "      <th>2</th>\n",
       "      <td>2024-03-02 02:00:00</td>\n",
       "      <td>100.000000</td>\n",
       "      <td>1.323333</td>\n",
       "      <td>1.323333</td>\n",
       "      <td>1.323333</td>\n",
       "      <td>60.666667</td>\n",
       "      <td>1026.666667</td>\n",
       "      <td>7.626667</td>\n",
       "      <td>333.000000</td>\n",
       "      <td>0.0</td>\n",
       "      <td>0.0</td>\n",
       "    </tr>\n",
       "    <tr>\n",
       "      <th>3</th>\n",
       "      <td>2024-03-02 03:00:00</td>\n",
       "      <td>100.000000</td>\n",
       "      <td>1.323333</td>\n",
       "      <td>1.323333</td>\n",
       "      <td>1.323333</td>\n",
       "      <td>60.666667</td>\n",
       "      <td>1026.000000</td>\n",
       "      <td>7.310000</td>\n",
       "      <td>332.666667</td>\n",
       "      <td>0.0</td>\n",
       "      <td>0.0</td>\n",
       "    </tr>\n",
       "    <tr>\n",
       "      <th>4</th>\n",
       "      <td>2024-03-02 04:00:00</td>\n",
       "      <td>96.333333</td>\n",
       "      <td>1.356667</td>\n",
       "      <td>1.356667</td>\n",
       "      <td>1.356667</td>\n",
       "      <td>60.666667</td>\n",
       "      <td>1026.000000</td>\n",
       "      <td>7.076667</td>\n",
       "      <td>331.666667</td>\n",
       "      <td>0.0</td>\n",
       "      <td>0.0</td>\n",
       "    </tr>\n",
       "  </tbody>\n",
       "</table>\n",
       "</div>"
      ],
      "text/plain": [
       "             datetime       cloud      temp  temp_max  temp_min   humidity  \\\n",
       "0 2024-03-02 00:00:00  100.000000  1.213333  1.213333  1.213333  60.333333   \n",
       "1 2024-03-02 01:00:00  100.000000  1.280000  1.280000  1.280000  61.000000   \n",
       "2 2024-03-02 02:00:00  100.000000  1.323333  1.323333  1.323333  60.666667   \n",
       "3 2024-03-02 03:00:00  100.000000  1.323333  1.323333  1.323333  60.666667   \n",
       "4 2024-03-02 04:00:00   96.333333  1.356667  1.356667  1.356667  60.666667   \n",
       "\n",
       "   ground_press  wind_speed    wind_dir  rain  snow  \n",
       "0   1027.000000    8.306667  332.333333   0.0   0.0  \n",
       "1   1027.000000    8.043333  333.666667   0.0   0.0  \n",
       "2   1026.666667    7.626667  333.000000   0.0   0.0  \n",
       "3   1026.000000    7.310000  332.666667   0.0   0.0  \n",
       "4   1026.000000    7.076667  331.666667   0.0   0.0  "
      ]
     },
     "execution_count": 6,
     "metadata": {},
     "output_type": "execute_result"
    }
   ],
   "source": [
    "# 데이터 불러오기\n",
    "weather_forecast_2 = pd.read_csv(\"../../data_files/weather_forecast_2.csv\")\n",
    "\n",
    "# 'ts'를 datetime 형식으로 변환 후 1시간 단위로 맞추기\n",
    "weather_forecast_2['datetime'] = pd.to_datetime(weather_forecast_2['ts'], unit='s')\n",
    "weather_forecast_2['datetime'] = weather_forecast_2['datetime'].dt.round('h') + timedelta(hours=9)\n",
    "\n",
    "# 원래 'ts' 열과 'location' 제거, 'base_ts' 제거\n",
    "weather_forecast_2.drop(columns=['ts'], inplace=True)\n",
    "weather_forecast_2.drop(columns=['location'], inplace=True)\n",
    "weather_forecast_2.drop(columns=['base_ts'], inplace=True)\n",
    "\n",
    "# 1시간 단위로 그룹화하여 평균을 계산 (location을 제외한 모든 열)\n",
    "weather_forecast_2 = weather_forecast_2.groupby(['datetime'], as_index=False).mean()\n",
    " \n",
    "# 결과 확인\n",
    "weather_forecast_2.head()"
   ]
  },
  {
   "cell_type": "markdown",
   "metadata": {},
   "source": [
    "elec_supply"
   ]
  },
  {
   "cell_type": "code",
   "execution_count": 7,
   "metadata": {},
   "outputs": [
    {
     "data": {
      "text/html": [
       "<div>\n",
       "<style scoped>\n",
       "    .dataframe tbody tr th:only-of-type {\n",
       "        vertical-align: middle;\n",
       "    }\n",
       "\n",
       "    .dataframe tbody tr th {\n",
       "        vertical-align: top;\n",
       "    }\n",
       "\n",
       "    .dataframe thead th {\n",
       "        text-align: right;\n",
       "    }\n",
       "</style>\n",
       "<table border=\"1\" class=\"dataframe\">\n",
       "  <thead>\n",
       "    <tr style=\"text-align: right;\">\n",
       "      <th></th>\n",
       "      <th>datetime</th>\n",
       "      <th>공급능력(kW)</th>\n",
       "      <th>현재 수요(kW)</th>\n",
       "      <th>태양광 발전량kW)</th>\n",
       "      <th>풍력 발전량(kW)</th>\n",
       "      <th>신재생 발전량 총합(kW)</th>\n",
       "      <th>공급 예비력(kW)</th>\n",
       "      <th>운영 예비력(kW)</th>\n",
       "    </tr>\n",
       "  </thead>\n",
       "  <tbody>\n",
       "    <tr>\n",
       "      <th>0</th>\n",
       "      <td>2024-01-01 00:00:00</td>\n",
       "      <td>1.285000e+06</td>\n",
       "      <td>757500.000000</td>\n",
       "      <td>0.0</td>\n",
       "      <td>115593.233333</td>\n",
       "      <td>123350.666667</td>\n",
       "      <td>527166.666667</td>\n",
       "      <td>328500.000000</td>\n",
       "    </tr>\n",
       "    <tr>\n",
       "      <th>1</th>\n",
       "      <td>2024-01-01 01:00:00</td>\n",
       "      <td>1.238308e+06</td>\n",
       "      <td>727538.461538</td>\n",
       "      <td>0.0</td>\n",
       "      <td>68802.153846</td>\n",
       "      <td>77036.569231</td>\n",
       "      <td>510692.307692</td>\n",
       "      <td>312692.307692</td>\n",
       "    </tr>\n",
       "    <tr>\n",
       "      <th>2</th>\n",
       "      <td>2024-01-01 02:00:00</td>\n",
       "      <td>1.214818e+06</td>\n",
       "      <td>694090.909091</td>\n",
       "      <td>0.0</td>\n",
       "      <td>45923.181818</td>\n",
       "      <td>53740.109091</td>\n",
       "      <td>520727.272727</td>\n",
       "      <td>318545.454545</td>\n",
       "    </tr>\n",
       "    <tr>\n",
       "      <th>3</th>\n",
       "      <td>2024-01-01 03:00:00</td>\n",
       "      <td>1.207923e+06</td>\n",
       "      <td>672000.000000</td>\n",
       "      <td>0.0</td>\n",
       "      <td>38567.161538</td>\n",
       "      <td>46614.815385</td>\n",
       "      <td>536000.000000</td>\n",
       "      <td>291000.000000</td>\n",
       "    </tr>\n",
       "    <tr>\n",
       "      <th>4</th>\n",
       "      <td>2024-01-01 04:00:00</td>\n",
       "      <td>1.192364e+06</td>\n",
       "      <td>666000.000000</td>\n",
       "      <td>0.0</td>\n",
       "      <td>22849.272727</td>\n",
       "      <td>30575.990909</td>\n",
       "      <td>526363.636364</td>\n",
       "      <td>318272.727273</td>\n",
       "    </tr>\n",
       "  </tbody>\n",
       "</table>\n",
       "</div>"
      ],
      "text/plain": [
       "             datetime      공급능력(kW)      현재 수요(kW)  태양광 발전량kW)     풍력 발전량(kW)  \\\n",
       "0 2024-01-01 00:00:00  1.285000e+06  757500.000000         0.0  115593.233333   \n",
       "1 2024-01-01 01:00:00  1.238308e+06  727538.461538         0.0   68802.153846   \n",
       "2 2024-01-01 02:00:00  1.214818e+06  694090.909091         0.0   45923.181818   \n",
       "3 2024-01-01 03:00:00  1.207923e+06  672000.000000         0.0   38567.161538   \n",
       "4 2024-01-01 04:00:00  1.192364e+06  666000.000000         0.0   22849.272727   \n",
       "\n",
       "   신재생 발전량 총합(kW)     공급 예비력(kW)     운영 예비력(kW)  \n",
       "0   123350.666667  527166.666667  328500.000000  \n",
       "1    77036.569231  510692.307692  312692.307692  \n",
       "2    53740.109091  520727.272727  318545.454545  \n",
       "3    46614.815385  536000.000000  291000.000000  \n",
       "4    30575.990909  526363.636364  318272.727273  "
      ]
     },
     "execution_count": 7,
     "metadata": {},
     "output_type": "execute_result"
    }
   ],
   "source": [
    "# 데이터 불러오기\n",
    "elec_supply = pd.read_csv(\"../../data_files/elec_supply.csv\")\n",
    "\n",
    "# 'ts'를 datetime 형식으로 변환 후 1시간 단위로 맞추기\n",
    "elec_supply['datetime'] = pd.to_datetime(elec_supply['ts'], unit='s')\n",
    "elec_supply['datetime'] = elec_supply['datetime'].dt.round('h') + timedelta(hours=9)\n",
    "\n",
    "# 1시간 단위로 그룹화하여 평균을 계산\n",
    "elec_supply = elec_supply.groupby(['datetime'], as_index=False).mean()\n",
    "\n",
    "# 결과 확인\n",
    "elec_supply.drop(columns=['ts'], inplace=True)  # 원래 'ts' 열 제거\n",
    "elec_supply.head()"
   ]
  },
  {
   "cell_type": "markdown",
   "metadata": {},
   "source": [
    "smp_da"
   ]
  },
  {
   "cell_type": "code",
   "execution_count": 8,
   "metadata": {},
   "outputs": [
    {
     "data": {
      "text/html": [
       "<div>\n",
       "<style scoped>\n",
       "    .dataframe tbody tr th:only-of-type {\n",
       "        vertical-align: middle;\n",
       "    }\n",
       "\n",
       "    .dataframe tbody tr th {\n",
       "        vertical-align: top;\n",
       "    }\n",
       "\n",
       "    .dataframe thead th {\n",
       "        text-align: right;\n",
       "    }\n",
       "</style>\n",
       "<table border=\"1\" class=\"dataframe\">\n",
       "  <thead>\n",
       "    <tr style=\"text-align: right;\">\n",
       "      <th></th>\n",
       "      <th>하루전가격(원/kWh)</th>\n",
       "      <th>datetime</th>\n",
       "    </tr>\n",
       "  </thead>\n",
       "  <tbody>\n",
       "    <tr>\n",
       "      <th>0</th>\n",
       "      <td>107.39</td>\n",
       "      <td>2024-03-01 00:00:00</td>\n",
       "    </tr>\n",
       "    <tr>\n",
       "      <th>1</th>\n",
       "      <td>107.39</td>\n",
       "      <td>2024-03-01 01:00:00</td>\n",
       "    </tr>\n",
       "    <tr>\n",
       "      <th>2</th>\n",
       "      <td>95.30</td>\n",
       "      <td>2024-03-01 02:00:00</td>\n",
       "    </tr>\n",
       "    <tr>\n",
       "      <th>3</th>\n",
       "      <td>87.89</td>\n",
       "      <td>2024-03-01 03:00:00</td>\n",
       "    </tr>\n",
       "    <tr>\n",
       "      <th>4</th>\n",
       "      <td>0.00</td>\n",
       "      <td>2024-03-01 04:00:00</td>\n",
       "    </tr>\n",
       "  </tbody>\n",
       "</table>\n",
       "</div>"
      ],
      "text/plain": [
       "   하루전가격(원/kWh)            datetime\n",
       "0        107.39 2024-03-01 00:00:00\n",
       "1        107.39 2024-03-01 01:00:00\n",
       "2         95.30 2024-03-01 02:00:00\n",
       "3         87.89 2024-03-01 03:00:00\n",
       "4          0.00 2024-03-01 04:00:00"
      ]
     },
     "execution_count": 8,
     "metadata": {},
     "output_type": "execute_result"
    }
   ],
   "source": [
    "# 데이터 불러오기\n",
    "smp_da = pd.read_csv(\"../../data_files/smp_da.csv\")\n",
    "\n",
    "# 'ts'를 datetime 형식으로 변환 후 1시간 단위로 맞추기\n",
    "smp_da['datetime'] = pd.to_datetime(smp_da['ts'], unit='s') + timedelta(hours=9)\n",
    "\n",
    "# 결과 확인\n",
    "smp_da.drop(columns=['ts'], inplace=True)  # 원래 'ts' 열 제거\n",
    "smp_da.head()"
   ]
  },
  {
   "cell_type": "markdown",
   "metadata": {},
   "source": [
    "smp_rt_rc"
   ]
  },
  {
   "cell_type": "code",
   "execution_count": 9,
   "metadata": {},
   "outputs": [
    {
     "data": {
      "text/html": [
       "<div>\n",
       "<style scoped>\n",
       "    .dataframe tbody tr th:only-of-type {\n",
       "        vertical-align: middle;\n",
       "    }\n",
       "\n",
       "    .dataframe tbody tr th {\n",
       "        vertical-align: top;\n",
       "    }\n",
       "\n",
       "    .dataframe thead th {\n",
       "        text-align: right;\n",
       "    }\n",
       "</style>\n",
       "<table border=\"1\" class=\"dataframe\">\n",
       "  <thead>\n",
       "    <tr style=\"text-align: right;\">\n",
       "      <th></th>\n",
       "      <th>datetime</th>\n",
       "      <th>실시간 임시 가격(원/kWh)</th>\n",
       "      <th>실시간 확정 가격(원/kWh)</th>\n",
       "    </tr>\n",
       "  </thead>\n",
       "  <tbody>\n",
       "    <tr>\n",
       "      <th>0</th>\n",
       "      <td>2024-03-01 00:00:00</td>\n",
       "      <td>133.125</td>\n",
       "      <td>133.125</td>\n",
       "    </tr>\n",
       "    <tr>\n",
       "      <th>1</th>\n",
       "      <td>2024-03-01 01:00:00</td>\n",
       "      <td>115.160</td>\n",
       "      <td>115.160</td>\n",
       "    </tr>\n",
       "    <tr>\n",
       "      <th>2</th>\n",
       "      <td>2024-03-01 02:00:00</td>\n",
       "      <td>92.830</td>\n",
       "      <td>92.830</td>\n",
       "    </tr>\n",
       "    <tr>\n",
       "      <th>3</th>\n",
       "      <td>2024-03-01 03:00:00</td>\n",
       "      <td>87.334</td>\n",
       "      <td>87.334</td>\n",
       "    </tr>\n",
       "    <tr>\n",
       "      <th>4</th>\n",
       "      <td>2024-03-01 04:00:00</td>\n",
       "      <td>87.260</td>\n",
       "      <td>87.260</td>\n",
       "    </tr>\n",
       "  </tbody>\n",
       "</table>\n",
       "</div>"
      ],
      "text/plain": [
       "             datetime  실시간 임시 가격(원/kWh)  실시간 확정 가격(원/kWh)\n",
       "0 2024-03-01 00:00:00           133.125           133.125\n",
       "1 2024-03-01 01:00:00           115.160           115.160\n",
       "2 2024-03-01 02:00:00            92.830            92.830\n",
       "3 2024-03-01 03:00:00            87.334            87.334\n",
       "4 2024-03-01 04:00:00            87.260            87.260"
      ]
     },
     "execution_count": 9,
     "metadata": {},
     "output_type": "execute_result"
    }
   ],
   "source": [
    "# 데이터 불러오기\n",
    "smp_rt_rc = pd.read_csv(\"../../data_files/smp_rt_rc.csv\")\n",
    "\n",
    "# 'ts'를 datetime 형식으로 변환 후 1시간 단위로 맞추기\n",
    "smp_rt_rc['datetime'] = pd.to_datetime(smp_rt_rc['ts'], unit='s')\n",
    "smp_rt_rc['datetime'] = smp_rt_rc['datetime'].dt.round('h') + timedelta(hours=9)\n",
    "\n",
    "# 1시간 단위로 그룹화하여 평균을 계산\n",
    "smp_rt_rc = smp_rt_rc.groupby(['datetime'], as_index=False).mean()\n",
    "\n",
    "# 결과 확인\n",
    "smp_rt_rc.drop(columns=['ts'], inplace=True)  # 원래 'ts' 열 제거\n",
    "smp_rt_rc.head()"
   ]
  },
  {
   "cell_type": "markdown",
   "metadata": {},
   "source": [
    "##### X 데이터\n",
    "\n",
    "- 제주 기상 실측_1 (n+1)\n",
    "- 제주 기상 실측_2 (n+1)\n",
    "- 하루 전 시장 전기 예측 (n)\n",
    "- 제주 전력 시장 실시간 (n-1)\n",
    "- 제주 전력 시장 현황 (n-1)"
   ]
  },
  {
   "cell_type": "code",
   "execution_count": 10,
   "metadata": {},
   "outputs": [],
   "source": [
    "actual_weather_1\n",
    "actual_weather_2\n",
    "weather_forecast_1\n",
    "weather_forecast_2\n",
    "smp_da_x = smp_da.copy()\n",
    "smp_da_x['datetime'] += pd.Timedelta(days=1)\n",
    "smp_rt_rc['datetime'] += pd.Timedelta(days=2)\n",
    "elec_supply['datetime'] += pd.Timedelta(days=2)"
   ]
  },
  {
   "cell_type": "code",
   "execution_count": 11,
   "metadata": {},
   "outputs": [],
   "source": [
    "dfs = [actual_weather_1, actual_weather_2, smp_da_x, smp_rt_rc, elec_supply]\n",
    "\n",
    "X = reduce(lambda left, right: pd.merge(left, right, on='datetime', how='outer'), dfs)"
   ]
  },
  {
   "cell_type": "markdown",
   "metadata": {},
   "source": [
    "##### Y 데이터\n",
    "\n",
    "- 하루 전 시장 전기 예측 가격(n+1)"
   ]
  },
  {
   "cell_type": "code",
   "execution_count": 12,
   "metadata": {},
   "outputs": [],
   "source": [
    "Y = smp_da"
   ]
  },
  {
   "cell_type": "markdown",
   "metadata": {},
   "source": [
    "##### 날짜 설정"
   ]
  },
  {
   "cell_type": "code",
   "execution_count": 13,
   "metadata": {},
   "outputs": [],
   "source": [
    "target_date = {\n",
    "  # 최소 2024-03-04\n",
    "  \"train_start_date\": '2024-03-03',\n",
    "  # 최대 2024-10-22\n",
    "  \"train_end_date\": '2024-10-22',\n",
    "}"
   ]
  },
  {
   "cell_type": "code",
   "execution_count": 14,
   "metadata": {},
   "outputs": [],
   "source": [
    "X = X.loc[\n",
    "  (X['datetime'] > target_date['train_start_date']) &\n",
    "  (X['datetime'] <= target_date['train_end_date'])\n",
    "]"
   ]
  },
  {
   "cell_type": "code",
   "execution_count": 15,
   "metadata": {},
   "outputs": [],
   "source": [
    "Y = Y.loc[\n",
    "  (Y['datetime'] > target_date['train_start_date']) &\n",
    "  (Y['datetime'] <= target_date['train_end_date'])\n",
    "]"
   ]
  },
  {
   "cell_type": "code",
   "execution_count": 16,
   "metadata": {},
   "outputs": [],
   "source": [
    "targ = datetime.strptime(target_date['train_start_date'], '%Y-%m-%d') + timedelta(hours=1)\n",
    "endd = datetime.strptime(target_date['train_end_date'], '%Y-%m-%d')"
   ]
  },
  {
   "cell_type": "code",
   "execution_count": 17,
   "metadata": {},
   "outputs": [],
   "source": [
    "# X 데이터의 특정 시간이 누락되었기 때문에\n",
    "# Y 데이터에서도 누락된 시간대를 제거한다.\n",
    "\n",
    "while targ <= endd:\n",
    "  if not len(X.loc[X['datetime'] == targ]):\n",
    "    idx = Y[Y['datetime'] == targ].index\n",
    "    Y.drop(idx, inplace=True)\n",
    "  \n",
    "  targ = targ + timedelta(hours=1)"
   ]
  },
  {
   "cell_type": "markdown",
   "metadata": {},
   "source": [
    "데이터 확인"
   ]
  },
  {
   "cell_type": "code",
   "execution_count": 18,
   "metadata": {},
   "outputs": [
    {
     "data": {
      "text/html": [
       "<div>\n",
       "<style scoped>\n",
       "    .dataframe tbody tr th:only-of-type {\n",
       "        vertical-align: middle;\n",
       "    }\n",
       "\n",
       "    .dataframe tbody tr th {\n",
       "        vertical-align: top;\n",
       "    }\n",
       "\n",
       "    .dataframe thead th {\n",
       "        text-align: right;\n",
       "    }\n",
       "</style>\n",
       "<table border=\"1\" class=\"dataframe\">\n",
       "  <thead>\n",
       "    <tr style=\"text-align: right;\">\n",
       "      <th></th>\n",
       "      <th>datetime</th>\n",
       "      <th>temp_x</th>\n",
       "      <th>real_feel_temp</th>\n",
       "      <th>rel_hum</th>\n",
       "      <th>dew_point</th>\n",
       "      <th>wind_dir_x</th>\n",
       "      <th>wind_spd</th>\n",
       "      <th>wind_gust_spd</th>\n",
       "      <th>uv_idx</th>\n",
       "      <th>vis</th>\n",
       "      <th>...</th>\n",
       "      <th>하루전가격(원/kWh)</th>\n",
       "      <th>실시간 임시 가격(원/kWh)</th>\n",
       "      <th>실시간 확정 가격(원/kWh)</th>\n",
       "      <th>공급능력(kW)</th>\n",
       "      <th>현재 수요(kW)</th>\n",
       "      <th>태양광 발전량kW)</th>\n",
       "      <th>풍력 발전량(kW)</th>\n",
       "      <th>신재생 발전량 총합(kW)</th>\n",
       "      <th>공급 예비력(kW)</th>\n",
       "      <th>운영 예비력(kW)</th>\n",
       "    </tr>\n",
       "  </thead>\n",
       "  <tbody>\n",
       "    <tr>\n",
       "      <th>1441</th>\n",
       "      <td>2024-03-03 01:00:00</td>\n",
       "      <td>4.962500</td>\n",
       "      <td>1.650000</td>\n",
       "      <td>56.125000</td>\n",
       "      <td>-3.112500</td>\n",
       "      <td>246.375000</td>\n",
       "      <td>16.912500</td>\n",
       "      <td>24.993750</td>\n",
       "      <td>0.0</td>\n",
       "      <td>25.937500</td>\n",
       "      <td>...</td>\n",
       "      <td>138.50</td>\n",
       "      <td>115.160</td>\n",
       "      <td>115.160</td>\n",
       "      <td>1.367154e+06</td>\n",
       "      <td>764692.307692</td>\n",
       "      <td>0.0</td>\n",
       "      <td>213928.384615</td>\n",
       "      <td>229070.230769</td>\n",
       "      <td>602692.307692</td>\n",
       "      <td>279846.153846</td>\n",
       "    </tr>\n",
       "    <tr>\n",
       "      <th>1442</th>\n",
       "      <td>2024-03-03 02:00:00</td>\n",
       "      <td>4.836364</td>\n",
       "      <td>0.918182</td>\n",
       "      <td>57.727273</td>\n",
       "      <td>-2.918182</td>\n",
       "      <td>245.727273</td>\n",
       "      <td>18.227273</td>\n",
       "      <td>22.754545</td>\n",
       "      <td>0.0</td>\n",
       "      <td>25.027273</td>\n",
       "      <td>...</td>\n",
       "      <td>99.48</td>\n",
       "      <td>92.830</td>\n",
       "      <td>92.830</td>\n",
       "      <td>1.389455e+06</td>\n",
       "      <td>736818.181818</td>\n",
       "      <td>0.0</td>\n",
       "      <td>234674.181818</td>\n",
       "      <td>249718.181818</td>\n",
       "      <td>652636.363636</td>\n",
       "      <td>328090.909091</td>\n",
       "    </tr>\n",
       "    <tr>\n",
       "      <th>1443</th>\n",
       "      <td>2024-03-03 03:00:00</td>\n",
       "      <td>4.666667</td>\n",
       "      <td>1.811111</td>\n",
       "      <td>57.777778</td>\n",
       "      <td>-3.011111</td>\n",
       "      <td>250.222222</td>\n",
       "      <td>15.344444</td>\n",
       "      <td>20.266667</td>\n",
       "      <td>0.0</td>\n",
       "      <td>23.255556</td>\n",
       "      <td>...</td>\n",
       "      <td>95.38</td>\n",
       "      <td>87.334</td>\n",
       "      <td>87.334</td>\n",
       "      <td>1.370923e+06</td>\n",
       "      <td>733461.538462</td>\n",
       "      <td>0.0</td>\n",
       "      <td>216275.153846</td>\n",
       "      <td>231237.153846</td>\n",
       "      <td>637384.615385</td>\n",
       "      <td>312538.461538</td>\n",
       "    </tr>\n",
       "    <tr>\n",
       "      <th>1444</th>\n",
       "      <td>2024-03-03 04:00:00</td>\n",
       "      <td>4.910000</td>\n",
       "      <td>1.240000</td>\n",
       "      <td>58.400000</td>\n",
       "      <td>-2.670000</td>\n",
       "      <td>256.600000</td>\n",
       "      <td>18.270000</td>\n",
       "      <td>28.230000</td>\n",
       "      <td>0.0</td>\n",
       "      <td>26.060000</td>\n",
       "      <td>...</td>\n",
       "      <td>91.24</td>\n",
       "      <td>87.260</td>\n",
       "      <td>87.260</td>\n",
       "      <td>1.378545e+06</td>\n",
       "      <td>744000.000000</td>\n",
       "      <td>0.0</td>\n",
       "      <td>223340.090909</td>\n",
       "      <td>238393.363636</td>\n",
       "      <td>634818.181818</td>\n",
       "      <td>309636.363636</td>\n",
       "    </tr>\n",
       "    <tr>\n",
       "      <th>1445</th>\n",
       "      <td>2024-03-03 05:00:00</td>\n",
       "      <td>5.516667</td>\n",
       "      <td>2.708333</td>\n",
       "      <td>56.833333</td>\n",
       "      <td>-2.525000</td>\n",
       "      <td>257.083333</td>\n",
       "      <td>16.166667</td>\n",
       "      <td>19.816667</td>\n",
       "      <td>0.0</td>\n",
       "      <td>22.541667</td>\n",
       "      <td>...</td>\n",
       "      <td>91.24</td>\n",
       "      <td>93.352</td>\n",
       "      <td>93.352</td>\n",
       "      <td>1.391462e+06</td>\n",
       "      <td>756538.461538</td>\n",
       "      <td>0.0</td>\n",
       "      <td>235738.000000</td>\n",
       "      <td>250772.615385</td>\n",
       "      <td>634923.076923</td>\n",
       "      <td>308615.384615</td>\n",
       "    </tr>\n",
       "  </tbody>\n",
       "</table>\n",
       "<p>5 rows × 34 columns</p>\n",
       "</div>"
      ],
      "text/plain": [
       "                datetime    temp_x  real_feel_temp    rel_hum  dew_point  \\\n",
       "1441 2024-03-03 01:00:00  4.962500        1.650000  56.125000  -3.112500   \n",
       "1442 2024-03-03 02:00:00  4.836364        0.918182  57.727273  -2.918182   \n",
       "1443 2024-03-03 03:00:00  4.666667        1.811111  57.777778  -3.011111   \n",
       "1444 2024-03-03 04:00:00  4.910000        1.240000  58.400000  -2.670000   \n",
       "1445 2024-03-03 05:00:00  5.516667        2.708333  56.833333  -2.525000   \n",
       "\n",
       "      wind_dir_x   wind_spd  wind_gust_spd  uv_idx        vis  ...  \\\n",
       "1441  246.375000  16.912500      24.993750     0.0  25.937500  ...   \n",
       "1442  245.727273  18.227273      22.754545     0.0  25.027273  ...   \n",
       "1443  250.222222  15.344444      20.266667     0.0  23.255556  ...   \n",
       "1444  256.600000  18.270000      28.230000     0.0  26.060000  ...   \n",
       "1445  257.083333  16.166667      19.816667     0.0  22.541667  ...   \n",
       "\n",
       "      하루전가격(원/kWh)  실시간 임시 가격(원/kWh)  실시간 확정 가격(원/kWh)      공급능력(kW)  \\\n",
       "1441        138.50           115.160           115.160  1.367154e+06   \n",
       "1442         99.48            92.830            92.830  1.389455e+06   \n",
       "1443         95.38            87.334            87.334  1.370923e+06   \n",
       "1444         91.24            87.260            87.260  1.378545e+06   \n",
       "1445         91.24            93.352            93.352  1.391462e+06   \n",
       "\n",
       "          현재 수요(kW)  태양광 발전량kW)     풍력 발전량(kW)  신재생 발전량 총합(kW)     공급 예비력(kW)  \\\n",
       "1441  764692.307692         0.0  213928.384615   229070.230769  602692.307692   \n",
       "1442  736818.181818         0.0  234674.181818   249718.181818  652636.363636   \n",
       "1443  733461.538462         0.0  216275.153846   231237.153846  637384.615385   \n",
       "1444  744000.000000         0.0  223340.090909   238393.363636  634818.181818   \n",
       "1445  756538.461538         0.0  235738.000000   250772.615385  634923.076923   \n",
       "\n",
       "         운영 예비력(kW)  \n",
       "1441  279846.153846  \n",
       "1442  328090.909091  \n",
       "1443  312538.461538  \n",
       "1444  309636.363636  \n",
       "1445  308615.384615  \n",
       "\n",
       "[5 rows x 34 columns]"
      ]
     },
     "execution_count": 18,
     "metadata": {},
     "output_type": "execute_result"
    }
   ],
   "source": [
    "X.head()"
   ]
  },
  {
   "cell_type": "code",
   "execution_count": 19,
   "metadata": {},
   "outputs": [
    {
     "data": {
      "text/plain": [
       "(5592, 5592)"
      ]
     },
     "execution_count": 19,
     "metadata": {},
     "output_type": "execute_result"
    }
   ],
   "source": [
    "len(X), len(Y)"
   ]
  },
  {
   "cell_type": "markdown",
   "metadata": {},
   "source": [
    "## 파이토치 모델 학습"
   ]
  },
  {
   "cell_type": "markdown",
   "metadata": {},
   "source": [
    "### 모델 구성"
   ]
  },
  {
   "cell_type": "code",
   "execution_count": 20,
   "metadata": {},
   "outputs": [
    {
     "name": "stdout",
     "output_type": "stream",
     "text": [
      "NVIDIA GeForce GTX 1650\n",
      "2.5.0+cu118\n",
      "11.8\n",
      "tensor([0.5791], device='cuda:0')\n"
     ]
    },
    {
     "data": {
      "text/plain": [
       "device(type='cuda', index=0)"
      ]
     },
     "execution_count": 20,
     "metadata": {},
     "output_type": "execute_result"
    }
   ],
   "source": [
    "if torch.cuda.is_available():\n",
    "  print(torch.cuda.get_device_name())\n",
    "  print(torch.__version__)\n",
    "  print(torch.version.cuda)\n",
    "  x = torch.randn(1).cuda()\n",
    "  print(x)\n",
    "\n",
    "device = torch.device(\"cuda:0\" if torch.cuda.is_available() else \"cpu\")\n",
    "device"
   ]
  },
  {
   "cell_type": "markdown",
   "metadata": {},
   "source": [
    "##### Dataset & dataloader 구성"
   ]
  },
  {
   "cell_type": "code",
   "execution_count": 21,
   "metadata": {},
   "outputs": [],
   "source": [
    "dataset = ElecDataset(X, Y)\n",
    "\n",
    "dataloader = DataLoader(dataset=dataset,\n",
    "                        batch_size=32,\n",
    "                        shuffle=True,\n",
    "                        drop_last=False)"
   ]
  },
  {
   "cell_type": "markdown",
   "metadata": {},
   "source": [
    "### Custom Loss"
   ]
  },
  {
   "cell_type": "code",
   "execution_count": 22,
   "metadata": {},
   "outputs": [],
   "source": [
    "def customloss(predict, y):#학습용\n",
    "    predict = predict.squeeze()\n",
    "\n",
    "    e1 = torch.zeros_like(y)\n",
    "    e2 = torch.zeros_like(y)\n",
    "    accuracy = torch.zeros_like(y, dtype=torch.bool)\n",
    "\n",
    "    positive_mask = y > 0\n",
    "    negative_mask = y <= 0\n",
    "\n",
    "    e1_mask = y > 0  # y > 0인 부분 마스크\n",
    "    e2_mask = y < -1  # y <= 0인 부분 마스크\n",
    "    e2_adjusted_mask = (y <= 0) & (y >= -1)\n",
    "    # 각 마스크 조건에 맞는 부분에 대해서만 e1, e2를 계산합니다.\n",
    "    # e1과 e2에서 분모에 작은 상수를 추가하여 0으로 나누는 것을 방지\n",
    "    e1[e1_mask] = torch.abs((y[e1_mask] - predict[e1_mask]) / (y[e1_mask]))\n",
    "    e2[e2_mask] = torch.abs((y[e2_mask] - predict[e2_mask]) / (-y[e2_mask]))\n",
    "    e2[e2_adjusted_mask] = torch.abs((y[e2_adjusted_mask] - predict[e2_adjusted_mask]) / (-1))\n",
    "\n",
    "    accuracy[positive_mask] = (predict[positive_mask] > 0)\n",
    "    accuracy[negative_mask] = (predict[negative_mask] <= 0)\n",
    "\n",
    "    e1_mean = e1[e1 != 0].mean() if (e1 != 0).any() else torch.tensor(0.0)\n",
    "    e2_mean = e2[e2 != 0].mean() if (e2 != 0).any() else torch.tensor(0.0)\n",
    "\n",
    "    accuracy_mean = accuracy.float().mean()\n",
    "\n",
    "    e_F = 0.2 * e1_mean + 0.8 * e2_mean - (accuracy_mean - 0.95)\n",
    "    if e_F<0:\n",
    "      e_F=0\n",
    "    e_F_square = e_F**2\n",
    "    mse_loss = torch.mean((y - predict)**2)\n",
    "\n",
    "    loss_new = 0\n",
    "    if predict.mean()>140:\n",
    "      loss_new += predict.mean()-140\n",
    "\n",
    "    loss_new = loss_new ** 2\n",
    "\n",
    "    return e_F_square*10+mse_loss+loss_new"
   ]
  },
  {
   "cell_type": "markdown",
   "metadata": {},
   "source": [
    "### 학습"
   ]
  },
  {
   "cell_type": "markdown",
   "metadata": {},
   "source": [
    "##### 하이퍼 파라미터"
   ]
  },
  {
   "cell_type": "code",
   "execution_count": 23,
   "metadata": {},
   "outputs": [],
   "source": [
    "learning_rate = 0.0003\n",
    "epoches=100\n",
    "\n",
    "input_size = len(X.columns) - 1  # Number of input features\n",
    "output_size = 1  # Single output\n",
    "\n",
    "model = NeuralNetwork(input_size, output_size)\n",
    "\n",
    "criterion = customloss\n",
    "optimizer = torch.optim.Adam(model.parameters(), lr=learning_rate)"
   ]
  },
  {
   "cell_type": "code",
   "execution_count": 24,
   "metadata": {},
   "outputs": [
    {
     "name": "stderr",
     "output_type": "stream",
     "text": [
      "100%|█████████████████████████████████████████████████████████████| 175/175 [00:11<00:00, 15.43it/s]\n"
     ]
    },
    {
     "name": "stdout",
     "output_type": "stream",
     "text": [
      "Epoch [1/100], Loss: 14365.0459\n"
     ]
    },
    {
     "name": "stderr",
     "output_type": "stream",
     "text": [
      "100%|█████████████████████████████████████████████████████████████| 175/175 [00:11<00:00, 14.96it/s]\n"
     ]
    },
    {
     "name": "stdout",
     "output_type": "stream",
     "text": [
      "Epoch [2/100], Loss: 11300.8253\n"
     ]
    },
    {
     "name": "stderr",
     "output_type": "stream",
     "text": [
      "100%|█████████████████████████████████████████████████████████████| 175/175 [00:11<00:00, 14.94it/s]\n"
     ]
    },
    {
     "name": "stdout",
     "output_type": "stream",
     "text": [
      "Epoch [3/100], Loss: 7742.6525\n"
     ]
    },
    {
     "name": "stderr",
     "output_type": "stream",
     "text": [
      "100%|█████████████████████████████████████████████████████████████| 175/175 [00:11<00:00, 14.67it/s]\n"
     ]
    },
    {
     "name": "stdout",
     "output_type": "stream",
     "text": [
      "Epoch [4/100], Loss: 7107.5915\n"
     ]
    },
    {
     "name": "stderr",
     "output_type": "stream",
     "text": [
      "100%|█████████████████████████████████████████████████████████████| 175/175 [00:12<00:00, 14.52it/s]\n"
     ]
    },
    {
     "name": "stdout",
     "output_type": "stream",
     "text": [
      "Epoch [5/100], Loss: 5677.4609\n"
     ]
    },
    {
     "name": "stderr",
     "output_type": "stream",
     "text": [
      "100%|█████████████████████████████████████████████████████████████| 175/175 [00:12<00:00, 14.28it/s]\n"
     ]
    },
    {
     "name": "stdout",
     "output_type": "stream",
     "text": [
      "Epoch [6/100], Loss: 4679.8305\n"
     ]
    },
    {
     "name": "stderr",
     "output_type": "stream",
     "text": [
      "100%|█████████████████████████████████████████████████████████████| 175/175 [00:14<00:00, 12.44it/s]\n"
     ]
    },
    {
     "name": "stdout",
     "output_type": "stream",
     "text": [
      "Epoch [7/100], Loss: 5898.1618\n"
     ]
    },
    {
     "name": "stderr",
     "output_type": "stream",
     "text": [
      "100%|█████████████████████████████████████████████████████████████| 175/175 [00:12<00:00, 13.74it/s]\n"
     ]
    },
    {
     "name": "stdout",
     "output_type": "stream",
     "text": [
      "Epoch [8/100], Loss: 5516.3445\n"
     ]
    },
    {
     "name": "stderr",
     "output_type": "stream",
     "text": [
      "100%|█████████████████████████████████████████████████████████████| 175/175 [00:11<00:00, 14.62it/s]\n"
     ]
    },
    {
     "name": "stdout",
     "output_type": "stream",
     "text": [
      "Epoch [9/100], Loss: 5231.8939\n"
     ]
    },
    {
     "name": "stderr",
     "output_type": "stream",
     "text": [
      "100%|█████████████████████████████████████████████████████████████| 175/175 [00:11<00:00, 14.59it/s]\n"
     ]
    },
    {
     "name": "stdout",
     "output_type": "stream",
     "text": [
      "Epoch [10/100], Loss: 4262.7460\n"
     ]
    },
    {
     "name": "stderr",
     "output_type": "stream",
     "text": [
      "100%|█████████████████████████████████████████████████████████████| 175/175 [00:12<00:00, 14.05it/s]\n"
     ]
    },
    {
     "name": "stdout",
     "output_type": "stream",
     "text": [
      "Epoch [11/100], Loss: 3910.5467\n"
     ]
    },
    {
     "name": "stderr",
     "output_type": "stream",
     "text": [
      "100%|█████████████████████████████████████████████████████████████| 175/175 [00:11<00:00, 14.78it/s]\n"
     ]
    },
    {
     "name": "stdout",
     "output_type": "stream",
     "text": [
      "Epoch [12/100], Loss: 3895.1104\n"
     ]
    },
    {
     "name": "stderr",
     "output_type": "stream",
     "text": [
      "100%|█████████████████████████████████████████████████████████████| 175/175 [00:12<00:00, 14.38it/s]\n"
     ]
    },
    {
     "name": "stdout",
     "output_type": "stream",
     "text": [
      "Epoch [13/100], Loss: 3928.5284\n"
     ]
    },
    {
     "name": "stderr",
     "output_type": "stream",
     "text": [
      "100%|█████████████████████████████████████████████████████████████| 175/175 [00:11<00:00, 14.60it/s]\n"
     ]
    },
    {
     "name": "stdout",
     "output_type": "stream",
     "text": [
      "Epoch [14/100], Loss: 3531.6598\n"
     ]
    },
    {
     "name": "stderr",
     "output_type": "stream",
     "text": [
      "100%|█████████████████████████████████████████████████████████████| 175/175 [00:11<00:00, 14.71it/s]\n"
     ]
    },
    {
     "name": "stdout",
     "output_type": "stream",
     "text": [
      "Epoch [15/100], Loss: 3801.4162\n"
     ]
    },
    {
     "name": "stderr",
     "output_type": "stream",
     "text": [
      "100%|█████████████████████████████████████████████████████████████| 175/175 [00:11<00:00, 14.92it/s]\n"
     ]
    },
    {
     "name": "stdout",
     "output_type": "stream",
     "text": [
      "Epoch [16/100], Loss: 3234.7421\n"
     ]
    },
    {
     "name": "stderr",
     "output_type": "stream",
     "text": [
      "100%|█████████████████████████████████████████████████████████████| 175/175 [00:12<00:00, 14.48it/s]\n"
     ]
    },
    {
     "name": "stdout",
     "output_type": "stream",
     "text": [
      "Epoch [17/100], Loss: 3664.4216\n"
     ]
    },
    {
     "name": "stderr",
     "output_type": "stream",
     "text": [
      "100%|█████████████████████████████████████████████████████████████| 175/175 [00:11<00:00, 14.77it/s]\n"
     ]
    },
    {
     "name": "stdout",
     "output_type": "stream",
     "text": [
      "Epoch [18/100], Loss: 4269.7112\n"
     ]
    },
    {
     "name": "stderr",
     "output_type": "stream",
     "text": [
      "100%|█████████████████████████████████████████████████████████████| 175/175 [00:11<00:00, 14.72it/s]\n"
     ]
    },
    {
     "name": "stdout",
     "output_type": "stream",
     "text": [
      "Epoch [19/100], Loss: 3202.6370\n"
     ]
    },
    {
     "name": "stderr",
     "output_type": "stream",
     "text": [
      "100%|█████████████████████████████████████████████████████████████| 175/175 [00:12<00:00, 14.19it/s]\n"
     ]
    },
    {
     "name": "stdout",
     "output_type": "stream",
     "text": [
      "Epoch [20/100], Loss: 3531.9074\n"
     ]
    },
    {
     "name": "stderr",
     "output_type": "stream",
     "text": [
      "100%|█████████████████████████████████████████████████████████████| 175/175 [00:12<00:00, 14.51it/s]\n"
     ]
    },
    {
     "name": "stdout",
     "output_type": "stream",
     "text": [
      "Epoch [21/100], Loss: 3575.0356\n"
     ]
    },
    {
     "name": "stderr",
     "output_type": "stream",
     "text": [
      "100%|█████████████████████████████████████████████████████████████| 175/175 [00:11<00:00, 14.83it/s]\n"
     ]
    },
    {
     "name": "stdout",
     "output_type": "stream",
     "text": [
      "Epoch [22/100], Loss: 2579.5428\n"
     ]
    },
    {
     "name": "stderr",
     "output_type": "stream",
     "text": [
      "100%|█████████████████████████████████████████████████████████████| 175/175 [00:11<00:00, 14.73it/s]\n"
     ]
    },
    {
     "name": "stdout",
     "output_type": "stream",
     "text": [
      "Epoch [23/100], Loss: 2830.4418\n"
     ]
    },
    {
     "name": "stderr",
     "output_type": "stream",
     "text": [
      "100%|█████████████████████████████████████████████████████████████| 175/175 [00:12<00:00, 14.45it/s]\n"
     ]
    },
    {
     "name": "stdout",
     "output_type": "stream",
     "text": [
      "Epoch [24/100], Loss: 3534.4492\n"
     ]
    },
    {
     "name": "stderr",
     "output_type": "stream",
     "text": [
      "100%|█████████████████████████████████████████████████████████████| 175/175 [00:11<00:00, 14.77it/s]\n"
     ]
    },
    {
     "name": "stdout",
     "output_type": "stream",
     "text": [
      "Epoch [25/100], Loss: 2918.7400\n"
     ]
    },
    {
     "name": "stderr",
     "output_type": "stream",
     "text": [
      "100%|█████████████████████████████████████████████████████████████| 175/175 [00:11<00:00, 14.60it/s]\n"
     ]
    },
    {
     "name": "stdout",
     "output_type": "stream",
     "text": [
      "Epoch [26/100], Loss: 2286.7955\n"
     ]
    },
    {
     "name": "stderr",
     "output_type": "stream",
     "text": [
      "100%|█████████████████████████████████████████████████████████████| 175/175 [00:11<00:00, 14.77it/s]\n"
     ]
    },
    {
     "name": "stdout",
     "output_type": "stream",
     "text": [
      "Epoch [27/100], Loss: 3193.7553\n"
     ]
    },
    {
     "name": "stderr",
     "output_type": "stream",
     "text": [
      "100%|█████████████████████████████████████████████████████████████| 175/175 [00:11<00:00, 14.83it/s]\n"
     ]
    },
    {
     "name": "stdout",
     "output_type": "stream",
     "text": [
      "Epoch [28/100], Loss: 2896.9069\n"
     ]
    },
    {
     "name": "stderr",
     "output_type": "stream",
     "text": [
      "100%|█████████████████████████████████████████████████████████████| 175/175 [00:11<00:00, 14.97it/s]\n"
     ]
    },
    {
     "name": "stdout",
     "output_type": "stream",
     "text": [
      "Epoch [29/100], Loss: 3609.8849\n"
     ]
    },
    {
     "name": "stderr",
     "output_type": "stream",
     "text": [
      "100%|█████████████████████████████████████████████████████████████| 175/175 [00:11<00:00, 14.70it/s]\n"
     ]
    },
    {
     "name": "stdout",
     "output_type": "stream",
     "text": [
      "Epoch [30/100], Loss: 3566.1689\n"
     ]
    },
    {
     "name": "stderr",
     "output_type": "stream",
     "text": [
      "100%|█████████████████████████████████████████████████████████████| 175/175 [00:11<00:00, 14.87it/s]\n"
     ]
    },
    {
     "name": "stdout",
     "output_type": "stream",
     "text": [
      "Epoch [31/100], Loss: 2257.3104\n"
     ]
    },
    {
     "name": "stderr",
     "output_type": "stream",
     "text": [
      "100%|█████████████████████████████████████████████████████████████| 175/175 [00:11<00:00, 14.94it/s]\n"
     ]
    },
    {
     "name": "stdout",
     "output_type": "stream",
     "text": [
      "Epoch [32/100], Loss: 2874.6504\n"
     ]
    },
    {
     "name": "stderr",
     "output_type": "stream",
     "text": [
      "100%|█████████████████████████████████████████████████████████████| 175/175 [00:11<00:00, 14.81it/s]\n"
     ]
    },
    {
     "name": "stdout",
     "output_type": "stream",
     "text": [
      "Epoch [33/100], Loss: 2643.2239\n"
     ]
    },
    {
     "name": "stderr",
     "output_type": "stream",
     "text": [
      "100%|█████████████████████████████████████████████████████████████| 175/175 [00:11<00:00, 14.98it/s]\n"
     ]
    },
    {
     "name": "stdout",
     "output_type": "stream",
     "text": [
      "Epoch [34/100], Loss: 2819.4951\n"
     ]
    },
    {
     "name": "stderr",
     "output_type": "stream",
     "text": [
      "100%|█████████████████████████████████████████████████████████████| 175/175 [00:11<00:00, 14.83it/s]\n"
     ]
    },
    {
     "name": "stdout",
     "output_type": "stream",
     "text": [
      "Epoch [35/100], Loss: 2807.4831\n"
     ]
    },
    {
     "name": "stderr",
     "output_type": "stream",
     "text": [
      "100%|█████████████████████████████████████████████████████████████| 175/175 [00:11<00:00, 14.99it/s]\n"
     ]
    },
    {
     "name": "stdout",
     "output_type": "stream",
     "text": [
      "Epoch [36/100], Loss: 2372.2694\n"
     ]
    },
    {
     "name": "stderr",
     "output_type": "stream",
     "text": [
      "100%|█████████████████████████████████████████████████████████████| 175/175 [00:11<00:00, 14.72it/s]\n"
     ]
    },
    {
     "name": "stdout",
     "output_type": "stream",
     "text": [
      "Epoch [37/100], Loss: 2802.2642\n"
     ]
    },
    {
     "name": "stderr",
     "output_type": "stream",
     "text": [
      "100%|█████████████████████████████████████████████████████████████| 175/175 [00:11<00:00, 14.67it/s]\n"
     ]
    },
    {
     "name": "stdout",
     "output_type": "stream",
     "text": [
      "Epoch [38/100], Loss: 3318.0511\n"
     ]
    },
    {
     "name": "stderr",
     "output_type": "stream",
     "text": [
      "100%|█████████████████████████████████████████████████████████████| 175/175 [00:11<00:00, 14.75it/s]\n"
     ]
    },
    {
     "name": "stdout",
     "output_type": "stream",
     "text": [
      "Epoch [39/100], Loss: 2547.8286\n"
     ]
    },
    {
     "name": "stderr",
     "output_type": "stream",
     "text": [
      "100%|█████████████████████████████████████████████████████████████| 175/175 [00:11<00:00, 14.62it/s]\n"
     ]
    },
    {
     "name": "stdout",
     "output_type": "stream",
     "text": [
      "Epoch [40/100], Loss: 2511.9983\n"
     ]
    },
    {
     "name": "stderr",
     "output_type": "stream",
     "text": [
      "100%|█████████████████████████████████████████████████████████████| 175/175 [00:11<00:00, 14.59it/s]\n"
     ]
    },
    {
     "name": "stdout",
     "output_type": "stream",
     "text": [
      "Epoch [41/100], Loss: 2783.4555\n"
     ]
    },
    {
     "name": "stderr",
     "output_type": "stream",
     "text": [
      "100%|█████████████████████████████████████████████████████████████| 175/175 [00:12<00:00, 14.55it/s]\n"
     ]
    },
    {
     "name": "stdout",
     "output_type": "stream",
     "text": [
      "Epoch [42/100], Loss: 2795.1616\n"
     ]
    },
    {
     "name": "stderr",
     "output_type": "stream",
     "text": [
      "100%|█████████████████████████████████████████████████████████████| 175/175 [00:12<00:00, 14.34it/s]\n"
     ]
    },
    {
     "name": "stdout",
     "output_type": "stream",
     "text": [
      "Epoch [43/100], Loss: 2071.1391\n"
     ]
    },
    {
     "name": "stderr",
     "output_type": "stream",
     "text": [
      "100%|█████████████████████████████████████████████████████████████| 175/175 [00:12<00:00, 14.20it/s]\n"
     ]
    },
    {
     "name": "stdout",
     "output_type": "stream",
     "text": [
      "Epoch [44/100], Loss: 1929.7665\n"
     ]
    },
    {
     "name": "stderr",
     "output_type": "stream",
     "text": [
      "100%|█████████████████████████████████████████████████████████████| 175/175 [00:13<00:00, 13.29it/s]\n"
     ]
    },
    {
     "name": "stdout",
     "output_type": "stream",
     "text": [
      "Epoch [45/100], Loss: 2265.2255\n"
     ]
    },
    {
     "name": "stderr",
     "output_type": "stream",
     "text": [
      "100%|█████████████████████████████████████████████████████████████| 175/175 [00:12<00:00, 13.50it/s]\n"
     ]
    },
    {
     "name": "stdout",
     "output_type": "stream",
     "text": [
      "Epoch [46/100], Loss: 1897.3603\n"
     ]
    },
    {
     "name": "stderr",
     "output_type": "stream",
     "text": [
      "100%|█████████████████████████████████████████████████████████████| 175/175 [00:12<00:00, 13.92it/s]\n"
     ]
    },
    {
     "name": "stdout",
     "output_type": "stream",
     "text": [
      "Epoch [47/100], Loss: 2335.4635\n"
     ]
    },
    {
     "name": "stderr",
     "output_type": "stream",
     "text": [
      "100%|█████████████████████████████████████████████████████████████| 175/175 [00:12<00:00, 14.09it/s]\n"
     ]
    },
    {
     "name": "stdout",
     "output_type": "stream",
     "text": [
      "Epoch [48/100], Loss: 2865.2130\n"
     ]
    },
    {
     "name": "stderr",
     "output_type": "stream",
     "text": [
      "100%|█████████████████████████████████████████████████████████████| 175/175 [00:12<00:00, 14.20it/s]\n"
     ]
    },
    {
     "name": "stdout",
     "output_type": "stream",
     "text": [
      "Epoch [49/100], Loss: 2321.0390\n"
     ]
    },
    {
     "name": "stderr",
     "output_type": "stream",
     "text": [
      "100%|█████████████████████████████████████████████████████████████| 175/175 [00:12<00:00, 13.78it/s]\n"
     ]
    },
    {
     "name": "stdout",
     "output_type": "stream",
     "text": [
      "Epoch [50/100], Loss: 2330.0004\n"
     ]
    },
    {
     "name": "stderr",
     "output_type": "stream",
     "text": [
      "100%|█████████████████████████████████████████████████████████████| 175/175 [00:12<00:00, 13.96it/s]\n"
     ]
    },
    {
     "name": "stdout",
     "output_type": "stream",
     "text": [
      "Epoch [51/100], Loss: 1873.7334\n"
     ]
    },
    {
     "name": "stderr",
     "output_type": "stream",
     "text": [
      "100%|█████████████████████████████████████████████████████████████| 175/175 [00:12<00:00, 13.50it/s]\n"
     ]
    },
    {
     "name": "stdout",
     "output_type": "stream",
     "text": [
      "Epoch [52/100], Loss: 1829.5154\n"
     ]
    },
    {
     "name": "stderr",
     "output_type": "stream",
     "text": [
      "100%|█████████████████████████████████████████████████████████████| 175/175 [00:13<00:00, 13.32it/s]\n"
     ]
    },
    {
     "name": "stdout",
     "output_type": "stream",
     "text": [
      "Epoch [53/100], Loss: 1821.9883\n"
     ]
    },
    {
     "name": "stderr",
     "output_type": "stream",
     "text": [
      "100%|█████████████████████████████████████████████████████████████| 175/175 [00:12<00:00, 13.84it/s]\n"
     ]
    },
    {
     "name": "stdout",
     "output_type": "stream",
     "text": [
      "Epoch [54/100], Loss: 2264.6742\n"
     ]
    },
    {
     "name": "stderr",
     "output_type": "stream",
     "text": [
      "100%|█████████████████████████████████████████████████████████████| 175/175 [00:12<00:00, 13.86it/s]\n"
     ]
    },
    {
     "name": "stdout",
     "output_type": "stream",
     "text": [
      "Epoch [55/100], Loss: 1835.9575\n"
     ]
    },
    {
     "name": "stderr",
     "output_type": "stream",
     "text": [
      "100%|█████████████████████████████████████████████████████████████| 175/175 [00:12<00:00, 13.50it/s]\n"
     ]
    },
    {
     "name": "stdout",
     "output_type": "stream",
     "text": [
      "Epoch [56/100], Loss: 1671.6462\n"
     ]
    },
    {
     "name": "stderr",
     "output_type": "stream",
     "text": [
      "100%|█████████████████████████████████████████████████████████████| 175/175 [00:12<00:00, 13.64it/s]\n"
     ]
    },
    {
     "name": "stdout",
     "output_type": "stream",
     "text": [
      "Epoch [57/100], Loss: 2073.0063\n"
     ]
    },
    {
     "name": "stderr",
     "output_type": "stream",
     "text": [
      "100%|█████████████████████████████████████████████████████████████| 175/175 [00:12<00:00, 13.77it/s]\n"
     ]
    },
    {
     "name": "stdout",
     "output_type": "stream",
     "text": [
      "Epoch [58/100], Loss: 1630.4615\n"
     ]
    },
    {
     "name": "stderr",
     "output_type": "stream",
     "text": [
      "100%|█████████████████████████████████████████████████████████████| 175/175 [00:12<00:00, 14.13it/s]\n"
     ]
    },
    {
     "name": "stdout",
     "output_type": "stream",
     "text": [
      "Epoch [59/100], Loss: 2775.1603\n"
     ]
    },
    {
     "name": "stderr",
     "output_type": "stream",
     "text": [
      "100%|█████████████████████████████████████████████████████████████| 175/175 [00:12<00:00, 13.67it/s]\n"
     ]
    },
    {
     "name": "stdout",
     "output_type": "stream",
     "text": [
      "Epoch [60/100], Loss: 1929.1236\n"
     ]
    },
    {
     "name": "stderr",
     "output_type": "stream",
     "text": [
      "100%|█████████████████████████████████████████████████████████████| 175/175 [00:12<00:00, 13.62it/s]\n"
     ]
    },
    {
     "name": "stdout",
     "output_type": "stream",
     "text": [
      "Epoch [61/100], Loss: 2309.3421\n"
     ]
    },
    {
     "name": "stderr",
     "output_type": "stream",
     "text": [
      "100%|█████████████████████████████████████████████████████████████| 175/175 [00:13<00:00, 13.44it/s]\n"
     ]
    },
    {
     "name": "stdout",
     "output_type": "stream",
     "text": [
      "Epoch [62/100], Loss: 1759.3669\n"
     ]
    },
    {
     "name": "stderr",
     "output_type": "stream",
     "text": [
      "100%|█████████████████████████████████████████████████████████████| 175/175 [00:12<00:00, 13.74it/s]\n"
     ]
    },
    {
     "name": "stdout",
     "output_type": "stream",
     "text": [
      "Epoch [63/100], Loss: 1818.4082\n"
     ]
    },
    {
     "name": "stderr",
     "output_type": "stream",
     "text": [
      "100%|█████████████████████████████████████████████████████████████| 175/175 [00:12<00:00, 13.61it/s]\n"
     ]
    },
    {
     "name": "stdout",
     "output_type": "stream",
     "text": [
      "Epoch [64/100], Loss: 1784.2979\n"
     ]
    },
    {
     "name": "stderr",
     "output_type": "stream",
     "text": [
      "100%|█████████████████████████████████████████████████████████████| 175/175 [00:12<00:00, 13.82it/s]\n"
     ]
    },
    {
     "name": "stdout",
     "output_type": "stream",
     "text": [
      "Epoch [65/100], Loss: 2443.2325\n"
     ]
    },
    {
     "name": "stderr",
     "output_type": "stream",
     "text": [
      "100%|█████████████████████████████████████████████████████████████| 175/175 [00:12<00:00, 13.83it/s]\n"
     ]
    },
    {
     "name": "stdout",
     "output_type": "stream",
     "text": [
      "Epoch [66/100], Loss: 1641.4155\n"
     ]
    },
    {
     "name": "stderr",
     "output_type": "stream",
     "text": [
      "100%|█████████████████████████████████████████████████████████████| 175/175 [00:12<00:00, 13.70it/s]\n"
     ]
    },
    {
     "name": "stdout",
     "output_type": "stream",
     "text": [
      "Epoch [67/100], Loss: 1773.2662\n"
     ]
    },
    {
     "name": "stderr",
     "output_type": "stream",
     "text": [
      "100%|█████████████████████████████████████████████████████████████| 175/175 [00:12<00:00, 13.63it/s]\n"
     ]
    },
    {
     "name": "stdout",
     "output_type": "stream",
     "text": [
      "Epoch [68/100], Loss: 3377.8131\n"
     ]
    },
    {
     "name": "stderr",
     "output_type": "stream",
     "text": [
      "100%|█████████████████████████████████████████████████████████████| 175/175 [00:12<00:00, 13.96it/s]\n"
     ]
    },
    {
     "name": "stdout",
     "output_type": "stream",
     "text": [
      "Epoch [69/100], Loss: 2245.9132\n"
     ]
    },
    {
     "name": "stderr",
     "output_type": "stream",
     "text": [
      "100%|█████████████████████████████████████████████████████████████| 175/175 [00:12<00:00, 13.78it/s]\n"
     ]
    },
    {
     "name": "stdout",
     "output_type": "stream",
     "text": [
      "Epoch [70/100], Loss: 1727.4282\n"
     ]
    },
    {
     "name": "stderr",
     "output_type": "stream",
     "text": [
      "100%|█████████████████████████████████████████████████████████████| 175/175 [00:12<00:00, 13.90it/s]\n"
     ]
    },
    {
     "name": "stdout",
     "output_type": "stream",
     "text": [
      "Epoch [71/100], Loss: 1770.1537\n"
     ]
    },
    {
     "name": "stderr",
     "output_type": "stream",
     "text": [
      "100%|█████████████████████████████████████████████████████████████| 175/175 [00:12<00:00, 13.90it/s]\n"
     ]
    },
    {
     "name": "stdout",
     "output_type": "stream",
     "text": [
      "Epoch [72/100], Loss: 1831.8607\n"
     ]
    },
    {
     "name": "stderr",
     "output_type": "stream",
     "text": [
      "100%|█████████████████████████████████████████████████████████████| 175/175 [00:13<00:00, 13.32it/s]\n"
     ]
    },
    {
     "name": "stdout",
     "output_type": "stream",
     "text": [
      "Epoch [73/100], Loss: 1510.8001\n"
     ]
    },
    {
     "name": "stderr",
     "output_type": "stream",
     "text": [
      "100%|█████████████████████████████████████████████████████████████| 175/175 [00:14<00:00, 12.18it/s]\n"
     ]
    },
    {
     "name": "stdout",
     "output_type": "stream",
     "text": [
      "Epoch [74/100], Loss: 2374.6514\n"
     ]
    },
    {
     "name": "stderr",
     "output_type": "stream",
     "text": [
      "100%|█████████████████████████████████████████████████████████████| 175/175 [00:14<00:00, 12.17it/s]\n"
     ]
    },
    {
     "name": "stdout",
     "output_type": "stream",
     "text": [
      "Epoch [75/100], Loss: 1625.2415\n"
     ]
    },
    {
     "name": "stderr",
     "output_type": "stream",
     "text": [
      "100%|█████████████████████████████████████████████████████████████| 175/175 [00:13<00:00, 13.41it/s]\n"
     ]
    },
    {
     "name": "stdout",
     "output_type": "stream",
     "text": [
      "Epoch [76/100], Loss: 1447.8357\n"
     ]
    },
    {
     "name": "stderr",
     "output_type": "stream",
     "text": [
      "100%|█████████████████████████████████████████████████████████████| 175/175 [00:12<00:00, 13.62it/s]\n"
     ]
    },
    {
     "name": "stdout",
     "output_type": "stream",
     "text": [
      "Epoch [77/100], Loss: 1604.0397\n"
     ]
    },
    {
     "name": "stderr",
     "output_type": "stream",
     "text": [
      "100%|█████████████████████████████████████████████████████████████| 175/175 [00:12<00:00, 14.03it/s]\n"
     ]
    },
    {
     "name": "stdout",
     "output_type": "stream",
     "text": [
      "Epoch [78/100], Loss: 1339.2291\n"
     ]
    },
    {
     "name": "stderr",
     "output_type": "stream",
     "text": [
      "100%|█████████████████████████████████████████████████████████████| 175/175 [00:12<00:00, 14.33it/s]\n"
     ]
    },
    {
     "name": "stdout",
     "output_type": "stream",
     "text": [
      "Epoch [79/100], Loss: 1544.0472\n"
     ]
    },
    {
     "name": "stderr",
     "output_type": "stream",
     "text": [
      "100%|█████████████████████████████████████████████████████████████| 175/175 [00:12<00:00, 14.10it/s]\n"
     ]
    },
    {
     "name": "stdout",
     "output_type": "stream",
     "text": [
      "Epoch [80/100], Loss: 2505.1995\n"
     ]
    },
    {
     "name": "stderr",
     "output_type": "stream",
     "text": [
      "100%|█████████████████████████████████████████████████████████████| 175/175 [00:12<00:00, 14.07it/s]\n"
     ]
    },
    {
     "name": "stdout",
     "output_type": "stream",
     "text": [
      "Epoch [81/100], Loss: 2303.5560\n"
     ]
    },
    {
     "name": "stderr",
     "output_type": "stream",
     "text": [
      "100%|█████████████████████████████████████████████████████████████| 175/175 [00:12<00:00, 14.28it/s]\n"
     ]
    },
    {
     "name": "stdout",
     "output_type": "stream",
     "text": [
      "Epoch [82/100], Loss: 1782.6370\n"
     ]
    },
    {
     "name": "stderr",
     "output_type": "stream",
     "text": [
      "100%|█████████████████████████████████████████████████████████████| 175/175 [00:12<00:00, 14.46it/s]\n"
     ]
    },
    {
     "name": "stdout",
     "output_type": "stream",
     "text": [
      "Epoch [83/100], Loss: 2135.9339\n"
     ]
    },
    {
     "name": "stderr",
     "output_type": "stream",
     "text": [
      "100%|█████████████████████████████████████████████████████████████| 175/175 [00:12<00:00, 14.40it/s]\n"
     ]
    },
    {
     "name": "stdout",
     "output_type": "stream",
     "text": [
      "Epoch [84/100], Loss: 2551.0791\n"
     ]
    },
    {
     "name": "stderr",
     "output_type": "stream",
     "text": [
      "100%|█████████████████████████████████████████████████████████████| 175/175 [00:12<00:00, 14.19it/s]\n"
     ]
    },
    {
     "name": "stdout",
     "output_type": "stream",
     "text": [
      "Epoch [85/100], Loss: 1616.6543\n"
     ]
    },
    {
     "name": "stderr",
     "output_type": "stream",
     "text": [
      "100%|█████████████████████████████████████████████████████████████| 175/175 [00:12<00:00, 14.50it/s]\n"
     ]
    },
    {
     "name": "stdout",
     "output_type": "stream",
     "text": [
      "Epoch [86/100], Loss: 1412.3373\n"
     ]
    },
    {
     "name": "stderr",
     "output_type": "stream",
     "text": [
      "100%|█████████████████████████████████████████████████████████████| 175/175 [00:13<00:00, 13.15it/s]\n"
     ]
    },
    {
     "name": "stdout",
     "output_type": "stream",
     "text": [
      "Epoch [87/100], Loss: 2673.7913\n"
     ]
    },
    {
     "name": "stderr",
     "output_type": "stream",
     "text": [
      "100%|█████████████████████████████████████████████████████████████| 175/175 [00:12<00:00, 14.21it/s]\n"
     ]
    },
    {
     "name": "stdout",
     "output_type": "stream",
     "text": [
      "Epoch [88/100], Loss: 1457.2621\n"
     ]
    },
    {
     "name": "stderr",
     "output_type": "stream",
     "text": [
      "100%|█████████████████████████████████████████████████████████████| 175/175 [00:12<00:00, 14.28it/s]\n"
     ]
    },
    {
     "name": "stdout",
     "output_type": "stream",
     "text": [
      "Epoch [89/100], Loss: 1393.6382\n"
     ]
    },
    {
     "name": "stderr",
     "output_type": "stream",
     "text": [
      "100%|█████████████████████████████████████████████████████████████| 175/175 [00:12<00:00, 14.13it/s]\n"
     ]
    },
    {
     "name": "stdout",
     "output_type": "stream",
     "text": [
      "Epoch [90/100], Loss: 1447.6331\n"
     ]
    },
    {
     "name": "stderr",
     "output_type": "stream",
     "text": [
      "100%|█████████████████████████████████████████████████████████████| 175/175 [00:12<00:00, 14.25it/s]\n"
     ]
    },
    {
     "name": "stdout",
     "output_type": "stream",
     "text": [
      "Epoch [91/100], Loss: 1266.8492\n"
     ]
    },
    {
     "name": "stderr",
     "output_type": "stream",
     "text": [
      "100%|█████████████████████████████████████████████████████████████| 175/175 [00:12<00:00, 14.07it/s]\n"
     ]
    },
    {
     "name": "stdout",
     "output_type": "stream",
     "text": [
      "Epoch [92/100], Loss: 1360.2419\n"
     ]
    },
    {
     "name": "stderr",
     "output_type": "stream",
     "text": [
      "100%|█████████████████████████████████████████████████████████████| 175/175 [00:12<00:00, 14.25it/s]\n"
     ]
    },
    {
     "name": "stdout",
     "output_type": "stream",
     "text": [
      "Epoch [93/100], Loss: 1389.2076\n"
     ]
    },
    {
     "name": "stderr",
     "output_type": "stream",
     "text": [
      "100%|█████████████████████████████████████████████████████████████| 175/175 [00:12<00:00, 14.31it/s]\n"
     ]
    },
    {
     "name": "stdout",
     "output_type": "stream",
     "text": [
      "Epoch [94/100], Loss: 1595.5813\n"
     ]
    },
    {
     "name": "stderr",
     "output_type": "stream",
     "text": [
      "100%|█████████████████████████████████████████████████████████████| 175/175 [00:12<00:00, 14.27it/s]\n"
     ]
    },
    {
     "name": "stdout",
     "output_type": "stream",
     "text": [
      "Epoch [95/100], Loss: 1492.3131\n"
     ]
    },
    {
     "name": "stderr",
     "output_type": "stream",
     "text": [
      "100%|█████████████████████████████████████████████████████████████| 175/175 [00:12<00:00, 14.27it/s]\n"
     ]
    },
    {
     "name": "stdout",
     "output_type": "stream",
     "text": [
      "Epoch [96/100], Loss: 1495.1030\n"
     ]
    },
    {
     "name": "stderr",
     "output_type": "stream",
     "text": [
      "100%|█████████████████████████████████████████████████████████████| 175/175 [00:12<00:00, 13.72it/s]\n"
     ]
    },
    {
     "name": "stdout",
     "output_type": "stream",
     "text": [
      "Epoch [97/100], Loss: 2342.7316\n"
     ]
    },
    {
     "name": "stderr",
     "output_type": "stream",
     "text": [
      "100%|█████████████████████████████████████████████████████████████| 175/175 [00:12<00:00, 14.04it/s]\n"
     ]
    },
    {
     "name": "stdout",
     "output_type": "stream",
     "text": [
      "Epoch [98/100], Loss: 1406.0144\n"
     ]
    },
    {
     "name": "stderr",
     "output_type": "stream",
     "text": [
      "100%|█████████████████████████████████████████████████████████████| 175/175 [00:12<00:00, 14.12it/s]\n"
     ]
    },
    {
     "name": "stdout",
     "output_type": "stream",
     "text": [
      "Epoch [99/100], Loss: 1351.4846\n"
     ]
    },
    {
     "name": "stderr",
     "output_type": "stream",
     "text": [
      "100%|█████████████████████████████████████████████████████████████| 175/175 [00:12<00:00, 14.19it/s]"
     ]
    },
    {
     "name": "stdout",
     "output_type": "stream",
     "text": [
      "Epoch [100/100], Loss: 1499.8319\n",
      "Training complete.\n"
     ]
    },
    {
     "name": "stderr",
     "output_type": "stream",
     "text": [
      "\n"
     ]
    }
   ],
   "source": [
    "model, train_history = train(model, dataloader, criterion, optimizer, epoches, device)"
   ]
  },
  {
   "cell_type": "markdown",
   "metadata": {},
   "source": [
    "##### 학습 loss"
   ]
  },
  {
   "cell_type": "code",
   "execution_count": 29,
   "metadata": {},
   "outputs": [
    {
     "data": {
      "image/png": "[encoded data removed]",
      "text/plain": [
       "<Figure size 640x480 with 1 Axes>"
      ]
     },
     "metadata": {},
     "output_type": "display_data"
    }
   ],
   "source": [
    "plt.plot(train_history)\n",
    "\n",
    "plt.title('Model Loss')\n",
    "plt.xlabel('epoches')\n",
    "plt.ylabel('loss')\n",
    "plt.grid(True, linestyle='--')\n",
    "\n",
    "plt.show()"
   ]
  },
  {
   "cell_type": "markdown",
   "metadata": {},
   "source": [
    "### 모델 저장"
   ]
  },
  {
   "cell_type": "code",
   "execution_count": 30,
   "metadata": {},
   "outputs": [],
   "source": [
    "torch.save(model.state_dict(), 'smp_model.pth')"
   ]
  }
 ],
 "metadata": {
  "kernelspec": {
   "display_name": ".venv",
   "language": "python",
   "name": "python3"
  },
  "language_info": {
   "codemirror_mode": {
    "name": "ipython",
    "version": 3
   },
   "file_extension": ".py",
   "mimetype": "text/x-python",
   "name": "python",
   "nbconvert_exporter": "python",
   "pygments_lexer": "ipython3",
   "version": "3.9.13"
  }
 },
 "nbformat": 4,
 "nbformat_minor": 2
}
